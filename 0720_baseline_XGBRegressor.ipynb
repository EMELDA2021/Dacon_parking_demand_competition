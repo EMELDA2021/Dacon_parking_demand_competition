{
 "cells": [
  {
   "cell_type": "code",
   "execution_count": 1328,
   "metadata": {},
   "outputs": [],
   "source": [
    "import pandas as pd"
   ]
  },
  {
   "cell_type": "code",
   "execution_count": 1329,
   "metadata": {},
   "outputs": [
    {
     "data": {
      "text/plain": [
       "((2896, 15), (1008, 14), (150, 2), (16, 23))"
      ]
     },
     "execution_count": 1329,
     "metadata": {},
     "output_type": "execute_result"
    }
   ],
   "source": [
    "train=pd.read_csv('../train_df_errno.csv')\n",
    "test=pd.read_csv('../test_df.csv')\n",
    "sub=pd.read_csv('../sample_submission.csv')\n",
    "age=pd.read_csv('../age_gender_info.csv')\n",
    "train.shape, test.shape, sub.shape, age.shape"
   ]
  },
  {
   "cell_type": "markdown",
   "metadata": {},
   "source": [
    "### 전용면적에 제한두기"
   ]
  },
  {
   "cell_type": "code",
   "execution_count": 1330,
   "metadata": {},
   "outputs": [],
   "source": [
    "train['전용면적'] = train['전용면적']//5*5\n",
    "test['전용면적'] = test['전용면적']//5*5"
   ]
  },
  {
   "cell_type": "code",
   "execution_count": 1331,
   "metadata": {},
   "outputs": [],
   "source": [
    "idx = train[train['전용면적']>100].index\n",
    "train.loc[idx, '전용면적'] = 100\n",
    "idx = test[test['전용면적']>100].index\n",
    "test.loc[idx, '전용면적'] = 100\n",
    "\n",
    "idx = train[train['전용면적']<15].index\n",
    "train.loc[idx, '전용면적'] = 15\n",
    "idx = test[test['전용면적']<15].index\n",
    "test.loc[idx, '전용면적'] = 15"
   ]
  },
  {
   "cell_type": "code",
   "execution_count": 1332,
   "metadata": {},
   "outputs": [
    {
     "data": {
      "text/plain": [
       "array([ 35.,  45.,  50.,  30.,  55.,  25.,  75., 100.,  15.,  20.,  40.,\n",
       "        60.,  80.,  70.])"
      ]
     },
     "execution_count": 1332,
     "metadata": {},
     "output_type": "execute_result"
    }
   ],
   "source": [
    "test['전용면적'].unique()"
   ]
  },
  {
   "cell_type": "markdown",
   "metadata": {},
   "source": [
    "### 항목 묶어서 확인하기/ 이상치 제거해야할까?!"
   ]
  },
  {
   "cell_type": "code",
   "execution_count": 1333,
   "metadata": {},
   "outputs": [],
   "source": [
    "#주차면수 대비 등록차량 비율이 높을 수록 주차수요가 높을것이다.\n",
    "train['주차면수 대비 등록차량 비율']=train['등록차량수']/train['단지내주차면수']\n",
    "test['주차면수 대비 등록차량 비율']=train['등록차량수']/test['단지내주차면수']"
   ]
  },
  {
   "cell_type": "code",
   "execution_count": 1334,
   "metadata": {},
   "outputs": [],
   "source": [
    "#주차면수 대비 총세대수가 높을 수록 주차수요가 높을것이다\n",
    "train['주차면수 대비 총세대수']=train['단지내주차면수']/train['총세대수']\n",
    "test['주차면수 대비 총세대수']=test['단지내주차면수']/test['총세대수']"
   ]
  },
  {
   "cell_type": "code",
   "execution_count": 1335,
   "metadata": {},
   "outputs": [],
   "source": [
    "#거주율이 높을 수록 주차수요가 높을 것이다.\n",
    "train['거주율']=1-(train['공가수']/train['총세대수'])\n",
    "test['거주율']=1-(test['공가수']/test['총세대수'])"
   ]
  },
  {
   "cell_type": "markdown",
   "metadata": {},
   "source": [
    "### 10분내 버스와 지하철이 많은 주거지역은 주차수요가 낮을것이다"
   ]
  },
  {
   "cell_type": "code",
   "execution_count": 1336,
   "metadata": {},
   "outputs": [
    {
     "data": {
      "text/plain": [
       "array(['경상남도', '대전광역시', '충청남도'], dtype=object)"
      ]
     },
     "execution_count": 1336,
     "metadata": {},
     "output_type": "execute_result"
    }
   ],
   "source": [
    "null_sub=train.loc[train['10분내지하철수'].isnull()].sort_values(by=['지역'])\n",
    "null_sub['지역'].unique()"
   ]
  },
  {
   "cell_type": "code",
   "execution_count": 1337,
   "metadata": {},
   "outputs": [
    {
     "data": {
      "text/plain": [
       "array(['대전광역시', '충청남도'], dtype=object)"
      ]
     },
     "execution_count": 1337,
     "metadata": {},
     "output_type": "execute_result"
    }
   ],
   "source": [
    "null_sub_test=test.loc[test['10분내지하철수'].isnull()].sort_values(by=['지역'])\n",
    "null_sub_test['지역'].unique()"
   ]
  },
  {
   "cell_type": "code",
   "execution_count": 1338,
   "metadata": {},
   "outputs": [
    {
     "data": {
      "text/plain": [
       "1.0    125\n",
       "0.0     48\n",
       "Name: 10분내지하철수, dtype: int64"
      ]
     },
     "execution_count": 1338,
     "metadata": {},
     "output_type": "execute_result"
    }
   ],
   "source": [
    "daejeon=train.loc[train['지역']=='대전광역시'].sort_values(by=['10분내지하철수'])\n",
    "daejeon['10분내지하철수'].value_counts()"
   ]
  },
  {
   "cell_type": "code",
   "execution_count": 1339,
   "metadata": {},
   "outputs": [
    {
     "data": {
      "text/plain": [
       "0.0    153\n",
       "2.0      2\n",
       "Name: 10분내지하철수, dtype: int64"
      ]
     },
     "execution_count": 1339,
     "metadata": {},
     "output_type": "execute_result"
    }
   ],
   "source": [
    "daejeon_test=test.loc[train['지역']=='대전광역시'].sort_values(by=['10분내지하철수'])\n",
    "daejeon_test['10분내지하철수'].value_counts()"
   ]
  },
  {
   "cell_type": "code",
   "execution_count": 1340,
   "metadata": {},
   "outputs": [
    {
     "data": {
      "text/plain": [
       "0.0    153\n",
       "2.0      2\n",
       "Name: 10분내지하철수, dtype: int64"
      ]
     },
     "execution_count": 1340,
     "metadata": {},
     "output_type": "execute_result"
    }
   ],
   "source": [
    "daejeon_test=test.loc[train['지역']=='대전광역시'].sort_values(by=['10분내지하철수'])\n",
    "daejeon_test['10분내지하철수'].value_counts()"
   ]
  },
  {
   "cell_type": "code",
   "execution_count": 1341,
   "metadata": {},
   "outputs": [],
   "source": [
    "train['10분내지하철수']=daejeon['10분내지하철수'].fillna(1)\n",
    "test['10분내지하철수']=daejeon_test['10분내지하철수'].fillna(0)"
   ]
  },
  {
   "cell_type": "code",
   "execution_count": 1342,
   "metadata": {},
   "outputs": [],
   "source": [
    "train['10분내지하철수']=train['10분내지하철수'].fillna(0)\n",
    "test['10분내지하철수']=test['10분내지하철수'].fillna(0)"
   ]
  },
  {
   "cell_type": "code",
   "execution_count": 1343,
   "metadata": {},
   "outputs": [
    {
     "name": "stdout",
     "output_type": "stream",
     "text": [
      "0\n",
      "0\n"
     ]
    }
   ],
   "source": [
    "print(train['10분내지하철수'].isnull().sum())\n",
    "print(test['10분내지하철수'].isnull().sum())"
   ]
  },
  {
   "cell_type": "code",
   "execution_count": 1344,
   "metadata": {},
   "outputs": [
    {
     "data": {
      "text/html": [
       "<div>\n",
       "<style scoped>\n",
       "    .dataframe tbody tr th:only-of-type {\n",
       "        vertical-align: middle;\n",
       "    }\n",
       "\n",
       "    .dataframe tbody tr th {\n",
       "        vertical-align: top;\n",
       "    }\n",
       "\n",
       "    .dataframe thead th {\n",
       "        text-align: right;\n",
       "    }\n",
       "</style>\n",
       "<table border=\"1\" class=\"dataframe\">\n",
       "  <thead>\n",
       "    <tr style=\"text-align: right;\">\n",
       "      <th></th>\n",
       "      <th>단지코드</th>\n",
       "      <th>총세대수</th>\n",
       "      <th>임대건물구분</th>\n",
       "      <th>지역</th>\n",
       "      <th>공급유형</th>\n",
       "      <th>전용면적</th>\n",
       "      <th>전용면적별세대수</th>\n",
       "      <th>공가수</th>\n",
       "      <th>자격유형</th>\n",
       "      <th>임대보증금</th>\n",
       "      <th>임대료</th>\n",
       "      <th>10분내지하철수</th>\n",
       "      <th>10분내버스정류장수</th>\n",
       "      <th>단지내주차면수</th>\n",
       "      <th>등록차량수</th>\n",
       "      <th>주차면수 대비 등록차량 비율</th>\n",
       "      <th>주차면수 대비 총세대수</th>\n",
       "      <th>거주율</th>\n",
       "    </tr>\n",
       "  </thead>\n",
       "  <tbody>\n",
       "  </tbody>\n",
       "</table>\n",
       "</div>"
      ],
      "text/plain": [
       "Empty DataFrame\n",
       "Columns: [단지코드, 총세대수, 임대건물구분, 지역, 공급유형, 전용면적, 전용면적별세대수, 공가수, 자격유형, 임대보증금, 임대료, 10분내지하철수, 10분내버스정류장수, 단지내주차면수, 등록차량수, 주차면수 대비 등록차량 비율, 주차면수 대비 총세대수, 거주율]\n",
       "Index: []"
      ]
     },
     "execution_count": 1344,
     "metadata": {},
     "output_type": "execute_result"
    }
   ],
   "source": [
    "#강사님꺼\n",
    "train.loc[train['10분내버스정류장수'].isnull(),\"10분내버스정류장수\"]=5\n",
    "train.loc[train['10분내버스정류장수'].isnull(),:]"
   ]
  },
  {
   "cell_type": "markdown",
   "metadata": {},
   "source": [
    "### 1000세대 이상 대단지로 분류. 대단지는 교통시설이 좋아 주차수요가 낮을것이다"
   ]
  },
  {
   "cell_type": "code",
   "execution_count": 1345,
   "metadata": {},
   "outputs": [],
   "source": [
    "train.loc[train['총세대수']>=1000,'대단지']=0\n",
    "train.loc[train['총세대수']<1000,'대단지']=1\n",
    "test.loc[test['총세대수']>=1000,'대단지']=0\n",
    "test.loc[test['총세대수']<1000,'대단지']=1"
   ]
  },
  {
   "cell_type": "code",
   "execution_count": 1346,
   "metadata": {},
   "outputs": [
    {
     "name": "stdout",
     "output_type": "stream",
     "text": [
      "['C1005' 'C1013' 'C1017' 'C1109' 'C1129' 'C1156' 'C1176' 'C1177' 'C1210'\n",
      " 'C1236' 'C1244' 'C1268' 'C1310' 'C1320' 'C1326' 'C1329' 'C1350' 'C1363'\n",
      " 'C1386' 'C1406' 'C1407' 'C1430' 'C1439' 'C1448' 'C1451' 'C1565' 'C1579'\n",
      " 'C1584' 'C1616' 'C1620' 'C1672' 'C1677' 'C1689' 'C1724' 'C1802' 'C1833'\n",
      " 'C1859' 'C1863' 'C1875' 'C1889' 'C1933' 'C1939' 'C1969' 'C2000' 'C2034'\n",
      " 'C2046' 'C2071' 'C2086' 'C2132' 'C2135' 'C2190' 'C2225' 'C2274' 'C2276'\n",
      " 'C2289' 'C2310' 'C2316' 'C2328' 'C2329' 'C2352' 'C2358' 'C2361' 'C2362'\n",
      " 'C2377' 'C2393' 'C2446' 'C2460' 'C2488' 'C2489' 'C2506' 'C2507' 'C2538'\n",
      " 'C2565' 'C2579' 'C2583' 'C2597' 'C2612' 'C2618' 'C2620' 'C2621' 'C2666'\n",
      " 'N1036' 'N2085' 'N2431']\n",
      "956\n"
     ]
    }
   ],
   "source": [
    "danji=train.loc[train['대단지']==0].sort_values(by=['단지코드'])\n",
    "print(danji['단지코드'].unique())\n",
    "print(danji['단지코드'].count())"
   ]
  },
  {
   "cell_type": "code",
   "execution_count": 1347,
   "metadata": {},
   "outputs": [
    {
     "data": {
      "text/html": [
       "<div>\n",
       "<style scoped>\n",
       "    .dataframe tbody tr th:only-of-type {\n",
       "        vertical-align: middle;\n",
       "    }\n",
       "\n",
       "    .dataframe tbody tr th {\n",
       "        vertical-align: top;\n",
       "    }\n",
       "\n",
       "    .dataframe thead th {\n",
       "        text-align: right;\n",
       "    }\n",
       "</style>\n",
       "<table border=\"1\" class=\"dataframe\">\n",
       "  <thead>\n",
       "    <tr style=\"text-align: right;\">\n",
       "      <th></th>\n",
       "      <th>단지코드</th>\n",
       "      <th>총세대수</th>\n",
       "      <th>임대건물구분</th>\n",
       "      <th>지역</th>\n",
       "      <th>공급유형</th>\n",
       "      <th>전용면적</th>\n",
       "      <th>전용면적별세대수</th>\n",
       "      <th>공가수</th>\n",
       "      <th>자격유형</th>\n",
       "      <th>임대보증금</th>\n",
       "      <th>임대료</th>\n",
       "      <th>10분내지하철수</th>\n",
       "      <th>10분내버스정류장수</th>\n",
       "      <th>단지내주차면수</th>\n",
       "      <th>등록차량수</th>\n",
       "      <th>주차면수 대비 등록차량 비율</th>\n",
       "      <th>주차면수 대비 총세대수</th>\n",
       "      <th>거주율</th>\n",
       "      <th>대단지</th>\n",
       "    </tr>\n",
       "  </thead>\n",
       "  <tbody>\n",
       "    <tr>\n",
       "      <th>0</th>\n",
       "      <td>C2515</td>\n",
       "      <td>545</td>\n",
       "      <td>아파트</td>\n",
       "      <td>경상남도</td>\n",
       "      <td>국민임대</td>\n",
       "      <td>30.0</td>\n",
       "      <td>276</td>\n",
       "      <td>17.0</td>\n",
       "      <td>A</td>\n",
       "      <td>9216000</td>\n",
       "      <td>82940</td>\n",
       "      <td>0.0</td>\n",
       "      <td>3.0</td>\n",
       "      <td>624.0</td>\n",
       "      <td>205.0</td>\n",
       "      <td>0.328526</td>\n",
       "      <td>1.144954</td>\n",
       "      <td>0.968807</td>\n",
       "      <td>1.0</td>\n",
       "    </tr>\n",
       "    <tr>\n",
       "      <th>1</th>\n",
       "      <td>C2515</td>\n",
       "      <td>545</td>\n",
       "      <td>아파트</td>\n",
       "      <td>경상남도</td>\n",
       "      <td>국민임대</td>\n",
       "      <td>35.0</td>\n",
       "      <td>60</td>\n",
       "      <td>17.0</td>\n",
       "      <td>A</td>\n",
       "      <td>12672000</td>\n",
       "      <td>107130</td>\n",
       "      <td>0.0</td>\n",
       "      <td>3.0</td>\n",
       "      <td>624.0</td>\n",
       "      <td>205.0</td>\n",
       "      <td>0.328526</td>\n",
       "      <td>1.144954</td>\n",
       "      <td>0.968807</td>\n",
       "      <td>1.0</td>\n",
       "    </tr>\n",
       "    <tr>\n",
       "      <th>2</th>\n",
       "      <td>C2515</td>\n",
       "      <td>545</td>\n",
       "      <td>아파트</td>\n",
       "      <td>경상남도</td>\n",
       "      <td>국민임대</td>\n",
       "      <td>35.0</td>\n",
       "      <td>20</td>\n",
       "      <td>17.0</td>\n",
       "      <td>A</td>\n",
       "      <td>12672000</td>\n",
       "      <td>107130</td>\n",
       "      <td>0.0</td>\n",
       "      <td>3.0</td>\n",
       "      <td>624.0</td>\n",
       "      <td>205.0</td>\n",
       "      <td>0.328526</td>\n",
       "      <td>1.144954</td>\n",
       "      <td>0.968807</td>\n",
       "      <td>1.0</td>\n",
       "    </tr>\n",
       "    <tr>\n",
       "      <th>3</th>\n",
       "      <td>C2515</td>\n",
       "      <td>545</td>\n",
       "      <td>아파트</td>\n",
       "      <td>경상남도</td>\n",
       "      <td>국민임대</td>\n",
       "      <td>45.0</td>\n",
       "      <td>38</td>\n",
       "      <td>17.0</td>\n",
       "      <td>A</td>\n",
       "      <td>18433000</td>\n",
       "      <td>149760</td>\n",
       "      <td>0.0</td>\n",
       "      <td>3.0</td>\n",
       "      <td>624.0</td>\n",
       "      <td>205.0</td>\n",
       "      <td>0.328526</td>\n",
       "      <td>1.144954</td>\n",
       "      <td>0.968807</td>\n",
       "      <td>1.0</td>\n",
       "    </tr>\n",
       "    <tr>\n",
       "      <th>4</th>\n",
       "      <td>C2515</td>\n",
       "      <td>545</td>\n",
       "      <td>아파트</td>\n",
       "      <td>경상남도</td>\n",
       "      <td>국민임대</td>\n",
       "      <td>45.0</td>\n",
       "      <td>19</td>\n",
       "      <td>17.0</td>\n",
       "      <td>A</td>\n",
       "      <td>18433000</td>\n",
       "      <td>149760</td>\n",
       "      <td>0.0</td>\n",
       "      <td>3.0</td>\n",
       "      <td>624.0</td>\n",
       "      <td>205.0</td>\n",
       "      <td>0.328526</td>\n",
       "      <td>1.144954</td>\n",
       "      <td>0.968807</td>\n",
       "      <td>1.0</td>\n",
       "    </tr>\n",
       "  </tbody>\n",
       "</table>\n",
       "</div>"
      ],
      "text/plain": [
       "    단지코드  총세대수 임대건물구분    지역  공급유형  전용면적  전용면적별세대수   공가수 자격유형     임대보증금  \\\n",
       "0  C2515   545    아파트  경상남도  국민임대  30.0       276  17.0    A   9216000   \n",
       "1  C2515   545    아파트  경상남도  국민임대  35.0        60  17.0    A  12672000   \n",
       "2  C2515   545    아파트  경상남도  국민임대  35.0        20  17.0    A  12672000   \n",
       "3  C2515   545    아파트  경상남도  국민임대  45.0        38  17.0    A  18433000   \n",
       "4  C2515   545    아파트  경상남도  국민임대  45.0        19  17.0    A  18433000   \n",
       "\n",
       "      임대료  10분내지하철수  10분내버스정류장수  단지내주차면수  등록차량수  주차면수 대비 등록차량 비율  \\\n",
       "0   82940       0.0         3.0    624.0  205.0         0.328526   \n",
       "1  107130       0.0         3.0    624.0  205.0         0.328526   \n",
       "2  107130       0.0         3.0    624.0  205.0         0.328526   \n",
       "3  149760       0.0         3.0    624.0  205.0         0.328526   \n",
       "4  149760       0.0         3.0    624.0  205.0         0.328526   \n",
       "\n",
       "   주차면수 대비 총세대수       거주율  대단지  \n",
       "0      1.144954  0.968807  1.0  \n",
       "1      1.144954  0.968807  1.0  \n",
       "2      1.144954  0.968807  1.0  \n",
       "3      1.144954  0.968807  1.0  \n",
       "4      1.144954  0.968807  1.0  "
      ]
     },
     "execution_count": 1347,
     "metadata": {},
     "output_type": "execute_result"
    }
   ],
   "source": [
    "train.head()"
   ]
  },
  {
   "cell_type": "markdown",
   "metadata": {},
   "source": [
    "### mapping: 자격유형, 공급유형, 지역, 임대건물구분"
   ]
  },
  {
   "cell_type": "code",
   "execution_count": 1348,
   "metadata": {},
   "outputs": [],
   "source": [
    "#강사님꺼\n",
    "test.loc[196,'자격유형']='A'\n",
    "test.loc[258,'자격유형']='C'"
   ]
  },
  {
   "cell_type": "code",
   "execution_count": 1349,
   "metadata": {},
   "outputs": [],
   "source": [
    "mapping = { 'A':1, 'B':2, 'C':3, 'D':4, 'E':5,\n",
    "            'F':6, 'G':7, 'H':8, 'I':9, 'J':10,\n",
    "            'K':11, 'L':12, 'M':13, 'N':14, 'O':15  }\n",
    "train['자격유형']=train['자격유형'].map(mapping).astype(int)\n",
    "test['자격유형']=test['자격유형'].map(mapping).astype(int)"
   ]
  },
  {
   "cell_type": "code",
   "execution_count": 1350,
   "metadata": {},
   "outputs": [],
   "source": [
    "mapping = { '국민임대':1, '임대상가':2, '행복주택':3, '공공임대(10년)':4, \n",
    "           '영구임대':5,'공공임대(50년)':6,\n",
    "           '공공임대(분납)':7, '장기전세':8, '공공분양':9, '공공임대(5년)':10 }\n",
    "train['공급유형'] =train['공급유형'].map(mapping).astype(int)\n",
    "test['공급유형'] =test['공급유형'].map(mapping).astype(int)"
   ]
  },
  {
   "cell_type": "code",
   "execution_count": 1351,
   "metadata": {},
   "outputs": [],
   "source": [
    "mapping1 = { '경기도':1, '경상남도':2, '부산광역시':3, '대전광역시':4, \n",
    "           '강원도':5,'충청북도':6,'충청남도':7, '전라남도':8, '광주광역시':9, \n",
    "            '경상북도':10, '전라북도':11,'대구광역시':12,'제주특별자치도':13,'서울특별시':14,'세종특별자치시':15,'울산광역시':16 }\n",
    "train['지역'] =train['지역'].map(mapping1).astype(int)\n",
    "test['지역'] =test['지역'].map(mapping1).astype(int)"
   ]
  },
  {
   "cell_type": "code",
   "execution_count": 1352,
   "metadata": {},
   "outputs": [],
   "source": [
    "mapping2 = { '아파트':1, '상가':2}\n",
    "train['임대건물구분'] =train['임대건물구분'].map(mapping2).astype(int)\n",
    "test['임대건물구분'] =test['임대건물구분'].map(mapping2).astype(int)"
   ]
  },
  {
   "cell_type": "code",
   "execution_count": 1353,
   "metadata": {},
   "outputs": [
    {
     "data": {
      "text/plain": [
       "Index(['단지코드', '총세대수', '임대건물구분', '지역', '공급유형', '전용면적', '전용면적별세대수', '공가수',\n",
       "       '자격유형', '임대보증금', '임대료', '10분내지하철수', '10분내버스정류장수', '단지내주차면수', '등록차량수',\n",
       "       '주차면수 대비 등록차량 비율', '주차면수 대비 총세대수', '거주율', '대단지'],\n",
       "      dtype='object')"
      ]
     },
     "execution_count": 1353,
     "metadata": {},
     "output_type": "execute_result"
    }
   ],
   "source": [
    "train.columns"
   ]
  },
  {
   "cell_type": "markdown",
   "metadata": {},
   "source": [
    "### 머신러닝"
   ]
  },
  {
   "cell_type": "code",
   "execution_count": 1354,
   "metadata": {},
   "outputs": [],
   "source": [
    "from sklearn.model_selection import train_test_split\n",
    "import pandas as pd\n",
    "from sklearn.preprocessing import MinMaxScaler\n",
    "from sklearn.ensemble import GradientBoostingRegressor"
   ]
  },
  {
   "cell_type": "code",
   "execution_count": 1355,
   "metadata": {},
   "outputs": [],
   "source": [
    "from sklearn.model_selection import cross_val_score"
   ]
  },
  {
   "cell_type": "code",
   "execution_count": 1356,
   "metadata": {},
   "outputs": [],
   "source": [
    "from sklearn.ensemble import RandomForestRegressor\n",
    "import xgboost as xgb\n",
    "import lightgbm as lgb\n",
    "import numpy as np\n",
    "import time"
   ]
  },
  {
   "cell_type": "code",
   "execution_count": 1357,
   "metadata": {},
   "outputs": [],
   "source": [
    "### 한글 폰트 설정\n",
    "import matplotlib\n",
    "from matplotlib import font_manager, rc\n",
    "import matplotlib.pyplot as plt\n",
    "import platform\n",
    "path = \"C:/Windows/Fonts/malgun.ttf\"\n",
    "if platform.system() == \"Windows\":\n",
    "    font_name = font_manager.FontProperties(fname=path).get_name()\n",
    "    rc('font', family=font_name)\n",
    "elif platform.system()==\"Darwin\":\n",
    "    rc('font', family='AppleGothic')\n",
    "else:\n",
    "    print(\"Unknown System\")\n",
    "matplotlib.rcParams['axes.unicode_minus'] = False"
   ]
  },
  {
   "cell_type": "code",
   "execution_count": 1358,
   "metadata": {},
   "outputs": [
    {
     "data": {
      "text/plain": [
       "(2896, 19)"
      ]
     },
     "execution_count": 1358,
     "metadata": {},
     "output_type": "execute_result"
    }
   ],
   "source": [
    "train.shape"
   ]
  },
  {
   "cell_type": "code",
   "execution_count": 1359,
   "metadata": {},
   "outputs": [
    {
     "data": {
      "text/html": [
       "<div>\n",
       "<style scoped>\n",
       "    .dataframe tbody tr th:only-of-type {\n",
       "        vertical-align: middle;\n",
       "    }\n",
       "\n",
       "    .dataframe tbody tr th {\n",
       "        vertical-align: top;\n",
       "    }\n",
       "\n",
       "    .dataframe thead th {\n",
       "        text-align: right;\n",
       "    }\n",
       "</style>\n",
       "<table border=\"1\" class=\"dataframe\">\n",
       "  <thead>\n",
       "    <tr style=\"text-align: right;\">\n",
       "      <th></th>\n",
       "      <th>단지코드</th>\n",
       "      <th>총세대수</th>\n",
       "      <th>임대건물구분</th>\n",
       "      <th>지역</th>\n",
       "      <th>공급유형</th>\n",
       "      <th>전용면적</th>\n",
       "      <th>전용면적별세대수</th>\n",
       "      <th>공가수</th>\n",
       "      <th>자격유형</th>\n",
       "      <th>임대보증금</th>\n",
       "      <th>임대료</th>\n",
       "      <th>10분내지하철수</th>\n",
       "      <th>10분내버스정류장수</th>\n",
       "      <th>단지내주차면수</th>\n",
       "      <th>등록차량수</th>\n",
       "      <th>주차면수 대비 등록차량 비율</th>\n",
       "      <th>주차면수 대비 총세대수</th>\n",
       "      <th>거주율</th>\n",
       "      <th>대단지</th>\n",
       "    </tr>\n",
       "  </thead>\n",
       "  <tbody>\n",
       "    <tr>\n",
       "      <th>0</th>\n",
       "      <td>C2515</td>\n",
       "      <td>545</td>\n",
       "      <td>1</td>\n",
       "      <td>2</td>\n",
       "      <td>1</td>\n",
       "      <td>30.0</td>\n",
       "      <td>276</td>\n",
       "      <td>17.0</td>\n",
       "      <td>1</td>\n",
       "      <td>9216000</td>\n",
       "      <td>82940</td>\n",
       "      <td>0.0</td>\n",
       "      <td>3.0</td>\n",
       "      <td>624.0</td>\n",
       "      <td>205.0</td>\n",
       "      <td>0.328526</td>\n",
       "      <td>1.144954</td>\n",
       "      <td>0.968807</td>\n",
       "      <td>1.0</td>\n",
       "    </tr>\n",
       "    <tr>\n",
       "      <th>1</th>\n",
       "      <td>C2515</td>\n",
       "      <td>545</td>\n",
       "      <td>1</td>\n",
       "      <td>2</td>\n",
       "      <td>1</td>\n",
       "      <td>35.0</td>\n",
       "      <td>60</td>\n",
       "      <td>17.0</td>\n",
       "      <td>1</td>\n",
       "      <td>12672000</td>\n",
       "      <td>107130</td>\n",
       "      <td>0.0</td>\n",
       "      <td>3.0</td>\n",
       "      <td>624.0</td>\n",
       "      <td>205.0</td>\n",
       "      <td>0.328526</td>\n",
       "      <td>1.144954</td>\n",
       "      <td>0.968807</td>\n",
       "      <td>1.0</td>\n",
       "    </tr>\n",
       "    <tr>\n",
       "      <th>2</th>\n",
       "      <td>C2515</td>\n",
       "      <td>545</td>\n",
       "      <td>1</td>\n",
       "      <td>2</td>\n",
       "      <td>1</td>\n",
       "      <td>35.0</td>\n",
       "      <td>20</td>\n",
       "      <td>17.0</td>\n",
       "      <td>1</td>\n",
       "      <td>12672000</td>\n",
       "      <td>107130</td>\n",
       "      <td>0.0</td>\n",
       "      <td>3.0</td>\n",
       "      <td>624.0</td>\n",
       "      <td>205.0</td>\n",
       "      <td>0.328526</td>\n",
       "      <td>1.144954</td>\n",
       "      <td>0.968807</td>\n",
       "      <td>1.0</td>\n",
       "    </tr>\n",
       "    <tr>\n",
       "      <th>3</th>\n",
       "      <td>C2515</td>\n",
       "      <td>545</td>\n",
       "      <td>1</td>\n",
       "      <td>2</td>\n",
       "      <td>1</td>\n",
       "      <td>45.0</td>\n",
       "      <td>38</td>\n",
       "      <td>17.0</td>\n",
       "      <td>1</td>\n",
       "      <td>18433000</td>\n",
       "      <td>149760</td>\n",
       "      <td>0.0</td>\n",
       "      <td>3.0</td>\n",
       "      <td>624.0</td>\n",
       "      <td>205.0</td>\n",
       "      <td>0.328526</td>\n",
       "      <td>1.144954</td>\n",
       "      <td>0.968807</td>\n",
       "      <td>1.0</td>\n",
       "    </tr>\n",
       "    <tr>\n",
       "      <th>4</th>\n",
       "      <td>C2515</td>\n",
       "      <td>545</td>\n",
       "      <td>1</td>\n",
       "      <td>2</td>\n",
       "      <td>1</td>\n",
       "      <td>45.0</td>\n",
       "      <td>19</td>\n",
       "      <td>17.0</td>\n",
       "      <td>1</td>\n",
       "      <td>18433000</td>\n",
       "      <td>149760</td>\n",
       "      <td>0.0</td>\n",
       "      <td>3.0</td>\n",
       "      <td>624.0</td>\n",
       "      <td>205.0</td>\n",
       "      <td>0.328526</td>\n",
       "      <td>1.144954</td>\n",
       "      <td>0.968807</td>\n",
       "      <td>1.0</td>\n",
       "    </tr>\n",
       "  </tbody>\n",
       "</table>\n",
       "</div>"
      ],
      "text/plain": [
       "    단지코드  총세대수  임대건물구분  지역  공급유형  전용면적  전용면적별세대수   공가수  자격유형     임대보증금  \\\n",
       "0  C2515   545       1   2     1  30.0       276  17.0     1   9216000   \n",
       "1  C2515   545       1   2     1  35.0        60  17.0     1  12672000   \n",
       "2  C2515   545       1   2     1  35.0        20  17.0     1  12672000   \n",
       "3  C2515   545       1   2     1  45.0        38  17.0     1  18433000   \n",
       "4  C2515   545       1   2     1  45.0        19  17.0     1  18433000   \n",
       "\n",
       "      임대료  10분내지하철수  10분내버스정류장수  단지내주차면수  등록차량수  주차면수 대비 등록차량 비율  \\\n",
       "0   82940       0.0         3.0    624.0  205.0         0.328526   \n",
       "1  107130       0.0         3.0    624.0  205.0         0.328526   \n",
       "2  107130       0.0         3.0    624.0  205.0         0.328526   \n",
       "3  149760       0.0         3.0    624.0  205.0         0.328526   \n",
       "4  149760       0.0         3.0    624.0  205.0         0.328526   \n",
       "\n",
       "   주차면수 대비 총세대수       거주율  대단지  \n",
       "0      1.144954  0.968807  1.0  \n",
       "1      1.144954  0.968807  1.0  \n",
       "2      1.144954  0.968807  1.0  \n",
       "3      1.144954  0.968807  1.0  \n",
       "4      1.144954  0.968807  1.0  "
      ]
     },
     "execution_count": 1359,
     "metadata": {},
     "output_type": "execute_result"
    }
   ],
   "source": [
    "train.head()"
   ]
  },
  {
   "cell_type": "code",
   "execution_count": 1360,
   "metadata": {},
   "outputs": [
    {
     "data": {
      "text/plain": [
       "Index(['단지코드', '총세대수', '임대건물구분', '지역', '공급유형', '전용면적', '전용면적별세대수', '공가수',\n",
       "       '자격유형', '임대보증금', '임대료', '10분내지하철수', '10분내버스정류장수', '단지내주차면수', '등록차량수',\n",
       "       '주차면수 대비 등록차량 비율', '주차면수 대비 총세대수', '거주율', '대단지'],\n",
       "      dtype='object')"
      ]
     },
     "execution_count": 1360,
     "metadata": {},
     "output_type": "execute_result"
    }
   ],
   "source": [
    "train.columns"
   ]
  },
  {
   "cell_type": "code",
   "execution_count": 1361,
   "metadata": {},
   "outputs": [
    {
     "name": "stdout",
     "output_type": "stream",
     "text": [
      "<class 'pandas.core.frame.DataFrame'>\n",
      "RangeIndex: 2896 entries, 0 to 2895\n",
      "Data columns (total 19 columns):\n",
      " #   Column           Non-Null Count  Dtype  \n",
      "---  ------           --------------  -----  \n",
      " 0   단지코드             2896 non-null   object \n",
      " 1   총세대수             2896 non-null   int64  \n",
      " 2   임대건물구분           2896 non-null   int32  \n",
      " 3   지역               2896 non-null   int32  \n",
      " 4   공급유형             2896 non-null   int32  \n",
      " 5   전용면적             2896 non-null   float64\n",
      " 6   전용면적별세대수         2896 non-null   int64  \n",
      " 7   공가수              2896 non-null   float64\n",
      " 8   자격유형             2896 non-null   int32  \n",
      " 9   임대보증금            2327 non-null   object \n",
      " 10  임대료              2327 non-null   object \n",
      " 11  10분내지하철수         2896 non-null   float64\n",
      " 12  10분내버스정류장수       2896 non-null   float64\n",
      " 13  단지내주차면수          2896 non-null   float64\n",
      " 14  등록차량수            2896 non-null   float64\n",
      " 15  주차면수 대비 등록차량 비율  2896 non-null   float64\n",
      " 16  주차면수 대비 총세대수     2896 non-null   float64\n",
      " 17  거주율              2896 non-null   float64\n",
      " 18  대단지              2896 non-null   float64\n",
      "dtypes: float64(10), int32(4), int64(2), object(3)\n",
      "memory usage: 384.8+ KB\n"
     ]
    }
   ],
   "source": [
    "train.info()"
   ]
  },
  {
   "cell_type": "code",
   "execution_count": 1362,
   "metadata": {},
   "outputs": [
    {
     "data": {
      "text/html": [
       "<div>\n",
       "<style scoped>\n",
       "    .dataframe tbody tr th:only-of-type {\n",
       "        vertical-align: middle;\n",
       "    }\n",
       "\n",
       "    .dataframe tbody tr th {\n",
       "        vertical-align: top;\n",
       "    }\n",
       "\n",
       "    .dataframe thead th {\n",
       "        text-align: right;\n",
       "    }\n",
       "</style>\n",
       "<table border=\"1\" class=\"dataframe\">\n",
       "  <thead>\n",
       "    <tr style=\"text-align: right;\">\n",
       "      <th></th>\n",
       "      <th>단지코드</th>\n",
       "      <th>총세대수</th>\n",
       "      <th>임대건물구분</th>\n",
       "      <th>지역</th>\n",
       "      <th>공급유형</th>\n",
       "      <th>전용면적</th>\n",
       "      <th>전용면적별세대수</th>\n",
       "      <th>공가수</th>\n",
       "      <th>자격유형</th>\n",
       "      <th>임대보증금</th>\n",
       "      <th>임대료</th>\n",
       "      <th>10분내지하철수</th>\n",
       "      <th>10분내버스정류장수</th>\n",
       "      <th>단지내주차면수</th>\n",
       "      <th>등록차량수</th>\n",
       "      <th>주차면수 대비 등록차량 비율</th>\n",
       "      <th>주차면수 대비 총세대수</th>\n",
       "      <th>거주율</th>\n",
       "      <th>대단지</th>\n",
       "    </tr>\n",
       "  </thead>\n",
       "  <tbody>\n",
       "    <tr>\n",
       "      <th>0</th>\n",
       "      <td>C2515</td>\n",
       "      <td>545</td>\n",
       "      <td>1</td>\n",
       "      <td>2</td>\n",
       "      <td>1</td>\n",
       "      <td>30.0</td>\n",
       "      <td>276</td>\n",
       "      <td>17.0</td>\n",
       "      <td>1</td>\n",
       "      <td>9216000</td>\n",
       "      <td>82940</td>\n",
       "      <td>0.0</td>\n",
       "      <td>3.0</td>\n",
       "      <td>624.0</td>\n",
       "      <td>205.0</td>\n",
       "      <td>0.328526</td>\n",
       "      <td>1.144954</td>\n",
       "      <td>0.968807</td>\n",
       "      <td>1.0</td>\n",
       "    </tr>\n",
       "    <tr>\n",
       "      <th>1</th>\n",
       "      <td>C2515</td>\n",
       "      <td>545</td>\n",
       "      <td>1</td>\n",
       "      <td>2</td>\n",
       "      <td>1</td>\n",
       "      <td>35.0</td>\n",
       "      <td>60</td>\n",
       "      <td>17.0</td>\n",
       "      <td>1</td>\n",
       "      <td>12672000</td>\n",
       "      <td>107130</td>\n",
       "      <td>0.0</td>\n",
       "      <td>3.0</td>\n",
       "      <td>624.0</td>\n",
       "      <td>205.0</td>\n",
       "      <td>0.328526</td>\n",
       "      <td>1.144954</td>\n",
       "      <td>0.968807</td>\n",
       "      <td>1.0</td>\n",
       "    </tr>\n",
       "    <tr>\n",
       "      <th>2</th>\n",
       "      <td>C2515</td>\n",
       "      <td>545</td>\n",
       "      <td>1</td>\n",
       "      <td>2</td>\n",
       "      <td>1</td>\n",
       "      <td>35.0</td>\n",
       "      <td>20</td>\n",
       "      <td>17.0</td>\n",
       "      <td>1</td>\n",
       "      <td>12672000</td>\n",
       "      <td>107130</td>\n",
       "      <td>0.0</td>\n",
       "      <td>3.0</td>\n",
       "      <td>624.0</td>\n",
       "      <td>205.0</td>\n",
       "      <td>0.328526</td>\n",
       "      <td>1.144954</td>\n",
       "      <td>0.968807</td>\n",
       "      <td>1.0</td>\n",
       "    </tr>\n",
       "    <tr>\n",
       "      <th>3</th>\n",
       "      <td>C2515</td>\n",
       "      <td>545</td>\n",
       "      <td>1</td>\n",
       "      <td>2</td>\n",
       "      <td>1</td>\n",
       "      <td>45.0</td>\n",
       "      <td>38</td>\n",
       "      <td>17.0</td>\n",
       "      <td>1</td>\n",
       "      <td>18433000</td>\n",
       "      <td>149760</td>\n",
       "      <td>0.0</td>\n",
       "      <td>3.0</td>\n",
       "      <td>624.0</td>\n",
       "      <td>205.0</td>\n",
       "      <td>0.328526</td>\n",
       "      <td>1.144954</td>\n",
       "      <td>0.968807</td>\n",
       "      <td>1.0</td>\n",
       "    </tr>\n",
       "    <tr>\n",
       "      <th>4</th>\n",
       "      <td>C2515</td>\n",
       "      <td>545</td>\n",
       "      <td>1</td>\n",
       "      <td>2</td>\n",
       "      <td>1</td>\n",
       "      <td>45.0</td>\n",
       "      <td>19</td>\n",
       "      <td>17.0</td>\n",
       "      <td>1</td>\n",
       "      <td>18433000</td>\n",
       "      <td>149760</td>\n",
       "      <td>0.0</td>\n",
       "      <td>3.0</td>\n",
       "      <td>624.0</td>\n",
       "      <td>205.0</td>\n",
       "      <td>0.328526</td>\n",
       "      <td>1.144954</td>\n",
       "      <td>0.968807</td>\n",
       "      <td>1.0</td>\n",
       "    </tr>\n",
       "  </tbody>\n",
       "</table>\n",
       "</div>"
      ],
      "text/plain": [
       "    단지코드  총세대수  임대건물구분  지역  공급유형  전용면적  전용면적별세대수   공가수  자격유형     임대보증금  \\\n",
       "0  C2515   545       1   2     1  30.0       276  17.0     1   9216000   \n",
       "1  C2515   545       1   2     1  35.0        60  17.0     1  12672000   \n",
       "2  C2515   545       1   2     1  35.0        20  17.0     1  12672000   \n",
       "3  C2515   545       1   2     1  45.0        38  17.0     1  18433000   \n",
       "4  C2515   545       1   2     1  45.0        19  17.0     1  18433000   \n",
       "\n",
       "      임대료  10분내지하철수  10분내버스정류장수  단지내주차면수  등록차량수  주차면수 대비 등록차량 비율  \\\n",
       "0   82940       0.0         3.0    624.0  205.0         0.328526   \n",
       "1  107130       0.0         3.0    624.0  205.0         0.328526   \n",
       "2  107130       0.0         3.0    624.0  205.0         0.328526   \n",
       "3  149760       0.0         3.0    624.0  205.0         0.328526   \n",
       "4  149760       0.0         3.0    624.0  205.0         0.328526   \n",
       "\n",
       "   주차면수 대비 총세대수       거주율  대단지  \n",
       "0      1.144954  0.968807  1.0  \n",
       "1      1.144954  0.968807  1.0  \n",
       "2      1.144954  0.968807  1.0  \n",
       "3      1.144954  0.968807  1.0  \n",
       "4      1.144954  0.968807  1.0  "
      ]
     },
     "execution_count": 1362,
     "metadata": {},
     "output_type": "execute_result"
    }
   ],
   "source": [
    "train.head()"
   ]
  },
  {
   "cell_type": "code",
   "execution_count": 1363,
   "metadata": {},
   "outputs": [],
   "source": [
    "# sel=['임대건물구분', '지역', '공급유형','자격유형', '10분내지하철수', '10분내버스정류장수',\n",
    "#        '주차면수 대비 등록차량 비율', '주차면수 대비 총세대수', '거주율', '대단지']\n",
    "#제거: 대단지, 총세대수, 임대건물구분, \n",
    "sel=['전용면적',\n",
    "     '임대건물구분','지역','공급유형','자격유형',\n",
    "     '주차면수 대비 등록차량 비율', '주차면수 대비 총세대수', '거주율']\n",
    "X=train[sel]\n",
    "y=train['등록차량수']\n",
    "X_train, X_test, y_train, y_test = train_test_split(X, y,\n",
    "                                                   random_state=0)"
   ]
  },
  {
   "cell_type": "markdown",
   "metadata": {},
   "source": [
    "### 머신러닝ck"
   ]
  },
  {
   "cell_type": "code",
   "execution_count": 1364,
   "metadata": {},
   "outputs": [],
   "source": [
    "import os, warnings\n",
    "import re\n",
    "warnings.filterwarnings(action='ignore')"
   ]
  },
  {
   "cell_type": "code",
   "execution_count": 1365,
   "metadata": {},
   "outputs": [],
   "source": [
    "model = RandomForestRegressor(n_jobs=-1)\n",
    "model.fit(X_train, y_train)\n",
    "pred = model.predict(X_test)"
   ]
  },
  {
   "cell_type": "code",
   "execution_count": 1366,
   "metadata": {},
   "outputs": [
    {
     "name": "stdout",
     "output_type": "stream",
     "text": [
      "학습(score) : 0.9988302078814335\n",
      "테스트(score) : 0.9949411609655153\n"
     ]
    }
   ],
   "source": [
    "print(\"학습(score) :\", model.score(X_train, y_train) ) # 결정계수\n",
    "print(\"테스트(score) :\", model.score(X_test, y_test) ) # 결정계수"
   ]
  },
  {
   "cell_type": "code",
   "execution_count": 1367,
   "metadata": {},
   "outputs": [],
   "source": [
    "model = GradientBoostingRegressor()\n",
    "model.fit(X_train, y_train)\n",
    "pred = model.predict(X_test)"
   ]
  },
  {
   "cell_type": "code",
   "execution_count": 1368,
   "metadata": {},
   "outputs": [
    {
     "name": "stdout",
     "output_type": "stream",
     "text": [
      "학습(score) : 0.8715813845106714\n",
      "테스트(score) : 0.8769996143257804\n"
     ]
    }
   ],
   "source": [
    "print(\"학습(score) :\", model.score(X_train, y_train) ) # 결정계수\n",
    "print(\"테스트(score) :\", model.score(X_test, y_test) ) # 결정계수"
   ]
  },
  {
   "cell_type": "code",
   "execution_count": 1369,
   "metadata": {},
   "outputs": [],
   "source": [
    "model = lgb.LGBMRegressor()\n",
    "model.fit(X_train, y_train)\n",
    "pred = model.predict(X_test)"
   ]
  },
  {
   "cell_type": "code",
   "execution_count": 1370,
   "metadata": {},
   "outputs": [
    {
     "name": "stdout",
     "output_type": "stream",
     "text": [
      "학습(score) : 0.9913638578162131\n",
      "테스트(score) : 0.9865108869211511\n"
     ]
    }
   ],
   "source": [
    "print(\"학습(score) :\", model.score(X_train, y_train) ) # 결정계수\n",
    "print(\"테스트(score) :\", model.score(X_test, y_test) ) # 결정계수"
   ]
  },
  {
   "cell_type": "code",
   "execution_count": 1371,
   "metadata": {},
   "outputs": [],
   "source": [
    "model = xgb.XGBRegressor()  # n_estimators=100\n",
    "model.fit(X_train, y_train)\n",
    "pred = model.predict(X_test)"
   ]
  },
  {
   "cell_type": "code",
   "execution_count": 1372,
   "metadata": {},
   "outputs": [
    {
     "name": "stdout",
     "output_type": "stream",
     "text": [
      "학습(score) : 0.9998708422104113\n",
      "테스트(score) : 0.99714967482368\n"
     ]
    }
   ],
   "source": [
    "print(\"학습(score) :\", model.score(X_train, y_train) ) # 결정계수\n",
    "print(\"테스트(score) :\", model.score(X_test, y_test) ) # 결정계수"
   ]
  },
  {
   "cell_type": "markdown",
   "metadata": {},
   "source": [
    "### 교차검증"
   ]
  },
  {
   "cell_type": "code",
   "execution_count": 1373,
   "metadata": {},
   "outputs": [
    {
     "name": "stdout",
     "output_type": "stream",
     "text": [
      "RandomForestRegressor Score : 25.15392622490598\n",
      "3.864475727081299\n"
     ]
    }
   ],
   "source": [
    "now_time=time.time()\n",
    "model_RF = RandomForestRegressor(random_state=30)\n",
    "model_RF.fit(X_train, y_train)\n",
    "score = cross_val_score(model_RF, X_train, y_train,\n",
    "                        cv=5, scoring=\"neg_mean_absolute_error\") # neg_mean_squared_error\n",
    "m_score = np.abs(score.mean())\n",
    "print(\"RandomForestRegressor Score : {}\".format(m_score))  # 점수\n",
    "pro_time=time.time()-now_time\n",
    "print(pro_time)"
   ]
  },
  {
   "cell_type": "code",
   "execution_count": 1374,
   "metadata": {},
   "outputs": [
    {
     "name": "stdout",
     "output_type": "stream",
     "text": [
      "RandomForestRegressor Score : 24.70087626781079\n",
      "10.19309687614441\n"
     ]
    }
   ],
   "source": [
    "now_time=time.time()\n",
    "model_RF = RandomForestRegressor(n_estimators=1000,random_state=30,n_jobs=-1)\n",
    "model_RF.fit(X_train, y_train)\n",
    "score = cross_val_score(model_RF, X_train, y_train,\n",
    "                        cv=5, scoring=\"neg_mean_absolute_error\") # neg_mean_squared_error\n",
    "m_score = np.abs(score.mean())\n",
    "print(\"RandomForestRegressor Score : {}\".format(m_score))  # 점수\n",
    "pro_time=time.time()-now_time\n",
    "print(pro_time)"
   ]
  },
  {
   "cell_type": "code",
   "execution_count": 1375,
   "metadata": {},
   "outputs": [
    {
     "name": "stdout",
     "output_type": "stream",
     "text": [
      "GradientBoostingRegressor Score : 120.4130917271162\n",
      "1.430715560913086\n"
     ]
    }
   ],
   "source": [
    "now_time=time.time()\n",
    "model_GB = GradientBoostingRegressor(max_depth=3,random_state=0)\n",
    "model_GB.fit(X_train, y_train)\n",
    "score = cross_val_score(model_GB, X_train, y_train,\n",
    "                        cv=5, scoring=\"neg_mean_absolute_error\") # neg_mean_squared_error\n",
    "m_score = np.abs(score.mean())\n",
    "print(\"GradientBoostingRegressor Score : {}\".format(m_score))  # 점수\n",
    "pro_time=time.time()-now_time\n",
    "print(pro_time)"
   ]
  },
  {
   "cell_type": "code",
   "execution_count": 1376,
   "metadata": {},
   "outputs": [
    {
     "name": "stdout",
     "output_type": "stream",
     "text": [
      "LightGBM Score : 44.973844135204914\n",
      "1.8230085372924805\n"
     ]
    }
   ],
   "source": [
    "m_lgbm1 = lgb.LGBMRegressor()\n",
    "m_lgbm1.fit(X_train, y_train)\n",
    "score = cross_val_score(m_lgbm1, X_train, y_train,\n",
    "                        cv=5, scoring=\"neg_mean_absolute_error\")\n",
    "m_score = np.abs(score.mean())  # 절대값\n",
    "pro_time = time.time() - now_time\n",
    "print(\"LightGBM Score : {}\".format(m_score))  # 점수\n",
    "print(pro_time)  # 걸린 시간"
   ]
  },
  {
   "cell_type": "code",
   "execution_count": 1377,
   "metadata": {},
   "outputs": [
    {
     "name": "stdout",
     "output_type": "stream",
     "text": [
      "XGBRegressor Score : 12.86705958936785\n",
      "2.442284345626831\n"
     ]
    }
   ],
   "source": [
    "xg_reg = xgb.XGBRegressor()\n",
    "xg_reg.fit(X_train, y_train)\n",
    "score = cross_val_score(xg_reg, X_train, y_train, cv=5, scoring=\"neg_mean_absolute_error\")\n",
    "m_score = np.abs(score.mean())  # 절대값\n",
    "pro_time = time.time() - now_time\n",
    "print(\"XGBRegressor Score : {}\".format(m_score))  # 점수\n",
    "print(pro_time)  # 걸린 시간"
   ]
  },
  {
   "cell_type": "markdown",
   "metadata": {},
   "source": [
    "### 모델만들기"
   ]
  },
  {
   "cell_type": "code",
   "execution_count": 1378,
   "metadata": {},
   "outputs": [
    {
     "data": {
      "text/plain": [
       "array([2315.6384  ,  402.42416 ,  745.7189  ,  592.6351  ,  111.218475,\n",
       "        699.3309  ,  570.64685 ,  315.03888 ,  334.85052 ,  508.43198 ],\n",
       "      dtype=float32)"
      ]
     },
     "execution_count": 1378,
     "metadata": {},
     "output_type": "execute_result"
    }
   ],
   "source": [
    "model = xgb.XGBRegressor()\n",
    "model.fit(X_train, y_train)\n",
    "pred = model.predict(X_test)\n",
    "pred[0:10]"
   ]
  },
  {
   "cell_type": "code",
   "execution_count": 1379,
   "metadata": {},
   "outputs": [
    {
     "name": "stdout",
     "output_type": "stream",
     "text": [
      "학습(score) : 0.9998708422104113\n",
      "테스트(score) : 0.99714967482368\n"
     ]
    }
   ],
   "source": [
    "print(\"학습(score) :\", model.score(X_train, y_train) ) # 결정계수\n",
    "print(\"테스트(score) :\", model.score(X_test, y_test) ) # 결정계수"
   ]
  },
  {
   "cell_type": "code",
   "execution_count": 1380,
   "metadata": {},
   "outputs": [
    {
     "data": {
      "text/plain": [
       "5.728410562757629"
      ]
     },
     "execution_count": 1380,
     "metadata": {},
     "output_type": "execute_result"
    }
   ],
   "source": [
    "#mae_val=sum(abs(y_test-pred))/len(pred)\n",
    "mae_val=np.mean(abs(y_test-pred))\n",
    "mae_val"
   ]
  },
  {
   "cell_type": "code",
   "execution_count": 1381,
   "metadata": {},
   "outputs": [
    {
     "data": {
      "text/plain": [
       "570.0491957515914"
      ]
     },
     "execution_count": 1381,
     "metadata": {},
     "output_type": "execute_result"
    }
   ],
   "source": [
    "#mse_val=sum((y_test-pred)**2)/len(pred)\n",
    "mse_val=np.sum((y_test-pred)**2)/len(pred)\n",
    "mse_val"
   ]
  },
  {
   "cell_type": "code",
   "execution_count": 1382,
   "metadata": {},
   "outputs": [
    {
     "data": {
      "text/plain": [
       "23.875703042038182"
      ]
     },
     "execution_count": 1382,
     "metadata": {},
     "output_type": "execute_result"
    }
   ],
   "source": [
    "#rmse_val=mse_val ** 0.5\n",
    "rmse_val=np.sqrt(mse_val)\n",
    "rmse_val"
   ]
  },
  {
   "cell_type": "code",
   "execution_count": 1383,
   "metadata": {},
   "outputs": [
    {
     "data": {
      "text/html": [
       "<div>\n",
       "<style scoped>\n",
       "    .dataframe tbody tr th:only-of-type {\n",
       "        vertical-align: middle;\n",
       "    }\n",
       "\n",
       "    .dataframe tbody tr th {\n",
       "        vertical-align: top;\n",
       "    }\n",
       "\n",
       "    .dataframe thead th {\n",
       "        text-align: right;\n",
       "    }\n",
       "</style>\n",
       "<table border=\"1\" class=\"dataframe\">\n",
       "  <thead>\n",
       "    <tr style=\"text-align: right;\">\n",
       "      <th></th>\n",
       "      <th>0</th>\n",
       "    </tr>\n",
       "  </thead>\n",
       "  <tbody>\n",
       "    <tr>\n",
       "      <th>주차면수 대비 총세대수</th>\n",
       "      <td>0.332565</td>\n",
       "    </tr>\n",
       "    <tr>\n",
       "      <th>공급유형</th>\n",
       "      <td>0.264991</td>\n",
       "    </tr>\n",
       "    <tr>\n",
       "      <th>거주율</th>\n",
       "      <td>0.140987</td>\n",
       "    </tr>\n",
       "    <tr>\n",
       "      <th>자격유형</th>\n",
       "      <td>0.104665</td>\n",
       "    </tr>\n",
       "    <tr>\n",
       "      <th>주차면수 대비 등록차량 비율</th>\n",
       "      <td>0.096034</td>\n",
       "    </tr>\n",
       "    <tr>\n",
       "      <th>지역</th>\n",
       "      <td>0.058109</td>\n",
       "    </tr>\n",
       "    <tr>\n",
       "      <th>전용면적</th>\n",
       "      <td>0.002640</td>\n",
       "    </tr>\n",
       "    <tr>\n",
       "      <th>임대건물구분</th>\n",
       "      <td>0.000010</td>\n",
       "    </tr>\n",
       "  </tbody>\n",
       "</table>\n",
       "</div>"
      ],
      "text/plain": [
       "                        0\n",
       "주차면수 대비 총세대수     0.332565\n",
       "공급유형             0.264991\n",
       "거주율              0.140987\n",
       "자격유형             0.104665\n",
       "주차면수 대비 등록차량 비율  0.096034\n",
       "지역               0.058109\n",
       "전용면적             0.002640\n",
       "임대건물구분           0.000010"
      ]
     },
     "execution_count": 1383,
     "metadata": {},
     "output_type": "execute_result"
    }
   ],
   "source": [
    "importance_df=pd.DataFrame(model.feature_importances_,index=X[sel].columns)\n",
    "importance_df.sort_values(by=0,ascending=False)"
   ]
  },
  {
   "cell_type": "markdown",
   "metadata": {},
   "source": [
    "### 제출파일 만들기"
   ]
  },
  {
   "cell_type": "code",
   "execution_count": 1384,
   "metadata": {},
   "outputs": [
    {
     "name": "stdout",
     "output_type": "stream",
     "text": [
      "(724, 8)\n",
      "(1008, 18)\n"
     ]
    }
   ],
   "source": [
    "print(X_test.shape)\n",
    "print(test.shape)"
   ]
  },
  {
   "cell_type": "code",
   "execution_count": 1385,
   "metadata": {},
   "outputs": [
    {
     "data": {
      "text/plain": [
       "Index(['단지코드', '총세대수', '임대건물구분', '지역', '공급유형', '전용면적', '전용면적별세대수', '공가수',\n",
       "       '자격유형', '임대보증금', '임대료', '10분내지하철수', '10분내버스정류장수', '단지내주차면수',\n",
       "       '주차면수 대비 등록차량 비율', '주차면수 대비 총세대수', '거주율', '대단지'],\n",
       "      dtype='object')"
      ]
     },
     "execution_count": 1385,
     "metadata": {},
     "output_type": "execute_result"
    }
   ],
   "source": [
    "test.columns"
   ]
  },
  {
   "cell_type": "code",
   "execution_count": 1386,
   "metadata": {},
   "outputs": [],
   "source": [
    "sel=['전용면적',\n",
    "     '임대건물구분','지역','공급유형','자격유형',\n",
    "     '주차면수 대비 등록차량 비율', '주차면수 대비 총세대수', '거주율']\n",
    "X_test=test[sel]\n",
    "pred = model.predict(X_test)"
   ]
  },
  {
   "cell_type": "code",
   "execution_count": 1387,
   "metadata": {},
   "outputs": [
    {
     "data": {
      "text/html": [
       "<div>\n",
       "<style scoped>\n",
       "    .dataframe tbody tr th:only-of-type {\n",
       "        vertical-align: middle;\n",
       "    }\n",
       "\n",
       "    .dataframe tbody tr th {\n",
       "        vertical-align: top;\n",
       "    }\n",
       "\n",
       "    .dataframe thead th {\n",
       "        text-align: right;\n",
       "    }\n",
       "</style>\n",
       "<table border=\"1\" class=\"dataframe\">\n",
       "  <thead>\n",
       "    <tr style=\"text-align: right;\">\n",
       "      <th></th>\n",
       "      <th>index</th>\n",
       "      <th>단지코드</th>\n",
       "      <th>총세대수</th>\n",
       "      <th>임대건물구분</th>\n",
       "      <th>지역</th>\n",
       "      <th>공급유형</th>\n",
       "      <th>전용면적</th>\n",
       "      <th>전용면적별세대수</th>\n",
       "      <th>공가수</th>\n",
       "      <th>자격유형</th>\n",
       "      <th>...</th>\n",
       "      <th>임대료</th>\n",
       "      <th>10분내지하철수</th>\n",
       "      <th>10분내버스정류장수</th>\n",
       "      <th>단지내주차면수</th>\n",
       "      <th>주차면수 대비 등록차량 비율</th>\n",
       "      <th>주차면수 대비 총세대수</th>\n",
       "      <th>거주율</th>\n",
       "      <th>대단지</th>\n",
       "      <th>등록차량수</th>\n",
       "      <th>단지별차량수평균</th>\n",
       "    </tr>\n",
       "  </thead>\n",
       "  <tbody>\n",
       "    <tr>\n",
       "      <th>0</th>\n",
       "      <td>0</td>\n",
       "      <td>C1072</td>\n",
       "      <td>754</td>\n",
       "      <td>1</td>\n",
       "      <td>1</td>\n",
       "      <td>1</td>\n",
       "      <td>35.0</td>\n",
       "      <td>116</td>\n",
       "      <td>14.0</td>\n",
       "      <td>8</td>\n",
       "      <td>...</td>\n",
       "      <td>189840</td>\n",
       "      <td>0.0</td>\n",
       "      <td>2.0</td>\n",
       "      <td>683.0</td>\n",
       "      <td>0.300146</td>\n",
       "      <td>0.905836</td>\n",
       "      <td>0.981432</td>\n",
       "      <td>1.0</td>\n",
       "      <td>487.106140</td>\n",
       "      <td>573.124634</td>\n",
       "    </tr>\n",
       "    <tr>\n",
       "      <th>1</th>\n",
       "      <td>8</td>\n",
       "      <td>C1128</td>\n",
       "      <td>1354</td>\n",
       "      <td>1</td>\n",
       "      <td>1</td>\n",
       "      <td>1</td>\n",
       "      <td>35.0</td>\n",
       "      <td>368</td>\n",
       "      <td>9.0</td>\n",
       "      <td>8</td>\n",
       "      <td>...</td>\n",
       "      <td>189840</td>\n",
       "      <td>0.0</td>\n",
       "      <td>3.0</td>\n",
       "      <td>1216.0</td>\n",
       "      <td>0.875000</td>\n",
       "      <td>0.898080</td>\n",
       "      <td>0.993353</td>\n",
       "      <td>0.0</td>\n",
       "      <td>709.531311</td>\n",
       "      <td>681.748718</td>\n",
       "    </tr>\n",
       "    <tr>\n",
       "      <th>2</th>\n",
       "      <td>17</td>\n",
       "      <td>C1456</td>\n",
       "      <td>619</td>\n",
       "      <td>1</td>\n",
       "      <td>3</td>\n",
       "      <td>1</td>\n",
       "      <td>30.0</td>\n",
       "      <td>82</td>\n",
       "      <td>18.0</td>\n",
       "      <td>1</td>\n",
       "      <td>...</td>\n",
       "      <td>156200</td>\n",
       "      <td>0.0</td>\n",
       "      <td>16.0</td>\n",
       "      <td>547.0</td>\n",
       "      <td>1.945155</td>\n",
       "      <td>0.883683</td>\n",
       "      <td>0.970921</td>\n",
       "      <td>1.0</td>\n",
       "      <td>594.560486</td>\n",
       "      <td>491.930054</td>\n",
       "    </tr>\n",
       "    <tr>\n",
       "      <th>3</th>\n",
       "      <td>26</td>\n",
       "      <td>C1840</td>\n",
       "      <td>593</td>\n",
       "      <td>1</td>\n",
       "      <td>11</td>\n",
       "      <td>1</td>\n",
       "      <td>35.0</td>\n",
       "      <td>253</td>\n",
       "      <td>7.0</td>\n",
       "      <td>1</td>\n",
       "      <td>...</td>\n",
       "      <td>108130</td>\n",
       "      <td>0.0</td>\n",
       "      <td>3.0</td>\n",
       "      <td>543.0</td>\n",
       "      <td>1.018416</td>\n",
       "      <td>0.915683</td>\n",
       "      <td>0.988196</td>\n",
       "      <td>1.0</td>\n",
       "      <td>596.872009</td>\n",
       "      <td>548.886536</td>\n",
       "    </tr>\n",
       "    <tr>\n",
       "      <th>4</th>\n",
       "      <td>30</td>\n",
       "      <td>C1332</td>\n",
       "      <td>1297</td>\n",
       "      <td>1</td>\n",
       "      <td>1</td>\n",
       "      <td>1</td>\n",
       "      <td>35.0</td>\n",
       "      <td>282</td>\n",
       "      <td>11.0</td>\n",
       "      <td>8</td>\n",
       "      <td>...</td>\n",
       "      <td>203050</td>\n",
       "      <td>0.0</td>\n",
       "      <td>2.0</td>\n",
       "      <td>1112.0</td>\n",
       "      <td>0.373201</td>\n",
       "      <td>0.857363</td>\n",
       "      <td>0.991519</td>\n",
       "      <td>0.0</td>\n",
       "      <td>375.824860</td>\n",
       "      <td>1077.356567</td>\n",
       "    </tr>\n",
       "  </tbody>\n",
       "</table>\n",
       "<p>5 rows × 21 columns</p>\n",
       "</div>"
      ],
      "text/plain": [
       "   index   단지코드  총세대수  임대건물구분  지역  공급유형  전용면적  전용면적별세대수   공가수  자격유형  ...  \\\n",
       "0      0  C1072   754       1   1     1  35.0       116  14.0     8  ...   \n",
       "1      8  C1128  1354       1   1     1  35.0       368   9.0     8  ...   \n",
       "2     17  C1456   619       1   3     1  30.0        82  18.0     1  ...   \n",
       "3     26  C1840   593       1  11     1  35.0       253   7.0     1  ...   \n",
       "4     30  C1332  1297       1   1     1  35.0       282  11.0     8  ...   \n",
       "\n",
       "      임대료 10분내지하철수  10분내버스정류장수  단지내주차면수  주차면수 대비 등록차량 비율  주차면수 대비 총세대수  \\\n",
       "0  189840      0.0         2.0    683.0         0.300146      0.905836   \n",
       "1  189840      0.0         3.0   1216.0         0.875000      0.898080   \n",
       "2  156200      0.0        16.0    547.0         1.945155      0.883683   \n",
       "3  108130      0.0         3.0    543.0         1.018416      0.915683   \n",
       "4  203050      0.0         2.0   1112.0         0.373201      0.857363   \n",
       "\n",
       "        거주율  대단지       등록차량수     단지별차량수평균  \n",
       "0  0.981432  1.0  487.106140   573.124634  \n",
       "1  0.993353  0.0  709.531311   681.748718  \n",
       "2  0.970921  1.0  594.560486   491.930054  \n",
       "3  0.988196  1.0  596.872009   548.886536  \n",
       "4  0.991519  0.0  375.824860  1077.356567  \n",
       "\n",
       "[5 rows x 21 columns]"
      ]
     },
     "execution_count": 1387,
     "metadata": {},
     "output_type": "execute_result"
    }
   ],
   "source": [
    "test['등록차량수'] = pred\n",
    "test['단지별차량수평균'] = test.groupby(\"단지코드\")['등록차량수'].transform(np.mean)\n",
    "test_new = test.drop_duplicates(['단지코드'], keep='first').reset_index()\n",
    "test_new.head()"
   ]
  },
  {
   "cell_type": "markdown",
   "metadata": {},
   "source": [
    "### 제출용 오류 코드를 0으로 만들고 150행만들기"
   ]
  },
  {
   "cell_type": "code",
   "execution_count": 1388,
   "metadata": {},
   "outputs": [
    {
     "data": {
      "text/html": [
       "<div>\n",
       "<style scoped>\n",
       "    .dataframe tbody tr th:only-of-type {\n",
       "        vertical-align: middle;\n",
       "    }\n",
       "\n",
       "    .dataframe tbody tr th {\n",
       "        vertical-align: top;\n",
       "    }\n",
       "\n",
       "    .dataframe thead th {\n",
       "        text-align: right;\n",
       "    }\n",
       "</style>\n",
       "<table border=\"1\" class=\"dataframe\">\n",
       "  <thead>\n",
       "    <tr style=\"text-align: right;\">\n",
       "      <th></th>\n",
       "      <th>code</th>\n",
       "      <th>num</th>\n",
       "    </tr>\n",
       "  </thead>\n",
       "  <tbody>\n",
       "    <tr>\n",
       "      <th>0</th>\n",
       "      <td>C2675</td>\n",
       "      <td>0</td>\n",
       "    </tr>\n",
       "    <tr>\n",
       "      <th>1</th>\n",
       "      <td>C2335</td>\n",
       "      <td>0</td>\n",
       "    </tr>\n",
       "    <tr>\n",
       "      <th>2</th>\n",
       "      <td>C1327</td>\n",
       "      <td>0</td>\n",
       "    </tr>\n",
       "  </tbody>\n",
       "</table>\n",
       "</div>"
      ],
      "text/plain": [
       "    code num\n",
       "0  C2675   0\n",
       "1  C2335   0\n",
       "2  C1327   0"
      ]
     },
     "execution_count": 1388,
     "metadata": {},
     "output_type": "execute_result"
    }
   ],
   "source": [
    "add_dat={'code':['C2675','C2335','C1327'],'num':['0','0','0']}\n",
    "add_df=pd.DataFrame(add_dat)\n",
    "add_df"
   ]
  },
  {
   "cell_type": "code",
   "execution_count": 1389,
   "metadata": {},
   "outputs": [
    {
     "data": {
      "text/html": [
       "<div>\n",
       "<style scoped>\n",
       "    .dataframe tbody tr th:only-of-type {\n",
       "        vertical-align: middle;\n",
       "    }\n",
       "\n",
       "    .dataframe tbody tr th {\n",
       "        vertical-align: top;\n",
       "    }\n",
       "\n",
       "    .dataframe thead th {\n",
       "        text-align: right;\n",
       "    }\n",
       "</style>\n",
       "<table border=\"1\" class=\"dataframe\">\n",
       "  <thead>\n",
       "    <tr style=\"text-align: right;\">\n",
       "      <th></th>\n",
       "      <th>code</th>\n",
       "      <th>num</th>\n",
       "    </tr>\n",
       "  </thead>\n",
       "  <tbody>\n",
       "    <tr>\n",
       "      <th>0</th>\n",
       "      <td>C1072</td>\n",
       "      <td>573.124634</td>\n",
       "    </tr>\n",
       "    <tr>\n",
       "      <th>1</th>\n",
       "      <td>C1128</td>\n",
       "      <td>681.748718</td>\n",
       "    </tr>\n",
       "    <tr>\n",
       "      <th>2</th>\n",
       "      <td>C1456</td>\n",
       "      <td>491.930054</td>\n",
       "    </tr>\n",
       "    <tr>\n",
       "      <th>3</th>\n",
       "      <td>C1840</td>\n",
       "      <td>548.886536</td>\n",
       "    </tr>\n",
       "    <tr>\n",
       "      <th>4</th>\n",
       "      <td>C1332</td>\n",
       "      <td>1077.356567</td>\n",
       "    </tr>\n",
       "    <tr>\n",
       "      <th>...</th>\n",
       "      <td>...</td>\n",
       "      <td>...</td>\n",
       "    </tr>\n",
       "    <tr>\n",
       "      <th>145</th>\n",
       "      <td>C1267</td>\n",
       "      <td>249.562958</td>\n",
       "    </tr>\n",
       "    <tr>\n",
       "      <th>146</th>\n",
       "      <td>C2189</td>\n",
       "      <td>162.305008</td>\n",
       "    </tr>\n",
       "    <tr>\n",
       "      <th>147</th>\n",
       "      <td>C2675</td>\n",
       "      <td>0</td>\n",
       "    </tr>\n",
       "    <tr>\n",
       "      <th>148</th>\n",
       "      <td>C2335</td>\n",
       "      <td>0</td>\n",
       "    </tr>\n",
       "    <tr>\n",
       "      <th>149</th>\n",
       "      <td>C1327</td>\n",
       "      <td>0</td>\n",
       "    </tr>\n",
       "  </tbody>\n",
       "</table>\n",
       "<p>150 rows × 2 columns</p>\n",
       "</div>"
      ],
      "text/plain": [
       "      code          num\n",
       "0    C1072   573.124634\n",
       "1    C1128   681.748718\n",
       "2    C1456   491.930054\n",
       "3    C1840   548.886536\n",
       "4    C1332  1077.356567\n",
       "..     ...          ...\n",
       "145  C1267   249.562958\n",
       "146  C2189   162.305008\n",
       "147  C2675            0\n",
       "148  C2335            0\n",
       "149  C1327            0\n",
       "\n",
       "[150 rows x 2 columns]"
      ]
     },
     "execution_count": 1389,
     "metadata": {},
     "output_type": "execute_result"
    }
   ],
   "source": [
    "sub_df = test_new[ ['단지코드', '단지별차량수평균']]\n",
    "sub_df.columns = ['code', 'num']\n",
    "sub_df = pd.concat([sub_df, add_df]).reset_index()\n",
    "sub_df = sub_df.drop(['index'], axis=1)\n",
    "sub_df"
   ]
  },
  {
   "cell_type": "code",
   "execution_count": 1391,
   "metadata": {},
   "outputs": [
    {
     "data": {
      "text/html": [
       "<div>\n",
       "<style scoped>\n",
       "    .dataframe tbody tr th:only-of-type {\n",
       "        vertical-align: middle;\n",
       "    }\n",
       "\n",
       "    .dataframe tbody tr th {\n",
       "        vertical-align: top;\n",
       "    }\n",
       "\n",
       "    .dataframe thead th {\n",
       "        text-align: right;\n",
       "    }\n",
       "</style>\n",
       "<table border=\"1\" class=\"dataframe\">\n",
       "  <thead>\n",
       "    <tr style=\"text-align: right;\">\n",
       "      <th></th>\n",
       "      <th>code</th>\n",
       "      <th>num</th>\n",
       "    </tr>\n",
       "  </thead>\n",
       "  <tbody>\n",
       "    <tr>\n",
       "      <th>0</th>\n",
       "      <td>C1072</td>\n",
       "      <td>573.124634</td>\n",
       "    </tr>\n",
       "    <tr>\n",
       "      <th>1</th>\n",
       "      <td>C1128</td>\n",
       "      <td>681.748718</td>\n",
       "    </tr>\n",
       "    <tr>\n",
       "      <th>2</th>\n",
       "      <td>C1456</td>\n",
       "      <td>491.930054</td>\n",
       "    </tr>\n",
       "    <tr>\n",
       "      <th>3</th>\n",
       "      <td>C1840</td>\n",
       "      <td>548.886536</td>\n",
       "    </tr>\n",
       "    <tr>\n",
       "      <th>4</th>\n",
       "      <td>C1332</td>\n",
       "      <td>1077.356567</td>\n",
       "    </tr>\n",
       "  </tbody>\n",
       "</table>\n",
       "</div>"
      ],
      "text/plain": [
       "    code          num\n",
       "0  C1072   573.124634\n",
       "1  C1128   681.748718\n",
       "2  C1456   491.930054\n",
       "3  C1840   548.886536\n",
       "4  C1332  1077.356567"
      ]
     },
     "execution_count": 1391,
     "metadata": {},
     "output_type": "execute_result"
    }
   ],
   "source": [
    "sub_df.to_csv('0720_XGBR.csv', index=False)\n",
    "sub_df.head()"
   ]
  },
  {
   "cell_type": "code",
   "execution_count": null,
   "metadata": {},
   "outputs": [],
   "source": []
  },
  {
   "cell_type": "code",
   "execution_count": null,
   "metadata": {},
   "outputs": [],
   "source": []
  }
 ],
 "metadata": {
  "kernelspec": {
   "display_name": "Python 3",
   "language": "python",
   "name": "python3"
  },
  "language_info": {
   "codemirror_mode": {
    "name": "ipython",
    "version": 3
   },
   "file_extension": ".py",
   "mimetype": "text/x-python",
   "name": "python",
   "nbconvert_exporter": "python",
   "pygments_lexer": "ipython3",
   "version": "3.8.5"
  }
 },
 "nbformat": 4,
 "nbformat_minor": 4
}
