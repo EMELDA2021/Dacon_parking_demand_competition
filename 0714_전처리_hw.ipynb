{
 "cells": [
  {
   "cell_type": "code",
   "execution_count": 210,
   "metadata": {},
   "outputs": [],
   "source": [
    "import pandas as pd"
   ]
  },
  {
   "cell_type": "code",
   "execution_count": 211,
   "metadata": {},
   "outputs": [
    {
     "data": {
      "text/plain": [
       "((2952, 15), (1022, 14), (150, 2), (16, 23))"
      ]
     },
     "execution_count": 211,
     "metadata": {},
     "output_type": "execute_result"
    }
   ],
   "source": [
    "train=pd.read_csv('../train.csv')\n",
    "test=pd.read_csv('../test.csv')\n",
    "sub=pd.read_csv('../sample_submission.csv')\n",
    "age=pd.read_csv('../age_gender_info.csv')\n",
    "train.shape, test.shape, sub.shape, age.shape"
   ]
  },
  {
   "cell_type": "code",
   "execution_count": 212,
   "metadata": {},
   "outputs": [
    {
     "name": "stdout",
     "output_type": "stream",
     "text": [
      "<class 'pandas.core.frame.DataFrame'>\n",
      "RangeIndex: 2952 entries, 0 to 2951\n",
      "Data columns (total 15 columns):\n",
      " #   Column                        Non-Null Count  Dtype  \n",
      "---  ------                        --------------  -----  \n",
      " 0   단지코드                          2952 non-null   object \n",
      " 1   총세대수                          2952 non-null   int64  \n",
      " 2   임대건물구분                        2952 non-null   object \n",
      " 3   지역                            2952 non-null   object \n",
      " 4   공급유형                          2952 non-null   object \n",
      " 5   전용면적                          2952 non-null   float64\n",
      " 6   전용면적별세대수                      2952 non-null   int64  \n",
      " 7   공가수                           2952 non-null   float64\n",
      " 8   자격유형                          2952 non-null   object \n",
      " 9   임대보증금                         2383 non-null   object \n",
      " 10  임대료                           2383 non-null   object \n",
      " 11  도보 10분거리 내 지하철역 수(환승노선 수 반영)  2741 non-null   float64\n",
      " 12  도보 10분거리 내 버스정류장 수            2948 non-null   float64\n",
      " 13  단지내주차면수                       2952 non-null   float64\n",
      " 14  등록차량수                         2952 non-null   float64\n",
      "dtypes: float64(6), int64(2), object(7)\n",
      "memory usage: 346.1+ KB\n"
     ]
    }
   ],
   "source": [
    "train.info()"
   ]
  },
  {
   "cell_type": "code",
   "execution_count": 213,
   "metadata": {},
   "outputs": [
    {
     "data": {
      "text/plain": [
       "-         21\n",
       "390000    19\n",
       "79980     18\n",
       "100920    16\n",
       "167230    15\n",
       "          ..\n",
       "215080     1\n",
       "265610     1\n",
       "121980     1\n",
       "113000     1\n",
       "80500      1\n",
       "Name: 임대료, Length: 995, dtype: int64"
      ]
     },
     "execution_count": 213,
     "metadata": {},
     "output_type": "execute_result"
    }
   ],
   "source": [
    "train['임대료'].value_counts()"
   ]
  },
  {
   "cell_type": "code",
   "execution_count": 214,
   "metadata": {},
   "outputs": [
    {
     "data": {
      "text/plain": [
       "Index(['단지코드', '총세대수', '임대건물구분', '지역', '공급유형', '전용면적', '전용면적별세대수', '공가수',\n",
       "       '자격유형', '임대보증금', '임대료', '도보 10분거리 내 지하철역 수(환승노선 수 반영)',\n",
       "       '도보 10분거리 내 버스정류장 수', '단지내주차면수', '등록차량수'],\n",
       "      dtype='object')"
      ]
     },
     "execution_count": 214,
     "metadata": {},
     "output_type": "execute_result"
    }
   ],
   "source": [
    "train.columns"
   ]
  },
  {
   "cell_type": "markdown",
   "metadata": {},
   "source": [
    "### 결측치"
   ]
  },
  {
   "cell_type": "code",
   "execution_count": 215,
   "metadata": {},
   "outputs": [
    {
     "data": {
      "text/plain": [
       "단지코드                              0\n",
       "총세대수                              0\n",
       "임대건물구분                            0\n",
       "지역                                0\n",
       "공급유형                              0\n",
       "전용면적                              0\n",
       "전용면적별세대수                          0\n",
       "공가수                               0\n",
       "자격유형                              2\n",
       "임대보증금                           180\n",
       "임대료                             180\n",
       "도보 10분거리 내 지하철역 수(환승노선 수 반영)     42\n",
       "도보 10분거리 내 버스정류장 수                0\n",
       "단지내주차면수                           0\n",
       "dtype: int64"
      ]
     },
     "execution_count": 215,
     "metadata": {},
     "output_type": "execute_result"
    }
   ],
   "source": [
    "test.isnull().sum()"
   ]
  },
  {
   "cell_type": "markdown",
   "metadata": {},
   "source": [
    "### 1.자격유형"
   ]
  },
  {
   "cell_type": "code",
   "execution_count": 216,
   "metadata": {},
   "outputs": [
    {
     "data": {
      "text/html": [
       "<div>\n",
       "<style scoped>\n",
       "    .dataframe tbody tr th:only-of-type {\n",
       "        vertical-align: middle;\n",
       "    }\n",
       "\n",
       "    .dataframe tbody tr th {\n",
       "        vertical-align: top;\n",
       "    }\n",
       "\n",
       "    .dataframe thead th {\n",
       "        text-align: right;\n",
       "    }\n",
       "</style>\n",
       "<table border=\"1\" class=\"dataframe\">\n",
       "  <thead>\n",
       "    <tr style=\"text-align: right;\">\n",
       "      <th></th>\n",
       "      <th>단지코드</th>\n",
       "      <th>총세대수</th>\n",
       "      <th>임대건물구분</th>\n",
       "      <th>지역</th>\n",
       "      <th>공급유형</th>\n",
       "      <th>전용면적</th>\n",
       "      <th>전용면적별세대수</th>\n",
       "      <th>공가수</th>\n",
       "      <th>자격유형</th>\n",
       "      <th>임대보증금</th>\n",
       "      <th>임대료</th>\n",
       "      <th>도보 10분거리 내 지하철역 수(환승노선 수 반영)</th>\n",
       "      <th>도보 10분거리 내 버스정류장 수</th>\n",
       "      <th>단지내주차면수</th>\n",
       "    </tr>\n",
       "  </thead>\n",
       "  <tbody>\n",
       "    <tr>\n",
       "      <th>196</th>\n",
       "      <td>C2411</td>\n",
       "      <td>962</td>\n",
       "      <td>아파트</td>\n",
       "      <td>경상남도</td>\n",
       "      <td>국민임대</td>\n",
       "      <td>46.90</td>\n",
       "      <td>240</td>\n",
       "      <td>25.0</td>\n",
       "      <td>NaN</td>\n",
       "      <td>71950000</td>\n",
       "      <td>37470</td>\n",
       "      <td>0.0</td>\n",
       "      <td>2.0</td>\n",
       "      <td>840.0</td>\n",
       "    </tr>\n",
       "    <tr>\n",
       "      <th>258</th>\n",
       "      <td>C2253</td>\n",
       "      <td>1161</td>\n",
       "      <td>아파트</td>\n",
       "      <td>강원도</td>\n",
       "      <td>영구임대</td>\n",
       "      <td>26.37</td>\n",
       "      <td>745</td>\n",
       "      <td>0.0</td>\n",
       "      <td>NaN</td>\n",
       "      <td>2249000</td>\n",
       "      <td>44770</td>\n",
       "      <td>0.0</td>\n",
       "      <td>2.0</td>\n",
       "      <td>173.0</td>\n",
       "    </tr>\n",
       "  </tbody>\n",
       "</table>\n",
       "</div>"
      ],
      "text/plain": [
       "      단지코드  총세대수 임대건물구분    지역  공급유형   전용면적  전용면적별세대수   공가수 자격유형     임대보증금  \\\n",
       "196  C2411   962    아파트  경상남도  국민임대  46.90       240  25.0  NaN  71950000   \n",
       "258  C2253  1161    아파트   강원도  영구임대  26.37       745   0.0  NaN   2249000   \n",
       "\n",
       "       임대료  도보 10분거리 내 지하철역 수(환승노선 수 반영)  도보 10분거리 내 버스정류장 수  단지내주차면수  \n",
       "196  37470                           0.0                 2.0    840.0  \n",
       "258  44770                           0.0                 2.0    173.0  "
      ]
     },
     "execution_count": 216,
     "metadata": {},
     "output_type": "execute_result"
    }
   ],
   "source": [
    "test.loc[test['자격유형'].isnull()]"
   ]
  },
  {
   "cell_type": "code",
   "execution_count": 217,
   "metadata": {},
   "outputs": [
    {
     "name": "stdout",
     "output_type": "stream",
     "text": [
      "      단지코드  총세대수 임대건물구분    지역  공급유형   전용면적  전용면적별세대수   공가수 자격유형     임대보증금  \\\n",
      "193  C2411   962    아파트  경상남도  국민임대  39.43        56  25.0    A  11992000   \n",
      "194  C2411   962    아파트  경상남도  국민임대  39.72       336  25.0    A  11992000   \n",
      "195  C2411   962    아파트  경상남도  국민임대  39.82       179  25.0    A  11992000   \n",
      "196  C2411   962    아파트  경상남도  국민임대  46.90       240  25.0  NaN  71950000   \n",
      "197  C2411   962    아파트  경상남도  국민임대  51.93       150  25.0    A  21586000   \n",
      "\n",
      "        임대료  도보 10분거리 내 지하철역 수(환승노선 수 반영)  도보 10분거리 내 버스정류장 수  단지내주차면수  \n",
      "193  100720                           0.0                 2.0    840.0  \n",
      "194  100720                           0.0                 2.0    840.0  \n",
      "195  100720                           0.0                 2.0    840.0  \n",
      "196   37470                           0.0                 2.0    840.0  \n",
      "197  171480                           0.0                 2.0    840.0  \n",
      "      단지코드  총세대수 임대건물구분   지역  공급유형   전용면적  전용면적별세대수  공가수 자격유형    임대보증금    임대료  \\\n",
      "258  C2253  1161    아파트  강원도  영구임대  26.37       745  0.0  NaN  2249000  44770   \n",
      "259  C2253  1161    아파트  강원도  영구임대  31.32       239  0.0    C  3731000  83020   \n",
      "260  C2253  1161    아파트  강원도  영구임대  31.32       149  0.0    C  3731000  83020   \n",
      "\n",
      "     도보 10분거리 내 지하철역 수(환승노선 수 반영)  도보 10분거리 내 버스정류장 수  단지내주차면수  \n",
      "258                           0.0                 2.0    173.0  \n",
      "259                           0.0                 2.0    173.0  \n",
      "260                           0.0                 2.0    173.0  \n"
     ]
    }
   ],
   "source": [
    "grouped=test.groupby(['단지코드','임대건물구분','지역','공급유형'])\n",
    "group1=grouped.get_group(('C2411','아파트','경상남도','국민임대'))\n",
    "group2=grouped.get_group(('C2253','아파트','강원도','영구임대'))\n",
    "print(group1)\n",
    "print(group2)"
   ]
  },
  {
   "cell_type": "code",
   "execution_count": 218,
   "metadata": {},
   "outputs": [],
   "source": [
    "test.loc[196,'자격유형']='A'\n",
    "test.loc[258,'자격유형']='C'"
   ]
  },
  {
   "cell_type": "code",
   "execution_count": 219,
   "metadata": {},
   "outputs": [
    {
     "data": {
      "text/plain": [
       "0"
      ]
     },
     "execution_count": 219,
     "metadata": {},
     "output_type": "execute_result"
    }
   ],
   "source": [
    "test['자격유형'].isnull().sum()"
   ]
  },
  {
   "cell_type": "code",
   "execution_count": 220,
   "metadata": {},
   "outputs": [
    {
     "data": {
      "text/plain": [
       "array(['A', 'B', 'C', 'D', 'E', 'F', 'G', 'H', 'I', 'J', 'K', 'L', 'M',\n",
       "       'N', 'O'], dtype=object)"
      ]
     },
     "execution_count": 220,
     "metadata": {},
     "output_type": "execute_result"
    }
   ],
   "source": [
    "train['자격유형'].unique()"
   ]
  },
  {
   "cell_type": "code",
   "execution_count": 221,
   "metadata": {},
   "outputs": [],
   "source": [
    "mapping = { 'A':1, 'B':2, 'C':3, 'D':4, 'E':5,\n",
    "            'F':6, 'G':7, 'H':8, 'I':9, 'J':10,\n",
    "            'K':11, 'L':12, 'M':13, 'N':14, 'O':15  }\n",
    "train['자격유형']=train['자격유형'].map(mapping).astype(int)\n",
    "test['자격유형']=test['자격유형'].map(mapping).astype(int)"
   ]
  },
  {
   "cell_type": "markdown",
   "metadata": {},
   "source": [
    "### 2.도보 10분거리 내 버스정류장 수_qcut"
   ]
  },
  {
   "cell_type": "code",
   "execution_count": 222,
   "metadata": {},
   "outputs": [
    {
     "data": {
      "text/html": [
       "<div>\n",
       "<style scoped>\n",
       "    .dataframe tbody tr th:only-of-type {\n",
       "        vertical-align: middle;\n",
       "    }\n",
       "\n",
       "    .dataframe tbody tr th {\n",
       "        vertical-align: top;\n",
       "    }\n",
       "\n",
       "    .dataframe thead th {\n",
       "        text-align: right;\n",
       "    }\n",
       "</style>\n",
       "<table border=\"1\" class=\"dataframe\">\n",
       "  <thead>\n",
       "    <tr style=\"text-align: right;\">\n",
       "      <th></th>\n",
       "      <th>단지코드</th>\n",
       "      <th>총세대수</th>\n",
       "      <th>임대건물구분</th>\n",
       "      <th>지역</th>\n",
       "      <th>공급유형</th>\n",
       "      <th>전용면적</th>\n",
       "      <th>전용면적별세대수</th>\n",
       "      <th>공가수</th>\n",
       "      <th>자격유형</th>\n",
       "      <th>임대보증금</th>\n",
       "      <th>임대료</th>\n",
       "      <th>도보 10분거리 내 지하철역 수(환승노선 수 반영)</th>\n",
       "      <th>도보 10분거리 내 버스정류장 수</th>\n",
       "      <th>단지내주차면수</th>\n",
       "      <th>등록차량수</th>\n",
       "    </tr>\n",
       "  </thead>\n",
       "  <tbody>\n",
       "    <tr>\n",
       "      <th>2315</th>\n",
       "      <td>C1649</td>\n",
       "      <td>575</td>\n",
       "      <td>아파트</td>\n",
       "      <td>경상남도</td>\n",
       "      <td>공공임대(10년)</td>\n",
       "      <td>74.97</td>\n",
       "      <td>80</td>\n",
       "      <td>15.0</td>\n",
       "      <td>1</td>\n",
       "      <td>46000000</td>\n",
       "      <td>456000</td>\n",
       "      <td>NaN</td>\n",
       "      <td>NaN</td>\n",
       "      <td>1066.0</td>\n",
       "      <td>855.0</td>\n",
       "    </tr>\n",
       "    <tr>\n",
       "      <th>2316</th>\n",
       "      <td>C1649</td>\n",
       "      <td>575</td>\n",
       "      <td>아파트</td>\n",
       "      <td>경상남도</td>\n",
       "      <td>공공임대(10년)</td>\n",
       "      <td>84.95</td>\n",
       "      <td>124</td>\n",
       "      <td>15.0</td>\n",
       "      <td>1</td>\n",
       "      <td>57000000</td>\n",
       "      <td>462000</td>\n",
       "      <td>NaN</td>\n",
       "      <td>NaN</td>\n",
       "      <td>1066.0</td>\n",
       "      <td>855.0</td>\n",
       "    </tr>\n",
       "    <tr>\n",
       "      <th>2317</th>\n",
       "      <td>C1649</td>\n",
       "      <td>575</td>\n",
       "      <td>아파트</td>\n",
       "      <td>경상남도</td>\n",
       "      <td>공공임대(10년)</td>\n",
       "      <td>84.96</td>\n",
       "      <td>289</td>\n",
       "      <td>15.0</td>\n",
       "      <td>1</td>\n",
       "      <td>57000000</td>\n",
       "      <td>462000</td>\n",
       "      <td>NaN</td>\n",
       "      <td>NaN</td>\n",
       "      <td>1066.0</td>\n",
       "      <td>855.0</td>\n",
       "    </tr>\n",
       "    <tr>\n",
       "      <th>2318</th>\n",
       "      <td>C1649</td>\n",
       "      <td>575</td>\n",
       "      <td>아파트</td>\n",
       "      <td>경상남도</td>\n",
       "      <td>공공임대(10년)</td>\n",
       "      <td>84.98</td>\n",
       "      <td>82</td>\n",
       "      <td>15.0</td>\n",
       "      <td>1</td>\n",
       "      <td>57000000</td>\n",
       "      <td>462000</td>\n",
       "      <td>NaN</td>\n",
       "      <td>NaN</td>\n",
       "      <td>1066.0</td>\n",
       "      <td>855.0</td>\n",
       "    </tr>\n",
       "  </tbody>\n",
       "</table>\n",
       "</div>"
      ],
      "text/plain": [
       "       단지코드  총세대수 임대건물구분    지역       공급유형   전용면적  전용면적별세대수   공가수  자격유형  \\\n",
       "2315  C1649   575    아파트  경상남도  공공임대(10년)  74.97        80  15.0     1   \n",
       "2316  C1649   575    아파트  경상남도  공공임대(10년)  84.95       124  15.0     1   \n",
       "2317  C1649   575    아파트  경상남도  공공임대(10년)  84.96       289  15.0     1   \n",
       "2318  C1649   575    아파트  경상남도  공공임대(10년)  84.98        82  15.0     1   \n",
       "\n",
       "         임대보증금     임대료  도보 10분거리 내 지하철역 수(환승노선 수 반영)  도보 10분거리 내 버스정류장 수  \\\n",
       "2315  46000000  456000                           NaN                 NaN   \n",
       "2316  57000000  462000                           NaN                 NaN   \n",
       "2317  57000000  462000                           NaN                 NaN   \n",
       "2318  57000000  462000                           NaN                 NaN   \n",
       "\n",
       "      단지내주차면수  등록차량수  \n",
       "2315   1066.0  855.0  \n",
       "2316   1066.0  855.0  \n",
       "2317   1066.0  855.0  \n",
       "2318   1066.0  855.0  "
      ]
     },
     "execution_count": 222,
     "metadata": {},
     "output_type": "execute_result"
    }
   ],
   "source": [
    "train.loc[train['도보 10분거리 내 버스정류장 수'].isnull()]"
   ]
  },
  {
   "cell_type": "code",
   "execution_count": 223,
   "metadata": {},
   "outputs": [],
   "source": [
    "train['도보 10분거리 내 버스정류장 수']=train['도보 10분거리 내 버스정류장 수'].fillna(0.0)"
   ]
  },
  {
   "cell_type": "code",
   "execution_count": 224,
   "metadata": {},
   "outputs": [
    {
     "data": {
      "text/plain": [
       "0"
      ]
     },
     "execution_count": 224,
     "metadata": {},
     "output_type": "execute_result"
    }
   ],
   "source": [
    "train['도보 10분거리 내 버스정류장 수'].isnull().sum()"
   ]
  },
  {
   "cell_type": "code",
   "execution_count": 225,
   "metadata": {},
   "outputs": [
    {
     "data": {
      "text/plain": [
       "2.0     780\n",
       "3.0     776\n",
       "4.0     493\n",
       "1.0     270\n",
       "5.0     164\n",
       "6.0     156\n",
       "8.0      99\n",
       "10.0     80\n",
       "7.0      65\n",
       "12.0     22\n",
       "20.0     15\n",
       "15.0     11\n",
       "0.0       6\n",
       "16.0      6\n",
       "19.0      4\n",
       "11.0      3\n",
       "14.0      2\n",
       "Name: 도보 10분거리 내 버스정류장 수, dtype: int64"
      ]
     },
     "execution_count": 225,
     "metadata": {},
     "output_type": "execute_result"
    }
   ],
   "source": [
    "train['도보 10분거리 내 버스정류장 수'].value_counts()"
   ]
  },
  {
   "cell_type": "code",
   "execution_count": 226,
   "metadata": {},
   "outputs": [],
   "source": [
    "train['label_bus']=pd.qcut(train['도보 10분거리 내 버스정류장 수'],20,labels=False,duplicates='drop')"
   ]
  },
  {
   "cell_type": "code",
   "execution_count": 227,
   "metadata": {},
   "outputs": [],
   "source": [
    "test['label_bus']=pd.qcut(test['도보 10분거리 내 버스정류장 수'],20,labels=False,duplicates='drop')"
   ]
  },
  {
   "cell_type": "markdown",
   "metadata": {},
   "source": [
    "### 3.도보 10분거리 내 지하철역 수(환승노선 수 반영)_qcut"
   ]
  },
  {
   "cell_type": "code",
   "execution_count": 228,
   "metadata": {},
   "outputs": [
    {
     "data": {
      "text/plain": [
       "211"
      ]
     },
     "execution_count": 228,
     "metadata": {},
     "output_type": "execute_result"
    }
   ],
   "source": [
    "train['도보 10분거리 내 지하철역 수(환승노선 수 반영)'].isnull().sum()"
   ]
  },
  {
   "cell_type": "code",
   "execution_count": 229,
   "metadata": {},
   "outputs": [
    {
     "data": {
      "text/plain": [
       "42"
      ]
     },
     "execution_count": 229,
     "metadata": {},
     "output_type": "execute_result"
    }
   ],
   "source": [
    "\n",
    "test['도보 10분거리 내 지하철역 수(환승노선 수 반영)'].isnull().sum()"
   ]
  },
  {
   "cell_type": "code",
   "execution_count": 230,
   "metadata": {},
   "outputs": [],
   "source": [
    "import numpy as np"
   ]
  },
  {
   "cell_type": "code",
   "execution_count": 231,
   "metadata": {},
   "outputs": [],
   "source": [
    "train['도보 10분거리 내 지하철역 수(환승노선 수 반영)']=train['도보 10분거리 내 지하철역 수(환승노선 수 반영)'].fillna(train.groupby('도보 10분거리 내 버스정류장 수')['도보 10분거리 내 지하철역 수(환승노선 수 반영)'].transform(np.mean))"
   ]
  },
  {
   "cell_type": "code",
   "execution_count": 232,
   "metadata": {},
   "outputs": [],
   "source": [
    "test['도보 10분거리 내 지하철역 수(환승노선 수 반영)']=test['도보 10분거리 내 지하철역 수(환승노선 수 반영)'].fillna(test.groupby('도보 10분거리 내 버스정류장 수')['도보 10분거리 내 지하철역 수(환승노선 수 반영)'].transform(np.mean))"
   ]
  },
  {
   "cell_type": "code",
   "execution_count": 233,
   "metadata": {},
   "outputs": [
    {
     "data": {
      "text/html": [
       "<div>\n",
       "<style scoped>\n",
       "    .dataframe tbody tr th:only-of-type {\n",
       "        vertical-align: middle;\n",
       "    }\n",
       "\n",
       "    .dataframe tbody tr th {\n",
       "        vertical-align: top;\n",
       "    }\n",
       "\n",
       "    .dataframe thead th {\n",
       "        text-align: right;\n",
       "    }\n",
       "</style>\n",
       "<table border=\"1\" class=\"dataframe\">\n",
       "  <thead>\n",
       "    <tr style=\"text-align: right;\">\n",
       "      <th></th>\n",
       "      <th>단지코드</th>\n",
       "      <th>총세대수</th>\n",
       "      <th>임대건물구분</th>\n",
       "      <th>지역</th>\n",
       "      <th>공급유형</th>\n",
       "      <th>전용면적</th>\n",
       "      <th>전용면적별세대수</th>\n",
       "      <th>공가수</th>\n",
       "      <th>자격유형</th>\n",
       "      <th>임대보증금</th>\n",
       "      <th>임대료</th>\n",
       "      <th>도보 10분거리 내 지하철역 수(환승노선 수 반영)</th>\n",
       "      <th>도보 10분거리 내 버스정류장 수</th>\n",
       "      <th>단지내주차면수</th>\n",
       "      <th>label_bus</th>\n",
       "    </tr>\n",
       "  </thead>\n",
       "  <tbody>\n",
       "    <tr>\n",
       "      <th>891</th>\n",
       "      <td>C1327</td>\n",
       "      <td>98</td>\n",
       "      <td>아파트</td>\n",
       "      <td>대전광역시</td>\n",
       "      <td>행복주택</td>\n",
       "      <td>16.83</td>\n",
       "      <td>30</td>\n",
       "      <td>13.0</td>\n",
       "      <td>10</td>\n",
       "      <td>18800000</td>\n",
       "      <td>94000</td>\n",
       "      <td>NaN</td>\n",
       "      <td>17.0</td>\n",
       "      <td>98.0</td>\n",
       "      <td>8</td>\n",
       "    </tr>\n",
       "    <tr>\n",
       "      <th>892</th>\n",
       "      <td>C1327</td>\n",
       "      <td>98</td>\n",
       "      <td>아파트</td>\n",
       "      <td>대전광역시</td>\n",
       "      <td>행복주택</td>\n",
       "      <td>26.51</td>\n",
       "      <td>10</td>\n",
       "      <td>13.0</td>\n",
       "      <td>10</td>\n",
       "      <td>28400000</td>\n",
       "      <td>142000</td>\n",
       "      <td>NaN</td>\n",
       "      <td>17.0</td>\n",
       "      <td>98.0</td>\n",
       "      <td>8</td>\n",
       "    </tr>\n",
       "    <tr>\n",
       "      <th>893</th>\n",
       "      <td>C1327</td>\n",
       "      <td>98</td>\n",
       "      <td>아파트</td>\n",
       "      <td>대전광역시</td>\n",
       "      <td>행복주택</td>\n",
       "      <td>26.51</td>\n",
       "      <td>10</td>\n",
       "      <td>13.0</td>\n",
       "      <td>10</td>\n",
       "      <td>28400000</td>\n",
       "      <td>142000</td>\n",
       "      <td>NaN</td>\n",
       "      <td>17.0</td>\n",
       "      <td>98.0</td>\n",
       "      <td>8</td>\n",
       "    </tr>\n",
       "    <tr>\n",
       "      <th>894</th>\n",
       "      <td>C1327</td>\n",
       "      <td>98</td>\n",
       "      <td>아파트</td>\n",
       "      <td>대전광역시</td>\n",
       "      <td>행복주택</td>\n",
       "      <td>36.92</td>\n",
       "      <td>48</td>\n",
       "      <td>13.0</td>\n",
       "      <td>10</td>\n",
       "      <td>36800000</td>\n",
       "      <td>184000</td>\n",
       "      <td>NaN</td>\n",
       "      <td>17.0</td>\n",
       "      <td>98.0</td>\n",
       "      <td>8</td>\n",
       "    </tr>\n",
       "  </tbody>\n",
       "</table>\n",
       "</div>"
      ],
      "text/plain": [
       "      단지코드  총세대수 임대건물구분     지역  공급유형   전용면적  전용면적별세대수   공가수  자격유형     임대보증금  \\\n",
       "891  C1327    98    아파트  대전광역시  행복주택  16.83        30  13.0    10  18800000   \n",
       "892  C1327    98    아파트  대전광역시  행복주택  26.51        10  13.0    10  28400000   \n",
       "893  C1327    98    아파트  대전광역시  행복주택  26.51        10  13.0    10  28400000   \n",
       "894  C1327    98    아파트  대전광역시  행복주택  36.92        48  13.0    10  36800000   \n",
       "\n",
       "        임대료  도보 10분거리 내 지하철역 수(환승노선 수 반영)  도보 10분거리 내 버스정류장 수  단지내주차면수  \\\n",
       "891   94000                           NaN                17.0     98.0   \n",
       "892  142000                           NaN                17.0     98.0   \n",
       "893  142000                           NaN                17.0     98.0   \n",
       "894  184000                           NaN                17.0     98.0   \n",
       "\n",
       "     label_bus  \n",
       "891          8  \n",
       "892          8  \n",
       "893          8  \n",
       "894          8  "
      ]
     },
     "execution_count": 233,
     "metadata": {},
     "output_type": "execute_result"
    }
   ],
   "source": [
    "test.loc[test['도보 10분거리 내 지하철역 수(환승노선 수 반영)'].isnull()]"
   ]
  },
  {
   "cell_type": "code",
   "execution_count": 234,
   "metadata": {},
   "outputs": [],
   "source": [
    "test['도보 10분거리 내 지하철역 수(환승노선 수 반영)']=test['도보 10분거리 내 지하철역 수(환승노선 수 반영)'].fillna(0)"
   ]
  },
  {
   "cell_type": "code",
   "execution_count": 235,
   "metadata": {},
   "outputs": [],
   "source": [
    "train['label_sub']=pd.qcut(train['도보 10분거리 내 지하철역 수(환승노선 수 반영)'],20,labels=False,duplicates='drop')"
   ]
  },
  {
   "cell_type": "code",
   "execution_count": 236,
   "metadata": {},
   "outputs": [],
   "source": [
    "test['label_sub']=pd.qcut(test['도보 10분거리 내 지하철역 수(환승노선 수 반영)'],20,labels=False,duplicates='drop')"
   ]
  },
  {
   "cell_type": "markdown",
   "metadata": {},
   "source": [
    "### 4.단지코드"
   ]
  },
  {
   "cell_type": "code",
   "execution_count": 237,
   "metadata": {},
   "outputs": [
    {
     "data": {
      "text/html": [
       "<div>\n",
       "<style scoped>\n",
       "    .dataframe tbody tr th:only-of-type {\n",
       "        vertical-align: middle;\n",
       "    }\n",
       "\n",
       "    .dataframe tbody tr th {\n",
       "        vertical-align: top;\n",
       "    }\n",
       "\n",
       "    .dataframe thead th {\n",
       "        text-align: right;\n",
       "    }\n",
       "</style>\n",
       "<table border=\"1\" class=\"dataframe\">\n",
       "  <thead>\n",
       "    <tr style=\"text-align: right;\">\n",
       "      <th></th>\n",
       "      <th>단지코드</th>\n",
       "      <th>총세대수</th>\n",
       "      <th>임대건물구분</th>\n",
       "      <th>지역</th>\n",
       "      <th>공급유형</th>\n",
       "      <th>전용면적</th>\n",
       "      <th>전용면적별세대수</th>\n",
       "      <th>공가수</th>\n",
       "      <th>자격유형</th>\n",
       "      <th>임대보증금</th>\n",
       "      <th>임대료</th>\n",
       "      <th>도보 10분거리 내 지하철역 수(환승노선 수 반영)</th>\n",
       "      <th>도보 10분거리 내 버스정류장 수</th>\n",
       "      <th>단지내주차면수</th>\n",
       "      <th>label_bus</th>\n",
       "      <th>label_sub</th>\n",
       "    </tr>\n",
       "  </thead>\n",
       "  <tbody>\n",
       "  </tbody>\n",
       "</table>\n",
       "</div>"
      ],
      "text/plain": [
       "Empty DataFrame\n",
       "Columns: [단지코드, 총세대수, 임대건물구분, 지역, 공급유형, 전용면적, 전용면적별세대수, 공가수, 자격유형, 임대보증금, 임대료, 도보 10분거리 내 지하철역 수(환승노선 수 반영), 도보 10분거리 내 버스정류장 수, 단지내주차면수, label_bus, label_sub]\n",
       "Index: []"
      ]
     },
     "execution_count": 237,
     "metadata": {},
     "output_type": "execute_result"
    }
   ],
   "source": [
    "test.loc[test['단지코드'].isnull()]"
   ]
  },
  {
   "cell_type": "code",
   "execution_count": 238,
   "metadata": {},
   "outputs": [
    {
     "data": {
      "text/html": [
       "<div>\n",
       "<style scoped>\n",
       "    .dataframe tbody tr th:only-of-type {\n",
       "        vertical-align: middle;\n",
       "    }\n",
       "\n",
       "    .dataframe tbody tr th {\n",
       "        vertical-align: top;\n",
       "    }\n",
       "\n",
       "    .dataframe thead th {\n",
       "        text-align: right;\n",
       "    }\n",
       "</style>\n",
       "<table border=\"1\" class=\"dataframe\">\n",
       "  <thead>\n",
       "    <tr style=\"text-align: right;\">\n",
       "      <th></th>\n",
       "      <th>단지코드</th>\n",
       "      <th>총세대수</th>\n",
       "      <th>임대건물구분</th>\n",
       "      <th>지역</th>\n",
       "      <th>공급유형</th>\n",
       "      <th>전용면적</th>\n",
       "      <th>전용면적별세대수</th>\n",
       "      <th>공가수</th>\n",
       "      <th>자격유형</th>\n",
       "      <th>임대보증금</th>\n",
       "      <th>임대료</th>\n",
       "      <th>도보 10분거리 내 지하철역 수(환승노선 수 반영)</th>\n",
       "      <th>도보 10분거리 내 버스정류장 수</th>\n",
       "      <th>단지내주차면수</th>\n",
       "      <th>등록차량수</th>\n",
       "      <th>label_bus</th>\n",
       "      <th>label_sub</th>\n",
       "    </tr>\n",
       "  </thead>\n",
       "  <tbody>\n",
       "    <tr>\n",
       "      <th>2835</th>\n",
       "      <td>C2298</td>\n",
       "      <td>581</td>\n",
       "      <td>아파트</td>\n",
       "      <td>대전광역시</td>\n",
       "      <td>행복주택</td>\n",
       "      <td>16.85</td>\n",
       "      <td>96</td>\n",
       "      <td>21.0</td>\n",
       "      <td>10</td>\n",
       "      <td>16400000</td>\n",
       "      <td>79000</td>\n",
       "      <td>0.0</td>\n",
       "      <td>3.0</td>\n",
       "      <td>408.0</td>\n",
       "      <td>444.0</td>\n",
       "      <td>2</td>\n",
       "      <td>0</td>\n",
       "    </tr>\n",
       "    <tr>\n",
       "      <th>2836</th>\n",
       "      <td>C2298</td>\n",
       "      <td>581</td>\n",
       "      <td>아파트</td>\n",
       "      <td>대전광역시</td>\n",
       "      <td>행복주택</td>\n",
       "      <td>26.64</td>\n",
       "      <td>204</td>\n",
       "      <td>21.0</td>\n",
       "      <td>10</td>\n",
       "      <td>24520000</td>\n",
       "      <td>118000</td>\n",
       "      <td>0.0</td>\n",
       "      <td>3.0</td>\n",
       "      <td>408.0</td>\n",
       "      <td>444.0</td>\n",
       "      <td>2</td>\n",
       "      <td>0</td>\n",
       "    </tr>\n",
       "    <tr>\n",
       "      <th>2837</th>\n",
       "      <td>C2298</td>\n",
       "      <td>581</td>\n",
       "      <td>아파트</td>\n",
       "      <td>대전광역시</td>\n",
       "      <td>행복주택</td>\n",
       "      <td>26.64</td>\n",
       "      <td>30</td>\n",
       "      <td>21.0</td>\n",
       "      <td>10</td>\n",
       "      <td>24520000</td>\n",
       "      <td>118000</td>\n",
       "      <td>0.0</td>\n",
       "      <td>3.0</td>\n",
       "      <td>408.0</td>\n",
       "      <td>444.0</td>\n",
       "      <td>2</td>\n",
       "      <td>0</td>\n",
       "    </tr>\n",
       "    <tr>\n",
       "      <th>2838</th>\n",
       "      <td>C2298</td>\n",
       "      <td>581</td>\n",
       "      <td>아파트</td>\n",
       "      <td>대전광역시</td>\n",
       "      <td>행복주택</td>\n",
       "      <td>36.86</td>\n",
       "      <td>148</td>\n",
       "      <td>21.0</td>\n",
       "      <td>10</td>\n",
       "      <td>33640000</td>\n",
       "      <td>162000</td>\n",
       "      <td>0.0</td>\n",
       "      <td>3.0</td>\n",
       "      <td>408.0</td>\n",
       "      <td>444.0</td>\n",
       "      <td>2</td>\n",
       "      <td>0</td>\n",
       "    </tr>\n",
       "    <tr>\n",
       "      <th>2839</th>\n",
       "      <td>C2298</td>\n",
       "      <td>581</td>\n",
       "      <td>아파트</td>\n",
       "      <td>대전광역시</td>\n",
       "      <td>행복주택</td>\n",
       "      <td>36.86</td>\n",
       "      <td>100</td>\n",
       "      <td>21.0</td>\n",
       "      <td>10</td>\n",
       "      <td>33640000</td>\n",
       "      <td>162000</td>\n",
       "      <td>0.0</td>\n",
       "      <td>3.0</td>\n",
       "      <td>408.0</td>\n",
       "      <td>444.0</td>\n",
       "      <td>2</td>\n",
       "      <td>0</td>\n",
       "    </tr>\n",
       "  </tbody>\n",
       "</table>\n",
       "</div>"
      ],
      "text/plain": [
       "       단지코드  총세대수 임대건물구분     지역  공급유형   전용면적  전용면적별세대수   공가수  자격유형     임대보증금  \\\n",
       "2835  C2298   581    아파트  대전광역시  행복주택  16.85        96  21.0    10  16400000   \n",
       "2836  C2298   581    아파트  대전광역시  행복주택  26.64       204  21.0    10  24520000   \n",
       "2837  C2298   581    아파트  대전광역시  행복주택  26.64        30  21.0    10  24520000   \n",
       "2838  C2298   581    아파트  대전광역시  행복주택  36.86       148  21.0    10  33640000   \n",
       "2839  C2298   581    아파트  대전광역시  행복주택  36.86       100  21.0    10  33640000   \n",
       "\n",
       "         임대료  도보 10분거리 내 지하철역 수(환승노선 수 반영)  도보 10분거리 내 버스정류장 수  단지내주차면수  \\\n",
       "2835   79000                           0.0                 3.0    408.0   \n",
       "2836  118000                           0.0                 3.0    408.0   \n",
       "2837  118000                           0.0                 3.0    408.0   \n",
       "2838  162000                           0.0                 3.0    408.0   \n",
       "2839  162000                           0.0                 3.0    408.0   \n",
       "\n",
       "      등록차량수  label_bus  label_sub  \n",
       "2835  444.0          2          0  \n",
       "2836  444.0          2          0  \n",
       "2837  444.0          2          0  \n",
       "2838  444.0          2          0  \n",
       "2839  444.0          2          0  "
      ]
     },
     "execution_count": 238,
     "metadata": {},
     "output_type": "execute_result"
    }
   ],
   "source": [
    "grouped=train.groupby(['임대건물구분','지역','공급유형'])\n",
    "group2=grouped.get_group(('아파트','대전광역시','행복주택'))\n",
    "group2"
   ]
  },
  {
   "cell_type": "code",
   "execution_count": 239,
   "metadata": {},
   "outputs": [
    {
     "data": {
      "text/html": [
       "<div>\n",
       "<style scoped>\n",
       "    .dataframe tbody tr th:only-of-type {\n",
       "        vertical-align: middle;\n",
       "    }\n",
       "\n",
       "    .dataframe tbody tr th {\n",
       "        vertical-align: top;\n",
       "    }\n",
       "\n",
       "    .dataframe thead th {\n",
       "        text-align: right;\n",
       "    }\n",
       "</style>\n",
       "<table border=\"1\" class=\"dataframe\">\n",
       "  <thead>\n",
       "    <tr style=\"text-align: right;\">\n",
       "      <th></th>\n",
       "      <th>단지코드</th>\n",
       "      <th>총세대수</th>\n",
       "      <th>임대건물구분</th>\n",
       "      <th>지역</th>\n",
       "      <th>공급유형</th>\n",
       "      <th>전용면적</th>\n",
       "      <th>전용면적별세대수</th>\n",
       "      <th>공가수</th>\n",
       "      <th>자격유형</th>\n",
       "      <th>임대보증금</th>\n",
       "      <th>임대료</th>\n",
       "      <th>도보 10분거리 내 지하철역 수(환승노선 수 반영)</th>\n",
       "      <th>도보 10분거리 내 버스정류장 수</th>\n",
       "      <th>단지내주차면수</th>\n",
       "      <th>label_bus</th>\n",
       "      <th>label_sub</th>\n",
       "    </tr>\n",
       "  </thead>\n",
       "  <tbody>\n",
       "  </tbody>\n",
       "</table>\n",
       "</div>"
      ],
      "text/plain": [
       "Empty DataFrame\n",
       "Columns: [단지코드, 총세대수, 임대건물구분, 지역, 공급유형, 전용면적, 전용면적별세대수, 공가수, 자격유형, 임대보증금, 임대료, 도보 10분거리 내 지하철역 수(환승노선 수 반영), 도보 10분거리 내 버스정류장 수, 단지내주차면수, label_bus, label_sub]\n",
       "Index: []"
      ]
     },
     "execution_count": 239,
     "metadata": {},
     "output_type": "execute_result"
    }
   ],
   "source": [
    "test[test['단지코드']=='C2298']"
   ]
  },
  {
   "cell_type": "code",
   "execution_count": 240,
   "metadata": {},
   "outputs": [],
   "source": [
    "test['단지코드']=test['단지코드'].fillna('C2298')"
   ]
  },
  {
   "cell_type": "code",
   "execution_count": 241,
   "metadata": {},
   "outputs": [
    {
     "data": {
      "text/plain": [
       "단지코드                              0\n",
       "총세대수                              0\n",
       "임대건물구분                            0\n",
       "지역                                0\n",
       "공급유형                              0\n",
       "전용면적                              0\n",
       "전용면적별세대수                          0\n",
       "공가수                               0\n",
       "자격유형                              0\n",
       "임대보증금                           180\n",
       "임대료                             180\n",
       "도보 10분거리 내 지하철역 수(환승노선 수 반영)      0\n",
       "도보 10분거리 내 버스정류장 수                0\n",
       "단지내주차면수                           0\n",
       "label_bus                         0\n",
       "label_sub                         0\n",
       "dtype: int64"
      ]
     },
     "execution_count": 241,
     "metadata": {},
     "output_type": "execute_result"
    }
   ],
   "source": [
    "test.isnull().sum()"
   ]
  },
  {
   "cell_type": "code",
   "execution_count": 242,
   "metadata": {},
   "outputs": [
    {
     "data": {
      "text/plain": [
       "단지코드                              0\n",
       "총세대수                              0\n",
       "임대건물구분                            0\n",
       "지역                                0\n",
       "공급유형                              0\n",
       "전용면적                              0\n",
       "전용면적별세대수                          0\n",
       "공가수                               0\n",
       "자격유형                              0\n",
       "임대보증금                           569\n",
       "임대료                             569\n",
       "도보 10분거리 내 지하철역 수(환승노선 수 반영)      0\n",
       "도보 10분거리 내 버스정류장 수                0\n",
       "단지내주차면수                           0\n",
       "등록차량수                             0\n",
       "label_bus                         0\n",
       "label_sub                         0\n",
       "dtype: int64"
      ]
     },
     "execution_count": 242,
     "metadata": {},
     "output_type": "execute_result"
    }
   ],
   "source": [
    "train.isnull().sum()"
   ]
  },
  {
   "cell_type": "markdown",
   "metadata": {},
   "source": [
    "### 공급유형_mapping"
   ]
  },
  {
   "cell_type": "code",
   "execution_count": 243,
   "metadata": {},
   "outputs": [
    {
     "data": {
      "text/plain": [
       "국민임대         1758\n",
       "임대상가          562\n",
       "행복주택          213\n",
       "공공임대(10년)     205\n",
       "영구임대          152\n",
       "공공임대(50년)      31\n",
       "공공임대(분납)       12\n",
       "장기전세            9\n",
       "공공분양            7\n",
       "공공임대(5년)        3\n",
       "Name: 공급유형, dtype: int64"
      ]
     },
     "execution_count": 243,
     "metadata": {},
     "output_type": "execute_result"
    }
   ],
   "source": [
    "train['공급유형'].value_counts()"
   ]
  },
  {
   "cell_type": "code",
   "execution_count": 244,
   "metadata": {},
   "outputs": [],
   "source": [
    "mapping = { '국민임대':1, '임대상가':2, '행복주택':3, '공공임대(10년)':4, \n",
    "           '영구임대':5,'공공임대(50년)':6,\n",
    "           '공공임대(분납)':7, '장기전세':8, '공공분양':9, '공공임대(5년)':10 }\n",
    "train['공급유형'] =train['공급유형'].map(mapping).astype(int)\n",
    "test['공급유형'] =test['공급유형'].map(mapping).astype(int)"
   ]
  },
  {
   "cell_type": "markdown",
   "metadata": {},
   "source": [
    "### 전용면적별 세대수_qcut"
   ]
  },
  {
   "cell_type": "code",
   "execution_count": 245,
   "metadata": {},
   "outputs": [
    {
     "data": {
      "text/plain": [
       "1      562\n",
       "30      49\n",
       "60      48\n",
       "24      47\n",
       "120     42\n",
       "      ... \n",
       "532      1\n",
       "524      1\n",
       "516      1\n",
       "512      1\n",
       "496      1\n",
       "Name: 전용면적별세대수, Length: 403, dtype: int64"
      ]
     },
     "execution_count": 245,
     "metadata": {},
     "output_type": "execute_result"
    }
   ],
   "source": [
    "train['전용면적별세대수'].value_counts()"
   ]
  },
  {
   "cell_type": "code",
   "execution_count": 246,
   "metadata": {},
   "outputs": [],
   "source": [
    "train['label_generation_num']=pd.qcut(train['전용면적별세대수'],20,labels=False,duplicates='drop')"
   ]
  },
  {
   "cell_type": "code",
   "execution_count": 247,
   "metadata": {},
   "outputs": [],
   "source": [
    "test['label_generation_num']=pd.qcut(test['전용면적별세대수'],20,labels=False,duplicates='drop')"
   ]
  },
  {
   "cell_type": "markdown",
   "metadata": {},
   "source": [
    "### 지역_mapping"
   ]
  },
  {
   "cell_type": "code",
   "execution_count": 248,
   "metadata": {},
   "outputs": [
    {
     "data": {
      "text/plain": [
       "경기도        621\n",
       "경상남도       369\n",
       "부산광역시      328\n",
       "대전광역시      266\n",
       "강원도        187\n",
       "충청북도       163\n",
       "충청남도       158\n",
       "전라남도       151\n",
       "광주광역시      141\n",
       "경상북도       119\n",
       "전라북도       109\n",
       "대구광역시      102\n",
       "제주특별자치도     91\n",
       "서울특별시       64\n",
       "세종특별자치시     47\n",
       "울산광역시       36\n",
       "Name: 지역, dtype: int64"
      ]
     },
     "execution_count": 248,
     "metadata": {},
     "output_type": "execute_result"
    }
   ],
   "source": [
    "train['지역'].value_counts()"
   ]
  },
  {
   "cell_type": "code",
   "execution_count": 249,
   "metadata": {},
   "outputs": [],
   "source": [
    "mapping1 = { '경기도':1, '경상남도':2, '부산광역시':3, '대전광역시':4, \n",
    "           '강원도':5,'충청북도':6,'충청남도':7, '전라남도':8, '광주광역시':9, \n",
    "            '경상북도':10, '전라북도':11,'대구광역시':12,'제주특별자치도':13,'서울특별시':14,'세종특별자치시':15,'울산광역시':16 }\n",
    "train['지역'] =train['지역'].map(mapping1).astype(int)\n",
    "test['지역'] =test['지역'].map(mapping1).astype(int)"
   ]
  },
  {
   "cell_type": "markdown",
   "metadata": {},
   "source": [
    "### 머신러닝"
   ]
  },
  {
   "cell_type": "code",
   "execution_count": 250,
   "metadata": {},
   "outputs": [],
   "source": [
    "from sklearn.datasets import load_boston\n",
    "from sklearn.model_selection import train_test_split\n",
    "from sklearn.preprocessing import MinMaxScaler, PolynomialFeatures\n",
    "import pandas as pd\n",
    "from sklearn.linear_model import LinearRegression"
   ]
  },
  {
   "cell_type": "code",
   "execution_count": 251,
   "metadata": {},
   "outputs": [],
   "source": [
    "### 한글 폰트 설정\n",
    "import matplotlib\n",
    "from matplotlib import font_manager, rc\n",
    "import matplotlib.pyplot as plt\n",
    "import platform\n",
    "path = \"C:/Windows/Fonts/malgun.ttf\"\n",
    "if platform.system() == \"Windows\":\n",
    "    font_name = font_manager.FontProperties(fname=path).get_name()\n",
    "    rc('font', family=font_name)\n",
    "elif platform.system()==\"Darwin\":\n",
    "    rc('font', family='AppleGothic')\n",
    "else:\n",
    "    print(\"Unknown System\")\n",
    "matplotlib.rcParams['axes.unicode_minus'] = False"
   ]
  },
  {
   "cell_type": "code",
   "execution_count": 252,
   "metadata": {},
   "outputs": [
    {
     "data": {
      "text/plain": [
       "(2952, 18)"
      ]
     },
     "execution_count": 252,
     "metadata": {},
     "output_type": "execute_result"
    }
   ],
   "source": [
    "train.shape"
   ]
  },
  {
   "cell_type": "code",
   "execution_count": 253,
   "metadata": {},
   "outputs": [],
   "source": [
    "# sel=['label_generation_num','label_bus','단지내주차면수','공급유형']\n",
    "sel=['label_generation_num','label_bus','단지내주차면수','공급유형','총세대수','전용면적','공가수','지역']\n",
    "X=train[sel]\n",
    "y=train['등록차량수']"
   ]
  },
  {
   "cell_type": "code",
   "execution_count": 254,
   "metadata": {},
   "outputs": [],
   "source": [
    "X_train,X_test,y_train,y_test=train_test_split(X,y,random_state=0)"
   ]
  },
  {
   "cell_type": "code",
   "execution_count": 255,
   "metadata": {},
   "outputs": [
    {
     "data": {
      "text/plain": [
       "((2214, 8), (738, 8), (2214,), (738,))"
      ]
     },
     "execution_count": 255,
     "metadata": {},
     "output_type": "execute_result"
    }
   ],
   "source": [
    "X_train.shape, X_test.shape, y_train.shape, y_test.shape"
   ]
  },
  {
   "cell_type": "markdown",
   "metadata": {},
   "source": [
    "### 모델만들기"
   ]
  },
  {
   "cell_type": "code",
   "execution_count": 256,
   "metadata": {},
   "outputs": [
    {
     "data": {
      "text/plain": [
       "array([ 789.96664192, 1141.55269487,  600.63538523,  834.60388681,\n",
       "        711.53758537,  167.38191513,   89.91887292,   92.82575484,\n",
       "        468.28435321,  607.75366771,  165.18623101,  736.67010897,\n",
       "        873.0050272 ,  962.5913248 ,  541.48124269,  235.5326751 ,\n",
       "       1321.30165284,  741.57033667,  151.3608803 ,  616.87213682,\n",
       "        165.85669204,  483.41024567,  586.11160998,  529.88262783,\n",
       "        109.95165926,  578.42591862,  782.26348928, 1201.75418421,\n",
       "        430.76453902,  593.8756616 ,  679.65036759, 1294.90117892,\n",
       "        765.02066952,  350.03434741,  172.22360194,  550.50432037,\n",
       "        776.23870758,  532.2379876 ,  742.32584432, 1540.5067788 ,\n",
       "        289.03855561,  391.84006554,  293.40983515,  956.91185425,\n",
       "        309.50405902,  910.22252197, 1260.86961302,  366.27528166,\n",
       "        642.23542536,  485.83383764,  497.20359237,  493.46270968,\n",
       "        430.85770591,  604.2071308 ,  483.65655774,  819.19188123,\n",
       "        472.76179281,   90.39883859,  731.9398461 ,  741.38497844,\n",
       "       1538.30042587,  111.45693639,  327.69803909,  436.79533201,\n",
       "        417.25836018,  691.61573227,  790.03112083,  258.56343127,\n",
       "        803.97046387,  415.32101167,  331.75902936,  359.72495591,\n",
       "        734.7575681 ,  345.97389044,  213.53143499,  270.46497874,\n",
       "        166.27831741,  183.20398125,  185.38424641,  276.1874688 ,\n",
       "         49.31517938,  -30.78088284,  880.61198713, 1705.84505407,\n",
       "        757.54555407,  372.82889358,  498.11159505,  418.58894809,\n",
       "        643.697546  ,  664.21495069,  -36.40597384,  175.30278203,\n",
       "        166.88614922,  653.27514528,  800.65591013,  234.76824256,\n",
       "       1771.46065825,  303.69938365,  724.21350711,  187.49415168,\n",
       "        874.06732844,  277.18103967, 1562.0992809 ,  511.22261239,\n",
       "        375.56579364,  380.7722471 , 1196.96874957,  595.32984201,\n",
       "        273.79032826,  544.3875498 ,  178.85592888,  772.29737712,\n",
       "        736.08828877,  890.31353374,   91.50497315,  375.54900292,\n",
       "        314.51496228,  351.62527782,   92.82575484,   50.43277488,\n",
       "        550.84613514,  889.33042609,  156.84912673,  180.11352984,\n",
       "       1310.02598024,  591.64015208,  817.56021285,  182.0102793 ,\n",
       "        248.93788686,  543.72339371, 1012.73217523,  459.33202786,\n",
       "        668.21431259, 1081.09426934,  609.72242139,  347.86132694,\n",
       "        711.17465844, 1172.06026614,  967.28651959,  154.71680151,\n",
       "       1538.30541952,  203.5828415 ,  730.80292638,  418.28500504,\n",
       "        293.37764291, 1201.75418421,  872.66611261,  367.95188022,\n",
       "        290.91521408, 1163.44988964,   41.89362512,  206.5523176 ,\n",
       "       1420.16796634,  182.0102793 ,  229.42166288,  922.48821095,\n",
       "       1177.19065401,  678.01638654, 1113.98392764,  774.51712973,\n",
       "        -30.78088284,  140.68444628,  734.20276282,  421.22377831,\n",
       "        519.76400226,  452.82287399,  323.5253352 ,  812.40853832,\n",
       "        670.96428632,  463.32457105,  275.39286157, 1202.07725846,\n",
       "        604.16034947,  167.38191513,  432.34932068,  704.78784905,\n",
       "        558.9158561 ,  156.48393122,  726.12067008, 1114.90822168,\n",
       "        117.76376403,  968.84040052,  623.91827915,  632.09561466,\n",
       "        813.75805819,  401.59311644,  241.84129249,  502.36392866,\n",
       "        533.92584293,  162.70668384,  289.54635291,  562.29631079,\n",
       "        284.07806039,  478.79588487,  177.43961436,  439.25829634,\n",
       "        712.19301698,  655.53937981, 1697.48528532,  399.36992167,\n",
       "        827.85415049, 1026.47342582,  303.79358537,  243.33582842,\n",
       "       1332.71085967,  762.8046548 ,  703.62326503,  292.61072318,\n",
       "        641.23761376,  719.1384892 ,  589.90186807, 1197.45879855,\n",
       "        953.42044636, 1500.3028871 ,  552.01785438,  277.60002819,\n",
       "        803.56598765,  387.97502916,  308.43751242,  154.8067219 ,\n",
       "        292.47296987,  615.98537756,  -35.14757282,  454.89911727,\n",
       "        605.59408447,   41.8187203 ,  339.06620407,  622.59437453,\n",
       "        465.99118273,  589.20612312,  360.61298396, 1508.99613483,\n",
       "        313.4144164 ,  245.87321381,  360.72713796,  416.83673751,\n",
       "        225.29589033,  345.71861113,  185.38424641,  729.2533379 ,\n",
       "        308.73213805,  288.12369307,  978.29791905,  449.01093761,\n",
       "       1315.71167751,  161.29344492,   79.48400943,  412.16163332,\n",
       "       1695.20687843,  893.82925715,   42.14016232,  388.06096497,\n",
       "        734.29985067, 1818.62486642,  944.31119685,  668.58157178,\n",
       "        727.81047922,  691.06743566,  283.08571501,  699.07747582,\n",
       "        373.52586135,  344.47887396,   81.03979067,  103.62203658,\n",
       "        404.35110209,  467.1323922 ,  892.15307413,  703.62326503,\n",
       "        484.65685304, 1184.42371299,  304.92704931,  158.76169653,\n",
       "       1517.30206926,  169.0381077 ,  494.09514882, 1117.47948602,\n",
       "       1066.79822018,  543.31695999,  980.70025759,  316.97666217,\n",
       "       1197.35721762,  637.02588717,  569.09598365,   50.26121581,\n",
       "        236.18344084,  724.5580588 ,  324.83537583,  960.34080944,\n",
       "        936.11330063,  299.41039605, 1637.99465882,  297.02448465,\n",
       "        670.5439768 ,  126.17753089,  299.55741349, 1388.73532965,\n",
       "       1374.86801605,  300.02312059,  510.86351975,  278.97830574,\n",
       "        180.70498621,  828.89455256,  -17.0882813 ,  344.24201754,\n",
       "        282.29953587,  143.66821507,  -31.35239515,  268.95262304,\n",
       "       1685.81887457,  493.47645758,  751.25687518,  781.53152975,\n",
       "        400.40248931,  471.9618345 ,  750.72042583,  224.35585016,\n",
       "       1004.86042   ,  172.44332276,  187.29681621,  213.64685192,\n",
       "        886.14675004,  -23.49014679,  925.03697802,  757.06652804,\n",
       "        305.15957931,  377.46992428,  960.10519456,  -31.35239515,\n",
       "        562.14966885,  610.81395222,   86.10891164,  138.74969105,\n",
       "        811.30118001,  571.3109468 ,  733.19315876,  803.76413323,\n",
       "         91.50497315,  132.39497926, 1161.54938273,  728.4736414 ,\n",
       "        369.36186459,  561.00122806,  298.58455425,  481.26018565,\n",
       "        825.33991282,  162.73781614,  -32.71342726,  132.41495388,\n",
       "        393.22388705,  166.97068126,  856.89478192,  558.05810384,\n",
       "       1063.70618876,  286.48555145,  513.98533718, 1205.19888052,\n",
       "        293.24342234,  442.27252881,  419.42410614,   42.18825076,\n",
       "       1440.46452229, 1006.681419  ,  572.83363443,  169.57668968,\n",
       "        182.0102793 ,  506.38938372,  711.91675355,  543.46871731,\n",
       "       1006.04259824, 1343.57523225,  445.97590644,  829.57281026,\n",
       "        338.55578429,  737.78820698,   87.27722951,  738.65485445,\n",
       "        750.51716388, 1103.01878148, 1380.12211757,   79.06266732,\n",
       "        326.19581691,  224.70209507,  334.02054557,  341.14897737,\n",
       "        764.86501898, 1623.18937614,  415.78318397,  172.16793527,\n",
       "        605.60288101,  172.78788494,  551.56083966,  303.83852826,\n",
       "         38.76407021, 1624.0298884 ,   20.1021399 ,  -30.56116203,\n",
       "        326.58898087,  676.2692727 , 1811.92130606,  620.30569577,\n",
       "        539.8112467 ,  -30.78088284,  658.32170229,  290.63550145,\n",
       "        607.36069769,  896.9894377 ,  284.67207891,  784.73045798,\n",
       "       1808.35699315,  661.28171104,  266.49097481,  454.83812576,\n",
       "         41.58752922,  724.88647906,  359.35639647,  304.87494099,\n",
       "         72.15589457,  276.30174159, 1179.97229097,  640.29271591,\n",
       "       1312.61392651, 1196.32314051,  295.56903586,  220.48662185,\n",
       "        642.58137121,  673.60420331,  495.41556483, 1343.57523225,\n",
       "        601.41087392, 1624.85433877,  822.89302196,  282.08376878,\n",
       "        282.48849421,  434.72103151,   98.03971692,  767.48366172,\n",
       "        947.14440755,  786.33335012,  178.85592888,  965.26539627,\n",
       "        664.94114389,  932.24749251,  811.26918835,  182.0102793 ,\n",
       "        316.38947157,  994.14317073,  205.0042846 ,  178.0148896 ,\n",
       "        148.46055751,  719.30474441,  527.19311059,  511.44233381,\n",
       "        586.56477618, 1189.31490701, 1438.21877529,  373.56219403,\n",
       "        775.61355449,  452.82070826,  665.50528553,  400.91735828,\n",
       "        609.24970519,  361.55175655,  246.73566485,  218.65203443,\n",
       "        541.30147112,   38.76407021, 1370.94799701, 1110.28441408,\n",
       "        516.20589384, 1441.19191088,  706.36672746,  562.68929475,\n",
       "        293.6566704 ,  266.50882646,  241.16868525,  773.86416186,\n",
       "        712.01530612,  212.24489738,   97.36749689,  537.1636386 ,\n",
       "        663.47465458,  190.57674148,  736.2340154 ,  401.19459647,\n",
       "        292.31089405,   92.82575484, 1354.85531286, 1181.02387656,\n",
       "        293.65308857,  296.21321734,  209.6741453 ,  -30.21659984,\n",
       "        679.71998744, 1834.02024287,  182.0102793 ,  -30.21659984,\n",
       "        775.90335432,  552.99769381,  250.95041763,  327.99841765,\n",
       "        269.68818034,  305.15957931,  966.8725933 ,  492.3608531 ,\n",
       "        409.04470612,  581.5104561 ,  570.17338003,  -38.09382917,\n",
       "        172.09876057,  299.21337903, 1264.80461302,  163.32229128,\n",
       "        551.96791783,  541.42131883,   83.67181073,  156.48393122,\n",
       "        296.2189174 ,  991.54813716,  725.14017323,  172.22360194,\n",
       "         65.21978689,  452.15601229,  741.32000544,  260.99499215,\n",
       "        442.87851345,  133.05913535,  535.18424395,  180.79766056,\n",
       "        775.18526541,  419.44577798,  535.07653389,  700.21156154,\n",
       "        527.4897004 ,  254.37280489,  814.78422357,  997.23892071,\n",
       "         92.73461827,  373.7809833 ,  154.6519186 ,   42.16328248,\n",
       "        409.59594919,  -29.03034565,  432.23822721,  488.48345124,\n",
       "        673.3376865 ,   96.34628149,  681.36902735, 1331.06211107,\n",
       "        733.02385486,   20.1021399 ,  633.82191   ,  544.74763095,\n",
       "        154.00591027, 1361.45900012,  161.28848587,  446.07201895,\n",
       "        524.86375691, 1328.72508061,  281.07126322,  197.83838992,\n",
       "        618.70177876,  616.73160898,   99.73963513,   38.76407021,\n",
       "        419.81338008,  627.07164612,  561.01765615,   70.00367916,\n",
       "        350.58381547,  172.22360194,  492.04890752,  656.69527309,\n",
       "        292.47296987,  884.17272641,  236.23122179,  190.75588037,\n",
       "        566.06768408,  275.69511934, 1689.71269227,  450.0011094 ,\n",
       "        730.79812388,  282.37193582,   92.82575484,  182.0102793 ,\n",
       "        746.87648588, 1198.95103602,  833.90351992,  446.56499639,\n",
       "        365.10600891,   93.04547565,  190.29210316,  495.77493877,\n",
       "        179.51433799,  615.14608978,  879.22498416,  984.1338251 ,\n",
       "        428.83242034, 1057.07290811,  514.00094674,  531.02397068,\n",
       "        268.5985849 ,  577.42641116,  457.46237508,  302.95238388,\n",
       "        728.1032921 ,  480.79223987,  425.43855434,  -30.78088284,\n",
       "        996.63137983,  376.30447734,  674.8283522 ,  322.57318369,\n",
       "        783.57680808,  414.65327736,  736.95493624,  236.17883775,\n",
       "        354.89267449,  269.06332595, 1699.87724598, 1637.76164206,\n",
       "        464.54582277, 1208.84696939, 1037.36873815,  551.96791783,\n",
       "        518.13747006,  388.21595766,  308.75211267,  453.91312882,\n",
       "        702.93498317,   91.50497315,  493.80375594,  274.05376826,\n",
       "        530.57941611, 1105.58661796,  431.21815719,  329.67797763,\n",
       "        291.16856949,  455.11400985, 1034.60142391,  -32.47596749,\n",
       "        383.60906971,  392.93594008,  548.09232513,  180.11352984,\n",
       "       1159.07246108,  300.93996811,  731.16952529,  716.03686837,\n",
       "        182.0102793 ,  339.8178113 ,  207.39060441,  470.47909851,\n",
       "        649.83068271,  -32.47596749, 1617.0051105 ,  273.79107998,\n",
       "        599.84047424,  481.9852477 ,  657.86412562,  541.48124269,\n",
       "        426.80369684,  443.70753518, 1510.97446464,  982.23013125,\n",
       "        172.78788494,   86.66221199,  263.61813555,  309.39629414,\n",
       "        416.14481166,  670.37419254,  811.09593368,   61.1541518 ,\n",
       "        927.99398745,  763.96038519,  189.60388474,  768.12559977,\n",
       "        732.71309819, 1214.40159857,  490.68966374,  757.23841769,\n",
       "        552.01286072,  459.03176955,  613.8868691 ,  143.66821507,\n",
       "        143.66821507,  309.50405902,  496.919888  ,  618.39632331,\n",
       "       1206.99491124,  261.87456261, 1534.92555771,  978.13183655,\n",
       "        737.78820698,  359.84807775,  445.29492309,  167.97899534,\n",
       "        308.04091815,  592.02325479, 1076.99772948,  493.84060238,\n",
       "        212.36747085, 1090.60549206,  844.21379112,  132.37001099,\n",
       "        550.84613514, 1809.87759173,  276.74379225,  191.0130565 ,\n",
       "        811.380572  ,  -30.21659984, 1520.7476911 ,  369.6327179 ,\n",
       "        486.54956955,  376.02640191,  658.44193282,  862.9129554 ,\n",
       "        293.04214942,  329.59565334,  378.26543237, 1375.1472043 ,\n",
       "        643.93534358,   85.61933611,  364.02210765,  290.8516294 ,\n",
       "        394.18566243,  971.17581319,  256.96766726,  759.50603112,\n",
       "        147.4224943 , 1103.44484719,  852.44220137,   50.48271143,\n",
       "        594.08192096,  446.30716088, 1709.25902896,  -36.40597384,\n",
       "        140.63950338,  337.85628191])"
      ]
     },
     "execution_count": 256,
     "metadata": {},
     "output_type": "execute_result"
    }
   ],
   "source": [
    "model=LinearRegression()\n",
    "model.fit(X_train,y_train)\n",
    "pred=model.predict(X_test)\n",
    "pred"
   ]
  },
  {
   "cell_type": "code",
   "execution_count": 257,
   "metadata": {},
   "outputs": [
    {
     "data": {
      "text/plain": [
       "(array([ 1.69991822, 11.2752912 ,  1.05861282, 18.17751052, -0.13132245,\n",
       "         0.49936548, -5.95630625,  2.24135341]),\n",
       " 6.164340777625057)"
      ]
     },
     "execution_count": 257,
     "metadata": {},
     "output_type": "execute_result"
    }
   ],
   "source": [
    "#변수:w5개,b1개\n",
    "model.coef_, model.intercept_"
   ]
  },
  {
   "cell_type": "code",
   "execution_count": 258,
   "metadata": {},
   "outputs": [
    {
     "data": {
      "text/plain": [
       "149.46928845348765"
      ]
     },
     "execution_count": 258,
     "metadata": {},
     "output_type": "execute_result"
    }
   ],
   "source": [
    "#mae_val=sum(abs(y_test-pred))/len(pred)\n",
    "mae_val=np.mean(abs(y_test-pred))\n",
    "mae_val"
   ]
  },
  {
   "cell_type": "code",
   "execution_count": 259,
   "metadata": {},
   "outputs": [
    {
     "data": {
      "text/plain": [
       "42255.51652639401"
      ]
     },
     "execution_count": 259,
     "metadata": {},
     "output_type": "execute_result"
    }
   ],
   "source": [
    "#mse_val=sum((y_test-pred)**2)/len(pred)\n",
    "mse_val=np.sum((y_test-pred)**2)/len(pred)\n",
    "mse_val"
   ]
  },
  {
   "cell_type": "code",
   "execution_count": 260,
   "metadata": {},
   "outputs": [
    {
     "data": {
      "text/plain": [
       "205.56146654077463"
      ]
     },
     "execution_count": 260,
     "metadata": {},
     "output_type": "execute_result"
    }
   ],
   "source": [
    "#rmse_val=mse_val ** 0.5\n",
    "rmse_val=np.sqrt(mse_val)\n",
    "rmse_val"
   ]
  },
  {
   "cell_type": "code",
   "execution_count": 261,
   "metadata": {},
   "outputs": [],
   "source": [
    "from sklearn.linear_model import LinearRegression"
   ]
  },
  {
   "cell_type": "code",
   "execution_count": 262,
   "metadata": {},
   "outputs": [],
   "source": [
    "from sklearn.linear_model import Lasso, Ridge"
   ]
  },
  {
   "cell_type": "code",
   "execution_count": 263,
   "metadata": {},
   "outputs": [
    {
     "name": "stdout",
     "output_type": "stream",
     "text": [
      "(2952, 8)\n"
     ]
    }
   ],
   "source": [
    "print(X.shape)"
   ]
  },
  {
   "cell_type": "code",
   "execution_count": 264,
   "metadata": {},
   "outputs": [],
   "source": [
    "nor_X = MinMaxScaler().fit_transform(X)  # 입력 데이터 정규화\n",
    "ex_X = PolynomialFeatures(degree=2, include_bias=False).fit_transform(nor_X)  # 데이터 feature 추가 생성\n",
    "\n",
    "X_train, X_test, y_train, y_test = train_test_split(ex_X, y, random_state=0)"
   ]
  },
  {
   "cell_type": "code",
   "execution_count": 265,
   "metadata": {},
   "outputs": [
    {
     "data": {
      "text/plain": [
       "(2214, 44)"
      ]
     },
     "execution_count": 265,
     "metadata": {},
     "output_type": "execute_result"
    }
   ],
   "source": [
    "X_train.shape"
   ]
  },
  {
   "cell_type": "markdown",
   "metadata": {},
   "source": [
    "### RIDGE"
   ]
  },
  {
   "cell_type": "code",
   "execution_count": 266,
   "metadata": {},
   "outputs": [
    {
     "data": {
      "text/plain": [
       "array([ 734.53571748, 1195.58986573,  688.68692586,  901.58060716,\n",
       "        723.64195615,  195.92084163,  119.25681797,   49.83741282,\n",
       "        570.56926865,  658.05640885])"
      ]
     },
     "execution_count": 266,
     "metadata": {},
     "output_type": "execute_result"
    }
   ],
   "source": [
    "model=Ridge(alpha=0.1)\n",
    "model.fit(X_train,y_train)\n",
    "pred=model.predict(X_test)\n",
    "pred[0:10]"
   ]
  },
  {
   "cell_type": "code",
   "execution_count": 267,
   "metadata": {},
   "outputs": [
    {
     "name": "stdout",
     "output_type": "stream",
     "text": [
      "학습용 데이터 세트 점수 : 0.82\n",
      "테스트 데이터 세트 점수 : 0.81\n",
      "\n",
      "학습용 데이터 세트 점수 : 0.83\n",
      "테스트 데이터 세트 점수 : 0.82\n",
      "\n",
      "학습용 데이터 세트 점수 : 0.85\n",
      "테스트 데이터 세트 점수 : 0.84\n",
      "\n",
      "학습용 데이터 세트 점수 : 0.85\n",
      "테스트 데이터 세트 점수 : 0.84\n",
      "\n",
      "학습용 데이터 세트 점수 : 0.86\n",
      "테스트 데이터 세트 점수 : 0.84\n",
      "\n",
      "학습용 데이터 세트 점수 : 0.86\n",
      "테스트 데이터 세트 점수 : 0.84\n",
      "\n",
      "학습용 데이터 세트 점수 : 0.86\n",
      "테스트 데이터 세트 점수 : 0.84\n",
      "\n",
      "학습용 데이터 세트 점수 : 0.86\n",
      "테스트 데이터 세트 점수 : 0.84\n",
      "\n"
     ]
    }
   ],
   "source": [
    "sel = [10, 5, 1, 0.5, 0.1, 0.01, 0.001, 0.0001]\n",
    "for var in sel:\n",
    "    ridge = Ridge(alpha=var).fit(X_train, y_train)\n",
    "    print(\"학습용 데이터 세트 점수 : {:.2f}\".format(ridge.score(X_train, y_train)))\n",
    "    print(\"테스트 데이터 세트 점수 : {:.2f}\".format(ridge.score(X_test, y_test)))\n",
    "    print()"
   ]
  },
  {
   "cell_type": "code",
   "execution_count": 268,
   "metadata": {},
   "outputs": [
    {
     "data": {
      "text/plain": [
       "array([ 732.04968266, 1140.68600799,  670.67270903,  846.57015155,\n",
       "        724.18915711,  182.08594674,  125.64384358,   56.04410512,\n",
       "        545.75544831,  634.41450266])"
      ]
     },
     "execution_count": 268,
     "metadata": {},
     "output_type": "execute_result"
    }
   ],
   "source": [
    "model=Ridge(alpha=0.5)\n",
    "model.fit(X_train,y_train)\n",
    "pred=model.predict(X_test)\n",
    "pred[0:10]"
   ]
  },
  {
   "cell_type": "code",
   "execution_count": 269,
   "metadata": {},
   "outputs": [
    {
     "data": {
      "text/plain": [
       "127.55875491004562"
      ]
     },
     "execution_count": 269,
     "metadata": {},
     "output_type": "execute_result"
    }
   ],
   "source": [
    "mae_val=np.mean(abs(y_test-pred))\n",
    "mae_val"
   ]
  },
  {
   "cell_type": "code",
   "execution_count": 270,
   "metadata": {},
   "outputs": [
    {
     "data": {
      "text/plain": [
       "31784.74457206034"
      ]
     },
     "execution_count": 270,
     "metadata": {},
     "output_type": "execute_result"
    }
   ],
   "source": [
    "mse_val=np.sum((y_test-pred)**2)/len(pred)\n",
    "mse_val"
   ]
  },
  {
   "cell_type": "code",
   "execution_count": 271,
   "metadata": {},
   "outputs": [
    {
     "data": {
      "text/plain": [
       "178.28276577409366"
      ]
     },
     "execution_count": 271,
     "metadata": {},
     "output_type": "execute_result"
    }
   ],
   "source": [
    "rmse_val=np.sqrt(mse_val)\n",
    "rmse_val"
   ]
  },
  {
   "cell_type": "markdown",
   "metadata": {},
   "source": [
    "### LASSO"
   ]
  },
  {
   "cell_type": "code",
   "execution_count": 272,
   "metadata": {},
   "outputs": [],
   "source": [
    "# model=Lasso(alpha=0.01)\n",
    "# model.fit(X_train,y_train)\n",
    "# pred=model.predict(X_test)\n",
    "# pred[0:10]"
   ]
  },
  {
   "cell_type": "code",
   "execution_count": 273,
   "metadata": {},
   "outputs": [],
   "source": [
    "# sel=[10,5,1,0.5,0.1,0.01,0.001,0.0001,0.000001]\n",
    "# for var in sel:\n",
    "#     lasso = Lasso(alpha=var, max_iter=100000).fit(X_train, y_train)\n",
    "#     print(\"학습용 데이터 세트 점수 : {:.2f}\".format(lasso.score(X_train, y_train)))\n",
    "#     print(\"테스트 데이터 세트 점수 : {:.2f}\".format(lasso.score(X_test, y_test)))\n",
    "#     print()"
   ]
  },
  {
   "cell_type": "code",
   "execution_count": 274,
   "metadata": {},
   "outputs": [],
   "source": [
    "# # model=Lasso(alpha=0.00001)\n",
    "# model.fit(X_train,y_train)\n",
    "# pred=model.predict(X_test)\n",
    "# pred[0:10]"
   ]
  },
  {
   "cell_type": "code",
   "execution_count": 275,
   "metadata": {},
   "outputs": [],
   "source": [
    "# mae_val=np.mean(abs(y_test-pred))\n",
    "# mae_val"
   ]
  },
  {
   "cell_type": "code",
   "execution_count": 276,
   "metadata": {},
   "outputs": [],
   "source": [
    "# mse_val=np.sum((y_test-pred)**2)/len(pred)\n",
    "# mse_val"
   ]
  },
  {
   "cell_type": "code",
   "execution_count": 277,
   "metadata": {},
   "outputs": [],
   "source": [
    "# rmse_val=np.sqrt(mse_val)\n",
    "# rmse_val"
   ]
  },
  {
   "cell_type": "markdown",
   "metadata": {},
   "source": [
    "### 제출파일 만들기\n",
    " - PolynomialFeatures(degree=2)\n",
    " - Ridge(alpha=0.5)"
   ]
  },
  {
   "cell_type": "code",
   "execution_count": 278,
   "metadata": {},
   "outputs": [
    {
     "name": "stdout",
     "output_type": "stream",
     "text": [
      "(738, 44)\n",
      "(1022, 17)\n"
     ]
    }
   ],
   "source": [
    "print(X_test.shape)\n",
    "print(test.shape)"
   ]
  },
  {
   "cell_type": "code",
   "execution_count": 279,
   "metadata": {},
   "outputs": [
    {
     "name": "stdout",
     "output_type": "stream",
     "text": [
      "(1022, 44)\n"
     ]
    }
   ],
   "source": [
    "sel=['label_generation_num','label_bus','단지내주차면수','공급유형','총세대수','전용면적','공가수','지역']\n",
    "test_sel=test[sel]\n",
    "nor_test = MinMaxScaler().fit_transform(test_sel)  # 입력 데이터 정규화\n",
    "ex_test = PolynomialFeatures(degree=2, include_bias=False).fit_transform(nor_test)  # 데이터 feature 추가 생성\n",
    "print(ex_test.shape)"
   ]
  },
  {
   "cell_type": "code",
   "execution_count": 280,
   "metadata": {},
   "outputs": [],
   "source": [
    "pred = model.predict(ex_test)"
   ]
  },
  {
   "cell_type": "code",
   "execution_count": 281,
   "metadata": {},
   "outputs": [
    {
     "data": {
      "text/html": [
       "<div>\n",
       "<style scoped>\n",
       "    .dataframe tbody tr th:only-of-type {\n",
       "        vertical-align: middle;\n",
       "    }\n",
       "\n",
       "    .dataframe tbody tr th {\n",
       "        vertical-align: top;\n",
       "    }\n",
       "\n",
       "    .dataframe thead th {\n",
       "        text-align: right;\n",
       "    }\n",
       "</style>\n",
       "<table border=\"1\" class=\"dataframe\">\n",
       "  <thead>\n",
       "    <tr style=\"text-align: right;\">\n",
       "      <th></th>\n",
       "      <th>index</th>\n",
       "      <th>단지코드</th>\n",
       "      <th>총세대수</th>\n",
       "      <th>임대건물구분</th>\n",
       "      <th>지역</th>\n",
       "      <th>공급유형</th>\n",
       "      <th>전용면적</th>\n",
       "      <th>전용면적별세대수</th>\n",
       "      <th>공가수</th>\n",
       "      <th>자격유형</th>\n",
       "      <th>임대보증금</th>\n",
       "      <th>임대료</th>\n",
       "      <th>도보 10분거리 내 지하철역 수(환승노선 수 반영)</th>\n",
       "      <th>도보 10분거리 내 버스정류장 수</th>\n",
       "      <th>단지내주차면수</th>\n",
       "      <th>label_bus</th>\n",
       "      <th>label_sub</th>\n",
       "      <th>label_generation_num</th>\n",
       "      <th>등록차량수</th>\n",
       "      <th>단지별차량수평균</th>\n",
       "    </tr>\n",
       "  </thead>\n",
       "  <tbody>\n",
       "    <tr>\n",
       "      <th>0</th>\n",
       "      <td>0</td>\n",
       "      <td>C1072</td>\n",
       "      <td>754</td>\n",
       "      <td>아파트</td>\n",
       "      <td>1</td>\n",
       "      <td>1</td>\n",
       "      <td>39.79</td>\n",
       "      <td>116</td>\n",
       "      <td>14.0</td>\n",
       "      <td>8</td>\n",
       "      <td>22830000</td>\n",
       "      <td>189840</td>\n",
       "      <td>0.0</td>\n",
       "      <td>2.0</td>\n",
       "      <td>683.0</td>\n",
       "      <td>0</td>\n",
       "      <td>0</td>\n",
       "      <td>10</td>\n",
       "      <td>618.860318</td>\n",
       "      <td>624.672369</td>\n",
       "    </tr>\n",
       "    <tr>\n",
       "      <th>1</th>\n",
       "      <td>8</td>\n",
       "      <td>C1128</td>\n",
       "      <td>1354</td>\n",
       "      <td>아파트</td>\n",
       "      <td>1</td>\n",
       "      <td>1</td>\n",
       "      <td>39.79</td>\n",
       "      <td>368</td>\n",
       "      <td>9.0</td>\n",
       "      <td>8</td>\n",
       "      <td>22830000</td>\n",
       "      <td>189840</td>\n",
       "      <td>0.0</td>\n",
       "      <td>3.0</td>\n",
       "      <td>1216.0</td>\n",
       "      <td>1</td>\n",
       "      <td>0</td>\n",
       "      <td>16</td>\n",
       "      <td>1189.822738</td>\n",
       "      <td>1173.241895</td>\n",
       "    </tr>\n",
       "    <tr>\n",
       "      <th>2</th>\n",
       "      <td>17</td>\n",
       "      <td>C1456</td>\n",
       "      <td>619</td>\n",
       "      <td>아파트</td>\n",
       "      <td>3</td>\n",
       "      <td>1</td>\n",
       "      <td>33.40</td>\n",
       "      <td>82</td>\n",
       "      <td>18.0</td>\n",
       "      <td>1</td>\n",
       "      <td>19706000</td>\n",
       "      <td>156200</td>\n",
       "      <td>0.0</td>\n",
       "      <td>16.0</td>\n",
       "      <td>547.0</td>\n",
       "      <td>8</td>\n",
       "      <td>0</td>\n",
       "      <td>8</td>\n",
       "      <td>507.696162</td>\n",
       "      <td>518.875665</td>\n",
       "    </tr>\n",
       "    <tr>\n",
       "      <th>3</th>\n",
       "      <td>26</td>\n",
       "      <td>C1840</td>\n",
       "      <td>593</td>\n",
       "      <td>아파트</td>\n",
       "      <td>11</td>\n",
       "      <td>1</td>\n",
       "      <td>39.57</td>\n",
       "      <td>253</td>\n",
       "      <td>7.0</td>\n",
       "      <td>1</td>\n",
       "      <td>14418000</td>\n",
       "      <td>108130</td>\n",
       "      <td>0.0</td>\n",
       "      <td>3.0</td>\n",
       "      <td>543.0</td>\n",
       "      <td>1</td>\n",
       "      <td>0</td>\n",
       "      <td>15</td>\n",
       "      <td>521.949016</td>\n",
       "      <td>562.975605</td>\n",
       "    </tr>\n",
       "    <tr>\n",
       "      <th>4</th>\n",
       "      <td>30</td>\n",
       "      <td>C1332</td>\n",
       "      <td>1297</td>\n",
       "      <td>아파트</td>\n",
       "      <td>1</td>\n",
       "      <td>1</td>\n",
       "      <td>39.99</td>\n",
       "      <td>282</td>\n",
       "      <td>11.0</td>\n",
       "      <td>8</td>\n",
       "      <td>28598000</td>\n",
       "      <td>203050</td>\n",
       "      <td>0.0</td>\n",
       "      <td>2.0</td>\n",
       "      <td>1112.0</td>\n",
       "      <td>0</td>\n",
       "      <td>0</td>\n",
       "      <td>15</td>\n",
       "      <td>1050.473182</td>\n",
       "      <td>1070.448037</td>\n",
       "    </tr>\n",
       "  </tbody>\n",
       "</table>\n",
       "</div>"
      ],
      "text/plain": [
       "   index   단지코드  총세대수 임대건물구분  지역  공급유형   전용면적  전용면적별세대수   공가수  자격유형     임대보증금  \\\n",
       "0      0  C1072   754    아파트   1     1  39.79       116  14.0     8  22830000   \n",
       "1      8  C1128  1354    아파트   1     1  39.79       368   9.0     8  22830000   \n",
       "2     17  C1456   619    아파트   3     1  33.40        82  18.0     1  19706000   \n",
       "3     26  C1840   593    아파트  11     1  39.57       253   7.0     1  14418000   \n",
       "4     30  C1332  1297    아파트   1     1  39.99       282  11.0     8  28598000   \n",
       "\n",
       "      임대료  도보 10분거리 내 지하철역 수(환승노선 수 반영)  도보 10분거리 내 버스정류장 수  단지내주차면수  \\\n",
       "0  189840                           0.0                 2.0    683.0   \n",
       "1  189840                           0.0                 3.0   1216.0   \n",
       "2  156200                           0.0                16.0    547.0   \n",
       "3  108130                           0.0                 3.0    543.0   \n",
       "4  203050                           0.0                 2.0   1112.0   \n",
       "\n",
       "   label_bus  label_sub  label_generation_num        등록차량수     단지별차량수평균  \n",
       "0          0          0                    10   618.860318   624.672369  \n",
       "1          1          0                    16  1189.822738  1173.241895  \n",
       "2          8          0                     8   507.696162   518.875665  \n",
       "3          1          0                    15   521.949016   562.975605  \n",
       "4          0          0                    15  1050.473182  1070.448037  "
      ]
     },
     "execution_count": 281,
     "metadata": {},
     "output_type": "execute_result"
    }
   ],
   "source": [
    "test['등록차량수'] = pred\n",
    "test['단지별차량수평균'] = test.groupby(\"단지코드\")['등록차량수'].transform(np.mean)\n",
    "test_new = test.drop_duplicates(['단지코드'], keep='first').reset_index()\n",
    "test_new.head()"
   ]
  },
  {
   "cell_type": "code",
   "execution_count": 282,
   "metadata": {},
   "outputs": [
    {
     "data": {
      "text/plain": [
       "set()"
      ]
     },
     "execution_count": 282,
     "metadata": {},
     "output_type": "execute_result"
    }
   ],
   "source": [
    "set(sub['code']) - set(test_new[\"단지코드\"])"
   ]
  },
  {
   "cell_type": "code",
   "execution_count": 283,
   "metadata": {},
   "outputs": [
    {
     "data": {
      "text/html": [
       "<div>\n",
       "<style scoped>\n",
       "    .dataframe tbody tr th:only-of-type {\n",
       "        vertical-align: middle;\n",
       "    }\n",
       "\n",
       "    .dataframe tbody tr th {\n",
       "        vertical-align: top;\n",
       "    }\n",
       "\n",
       "    .dataframe thead th {\n",
       "        text-align: right;\n",
       "    }\n",
       "</style>\n",
       "<table border=\"1\" class=\"dataframe\">\n",
       "  <thead>\n",
       "    <tr style=\"text-align: right;\">\n",
       "      <th></th>\n",
       "      <th>code</th>\n",
       "      <th>num</th>\n",
       "    </tr>\n",
       "  </thead>\n",
       "  <tbody>\n",
       "    <tr>\n",
       "      <th>0</th>\n",
       "      <td>C1072</td>\n",
       "      <td>624.672369</td>\n",
       "    </tr>\n",
       "    <tr>\n",
       "      <th>1</th>\n",
       "      <td>C1128</td>\n",
       "      <td>1173.241895</td>\n",
       "    </tr>\n",
       "    <tr>\n",
       "      <th>2</th>\n",
       "      <td>C1456</td>\n",
       "      <td>518.875665</td>\n",
       "    </tr>\n",
       "    <tr>\n",
       "      <th>3</th>\n",
       "      <td>C1840</td>\n",
       "      <td>562.975605</td>\n",
       "    </tr>\n",
       "    <tr>\n",
       "      <th>4</th>\n",
       "      <td>C1332</td>\n",
       "      <td>1070.448037</td>\n",
       "    </tr>\n",
       "    <tr>\n",
       "      <th>...</th>\n",
       "      <td>...</td>\n",
       "      <td>...</td>\n",
       "    </tr>\n",
       "    <tr>\n",
       "      <th>145</th>\n",
       "      <td>C2456</td>\n",
       "      <td>321.442907</td>\n",
       "    </tr>\n",
       "    <tr>\n",
       "      <th>146</th>\n",
       "      <td>C1266</td>\n",
       "      <td>263.059963</td>\n",
       "    </tr>\n",
       "    <tr>\n",
       "      <th>147</th>\n",
       "      <td>C2152</td>\n",
       "      <td>-25.555022</td>\n",
       "    </tr>\n",
       "    <tr>\n",
       "      <th>148</th>\n",
       "      <td>C1267</td>\n",
       "      <td>60.524020</td>\n",
       "    </tr>\n",
       "    <tr>\n",
       "      <th>149</th>\n",
       "      <td>C2189</td>\n",
       "      <td>52.965407</td>\n",
       "    </tr>\n",
       "  </tbody>\n",
       "</table>\n",
       "<p>150 rows × 2 columns</p>\n",
       "</div>"
      ],
      "text/plain": [
       "      code          num\n",
       "0    C1072   624.672369\n",
       "1    C1128  1173.241895\n",
       "2    C1456   518.875665\n",
       "3    C1840   562.975605\n",
       "4    C1332  1070.448037\n",
       "..     ...          ...\n",
       "145  C2456   321.442907\n",
       "146  C1266   263.059963\n",
       "147  C2152   -25.555022\n",
       "148  C1267    60.524020\n",
       "149  C2189    52.965407\n",
       "\n",
       "[150 rows x 2 columns]"
      ]
     },
     "execution_count": 283,
     "metadata": {},
     "output_type": "execute_result"
    }
   ],
   "source": [
    "sub_df = pd.merge(sub, test_new, left_on='code', right_on='단지코드',how='left')\n",
    "sub_df = test_new[ ['단지코드', '단지별차량수평균']]\n",
    "sub_df.columns = ['code', 'num']\n",
    "sub_df.to_csv('0714_hw.csv', index=False)\n",
    "sub_df"
   ]
  },
  {
   "cell_type": "code",
   "execution_count": 284,
   "metadata": {},
   "outputs": [
    {
     "data": {
      "text/plain": [
       "['.ipynb_checkpoints',\n",
       " '0714_hw.csv',\n",
       " '0714_hw_lasso_.ipynb',\n",
       " '0714_md_boston.ipynb',\n",
       " '0714_ml.ipynb',\n",
       " '0714_ml_회귀모형_hw.ipynb',\n",
       " '0714_study.ipynb',\n",
       " '0714_전처리_hw.ipynb',\n",
       " 'cache']"
      ]
     },
     "execution_count": 284,
     "metadata": {},
     "output_type": "execute_result"
    }
   ],
   "source": [
    "import os\n",
    "os.listdir(os.getcwd())"
   ]
  },
  {
   "cell_type": "code",
   "execution_count": null,
   "metadata": {},
   "outputs": [],
   "source": []
  },
  {
   "cell_type": "code",
   "execution_count": null,
   "metadata": {},
   "outputs": [],
   "source": []
  }
 ],
 "metadata": {
  "kernelspec": {
   "display_name": "Python 3",
   "language": "python",
   "name": "python3"
  },
  "language_info": {
   "codemirror_mode": {
    "name": "ipython",
    "version": 3
   },
   "file_extension": ".py",
   "mimetype": "text/x-python",
   "name": "python",
   "nbconvert_exporter": "python",
   "pygments_lexer": "ipython3",
   "version": "3.8.5"
  }
 },
 "nbformat": 4,
 "nbformat_minor": 4
}
