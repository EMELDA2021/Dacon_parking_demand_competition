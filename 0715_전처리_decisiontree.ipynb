{
 "cells": [
  {
   "cell_type": "code",
   "execution_count": 291,
   "metadata": {},
   "outputs": [],
   "source": [
    "import pandas as pd"
   ]
  },
  {
   "cell_type": "code",
   "execution_count": 292,
   "metadata": {},
   "outputs": [
    {
     "data": {
      "text/plain": [
       "((2952, 15), (1022, 14), (150, 2), (16, 23))"
      ]
     },
     "execution_count": 292,
     "metadata": {},
     "output_type": "execute_result"
    }
   ],
   "source": [
    "train=pd.read_csv('../train.csv')\n",
    "test=pd.read_csv('../test.csv')\n",
    "sub=pd.read_csv('../sample_submission.csv')\n",
    "age=pd.read_csv('../age_gender_info.csv')\n",
    "train.shape, test.shape, sub.shape, age.shape"
   ]
  },
  {
   "cell_type": "code",
   "execution_count": 293,
   "metadata": {},
   "outputs": [
    {
     "name": "stdout",
     "output_type": "stream",
     "text": [
      "<class 'pandas.core.frame.DataFrame'>\n",
      "RangeIndex: 2952 entries, 0 to 2951\n",
      "Data columns (total 15 columns):\n",
      " #   Column                        Non-Null Count  Dtype  \n",
      "---  ------                        --------------  -----  \n",
      " 0   단지코드                          2952 non-null   object \n",
      " 1   총세대수                          2952 non-null   int64  \n",
      " 2   임대건물구분                        2952 non-null   object \n",
      " 3   지역                            2952 non-null   object \n",
      " 4   공급유형                          2952 non-null   object \n",
      " 5   전용면적                          2952 non-null   float64\n",
      " 6   전용면적별세대수                      2952 non-null   int64  \n",
      " 7   공가수                           2952 non-null   float64\n",
      " 8   자격유형                          2952 non-null   object \n",
      " 9   임대보증금                         2383 non-null   object \n",
      " 10  임대료                           2383 non-null   object \n",
      " 11  도보 10분거리 내 지하철역 수(환승노선 수 반영)  2741 non-null   float64\n",
      " 12  도보 10분거리 내 버스정류장 수            2948 non-null   float64\n",
      " 13  단지내주차면수                       2952 non-null   float64\n",
      " 14  등록차량수                         2952 non-null   float64\n",
      "dtypes: float64(6), int64(2), object(7)\n",
      "memory usage: 346.1+ KB\n"
     ]
    }
   ],
   "source": [
    "train.info()"
   ]
  },
  {
   "cell_type": "code",
   "execution_count": 294,
   "metadata": {},
   "outputs": [
    {
     "data": {
      "text/plain": [
       "단지코드                              0\n",
       "총세대수                              0\n",
       "임대건물구분                            0\n",
       "지역                                0\n",
       "공급유형                              0\n",
       "전용면적                              0\n",
       "전용면적별세대수                          0\n",
       "공가수                               0\n",
       "자격유형                              0\n",
       "임대보증금                           569\n",
       "임대료                             569\n",
       "도보 10분거리 내 지하철역 수(환승노선 수 반영)    211\n",
       "도보 10분거리 내 버스정류장 수                4\n",
       "단지내주차면수                           0\n",
       "등록차량수                             0\n",
       "dtype: int64"
      ]
     },
     "execution_count": 294,
     "metadata": {},
     "output_type": "execute_result"
    }
   ],
   "source": [
    "train.isnull().sum()"
   ]
  },
  {
   "cell_type": "code",
   "execution_count": 295,
   "metadata": {},
   "outputs": [
    {
     "data": {
      "text/plain": [
       "-         21\n",
       "390000    19\n",
       "79980     18\n",
       "100920    16\n",
       "167230    15\n",
       "          ..\n",
       "163000     1\n",
       "23950      1\n",
       "104180     1\n",
       "65950      1\n",
       "78330      1\n",
       "Name: 임대료, Length: 995, dtype: int64"
      ]
     },
     "execution_count": 295,
     "metadata": {},
     "output_type": "execute_result"
    }
   ],
   "source": [
    "train['임대료'].value_counts()"
   ]
  },
  {
   "cell_type": "code",
   "execution_count": 296,
   "metadata": {},
   "outputs": [
    {
     "data": {
      "text/plain": [
       "Index(['단지코드', '총세대수', '임대건물구분', '지역', '공급유형', '전용면적', '전용면적별세대수', '공가수',\n",
       "       '자격유형', '임대보증금', '임대료', '도보 10분거리 내 지하철역 수(환승노선 수 반영)',\n",
       "       '도보 10분거리 내 버스정류장 수', '단지내주차면수', '등록차량수'],\n",
       "      dtype='object')"
      ]
     },
     "execution_count": 296,
     "metadata": {},
     "output_type": "execute_result"
    }
   ],
   "source": [
    "train.columns"
   ]
  },
  {
   "cell_type": "markdown",
   "metadata": {},
   "source": [
    "### 결측치"
   ]
  },
  {
   "cell_type": "code",
   "execution_count": 297,
   "metadata": {},
   "outputs": [
    {
     "data": {
      "text/plain": [
       "단지코드                              0\n",
       "총세대수                              0\n",
       "임대건물구분                            0\n",
       "지역                                0\n",
       "공급유형                              0\n",
       "전용면적                              0\n",
       "전용면적별세대수                          0\n",
       "공가수                               0\n",
       "자격유형                              2\n",
       "임대보증금                           180\n",
       "임대료                             180\n",
       "도보 10분거리 내 지하철역 수(환승노선 수 반영)     42\n",
       "도보 10분거리 내 버스정류장 수                0\n",
       "단지내주차면수                           0\n",
       "dtype: int64"
      ]
     },
     "execution_count": 297,
     "metadata": {},
     "output_type": "execute_result"
    }
   ],
   "source": [
    "test.isnull().sum()"
   ]
  },
  {
   "cell_type": "code",
   "execution_count": 298,
   "metadata": {},
   "outputs": [
    {
     "data": {
      "text/html": [
       "<div>\n",
       "<style scoped>\n",
       "    .dataframe tbody tr th:only-of-type {\n",
       "        vertical-align: middle;\n",
       "    }\n",
       "\n",
       "    .dataframe tbody tr th {\n",
       "        vertical-align: top;\n",
       "    }\n",
       "\n",
       "    .dataframe thead th {\n",
       "        text-align: right;\n",
       "    }\n",
       "</style>\n",
       "<table border=\"1\" class=\"dataframe\">\n",
       "  <thead>\n",
       "    <tr style=\"text-align: right;\">\n",
       "      <th></th>\n",
       "      <th>단지코드</th>\n",
       "      <th>총세대수</th>\n",
       "      <th>임대건물구분</th>\n",
       "      <th>지역</th>\n",
       "      <th>공급유형</th>\n",
       "      <th>전용면적</th>\n",
       "      <th>전용면적별세대수</th>\n",
       "      <th>공가수</th>\n",
       "      <th>자격유형</th>\n",
       "      <th>임대보증금</th>\n",
       "      <th>임대료</th>\n",
       "      <th>도보 10분거리 내 지하철역 수(환승노선 수 반영)</th>\n",
       "      <th>도보 10분거리 내 버스정류장 수</th>\n",
       "      <th>단지내주차면수</th>\n",
       "      <th>등록차량수</th>\n",
       "    </tr>\n",
       "  </thead>\n",
       "  <tbody>\n",
       "    <tr>\n",
       "      <th>88</th>\n",
       "      <td>C1925</td>\n",
       "      <td>601</td>\n",
       "      <td>상가</td>\n",
       "      <td>강원도</td>\n",
       "      <td>임대상가</td>\n",
       "      <td>32.10</td>\n",
       "      <td>1</td>\n",
       "      <td>9.0</td>\n",
       "      <td>D</td>\n",
       "      <td>NaN</td>\n",
       "      <td>NaN</td>\n",
       "      <td>0.0</td>\n",
       "      <td>4.0</td>\n",
       "      <td>117.0</td>\n",
       "      <td>75.0</td>\n",
       "    </tr>\n",
       "    <tr>\n",
       "      <th>89</th>\n",
       "      <td>C1925</td>\n",
       "      <td>601</td>\n",
       "      <td>상가</td>\n",
       "      <td>강원도</td>\n",
       "      <td>임대상가</td>\n",
       "      <td>32.10</td>\n",
       "      <td>1</td>\n",
       "      <td>9.0</td>\n",
       "      <td>D</td>\n",
       "      <td>NaN</td>\n",
       "      <td>NaN</td>\n",
       "      <td>0.0</td>\n",
       "      <td>4.0</td>\n",
       "      <td>117.0</td>\n",
       "      <td>75.0</td>\n",
       "    </tr>\n",
       "    <tr>\n",
       "      <th>90</th>\n",
       "      <td>C1925</td>\n",
       "      <td>601</td>\n",
       "      <td>상가</td>\n",
       "      <td>강원도</td>\n",
       "      <td>임대상가</td>\n",
       "      <td>32.10</td>\n",
       "      <td>1</td>\n",
       "      <td>9.0</td>\n",
       "      <td>D</td>\n",
       "      <td>NaN</td>\n",
       "      <td>NaN</td>\n",
       "      <td>0.0</td>\n",
       "      <td>4.0</td>\n",
       "      <td>117.0</td>\n",
       "      <td>75.0</td>\n",
       "    </tr>\n",
       "    <tr>\n",
       "      <th>91</th>\n",
       "      <td>C1925</td>\n",
       "      <td>601</td>\n",
       "      <td>상가</td>\n",
       "      <td>강원도</td>\n",
       "      <td>임대상가</td>\n",
       "      <td>72.16</td>\n",
       "      <td>1</td>\n",
       "      <td>9.0</td>\n",
       "      <td>D</td>\n",
       "      <td>NaN</td>\n",
       "      <td>NaN</td>\n",
       "      <td>0.0</td>\n",
       "      <td>4.0</td>\n",
       "      <td>117.0</td>\n",
       "      <td>75.0</td>\n",
       "    </tr>\n",
       "    <tr>\n",
       "      <th>101</th>\n",
       "      <td>C1874</td>\n",
       "      <td>619</td>\n",
       "      <td>상가</td>\n",
       "      <td>충청남도</td>\n",
       "      <td>임대상가</td>\n",
       "      <td>12.62</td>\n",
       "      <td>1</td>\n",
       "      <td>2.0</td>\n",
       "      <td>D</td>\n",
       "      <td>NaN</td>\n",
       "      <td>NaN</td>\n",
       "      <td>NaN</td>\n",
       "      <td>2.0</td>\n",
       "      <td>97.0</td>\n",
       "      <td>62.0</td>\n",
       "    </tr>\n",
       "    <tr>\n",
       "      <th>...</th>\n",
       "      <td>...</td>\n",
       "      <td>...</td>\n",
       "      <td>...</td>\n",
       "      <td>...</td>\n",
       "      <td>...</td>\n",
       "      <td>...</td>\n",
       "      <td>...</td>\n",
       "      <td>...</td>\n",
       "      <td>...</td>\n",
       "      <td>...</td>\n",
       "      <td>...</td>\n",
       "      <td>...</td>\n",
       "      <td>...</td>\n",
       "      <td>...</td>\n",
       "      <td>...</td>\n",
       "    </tr>\n",
       "    <tr>\n",
       "      <th>2333</th>\n",
       "      <td>C1350</td>\n",
       "      <td>1401</td>\n",
       "      <td>아파트</td>\n",
       "      <td>대전광역시</td>\n",
       "      <td>공공분양</td>\n",
       "      <td>74.94</td>\n",
       "      <td>22</td>\n",
       "      <td>2.0</td>\n",
       "      <td>D</td>\n",
       "      <td>NaN</td>\n",
       "      <td>NaN</td>\n",
       "      <td>NaN</td>\n",
       "      <td>6.0</td>\n",
       "      <td>1636.0</td>\n",
       "      <td>2315.0</td>\n",
       "    </tr>\n",
       "    <tr>\n",
       "      <th>2334</th>\n",
       "      <td>C1350</td>\n",
       "      <td>1401</td>\n",
       "      <td>아파트</td>\n",
       "      <td>대전광역시</td>\n",
       "      <td>공공분양</td>\n",
       "      <td>84.94</td>\n",
       "      <td>164</td>\n",
       "      <td>2.0</td>\n",
       "      <td>D</td>\n",
       "      <td>NaN</td>\n",
       "      <td>NaN</td>\n",
       "      <td>NaN</td>\n",
       "      <td>6.0</td>\n",
       "      <td>1636.0</td>\n",
       "      <td>2315.0</td>\n",
       "    </tr>\n",
       "    <tr>\n",
       "      <th>2335</th>\n",
       "      <td>C1350</td>\n",
       "      <td>1401</td>\n",
       "      <td>아파트</td>\n",
       "      <td>대전광역시</td>\n",
       "      <td>공공분양</td>\n",
       "      <td>84.94</td>\n",
       "      <td>19</td>\n",
       "      <td>2.0</td>\n",
       "      <td>D</td>\n",
       "      <td>NaN</td>\n",
       "      <td>NaN</td>\n",
       "      <td>NaN</td>\n",
       "      <td>6.0</td>\n",
       "      <td>1636.0</td>\n",
       "      <td>2315.0</td>\n",
       "    </tr>\n",
       "    <tr>\n",
       "      <th>2336</th>\n",
       "      <td>C1350</td>\n",
       "      <td>1401</td>\n",
       "      <td>아파트</td>\n",
       "      <td>대전광역시</td>\n",
       "      <td>공공분양</td>\n",
       "      <td>84.96</td>\n",
       "      <td>26</td>\n",
       "      <td>2.0</td>\n",
       "      <td>D</td>\n",
       "      <td>NaN</td>\n",
       "      <td>NaN</td>\n",
       "      <td>NaN</td>\n",
       "      <td>6.0</td>\n",
       "      <td>1636.0</td>\n",
       "      <td>2315.0</td>\n",
       "    </tr>\n",
       "    <tr>\n",
       "      <th>2337</th>\n",
       "      <td>C1350</td>\n",
       "      <td>1401</td>\n",
       "      <td>아파트</td>\n",
       "      <td>대전광역시</td>\n",
       "      <td>공공분양</td>\n",
       "      <td>84.97</td>\n",
       "      <td>26</td>\n",
       "      <td>2.0</td>\n",
       "      <td>D</td>\n",
       "      <td>NaN</td>\n",
       "      <td>NaN</td>\n",
       "      <td>NaN</td>\n",
       "      <td>6.0</td>\n",
       "      <td>1636.0</td>\n",
       "      <td>2315.0</td>\n",
       "    </tr>\n",
       "  </tbody>\n",
       "</table>\n",
       "<p>569 rows × 15 columns</p>\n",
       "</div>"
      ],
      "text/plain": [
       "       단지코드  총세대수 임대건물구분     지역  공급유형   전용면적  전용면적별세대수  공가수 자격유형 임대보증금  임대료  \\\n",
       "88    C1925   601     상가    강원도  임대상가  32.10         1  9.0    D   NaN  NaN   \n",
       "89    C1925   601     상가    강원도  임대상가  32.10         1  9.0    D   NaN  NaN   \n",
       "90    C1925   601     상가    강원도  임대상가  32.10         1  9.0    D   NaN  NaN   \n",
       "91    C1925   601     상가    강원도  임대상가  72.16         1  9.0    D   NaN  NaN   \n",
       "101   C1874   619     상가   충청남도  임대상가  12.62         1  2.0    D   NaN  NaN   \n",
       "...     ...   ...    ...    ...   ...    ...       ...  ...  ...   ...  ...   \n",
       "2333  C1350  1401    아파트  대전광역시  공공분양  74.94        22  2.0    D   NaN  NaN   \n",
       "2334  C1350  1401    아파트  대전광역시  공공분양  84.94       164  2.0    D   NaN  NaN   \n",
       "2335  C1350  1401    아파트  대전광역시  공공분양  84.94        19  2.0    D   NaN  NaN   \n",
       "2336  C1350  1401    아파트  대전광역시  공공분양  84.96        26  2.0    D   NaN  NaN   \n",
       "2337  C1350  1401    아파트  대전광역시  공공분양  84.97        26  2.0    D   NaN  NaN   \n",
       "\n",
       "      도보 10분거리 내 지하철역 수(환승노선 수 반영)  도보 10분거리 내 버스정류장 수  단지내주차면수   등록차량수  \n",
       "88                             0.0                 4.0    117.0    75.0  \n",
       "89                             0.0                 4.0    117.0    75.0  \n",
       "90                             0.0                 4.0    117.0    75.0  \n",
       "91                             0.0                 4.0    117.0    75.0  \n",
       "101                            NaN                 2.0     97.0    62.0  \n",
       "...                            ...                 ...      ...     ...  \n",
       "2333                           NaN                 6.0   1636.0  2315.0  \n",
       "2334                           NaN                 6.0   1636.0  2315.0  \n",
       "2335                           NaN                 6.0   1636.0  2315.0  \n",
       "2336                           NaN                 6.0   1636.0  2315.0  \n",
       "2337                           NaN                 6.0   1636.0  2315.0  \n",
       "\n",
       "[569 rows x 15 columns]"
      ]
     },
     "execution_count": 298,
     "metadata": {},
     "output_type": "execute_result"
    }
   ],
   "source": [
    "train.loc[train['임대보증금'].isnull()]"
   ]
  },
  {
   "cell_type": "code",
   "execution_count": 299,
   "metadata": {},
   "outputs": [
    {
     "data": {
      "text/plain": [
       "array(['아파트', '상가'], dtype=object)"
      ]
     },
     "execution_count": 299,
     "metadata": {},
     "output_type": "execute_result"
    }
   ],
   "source": [
    "train['임대건물구분'].unique()"
   ]
  },
  {
   "cell_type": "code",
   "execution_count": 300,
   "metadata": {},
   "outputs": [
    {
     "data": {
      "text/plain": [
       "array(['국민임대', '공공임대(50년)', '영구임대', '임대상가', '공공임대(10년)', '공공임대(분납)',\n",
       "       '장기전세', '공공분양', '행복주택', '공공임대(5년)'], dtype=object)"
      ]
     },
     "execution_count": 300,
     "metadata": {},
     "output_type": "execute_result"
    }
   ],
   "source": [
    "train['공급유형'].unique()"
   ]
  },
  {
   "cell_type": "code",
   "execution_count": null,
   "metadata": {},
   "outputs": [],
   "source": []
  },
  {
   "cell_type": "code",
   "execution_count": null,
   "metadata": {},
   "outputs": [],
   "source": []
  },
  {
   "cell_type": "markdown",
   "metadata": {},
   "source": [
    "### 1.자격유형"
   ]
  },
  {
   "cell_type": "code",
   "execution_count": 301,
   "metadata": {},
   "outputs": [
    {
     "data": {
      "text/html": [
       "<div>\n",
       "<style scoped>\n",
       "    .dataframe tbody tr th:only-of-type {\n",
       "        vertical-align: middle;\n",
       "    }\n",
       "\n",
       "    .dataframe tbody tr th {\n",
       "        vertical-align: top;\n",
       "    }\n",
       "\n",
       "    .dataframe thead th {\n",
       "        text-align: right;\n",
       "    }\n",
       "</style>\n",
       "<table border=\"1\" class=\"dataframe\">\n",
       "  <thead>\n",
       "    <tr style=\"text-align: right;\">\n",
       "      <th></th>\n",
       "      <th>단지코드</th>\n",
       "      <th>총세대수</th>\n",
       "      <th>임대건물구분</th>\n",
       "      <th>지역</th>\n",
       "      <th>공급유형</th>\n",
       "      <th>전용면적</th>\n",
       "      <th>전용면적별세대수</th>\n",
       "      <th>공가수</th>\n",
       "      <th>자격유형</th>\n",
       "      <th>임대보증금</th>\n",
       "      <th>임대료</th>\n",
       "      <th>도보 10분거리 내 지하철역 수(환승노선 수 반영)</th>\n",
       "      <th>도보 10분거리 내 버스정류장 수</th>\n",
       "      <th>단지내주차면수</th>\n",
       "    </tr>\n",
       "  </thead>\n",
       "  <tbody>\n",
       "    <tr>\n",
       "      <th>196</th>\n",
       "      <td>C2411</td>\n",
       "      <td>962</td>\n",
       "      <td>아파트</td>\n",
       "      <td>경상남도</td>\n",
       "      <td>국민임대</td>\n",
       "      <td>46.90</td>\n",
       "      <td>240</td>\n",
       "      <td>25.0</td>\n",
       "      <td>NaN</td>\n",
       "      <td>71950000</td>\n",
       "      <td>37470</td>\n",
       "      <td>0.0</td>\n",
       "      <td>2.0</td>\n",
       "      <td>840.0</td>\n",
       "    </tr>\n",
       "    <tr>\n",
       "      <th>258</th>\n",
       "      <td>C2253</td>\n",
       "      <td>1161</td>\n",
       "      <td>아파트</td>\n",
       "      <td>강원도</td>\n",
       "      <td>영구임대</td>\n",
       "      <td>26.37</td>\n",
       "      <td>745</td>\n",
       "      <td>0.0</td>\n",
       "      <td>NaN</td>\n",
       "      <td>2249000</td>\n",
       "      <td>44770</td>\n",
       "      <td>0.0</td>\n",
       "      <td>2.0</td>\n",
       "      <td>173.0</td>\n",
       "    </tr>\n",
       "  </tbody>\n",
       "</table>\n",
       "</div>"
      ],
      "text/plain": [
       "      단지코드  총세대수 임대건물구분    지역  공급유형   전용면적  전용면적별세대수   공가수 자격유형     임대보증금  \\\n",
       "196  C2411   962    아파트  경상남도  국민임대  46.90       240  25.0  NaN  71950000   \n",
       "258  C2253  1161    아파트   강원도  영구임대  26.37       745   0.0  NaN   2249000   \n",
       "\n",
       "       임대료  도보 10분거리 내 지하철역 수(환승노선 수 반영)  도보 10분거리 내 버스정류장 수  단지내주차면수  \n",
       "196  37470                           0.0                 2.0    840.0  \n",
       "258  44770                           0.0                 2.0    173.0  "
      ]
     },
     "execution_count": 301,
     "metadata": {},
     "output_type": "execute_result"
    }
   ],
   "source": [
    "test.loc[test['자격유형'].isnull()]"
   ]
  },
  {
   "cell_type": "code",
   "execution_count": 302,
   "metadata": {},
   "outputs": [
    {
     "name": "stdout",
     "output_type": "stream",
     "text": [
      "      단지코드  총세대수 임대건물구분    지역  공급유형   전용면적  전용면적별세대수   공가수 자격유형     임대보증금  \\\n",
      "193  C2411   962    아파트  경상남도  국민임대  39.43        56  25.0    A  11992000   \n",
      "194  C2411   962    아파트  경상남도  국민임대  39.72       336  25.0    A  11992000   \n",
      "195  C2411   962    아파트  경상남도  국민임대  39.82       179  25.0    A  11992000   \n",
      "196  C2411   962    아파트  경상남도  국민임대  46.90       240  25.0  NaN  71950000   \n",
      "197  C2411   962    아파트  경상남도  국민임대  51.93       150  25.0    A  21586000   \n",
      "\n",
      "        임대료  도보 10분거리 내 지하철역 수(환승노선 수 반영)  도보 10분거리 내 버스정류장 수  단지내주차면수  \n",
      "193  100720                           0.0                 2.0    840.0  \n",
      "194  100720                           0.0                 2.0    840.0  \n",
      "195  100720                           0.0                 2.0    840.0  \n",
      "196   37470                           0.0                 2.0    840.0  \n",
      "197  171480                           0.0                 2.0    840.0  \n",
      "      단지코드  총세대수 임대건물구분   지역  공급유형   전용면적  전용면적별세대수  공가수 자격유형    임대보증금    임대료  \\\n",
      "258  C2253  1161    아파트  강원도  영구임대  26.37       745  0.0  NaN  2249000  44770   \n",
      "259  C2253  1161    아파트  강원도  영구임대  31.32       239  0.0    C  3731000  83020   \n",
      "260  C2253  1161    아파트  강원도  영구임대  31.32       149  0.0    C  3731000  83020   \n",
      "\n",
      "     도보 10분거리 내 지하철역 수(환승노선 수 반영)  도보 10분거리 내 버스정류장 수  단지내주차면수  \n",
      "258                           0.0                 2.0    173.0  \n",
      "259                           0.0                 2.0    173.0  \n",
      "260                           0.0                 2.0    173.0  \n"
     ]
    }
   ],
   "source": [
    "grouped=test.groupby(['단지코드','임대건물구분','지역','공급유형'])\n",
    "group1=grouped.get_group(('C2411','아파트','경상남도','국민임대'))\n",
    "group2=grouped.get_group(('C2253','아파트','강원도','영구임대'))\n",
    "print(group1)\n",
    "print(group2)"
   ]
  },
  {
   "cell_type": "code",
   "execution_count": 303,
   "metadata": {},
   "outputs": [],
   "source": [
    "test.loc[196,'자격유형']='A'\n",
    "test.loc[258,'자격유형']='C'"
   ]
  },
  {
   "cell_type": "code",
   "execution_count": 304,
   "metadata": {},
   "outputs": [
    {
     "data": {
      "text/plain": [
       "0"
      ]
     },
     "execution_count": 304,
     "metadata": {},
     "output_type": "execute_result"
    }
   ],
   "source": [
    "test['자격유형'].isnull().sum()"
   ]
  },
  {
   "cell_type": "code",
   "execution_count": 305,
   "metadata": {},
   "outputs": [
    {
     "data": {
      "text/plain": [
       "array(['A', 'B', 'C', 'D', 'E', 'F', 'G', 'H', 'I', 'J', 'K', 'L', 'M',\n",
       "       'N', 'O'], dtype=object)"
      ]
     },
     "execution_count": 305,
     "metadata": {},
     "output_type": "execute_result"
    }
   ],
   "source": [
    "train['자격유형'].unique()"
   ]
  },
  {
   "cell_type": "code",
   "execution_count": 306,
   "metadata": {},
   "outputs": [],
   "source": [
    "mapping = { 'A':1, 'B':2, 'C':3, 'D':4, 'E':5,\n",
    "            'F':6, 'G':7, 'H':8, 'I':9, 'J':10,\n",
    "            'K':11, 'L':12, 'M':13, 'N':14, 'O':15  }\n",
    "train['자격유형']=train['자격유형'].map(mapping).astype(int)\n",
    "test['자격유형']=test['자격유형'].map(mapping).astype(int)"
   ]
  },
  {
   "cell_type": "markdown",
   "metadata": {},
   "source": [
    "### 2.도보 10분거리 내 버스정류장 수_qcut"
   ]
  },
  {
   "cell_type": "code",
   "execution_count": 307,
   "metadata": {},
   "outputs": [
    {
     "data": {
      "text/html": [
       "<div>\n",
       "<style scoped>\n",
       "    .dataframe tbody tr th:only-of-type {\n",
       "        vertical-align: middle;\n",
       "    }\n",
       "\n",
       "    .dataframe tbody tr th {\n",
       "        vertical-align: top;\n",
       "    }\n",
       "\n",
       "    .dataframe thead th {\n",
       "        text-align: right;\n",
       "    }\n",
       "</style>\n",
       "<table border=\"1\" class=\"dataframe\">\n",
       "  <thead>\n",
       "    <tr style=\"text-align: right;\">\n",
       "      <th></th>\n",
       "      <th>단지코드</th>\n",
       "      <th>총세대수</th>\n",
       "      <th>임대건물구분</th>\n",
       "      <th>지역</th>\n",
       "      <th>공급유형</th>\n",
       "      <th>전용면적</th>\n",
       "      <th>전용면적별세대수</th>\n",
       "      <th>공가수</th>\n",
       "      <th>자격유형</th>\n",
       "      <th>임대보증금</th>\n",
       "      <th>임대료</th>\n",
       "      <th>도보 10분거리 내 지하철역 수(환승노선 수 반영)</th>\n",
       "      <th>도보 10분거리 내 버스정류장 수</th>\n",
       "      <th>단지내주차면수</th>\n",
       "      <th>등록차량수</th>\n",
       "    </tr>\n",
       "  </thead>\n",
       "  <tbody>\n",
       "    <tr>\n",
       "      <th>2315</th>\n",
       "      <td>C1649</td>\n",
       "      <td>575</td>\n",
       "      <td>아파트</td>\n",
       "      <td>경상남도</td>\n",
       "      <td>공공임대(10년)</td>\n",
       "      <td>74.97</td>\n",
       "      <td>80</td>\n",
       "      <td>15.0</td>\n",
       "      <td>1</td>\n",
       "      <td>46000000</td>\n",
       "      <td>456000</td>\n",
       "      <td>NaN</td>\n",
       "      <td>NaN</td>\n",
       "      <td>1066.0</td>\n",
       "      <td>855.0</td>\n",
       "    </tr>\n",
       "    <tr>\n",
       "      <th>2316</th>\n",
       "      <td>C1649</td>\n",
       "      <td>575</td>\n",
       "      <td>아파트</td>\n",
       "      <td>경상남도</td>\n",
       "      <td>공공임대(10년)</td>\n",
       "      <td>84.95</td>\n",
       "      <td>124</td>\n",
       "      <td>15.0</td>\n",
       "      <td>1</td>\n",
       "      <td>57000000</td>\n",
       "      <td>462000</td>\n",
       "      <td>NaN</td>\n",
       "      <td>NaN</td>\n",
       "      <td>1066.0</td>\n",
       "      <td>855.0</td>\n",
       "    </tr>\n",
       "    <tr>\n",
       "      <th>2317</th>\n",
       "      <td>C1649</td>\n",
       "      <td>575</td>\n",
       "      <td>아파트</td>\n",
       "      <td>경상남도</td>\n",
       "      <td>공공임대(10년)</td>\n",
       "      <td>84.96</td>\n",
       "      <td>289</td>\n",
       "      <td>15.0</td>\n",
       "      <td>1</td>\n",
       "      <td>57000000</td>\n",
       "      <td>462000</td>\n",
       "      <td>NaN</td>\n",
       "      <td>NaN</td>\n",
       "      <td>1066.0</td>\n",
       "      <td>855.0</td>\n",
       "    </tr>\n",
       "    <tr>\n",
       "      <th>2318</th>\n",
       "      <td>C1649</td>\n",
       "      <td>575</td>\n",
       "      <td>아파트</td>\n",
       "      <td>경상남도</td>\n",
       "      <td>공공임대(10년)</td>\n",
       "      <td>84.98</td>\n",
       "      <td>82</td>\n",
       "      <td>15.0</td>\n",
       "      <td>1</td>\n",
       "      <td>57000000</td>\n",
       "      <td>462000</td>\n",
       "      <td>NaN</td>\n",
       "      <td>NaN</td>\n",
       "      <td>1066.0</td>\n",
       "      <td>855.0</td>\n",
       "    </tr>\n",
       "  </tbody>\n",
       "</table>\n",
       "</div>"
      ],
      "text/plain": [
       "       단지코드  총세대수 임대건물구분    지역       공급유형   전용면적  전용면적별세대수   공가수  자격유형  \\\n",
       "2315  C1649   575    아파트  경상남도  공공임대(10년)  74.97        80  15.0     1   \n",
       "2316  C1649   575    아파트  경상남도  공공임대(10년)  84.95       124  15.0     1   \n",
       "2317  C1649   575    아파트  경상남도  공공임대(10년)  84.96       289  15.0     1   \n",
       "2318  C1649   575    아파트  경상남도  공공임대(10년)  84.98        82  15.0     1   \n",
       "\n",
       "         임대보증금     임대료  도보 10분거리 내 지하철역 수(환승노선 수 반영)  도보 10분거리 내 버스정류장 수  \\\n",
       "2315  46000000  456000                           NaN                 NaN   \n",
       "2316  57000000  462000                           NaN                 NaN   \n",
       "2317  57000000  462000                           NaN                 NaN   \n",
       "2318  57000000  462000                           NaN                 NaN   \n",
       "\n",
       "      단지내주차면수  등록차량수  \n",
       "2315   1066.0  855.0  \n",
       "2316   1066.0  855.0  \n",
       "2317   1066.0  855.0  \n",
       "2318   1066.0  855.0  "
      ]
     },
     "execution_count": 307,
     "metadata": {},
     "output_type": "execute_result"
    }
   ],
   "source": [
    "train.loc[train['도보 10분거리 내 버스정류장 수'].isnull()]"
   ]
  },
  {
   "cell_type": "code",
   "execution_count": 308,
   "metadata": {},
   "outputs": [],
   "source": [
    "train['도보 10분거리 내 버스정류장 수']=train['도보 10분거리 내 버스정류장 수'].fillna(0.0)"
   ]
  },
  {
   "cell_type": "code",
   "execution_count": 309,
   "metadata": {},
   "outputs": [
    {
     "data": {
      "text/plain": [
       "0"
      ]
     },
     "execution_count": 309,
     "metadata": {},
     "output_type": "execute_result"
    }
   ],
   "source": [
    "train['도보 10분거리 내 버스정류장 수'].isnull().sum()"
   ]
  },
  {
   "cell_type": "code",
   "execution_count": 310,
   "metadata": {},
   "outputs": [
    {
     "data": {
      "text/plain": [
       "2.0     780\n",
       "3.0     776\n",
       "4.0     493\n",
       "1.0     270\n",
       "5.0     164\n",
       "6.0     156\n",
       "8.0      99\n",
       "10.0     80\n",
       "7.0      65\n",
       "12.0     22\n",
       "20.0     15\n",
       "15.0     11\n",
       "0.0       6\n",
       "16.0      6\n",
       "19.0      4\n",
       "11.0      3\n",
       "14.0      2\n",
       "Name: 도보 10분거리 내 버스정류장 수, dtype: int64"
      ]
     },
     "execution_count": 310,
     "metadata": {},
     "output_type": "execute_result"
    }
   ],
   "source": [
    "train['도보 10분거리 내 버스정류장 수'].value_counts()"
   ]
  },
  {
   "cell_type": "code",
   "execution_count": 311,
   "metadata": {},
   "outputs": [],
   "source": [
    "train['label_bus']=pd.qcut(train['도보 10분거리 내 버스정류장 수'],20,labels=False,duplicates='drop')"
   ]
  },
  {
   "cell_type": "code",
   "execution_count": 312,
   "metadata": {},
   "outputs": [],
   "source": [
    "test['label_bus']=pd.qcut(test['도보 10분거리 내 버스정류장 수'],20,labels=False,duplicates='drop')"
   ]
  },
  {
   "cell_type": "markdown",
   "metadata": {},
   "source": [
    "### 3.도보 10분거리 내 지하철역 수(환승노선 수 반영)_qcut"
   ]
  },
  {
   "cell_type": "code",
   "execution_count": 313,
   "metadata": {},
   "outputs": [
    {
     "data": {
      "text/plain": [
       "211"
      ]
     },
     "execution_count": 313,
     "metadata": {},
     "output_type": "execute_result"
    }
   ],
   "source": [
    "train['도보 10분거리 내 지하철역 수(환승노선 수 반영)'].isnull().sum()"
   ]
  },
  {
   "cell_type": "code",
   "execution_count": 314,
   "metadata": {},
   "outputs": [
    {
     "data": {
      "text/plain": [
       "42"
      ]
     },
     "execution_count": 314,
     "metadata": {},
     "output_type": "execute_result"
    }
   ],
   "source": [
    "\n",
    "test['도보 10분거리 내 지하철역 수(환승노선 수 반영)'].isnull().sum()"
   ]
  },
  {
   "cell_type": "code",
   "execution_count": 315,
   "metadata": {},
   "outputs": [],
   "source": [
    "import numpy as np"
   ]
  },
  {
   "cell_type": "code",
   "execution_count": 316,
   "metadata": {},
   "outputs": [],
   "source": [
    "train['도보 10분거리 내 지하철역 수(환승노선 수 반영)']=train['도보 10분거리 내 지하철역 수(환승노선 수 반영)'].fillna(train.groupby('도보 10분거리 내 버스정류장 수')['도보 10분거리 내 지하철역 수(환승노선 수 반영)'].transform(np.mean))"
   ]
  },
  {
   "cell_type": "code",
   "execution_count": 317,
   "metadata": {},
   "outputs": [],
   "source": [
    "test['도보 10분거리 내 지하철역 수(환승노선 수 반영)']=test['도보 10분거리 내 지하철역 수(환승노선 수 반영)'].fillna(test.groupby('도보 10분거리 내 버스정류장 수')['도보 10분거리 내 지하철역 수(환승노선 수 반영)'].transform(np.mean))"
   ]
  },
  {
   "cell_type": "code",
   "execution_count": 318,
   "metadata": {},
   "outputs": [
    {
     "data": {
      "text/html": [
       "<div>\n",
       "<style scoped>\n",
       "    .dataframe tbody tr th:only-of-type {\n",
       "        vertical-align: middle;\n",
       "    }\n",
       "\n",
       "    .dataframe tbody tr th {\n",
       "        vertical-align: top;\n",
       "    }\n",
       "\n",
       "    .dataframe thead th {\n",
       "        text-align: right;\n",
       "    }\n",
       "</style>\n",
       "<table border=\"1\" class=\"dataframe\">\n",
       "  <thead>\n",
       "    <tr style=\"text-align: right;\">\n",
       "      <th></th>\n",
       "      <th>단지코드</th>\n",
       "      <th>총세대수</th>\n",
       "      <th>임대건물구분</th>\n",
       "      <th>지역</th>\n",
       "      <th>공급유형</th>\n",
       "      <th>전용면적</th>\n",
       "      <th>전용면적별세대수</th>\n",
       "      <th>공가수</th>\n",
       "      <th>자격유형</th>\n",
       "      <th>임대보증금</th>\n",
       "      <th>임대료</th>\n",
       "      <th>도보 10분거리 내 지하철역 수(환승노선 수 반영)</th>\n",
       "      <th>도보 10분거리 내 버스정류장 수</th>\n",
       "      <th>단지내주차면수</th>\n",
       "      <th>label_bus</th>\n",
       "    </tr>\n",
       "  </thead>\n",
       "  <tbody>\n",
       "    <tr>\n",
       "      <th>891</th>\n",
       "      <td>C1327</td>\n",
       "      <td>98</td>\n",
       "      <td>아파트</td>\n",
       "      <td>대전광역시</td>\n",
       "      <td>행복주택</td>\n",
       "      <td>16.83</td>\n",
       "      <td>30</td>\n",
       "      <td>13.0</td>\n",
       "      <td>10</td>\n",
       "      <td>18800000</td>\n",
       "      <td>94000</td>\n",
       "      <td>NaN</td>\n",
       "      <td>17.0</td>\n",
       "      <td>98.0</td>\n",
       "      <td>8</td>\n",
       "    </tr>\n",
       "    <tr>\n",
       "      <th>892</th>\n",
       "      <td>C1327</td>\n",
       "      <td>98</td>\n",
       "      <td>아파트</td>\n",
       "      <td>대전광역시</td>\n",
       "      <td>행복주택</td>\n",
       "      <td>26.51</td>\n",
       "      <td>10</td>\n",
       "      <td>13.0</td>\n",
       "      <td>10</td>\n",
       "      <td>28400000</td>\n",
       "      <td>142000</td>\n",
       "      <td>NaN</td>\n",
       "      <td>17.0</td>\n",
       "      <td>98.0</td>\n",
       "      <td>8</td>\n",
       "    </tr>\n",
       "    <tr>\n",
       "      <th>893</th>\n",
       "      <td>C1327</td>\n",
       "      <td>98</td>\n",
       "      <td>아파트</td>\n",
       "      <td>대전광역시</td>\n",
       "      <td>행복주택</td>\n",
       "      <td>26.51</td>\n",
       "      <td>10</td>\n",
       "      <td>13.0</td>\n",
       "      <td>10</td>\n",
       "      <td>28400000</td>\n",
       "      <td>142000</td>\n",
       "      <td>NaN</td>\n",
       "      <td>17.0</td>\n",
       "      <td>98.0</td>\n",
       "      <td>8</td>\n",
       "    </tr>\n",
       "    <tr>\n",
       "      <th>894</th>\n",
       "      <td>C1327</td>\n",
       "      <td>98</td>\n",
       "      <td>아파트</td>\n",
       "      <td>대전광역시</td>\n",
       "      <td>행복주택</td>\n",
       "      <td>36.92</td>\n",
       "      <td>48</td>\n",
       "      <td>13.0</td>\n",
       "      <td>10</td>\n",
       "      <td>36800000</td>\n",
       "      <td>184000</td>\n",
       "      <td>NaN</td>\n",
       "      <td>17.0</td>\n",
       "      <td>98.0</td>\n",
       "      <td>8</td>\n",
       "    </tr>\n",
       "  </tbody>\n",
       "</table>\n",
       "</div>"
      ],
      "text/plain": [
       "      단지코드  총세대수 임대건물구분     지역  공급유형   전용면적  전용면적별세대수   공가수  자격유형     임대보증금  \\\n",
       "891  C1327    98    아파트  대전광역시  행복주택  16.83        30  13.0    10  18800000   \n",
       "892  C1327    98    아파트  대전광역시  행복주택  26.51        10  13.0    10  28400000   \n",
       "893  C1327    98    아파트  대전광역시  행복주택  26.51        10  13.0    10  28400000   \n",
       "894  C1327    98    아파트  대전광역시  행복주택  36.92        48  13.0    10  36800000   \n",
       "\n",
       "        임대료  도보 10분거리 내 지하철역 수(환승노선 수 반영)  도보 10분거리 내 버스정류장 수  단지내주차면수  \\\n",
       "891   94000                           NaN                17.0     98.0   \n",
       "892  142000                           NaN                17.0     98.0   \n",
       "893  142000                           NaN                17.0     98.0   \n",
       "894  184000                           NaN                17.0     98.0   \n",
       "\n",
       "     label_bus  \n",
       "891          8  \n",
       "892          8  \n",
       "893          8  \n",
       "894          8  "
      ]
     },
     "execution_count": 318,
     "metadata": {},
     "output_type": "execute_result"
    }
   ],
   "source": [
    "test.loc[test['도보 10분거리 내 지하철역 수(환승노선 수 반영)'].isnull()]"
   ]
  },
  {
   "cell_type": "code",
   "execution_count": 319,
   "metadata": {},
   "outputs": [],
   "source": [
    "test['도보 10분거리 내 지하철역 수(환승노선 수 반영)']=test['도보 10분거리 내 지하철역 수(환승노선 수 반영)'].fillna(0)"
   ]
  },
  {
   "cell_type": "code",
   "execution_count": 320,
   "metadata": {},
   "outputs": [],
   "source": [
    "train['label_sub']=pd.qcut(train['도보 10분거리 내 지하철역 수(환승노선 수 반영)'],20,labels=False,duplicates='drop')"
   ]
  },
  {
   "cell_type": "code",
   "execution_count": 321,
   "metadata": {},
   "outputs": [],
   "source": [
    "test['label_sub']=pd.qcut(test['도보 10분거리 내 지하철역 수(환승노선 수 반영)'],20,labels=False,duplicates='drop')"
   ]
  },
  {
   "cell_type": "markdown",
   "metadata": {},
   "source": [
    "### 4.단지코드"
   ]
  },
  {
   "cell_type": "code",
   "execution_count": 322,
   "metadata": {},
   "outputs": [
    {
     "data": {
      "text/html": [
       "<div>\n",
       "<style scoped>\n",
       "    .dataframe tbody tr th:only-of-type {\n",
       "        vertical-align: middle;\n",
       "    }\n",
       "\n",
       "    .dataframe tbody tr th {\n",
       "        vertical-align: top;\n",
       "    }\n",
       "\n",
       "    .dataframe thead th {\n",
       "        text-align: right;\n",
       "    }\n",
       "</style>\n",
       "<table border=\"1\" class=\"dataframe\">\n",
       "  <thead>\n",
       "    <tr style=\"text-align: right;\">\n",
       "      <th></th>\n",
       "      <th>단지코드</th>\n",
       "      <th>총세대수</th>\n",
       "      <th>임대건물구분</th>\n",
       "      <th>지역</th>\n",
       "      <th>공급유형</th>\n",
       "      <th>전용면적</th>\n",
       "      <th>전용면적별세대수</th>\n",
       "      <th>공가수</th>\n",
       "      <th>자격유형</th>\n",
       "      <th>임대보증금</th>\n",
       "      <th>임대료</th>\n",
       "      <th>도보 10분거리 내 지하철역 수(환승노선 수 반영)</th>\n",
       "      <th>도보 10분거리 내 버스정류장 수</th>\n",
       "      <th>단지내주차면수</th>\n",
       "      <th>label_bus</th>\n",
       "      <th>label_sub</th>\n",
       "    </tr>\n",
       "  </thead>\n",
       "  <tbody>\n",
       "  </tbody>\n",
       "</table>\n",
       "</div>"
      ],
      "text/plain": [
       "Empty DataFrame\n",
       "Columns: [단지코드, 총세대수, 임대건물구분, 지역, 공급유형, 전용면적, 전용면적별세대수, 공가수, 자격유형, 임대보증금, 임대료, 도보 10분거리 내 지하철역 수(환승노선 수 반영), 도보 10분거리 내 버스정류장 수, 단지내주차면수, label_bus, label_sub]\n",
       "Index: []"
      ]
     },
     "execution_count": 322,
     "metadata": {},
     "output_type": "execute_result"
    }
   ],
   "source": [
    "test.loc[test['단지코드'].isnull()]"
   ]
  },
  {
   "cell_type": "code",
   "execution_count": 323,
   "metadata": {},
   "outputs": [
    {
     "data": {
      "text/html": [
       "<div>\n",
       "<style scoped>\n",
       "    .dataframe tbody tr th:only-of-type {\n",
       "        vertical-align: middle;\n",
       "    }\n",
       "\n",
       "    .dataframe tbody tr th {\n",
       "        vertical-align: top;\n",
       "    }\n",
       "\n",
       "    .dataframe thead th {\n",
       "        text-align: right;\n",
       "    }\n",
       "</style>\n",
       "<table border=\"1\" class=\"dataframe\">\n",
       "  <thead>\n",
       "    <tr style=\"text-align: right;\">\n",
       "      <th></th>\n",
       "      <th>단지코드</th>\n",
       "      <th>총세대수</th>\n",
       "      <th>임대건물구분</th>\n",
       "      <th>지역</th>\n",
       "      <th>공급유형</th>\n",
       "      <th>전용면적</th>\n",
       "      <th>전용면적별세대수</th>\n",
       "      <th>공가수</th>\n",
       "      <th>자격유형</th>\n",
       "      <th>임대보증금</th>\n",
       "      <th>임대료</th>\n",
       "      <th>도보 10분거리 내 지하철역 수(환승노선 수 반영)</th>\n",
       "      <th>도보 10분거리 내 버스정류장 수</th>\n",
       "      <th>단지내주차면수</th>\n",
       "      <th>등록차량수</th>\n",
       "      <th>label_bus</th>\n",
       "      <th>label_sub</th>\n",
       "    </tr>\n",
       "  </thead>\n",
       "  <tbody>\n",
       "    <tr>\n",
       "      <th>2835</th>\n",
       "      <td>C2298</td>\n",
       "      <td>581</td>\n",
       "      <td>아파트</td>\n",
       "      <td>대전광역시</td>\n",
       "      <td>행복주택</td>\n",
       "      <td>16.85</td>\n",
       "      <td>96</td>\n",
       "      <td>21.0</td>\n",
       "      <td>10</td>\n",
       "      <td>16400000</td>\n",
       "      <td>79000</td>\n",
       "      <td>0.0</td>\n",
       "      <td>3.0</td>\n",
       "      <td>408.0</td>\n",
       "      <td>444.0</td>\n",
       "      <td>2</td>\n",
       "      <td>0</td>\n",
       "    </tr>\n",
       "    <tr>\n",
       "      <th>2836</th>\n",
       "      <td>C2298</td>\n",
       "      <td>581</td>\n",
       "      <td>아파트</td>\n",
       "      <td>대전광역시</td>\n",
       "      <td>행복주택</td>\n",
       "      <td>26.64</td>\n",
       "      <td>204</td>\n",
       "      <td>21.0</td>\n",
       "      <td>10</td>\n",
       "      <td>24520000</td>\n",
       "      <td>118000</td>\n",
       "      <td>0.0</td>\n",
       "      <td>3.0</td>\n",
       "      <td>408.0</td>\n",
       "      <td>444.0</td>\n",
       "      <td>2</td>\n",
       "      <td>0</td>\n",
       "    </tr>\n",
       "    <tr>\n",
       "      <th>2837</th>\n",
       "      <td>C2298</td>\n",
       "      <td>581</td>\n",
       "      <td>아파트</td>\n",
       "      <td>대전광역시</td>\n",
       "      <td>행복주택</td>\n",
       "      <td>26.64</td>\n",
       "      <td>30</td>\n",
       "      <td>21.0</td>\n",
       "      <td>10</td>\n",
       "      <td>24520000</td>\n",
       "      <td>118000</td>\n",
       "      <td>0.0</td>\n",
       "      <td>3.0</td>\n",
       "      <td>408.0</td>\n",
       "      <td>444.0</td>\n",
       "      <td>2</td>\n",
       "      <td>0</td>\n",
       "    </tr>\n",
       "    <tr>\n",
       "      <th>2838</th>\n",
       "      <td>C2298</td>\n",
       "      <td>581</td>\n",
       "      <td>아파트</td>\n",
       "      <td>대전광역시</td>\n",
       "      <td>행복주택</td>\n",
       "      <td>36.86</td>\n",
       "      <td>148</td>\n",
       "      <td>21.0</td>\n",
       "      <td>10</td>\n",
       "      <td>33640000</td>\n",
       "      <td>162000</td>\n",
       "      <td>0.0</td>\n",
       "      <td>3.0</td>\n",
       "      <td>408.0</td>\n",
       "      <td>444.0</td>\n",
       "      <td>2</td>\n",
       "      <td>0</td>\n",
       "    </tr>\n",
       "    <tr>\n",
       "      <th>2839</th>\n",
       "      <td>C2298</td>\n",
       "      <td>581</td>\n",
       "      <td>아파트</td>\n",
       "      <td>대전광역시</td>\n",
       "      <td>행복주택</td>\n",
       "      <td>36.86</td>\n",
       "      <td>100</td>\n",
       "      <td>21.0</td>\n",
       "      <td>10</td>\n",
       "      <td>33640000</td>\n",
       "      <td>162000</td>\n",
       "      <td>0.0</td>\n",
       "      <td>3.0</td>\n",
       "      <td>408.0</td>\n",
       "      <td>444.0</td>\n",
       "      <td>2</td>\n",
       "      <td>0</td>\n",
       "    </tr>\n",
       "  </tbody>\n",
       "</table>\n",
       "</div>"
      ],
      "text/plain": [
       "       단지코드  총세대수 임대건물구분     지역  공급유형   전용면적  전용면적별세대수   공가수  자격유형     임대보증금  \\\n",
       "2835  C2298   581    아파트  대전광역시  행복주택  16.85        96  21.0    10  16400000   \n",
       "2836  C2298   581    아파트  대전광역시  행복주택  26.64       204  21.0    10  24520000   \n",
       "2837  C2298   581    아파트  대전광역시  행복주택  26.64        30  21.0    10  24520000   \n",
       "2838  C2298   581    아파트  대전광역시  행복주택  36.86       148  21.0    10  33640000   \n",
       "2839  C2298   581    아파트  대전광역시  행복주택  36.86       100  21.0    10  33640000   \n",
       "\n",
       "         임대료  도보 10분거리 내 지하철역 수(환승노선 수 반영)  도보 10분거리 내 버스정류장 수  단지내주차면수  \\\n",
       "2835   79000                           0.0                 3.0    408.0   \n",
       "2836  118000                           0.0                 3.0    408.0   \n",
       "2837  118000                           0.0                 3.0    408.0   \n",
       "2838  162000                           0.0                 3.0    408.0   \n",
       "2839  162000                           0.0                 3.0    408.0   \n",
       "\n",
       "      등록차량수  label_bus  label_sub  \n",
       "2835  444.0          2          0  \n",
       "2836  444.0          2          0  \n",
       "2837  444.0          2          0  \n",
       "2838  444.0          2          0  \n",
       "2839  444.0          2          0  "
      ]
     },
     "execution_count": 323,
     "metadata": {},
     "output_type": "execute_result"
    }
   ],
   "source": [
    "grouped=train.groupby(['임대건물구분','지역','공급유형'])\n",
    "group2=grouped.get_group(('아파트','대전광역시','행복주택'))\n",
    "group2"
   ]
  },
  {
   "cell_type": "code",
   "execution_count": 324,
   "metadata": {},
   "outputs": [
    {
     "data": {
      "text/html": [
       "<div>\n",
       "<style scoped>\n",
       "    .dataframe tbody tr th:only-of-type {\n",
       "        vertical-align: middle;\n",
       "    }\n",
       "\n",
       "    .dataframe tbody tr th {\n",
       "        vertical-align: top;\n",
       "    }\n",
       "\n",
       "    .dataframe thead th {\n",
       "        text-align: right;\n",
       "    }\n",
       "</style>\n",
       "<table border=\"1\" class=\"dataframe\">\n",
       "  <thead>\n",
       "    <tr style=\"text-align: right;\">\n",
       "      <th></th>\n",
       "      <th>단지코드</th>\n",
       "      <th>총세대수</th>\n",
       "      <th>임대건물구분</th>\n",
       "      <th>지역</th>\n",
       "      <th>공급유형</th>\n",
       "      <th>전용면적</th>\n",
       "      <th>전용면적별세대수</th>\n",
       "      <th>공가수</th>\n",
       "      <th>자격유형</th>\n",
       "      <th>임대보증금</th>\n",
       "      <th>임대료</th>\n",
       "      <th>도보 10분거리 내 지하철역 수(환승노선 수 반영)</th>\n",
       "      <th>도보 10분거리 내 버스정류장 수</th>\n",
       "      <th>단지내주차면수</th>\n",
       "      <th>label_bus</th>\n",
       "      <th>label_sub</th>\n",
       "    </tr>\n",
       "  </thead>\n",
       "  <tbody>\n",
       "  </tbody>\n",
       "</table>\n",
       "</div>"
      ],
      "text/plain": [
       "Empty DataFrame\n",
       "Columns: [단지코드, 총세대수, 임대건물구분, 지역, 공급유형, 전용면적, 전용면적별세대수, 공가수, 자격유형, 임대보증금, 임대료, 도보 10분거리 내 지하철역 수(환승노선 수 반영), 도보 10분거리 내 버스정류장 수, 단지내주차면수, label_bus, label_sub]\n",
       "Index: []"
      ]
     },
     "execution_count": 324,
     "metadata": {},
     "output_type": "execute_result"
    }
   ],
   "source": [
    "test[test['단지코드']=='C2298']"
   ]
  },
  {
   "cell_type": "code",
   "execution_count": 325,
   "metadata": {},
   "outputs": [],
   "source": [
    "test['단지코드']=test['단지코드'].fillna('C2298')"
   ]
  },
  {
   "cell_type": "code",
   "execution_count": 326,
   "metadata": {},
   "outputs": [
    {
     "data": {
      "text/plain": [
       "단지코드                              0\n",
       "총세대수                              0\n",
       "임대건물구분                            0\n",
       "지역                                0\n",
       "공급유형                              0\n",
       "전용면적                              0\n",
       "전용면적별세대수                          0\n",
       "공가수                               0\n",
       "자격유형                              0\n",
       "임대보증금                           180\n",
       "임대료                             180\n",
       "도보 10분거리 내 지하철역 수(환승노선 수 반영)      0\n",
       "도보 10분거리 내 버스정류장 수                0\n",
       "단지내주차면수                           0\n",
       "label_bus                         0\n",
       "label_sub                         0\n",
       "dtype: int64"
      ]
     },
     "execution_count": 326,
     "metadata": {},
     "output_type": "execute_result"
    }
   ],
   "source": [
    "test.isnull().sum()"
   ]
  },
  {
   "cell_type": "code",
   "execution_count": 327,
   "metadata": {},
   "outputs": [
    {
     "data": {
      "text/plain": [
       "단지코드                              0\n",
       "총세대수                              0\n",
       "임대건물구분                            0\n",
       "지역                                0\n",
       "공급유형                              0\n",
       "전용면적                              0\n",
       "전용면적별세대수                          0\n",
       "공가수                               0\n",
       "자격유형                              0\n",
       "임대보증금                           569\n",
       "임대료                             569\n",
       "도보 10분거리 내 지하철역 수(환승노선 수 반영)      0\n",
       "도보 10분거리 내 버스정류장 수                0\n",
       "단지내주차면수                           0\n",
       "등록차량수                             0\n",
       "label_bus                         0\n",
       "label_sub                         0\n",
       "dtype: int64"
      ]
     },
     "execution_count": 327,
     "metadata": {},
     "output_type": "execute_result"
    }
   ],
   "source": [
    "train.isnull().sum()"
   ]
  },
  {
   "cell_type": "markdown",
   "metadata": {},
   "source": [
    "### 공급유형_mapping"
   ]
  },
  {
   "cell_type": "code",
   "execution_count": 328,
   "metadata": {},
   "outputs": [
    {
     "data": {
      "text/plain": [
       "국민임대         1758\n",
       "임대상가          562\n",
       "행복주택          213\n",
       "공공임대(10년)     205\n",
       "영구임대          152\n",
       "공공임대(50년)      31\n",
       "공공임대(분납)       12\n",
       "장기전세            9\n",
       "공공분양            7\n",
       "공공임대(5년)        3\n",
       "Name: 공급유형, dtype: int64"
      ]
     },
     "execution_count": 328,
     "metadata": {},
     "output_type": "execute_result"
    }
   ],
   "source": [
    "train['공급유형'].value_counts()"
   ]
  },
  {
   "cell_type": "code",
   "execution_count": 329,
   "metadata": {},
   "outputs": [],
   "source": [
    "mapping = { '국민임대':1, '임대상가':2, '행복주택':3, '공공임대(10년)':4, \n",
    "           '영구임대':5,'공공임대(50년)':6,\n",
    "           '공공임대(분납)':7, '장기전세':8, '공공분양':9, '공공임대(5년)':10 }\n",
    "train['공급유형'] =train['공급유형'].map(mapping).astype(int)\n",
    "test['공급유형'] =test['공급유형'].map(mapping).astype(int)"
   ]
  },
  {
   "cell_type": "markdown",
   "metadata": {},
   "source": [
    "### 전용면적별 세대수_qcut"
   ]
  },
  {
   "cell_type": "code",
   "execution_count": 330,
   "metadata": {},
   "outputs": [
    {
     "data": {
      "text/plain": [
       "1      562\n",
       "30      49\n",
       "60      48\n",
       "24      47\n",
       "120     42\n",
       "      ... \n",
       "532      1\n",
       "524      1\n",
       "516      1\n",
       "512      1\n",
       "496      1\n",
       "Name: 전용면적별세대수, Length: 403, dtype: int64"
      ]
     },
     "execution_count": 330,
     "metadata": {},
     "output_type": "execute_result"
    }
   ],
   "source": [
    "train['전용면적별세대수'].value_counts()"
   ]
  },
  {
   "cell_type": "code",
   "execution_count": 331,
   "metadata": {},
   "outputs": [],
   "source": [
    "train['label_generation_num']=pd.qcut(train['전용면적별세대수'],20,labels=False,duplicates='drop')"
   ]
  },
  {
   "cell_type": "code",
   "execution_count": 332,
   "metadata": {},
   "outputs": [],
   "source": [
    "test['label_generation_num']=pd.qcut(test['전용면적별세대수'],20,labels=False,duplicates='drop')"
   ]
  },
  {
   "cell_type": "markdown",
   "metadata": {},
   "source": [
    "### 지역_mapping"
   ]
  },
  {
   "cell_type": "code",
   "execution_count": 333,
   "metadata": {},
   "outputs": [
    {
     "data": {
      "text/plain": [
       "경기도        621\n",
       "경상남도       369\n",
       "부산광역시      328\n",
       "대전광역시      266\n",
       "강원도        187\n",
       "충청북도       163\n",
       "충청남도       158\n",
       "전라남도       151\n",
       "광주광역시      141\n",
       "경상북도       119\n",
       "전라북도       109\n",
       "대구광역시      102\n",
       "제주특별자치도     91\n",
       "서울특별시       64\n",
       "세종특별자치시     47\n",
       "울산광역시       36\n",
       "Name: 지역, dtype: int64"
      ]
     },
     "execution_count": 333,
     "metadata": {},
     "output_type": "execute_result"
    }
   ],
   "source": [
    "train['지역'].value_counts()"
   ]
  },
  {
   "cell_type": "code",
   "execution_count": 334,
   "metadata": {},
   "outputs": [],
   "source": [
    "mapping1 = { '경기도':1, '경상남도':2, '부산광역시':3, '대전광역시':4, \n",
    "           '강원도':5,'충청북도':6,'충청남도':7, '전라남도':8, '광주광역시':9, \n",
    "            '경상북도':10, '전라북도':11,'대구광역시':12,'제주특별자치도':13,'서울특별시':14,'세종특별자치시':15,'울산광역시':16 }\n",
    "train['지역'] =train['지역'].map(mapping1).astype(int)\n",
    "test['지역'] =test['지역'].map(mapping1).astype(int)"
   ]
  },
  {
   "cell_type": "markdown",
   "metadata": {},
   "source": [
    "### 머신러닝"
   ]
  },
  {
   "cell_type": "code",
   "execution_count": 335,
   "metadata": {},
   "outputs": [],
   "source": [
    "from sklearn.tree import DecisionTreeClassifier\n",
    "from sklearn.model_selection import train_test_split\n",
    "from sklearn.preprocessing import MinMaxScaler, PolynomialFeatures\n",
    "import pandas as pd\n",
    "from sklearn.linear_model import LinearRegression"
   ]
  },
  {
   "cell_type": "code",
   "execution_count": 336,
   "metadata": {},
   "outputs": [],
   "source": [
    "### 한글 폰트 설정\n",
    "import matplotlib\n",
    "from matplotlib import font_manager, rc\n",
    "import matplotlib.pyplot as plt\n",
    "import platform\n",
    "path = \"C:/Windows/Fonts/malgun.ttf\"\n",
    "if platform.system() == \"Windows\":\n",
    "    font_name = font_manager.FontProperties(fname=path).get_name()\n",
    "    rc('font', family=font_name)\n",
    "elif platform.system()==\"Darwin\":\n",
    "    rc('font', family='AppleGothic')\n",
    "else:\n",
    "    print(\"Unknown System\")\n",
    "matplotlib.rcParams['axes.unicode_minus'] = False"
   ]
  },
  {
   "cell_type": "code",
   "execution_count": 337,
   "metadata": {},
   "outputs": [
    {
     "data": {
      "text/plain": [
       "(2952, 18)"
      ]
     },
     "execution_count": 337,
     "metadata": {},
     "output_type": "execute_result"
    }
   ],
   "source": [
    "train.shape"
   ]
  },
  {
   "cell_type": "code",
   "execution_count": 338,
   "metadata": {},
   "outputs": [],
   "source": [
    "#sel=['label_generation_num','label_bus','단지내주차면수','공급유형','총세대수','전용면적','공가수','지역']\n",
    "sel=['label_generation_num','label_bus','단지내주차면수','공급유형','총세대수','전용면적','공가수','지역']\n",
    "X=train[sel]\n",
    "y=train['등록차량수']"
   ]
  },
  {
   "cell_type": "code",
   "execution_count": 353,
   "metadata": {},
   "outputs": [
    {
     "name": "stdout",
     "output_type": "stream",
     "text": [
      "size : 0.3\n",
      "train_acc : 0.8901258470474347\n",
      "test_acc : 0.835214446952596\n"
     ]
    },
    {
     "data": {
      "image/png": "[encoded data removed]",
      "text/plain": [
       "<Figure size 432x288 with 1 Axes>"
      ]
     },
     "metadata": {
      "needs_background": "light"
     },
     "output_type": "display_data"
    }
   ],
   "source": [
    "sizes = np.arange(0.05,0.5,0.05)\n",
    "train_acc = []\n",
    "test_acc = []\n",
    "for size in sizes :\n",
    "  X_train, X_test, y_train, y_test = train_test_split(X, y, test_size=size, random_state=1)\n",
    "  model = DecisionTreeClassifier(max_depth=35,random_state=0).fit(X_train, y_train)\n",
    "  train_acc.append(model.score(X_train, y_train))\n",
    "  test_acc.append(model.score(X_test, y_test))\n",
    "plt.figure() # figsize=(8,6)\n",
    "plt.plot(sizes, train_acc, label='train')\n",
    "plt.plot(sizes, test_acc, label='test') \n",
    "plt.xticks(sizes)\n",
    "plt.xlabel(\"test_size\")\n",
    "plt.legend()\n",
    "plt.grid()\n",
    "# optimized index \n",
    "opt_idx = 5\n",
    "print(\"size :\", sizes[opt_idx])\n",
    "print(\"train_acc :\", train_acc[opt_idx])\n",
    "print(\"test_acc :\", test_acc[opt_idx])"
   ]
  },
  {
   "cell_type": "code",
   "execution_count": 354,
   "metadata": {},
   "outputs": [],
   "source": [
    "X_train, X_test, y_train, y_test = train_test_split(X, y, test_size=0.3, random_state=1)\n",
    "model = DecisionTreeClassifier(max_depth=35,random_state=0).fit(X_train, y_train)"
   ]
  },
  {
   "cell_type": "markdown",
   "metadata": {},
   "source": [
    "### 모델만들기"
   ]
  },
  {
   "cell_type": "code",
   "execution_count": 355,
   "metadata": {},
   "outputs": [
    {
     "data": {
      "text/plain": [
       "array([ 416.,   86.,  448.,  419.,  172.,   62.,  708.,  108.,   98.,\n",
       "        417.,  625.,  657.,  441.,  116., 1158.,  189.,  403., 1398.,\n",
       "       1090.,  116.,  172.,  495.,  419., 1374.,   94., 1668.,  132.,\n",
       "        359.,  823.,  209.,  364.,  288.,   94., 1398.,  510.,  419.,\n",
       "        236., 1804.,  793.,  562., 1145.,  132.,   86.,  284.,  228.,\n",
       "        313.,  693.,  132., 1524.,   78.,  131.,  284.,  657.,  403.,\n",
       "        403., 1804.,  800.,  318.,   62.,   60.,  842.,  609.,  419.,\n",
       "        403.,  730.,  487.,  910.,  345., 1524., 1087.,  957., 1832.,\n",
       "        521., 1015.,  739., 1158., 1896., 1015., 1162.,  596.,  396.,\n",
       "        457.,  358.,  507.,  419.,   86.,  419.,  129.,  735., 1896.,\n",
       "        479.,  359.,  353.,   96.,  609.,  353.,  730.,  419.,  189.,\n",
       "        713.,  419.,  419.,  733.,  116., 1668.,   78.,  415.,  589.,\n",
       "        116., 1653.,  410.,  196.,  196.,  430.,  359.,  133.,  108.,\n",
       "        146.,  159.,  579.,  403.,  509.,  701.,   62.,  548., 1044.,\n",
       "       2315.,  652.,  951.,  358., 1433.,  643.,  419.,  402.,  479.,\n",
       "        124.,  451.,  479.,  125.,  800.,  587.,  709.,  253.,  826.,\n",
       "        946., 1595., 1117.,  416.,  359.,   62., 1044., 1433.,  353.,\n",
       "        172.,  133.,  172.,  873.,  606.,  345.,  127.,  503.,  855.,\n",
       "        419.,  652.,  416.,  649.,  408.,  540.,  757., 1306.,   86.,\n",
       "       1279., 1306.,  979.,  207.,  505., 1145., 1665.,  619.,  770.,\n",
       "        207.,  528.,  854.,  700., 1433.,  419.,  509., 1433.,  652.,\n",
       "        359.,  730.,  209.,  842.,  189., 2550.,  196.,  870.,   62.,\n",
       "        419.,  739.,  403.,  448.,  643.,  326.,  457.,  647.,  810.,\n",
       "        120.,  649.,  403.,   62.,   62.,   59.,  359., 1665.,  416.,\n",
       "        365.,  924.,  228.,  404.,  572.,  503.,  207.,  579.,  579.,\n",
       "        359.,  196.,  995.,  442.,  133.,  645.,  460.,  116.,  730.,\n",
       "        950.,  403.,  551.,  419.,  419., 1730., 1284.,  614.,  657.,\n",
       "        588.,  116.,  609.,  505.,  585.,  419., 1378.,  205.,  770.,\n",
       "        579.,  353.,  403.,  693.,  396.,  457.,  649.,   60.,  800.,\n",
       "        475.,  733.,   78., 1064.,   93.,  403.,  246.,  297.,  887.,\n",
       "        403.,  228.,  713.,  839.,   96.,   78.,   98.,  413.,   57.,\n",
       "        512., 1023.,  826.,  901.,  744.,  960., 1084.,  209.,  132.,\n",
       "        763.,  359.,  770.,  108.,  579.,  763., 1284., 1400.,  419.,\n",
       "        950.,   93., 1896.,  821.,  995., 1117.,  163.,  652.,  403.,\n",
       "        780.,  129.,   98.,  568.,  579.,  841.,  671.,  120.,  572.,\n",
       "        787.,  131.,  638.,  579.,   65., 1804.,  417.,  266.,  253.,\n",
       "        548.,  647.,  133.,  120.,  554.,  396.,  353., 1101., 1983.,\n",
       "        770.,  508., 1832.,  419.,  870.,  364.,  133.,  568.,  376.,\n",
       "        403.,  396.,   94.,  820.,  995.,   55.,   93., 1145.,  521.,\n",
       "       1162.,  645.,  840.,  945., 1284.,  504.,  166.,   78.,  840.,\n",
       "        165.,  709.,  417.,  166.,  733.,  353.,  645.,  708.,  403.,\n",
       "        551.,  131.,  503.,  403.,  205.,  982.,  125., 1010.,  444.,\n",
       "        589.,  403.,  196.,  616.,  823.,  449.,  645.,  922.,  619.,\n",
       "       1668.,  220.,  505.,  957.,  701.,  505.,   98.,  901.,  419.,\n",
       "        334.,  441.,   78.,  172., 1090.,   75.,  172.,  345.,  408.,\n",
       "       1090., 1804.,  172.,  512.,  700.,  995.,  419.,  419., 1398.,\n",
       "        586.,  166.,  770., 1150.,  832., 1204.,  129.,  763.,  995.,\n",
       "       1044.,  780.,   98., 1153., 1896.,  172.,   62.,   94.,  832.,\n",
       "        330.,  449.,  120.,  297.,  512., 1010.,  253.,   94., 1730.,\n",
       "        120.,  557.,  132.,  504.,  579.,  413.,  509.,  793.,  793.,\n",
       "        649.,  172.,  587.,  288., 1101., 2550.,  551.,  840.,  349.,\n",
       "        554.,  521.,  554., 1077.,   96.,  403.,  172.,  164.,  403.,\n",
       "        554.,  832.,  448.,  451.,  419.,   98.,  313.,  189.,  509.,\n",
       "         98.,  823.,  129.,  419.,  951.,  172.,  744., 1044.,  116.,\n",
       "         96.,   62.,   78.,  403.,   62.,  619.,  410.,  205., 1015.,\n",
       "        164.,  313.,  359.,  149.,  840.,  419.,  960., 1204., 1117.,\n",
       "       1010.,  419.,  172.,  780., 1077.,  413.,  957.,  419.,  353.,\n",
       "        148.,  616.,  509.,  359.,  116.,  120., 1044.,  808.,   96.,\n",
       "         78.,  520.,  693.,  419.,  614.,  457.,  365.,  701.,   47.,\n",
       "        548.,  548.,  120.,   78.,  614., 1090.,  209.,   90.,  120.,\n",
       "         62.,   63.,  899.,  353.,  512.,  403.,  416.,  359., 1023.,\n",
       "        744.,  449.,  579.,  220.,  209.,  419.,  934.,  382.,  209.,\n",
       "        353., 1145.,  761.,  116.,  403.,  131.,  614.,   78.,  540.,\n",
       "        417.,  649.,  632.,  413., 1983.,  648.,  799.,  419.,  125.,\n",
       "        946.,  172.,   94.,  404.,  579.,  417.,  579.,  579.,  419.,\n",
       "        116.,  881.,  189.,   62.,  253.,  922.,  359.,  124.,  359.,\n",
       "       2315.,  579.,  451.,  616.,  826.,  606., 1090., 1433.,  504.,\n",
       "         96.,  172.,  701.,  620.,   78.,   65.,  902.,  552.,  841.,\n",
       "        133.,   98., 1433.,  359.,   22.,  579.,   78.,  979.,  854.,\n",
       "        359.,   94.,  638.,  416.,  419.,  132., 1044.,  353.,  670.,\n",
       "        403.,  257.,  108.,  708.,  587.,   96.,  116.,  855.,  457.,\n",
       "        419.,  799., 1159.,  419.,  419.,  754.,  451.,  313.,  780.,\n",
       "       1090.,   93.,  359.,   98.,  133.,  730.,  254.,   94.,  403.,\n",
       "       1204.,  457.,  700.,  131.,  508.,  228.,  228.,  257.,  313.,\n",
       "       1279.,  108.,  745.,  457.,  172.,  403.,  822.,  559.,  831.,\n",
       "        507.,  419.,  739.,  403.,  228.,  733.,  701.,  419.,   90.,\n",
       "        146.,  845.,  228.,  284.,  840.,  503.,  359., 1240., 1595.,\n",
       "        207.,  579.,  744.,   93.,   31.,   78.,  108.,  752.,  419.,\n",
       "        645.,   78.,  189., 1145.,  419.,  172.,   94.,  129.,  419.,\n",
       "        403.,  132., 1101.,  419.,  557.,  177.,  648.,  419.,  713.,\n",
       "        125.,   86.,  585.,  600.,   98.,  419.,  349.,  572.,  799.,\n",
       "       1433.,  430.,  709.,  761.,  657.,  125.,  120.,  108.,  793.,\n",
       "       1101.,  403.,   98.,  228.,  419.,  402., 1398., 1433.,  419.,\n",
       "        209.,  403.,  364.,  228.,   98.,  419.,  419.,  359.,  419.,\n",
       "        596.,  364.,   94.,  403.,   96.,  457.,  313.,  403.,  945.,\n",
       "        782.,  419., 1665.,  590.,  364.,  205., 1983.,  172.,   62.,\n",
       "        870.,   70.,  787., 1595.,   75.,  364., 1595.,   78.,  995.,\n",
       "        457.,  934., 1044.,  579.,   60.,   31., 1044.,  512.,  795.,\n",
       "        793.,  129.,  419., 1433.,  713.,  540.,  228.,  359.,  358.,\n",
       "        712.,  127.,  254.,  358.,  982., 1668.,  419.,  763.,  364.,\n",
       "        207.,  419.,   60.,  559.,  822., 1378.,   60.,  419.,  419.,\n",
       "        503.,  614.,  302.,  419.,  313., 1044.,  934.,  116.,   94.,\n",
       "        509.,  512.,  793.,  505., 2315.,  596.,   78.,  419.,  172.,\n",
       "         75.,  189.,  495.,  116.,  189.,  512.,  548.,  419.,  189.,\n",
       "       1668.,  505.,  419.,   93., 2315.,  419., 1023.,  799.,  403.,\n",
       "        507., 1044.,  619., 1087., 1001.,  540.,  318.,  419.,  419.,\n",
       "         94.,  982.,  403.,  979.,  554.,  596.,   70.,  398., 1665.,\n",
       "        403.,  832.,  902.,  359.,  172.,  551.,  579.,  763.,  509.,\n",
       "        359.,  479.,   90.,  364.])"
      ]
     },
     "execution_count": 355,
     "metadata": {},
     "output_type": "execute_result"
    }
   ],
   "source": [
    "pred=model.predict(X_test)\n",
    "pred"
   ]
  },
  {
   "cell_type": "code",
   "execution_count": 356,
   "metadata": {},
   "outputs": [
    {
     "data": {
      "text/plain": [
       "25.242663656884876"
      ]
     },
     "execution_count": 356,
     "metadata": {},
     "output_type": "execute_result"
    }
   ],
   "source": [
    "#mae_val=sum(abs(y_test-pred))/len(pred)\n",
    "mae_val=np.mean(abs(y_test-pred))\n",
    "mae_val"
   ]
  },
  {
   "cell_type": "code",
   "execution_count": 357,
   "metadata": {},
   "outputs": [
    {
     "data": {
      "text/plain": [
       "6512.958239277652"
      ]
     },
     "execution_count": 357,
     "metadata": {},
     "output_type": "execute_result"
    }
   ],
   "source": [
    "#mse_val=sum((y_test-pred)**2)/len(pred)\n",
    "mse_val=np.sum((y_test-pred)**2)/len(pred)\n",
    "mse_val"
   ]
  },
  {
   "cell_type": "code",
   "execution_count": 358,
   "metadata": {},
   "outputs": [
    {
     "data": {
      "text/plain": [
       "80.7029010586215"
      ]
     },
     "execution_count": 358,
     "metadata": {},
     "output_type": "execute_result"
    }
   ],
   "source": [
    "#rmse_val=mse_val ** 0.5\n",
    "rmse_val=np.sqrt(mse_val)\n",
    "rmse_val"
   ]
  },
  {
   "cell_type": "markdown",
   "metadata": {},
   "source": [
    "### 제출파일 만들기"
   ]
  },
  {
   "cell_type": "code",
   "execution_count": 359,
   "metadata": {},
   "outputs": [
    {
     "name": "stdout",
     "output_type": "stream",
     "text": [
      "(1022, 19)\n",
      "(886, 8)\n",
      "(886,)\n"
     ]
    }
   ],
   "source": [
    "print(test.shape)\n",
    "print(X_test.shape)\n",
    "print(pred.shape)"
   ]
  },
  {
   "cell_type": "code",
   "execution_count": 360,
   "metadata": {},
   "outputs": [],
   "source": [
    "sel=['label_generation_num','label_bus','단지내주차면수','공급유형','총세대수','전용면적','공가수','지역']\n",
    "X_test=test[sel]\n",
    "pred=model.predict(X_test)"
   ]
  },
  {
   "cell_type": "code",
   "execution_count": 361,
   "metadata": {},
   "outputs": [
    {
     "data": {
      "text/html": [
       "<div>\n",
       "<style scoped>\n",
       "    .dataframe tbody tr th:only-of-type {\n",
       "        vertical-align: middle;\n",
       "    }\n",
       "\n",
       "    .dataframe tbody tr th {\n",
       "        vertical-align: top;\n",
       "    }\n",
       "\n",
       "    .dataframe thead th {\n",
       "        text-align: right;\n",
       "    }\n",
       "</style>\n",
       "<table border=\"1\" class=\"dataframe\">\n",
       "  <thead>\n",
       "    <tr style=\"text-align: right;\">\n",
       "      <th></th>\n",
       "      <th>index</th>\n",
       "      <th>단지코드</th>\n",
       "      <th>총세대수</th>\n",
       "      <th>임대건물구분</th>\n",
       "      <th>지역</th>\n",
       "      <th>공급유형</th>\n",
       "      <th>전용면적</th>\n",
       "      <th>전용면적별세대수</th>\n",
       "      <th>공가수</th>\n",
       "      <th>자격유형</th>\n",
       "      <th>임대보증금</th>\n",
       "      <th>임대료</th>\n",
       "      <th>도보 10분거리 내 지하철역 수(환승노선 수 반영)</th>\n",
       "      <th>도보 10분거리 내 버스정류장 수</th>\n",
       "      <th>단지내주차면수</th>\n",
       "      <th>label_bus</th>\n",
       "      <th>label_sub</th>\n",
       "      <th>label_generation_num</th>\n",
       "      <th>등록차량수</th>\n",
       "      <th>단지별차량수평균</th>\n",
       "    </tr>\n",
       "  </thead>\n",
       "  <tbody>\n",
       "    <tr>\n",
       "      <th>0</th>\n",
       "      <td>0</td>\n",
       "      <td>C1072</td>\n",
       "      <td>754</td>\n",
       "      <td>아파트</td>\n",
       "      <td>1</td>\n",
       "      <td>1</td>\n",
       "      <td>39.79</td>\n",
       "      <td>116</td>\n",
       "      <td>14.0</td>\n",
       "      <td>8</td>\n",
       "      <td>22830000</td>\n",
       "      <td>189840</td>\n",
       "      <td>0.0</td>\n",
       "      <td>2.0</td>\n",
       "      <td>683.0</td>\n",
       "      <td>0</td>\n",
       "      <td>0</td>\n",
       "      <td>10</td>\n",
       "      <td>652.0</td>\n",
       "      <td>652.0</td>\n",
       "    </tr>\n",
       "    <tr>\n",
       "      <th>1</th>\n",
       "      <td>8</td>\n",
       "      <td>C1128</td>\n",
       "      <td>1354</td>\n",
       "      <td>아파트</td>\n",
       "      <td>1</td>\n",
       "      <td>1</td>\n",
       "      <td>39.79</td>\n",
       "      <td>368</td>\n",
       "      <td>9.0</td>\n",
       "      <td>8</td>\n",
       "      <td>22830000</td>\n",
       "      <td>189840</td>\n",
       "      <td>0.0</td>\n",
       "      <td>3.0</td>\n",
       "      <td>1216.0</td>\n",
       "      <td>1</td>\n",
       "      <td>0</td>\n",
       "      <td>16</td>\n",
       "      <td>873.0</td>\n",
       "      <td>873.0</td>\n",
       "    </tr>\n",
       "    <tr>\n",
       "      <th>2</th>\n",
       "      <td>17</td>\n",
       "      <td>C1456</td>\n",
       "      <td>619</td>\n",
       "      <td>아파트</td>\n",
       "      <td>3</td>\n",
       "      <td>1</td>\n",
       "      <td>33.40</td>\n",
       "      <td>82</td>\n",
       "      <td>18.0</td>\n",
       "      <td>1</td>\n",
       "      <td>19706000</td>\n",
       "      <td>156200</td>\n",
       "      <td>0.0</td>\n",
       "      <td>16.0</td>\n",
       "      <td>547.0</td>\n",
       "      <td>8</td>\n",
       "      <td>0</td>\n",
       "      <td>8</td>\n",
       "      <td>761.0</td>\n",
       "      <td>761.0</td>\n",
       "    </tr>\n",
       "    <tr>\n",
       "      <th>3</th>\n",
       "      <td>26</td>\n",
       "      <td>C1840</td>\n",
       "      <td>593</td>\n",
       "      <td>아파트</td>\n",
       "      <td>11</td>\n",
       "      <td>1</td>\n",
       "      <td>39.57</td>\n",
       "      <td>253</td>\n",
       "      <td>7.0</td>\n",
       "      <td>1</td>\n",
       "      <td>14418000</td>\n",
       "      <td>108130</td>\n",
       "      <td>0.0</td>\n",
       "      <td>3.0</td>\n",
       "      <td>543.0</td>\n",
       "      <td>1</td>\n",
       "      <td>0</td>\n",
       "      <td>15</td>\n",
       "      <td>91.0</td>\n",
       "      <td>91.0</td>\n",
       "    </tr>\n",
       "    <tr>\n",
       "      <th>4</th>\n",
       "      <td>30</td>\n",
       "      <td>C1332</td>\n",
       "      <td>1297</td>\n",
       "      <td>아파트</td>\n",
       "      <td>1</td>\n",
       "      <td>1</td>\n",
       "      <td>39.99</td>\n",
       "      <td>282</td>\n",
       "      <td>11.0</td>\n",
       "      <td>8</td>\n",
       "      <td>28598000</td>\n",
       "      <td>203050</td>\n",
       "      <td>0.0</td>\n",
       "      <td>2.0</td>\n",
       "      <td>1112.0</td>\n",
       "      <td>0</td>\n",
       "      <td>0</td>\n",
       "      <td>15</td>\n",
       "      <td>873.0</td>\n",
       "      <td>873.0</td>\n",
       "    </tr>\n",
       "  </tbody>\n",
       "</table>\n",
       "</div>"
      ],
      "text/plain": [
       "   index   단지코드  총세대수 임대건물구분  지역  공급유형   전용면적  전용면적별세대수   공가수  자격유형     임대보증금  \\\n",
       "0      0  C1072   754    아파트   1     1  39.79       116  14.0     8  22830000   \n",
       "1      8  C1128  1354    아파트   1     1  39.79       368   9.0     8  22830000   \n",
       "2     17  C1456   619    아파트   3     1  33.40        82  18.0     1  19706000   \n",
       "3     26  C1840   593    아파트  11     1  39.57       253   7.0     1  14418000   \n",
       "4     30  C1332  1297    아파트   1     1  39.99       282  11.0     8  28598000   \n",
       "\n",
       "      임대료  도보 10분거리 내 지하철역 수(환승노선 수 반영)  도보 10분거리 내 버스정류장 수  단지내주차면수  \\\n",
       "0  189840                           0.0                 2.0    683.0   \n",
       "1  189840                           0.0                 3.0   1216.0   \n",
       "2  156200                           0.0                16.0    547.0   \n",
       "3  108130                           0.0                 3.0    543.0   \n",
       "4  203050                           0.0                 2.0   1112.0   \n",
       "\n",
       "   label_bus  label_sub  label_generation_num  등록차량수  단지별차량수평균  \n",
       "0          0          0                    10  652.0     652.0  \n",
       "1          1          0                    16  873.0     873.0  \n",
       "2          8          0                     8  761.0     761.0  \n",
       "3          1          0                    15   91.0      91.0  \n",
       "4          0          0                    15  873.0     873.0  "
      ]
     },
     "execution_count": 361,
     "metadata": {},
     "output_type": "execute_result"
    }
   ],
   "source": [
    "test['등록차량수'] = pred\n",
    "test['단지별차량수평균'] = test.groupby(\"단지코드\")['등록차량수'].transform(np.mean)\n",
    "test_new = test.drop_duplicates(['단지코드'], keep='first').reset_index()\n",
    "test_new.head()"
   ]
  },
  {
   "cell_type": "code",
   "execution_count": 362,
   "metadata": {},
   "outputs": [
    {
     "data": {
      "text/html": [
       "<div>\n",
       "<style scoped>\n",
       "    .dataframe tbody tr th:only-of-type {\n",
       "        vertical-align: middle;\n",
       "    }\n",
       "\n",
       "    .dataframe tbody tr th {\n",
       "        vertical-align: top;\n",
       "    }\n",
       "\n",
       "    .dataframe thead th {\n",
       "        text-align: right;\n",
       "    }\n",
       "</style>\n",
       "<table border=\"1\" class=\"dataframe\">\n",
       "  <thead>\n",
       "    <tr style=\"text-align: right;\">\n",
       "      <th></th>\n",
       "      <th>code</th>\n",
       "      <th>num</th>\n",
       "    </tr>\n",
       "  </thead>\n",
       "  <tbody>\n",
       "    <tr>\n",
       "      <th>0</th>\n",
       "      <td>C1072</td>\n",
       "      <td>652.0</td>\n",
       "    </tr>\n",
       "    <tr>\n",
       "      <th>1</th>\n",
       "      <td>C1128</td>\n",
       "      <td>873.0</td>\n",
       "    </tr>\n",
       "    <tr>\n",
       "      <th>2</th>\n",
       "      <td>C1456</td>\n",
       "      <td>761.0</td>\n",
       "    </tr>\n",
       "    <tr>\n",
       "      <th>3</th>\n",
       "      <td>C1840</td>\n",
       "      <td>91.0</td>\n",
       "    </tr>\n",
       "    <tr>\n",
       "      <th>4</th>\n",
       "      <td>C1332</td>\n",
       "      <td>873.0</td>\n",
       "    </tr>\n",
       "  </tbody>\n",
       "</table>\n",
       "</div>"
      ],
      "text/plain": [
       "    code    num\n",
       "0  C1072  652.0\n",
       "1  C1128  873.0\n",
       "2  C1456  761.0\n",
       "3  C1840   91.0\n",
       "4  C1332  873.0"
      ]
     },
     "execution_count": 362,
     "metadata": {},
     "output_type": "execute_result"
    }
   ],
   "source": [
    "sub_df = test_new[ ['단지코드', '단지별차량수평균']]\n",
    "sub_df.columns = ['code', 'num']\n",
    "sub_df.to_csv('0715_tree.csv', index=False)\n",
    "sub_df.head()"
   ]
  },
  {
   "cell_type": "code",
   "execution_count": 363,
   "metadata": {},
   "outputs": [
    {
     "data": {
      "text/plain": [
       "['.ipynb_checkpoints',\n",
       " '0715_api_crawler.ipynb',\n",
       " '0715_decisiontree_.ipynb',\n",
       " '0715_decision_diabetes.ipynb',\n",
       " '0715_tree.csv',\n",
       " '0715_전처리_decisiontree.ipynb',\n",
       " 'diabetes.csv']"
      ]
     },
     "execution_count": 363,
     "metadata": {},
     "output_type": "execute_result"
    }
   ],
   "source": [
    "import os\n",
    "os.listdir(os.getcwd())"
   ]
  }
 ],
 "metadata": {
  "kernelspec": {
   "display_name": "Python 3",
   "language": "python",
   "name": "python3"
  },
  "language_info": {
   "codemirror_mode": {
    "name": "ipython",
    "version": 3
   },
   "file_extension": ".py",
   "mimetype": "text/x-python",
   "name": "python",
   "nbconvert_exporter": "python",
   "pygments_lexer": "ipython3",
   "version": "3.8.5"
  }
 },
 "nbformat": 4,
 "nbformat_minor": 4
}
