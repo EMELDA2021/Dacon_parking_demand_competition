{
 "cells": [
  {
   "cell_type": "code",
   "execution_count": 318,
   "metadata": {},
   "outputs": [],
   "source": [
    "import pandas as pd"
   ]
  },
  {
   "cell_type": "code",
   "execution_count": 319,
   "metadata": {},
   "outputs": [
    {
     "data": {
      "text/plain": [
       "((2896, 15), (1008, 14), (150, 2), (16, 23))"
      ]
     },
     "execution_count": 319,
     "metadata": {},
     "output_type": "execute_result"
    }
   ],
   "source": [
    "train=pd.read_csv('./train_df_errno.csv')\n",
    "test=pd.read_csv('./test_df.csv')\n",
    "sub=pd.read_csv('./sample_submission.csv')\n",
    "age=pd.read_csv('./age_gender_info.csv')\n",
    "train.shape, test.shape, sub.shape, age.shape"
   ]
  },
  {
   "cell_type": "code",
   "execution_count": 320,
   "metadata": {},
   "outputs": [
    {
     "name": "stdout",
     "output_type": "stream",
     "text": [
      "<class 'pandas.core.frame.DataFrame'>\n",
      "RangeIndex: 2896 entries, 0 to 2895\n",
      "Data columns (total 15 columns):\n",
      " #   Column      Non-Null Count  Dtype  \n",
      "---  ------      --------------  -----  \n",
      " 0   단지코드        2896 non-null   object \n",
      " 1   총세대수        2896 non-null   int64  \n",
      " 2   임대건물구분      2896 non-null   object \n",
      " 3   지역          2896 non-null   object \n",
      " 4   공급유형        2896 non-null   object \n",
      " 5   전용면적        2896 non-null   float64\n",
      " 6   전용면적별세대수    2896 non-null   int64  \n",
      " 7   공가수         2896 non-null   float64\n",
      " 8   자격유형        2896 non-null   object \n",
      " 9   임대보증금       2327 non-null   object \n",
      " 10  임대료         2327 non-null   object \n",
      " 11  10분내지하철수    2685 non-null   float64\n",
      " 12  10분내버스정류장수  2892 non-null   float64\n",
      " 13  단지내주차면수     2896 non-null   float64\n",
      " 14  등록차량수       2896 non-null   float64\n",
      "dtypes: float64(6), int64(2), object(7)\n",
      "memory usage: 339.5+ KB\n"
     ]
    }
   ],
   "source": [
    "train.info()"
   ]
  },
  {
   "cell_type": "code",
   "execution_count": 321,
   "metadata": {},
   "outputs": [
    {
     "data": {
      "text/plain": [
       "단지코드            0\n",
       "총세대수            0\n",
       "임대건물구분          0\n",
       "지역              0\n",
       "공급유형            0\n",
       "전용면적            0\n",
       "전용면적별세대수        0\n",
       "공가수             0\n",
       "자격유형            0\n",
       "임대보증금         569\n",
       "임대료           569\n",
       "10분내지하철수      211\n",
       "10분내버스정류장수      4\n",
       "단지내주차면수         0\n",
       "등록차량수           0\n",
       "dtype: int64"
      ]
     },
     "execution_count": 321,
     "metadata": {},
     "output_type": "execute_result"
    }
   ],
   "source": [
    "train.isnull().sum()"
   ]
  },
  {
   "cell_type": "code",
   "execution_count": 322,
   "metadata": {},
   "outputs": [
    {
     "data": {
      "text/plain": [
       "-         21\n",
       "390000    19\n",
       "79980     18\n",
       "100920    16\n",
       "167230    15\n",
       "          ..\n",
       "246650     1\n",
       "115520     1\n",
       "161420     1\n",
       "136930     1\n",
       "151030     1\n",
       "Name: 임대료, Length: 975, dtype: int64"
      ]
     },
     "execution_count": 322,
     "metadata": {},
     "output_type": "execute_result"
    }
   ],
   "source": [
    "train['임대료'].value_counts()"
   ]
  },
  {
   "cell_type": "code",
   "execution_count": 323,
   "metadata": {},
   "outputs": [
    {
     "data": {
      "text/plain": [
       "Index(['단지코드', '총세대수', '임대건물구분', '지역', '공급유형', '전용면적', '전용면적별세대수', '공가수',\n",
       "       '자격유형', '임대보증금', '임대료', '10분내지하철수', '10분내버스정류장수', '단지내주차면수', '등록차량수'],\n",
       "      dtype='object')"
      ]
     },
     "execution_count": 323,
     "metadata": {},
     "output_type": "execute_result"
    }
   ],
   "source": [
    "train.columns"
   ]
  },
  {
   "cell_type": "markdown",
   "metadata": {},
   "source": [
    "### 결측치"
   ]
  },
  {
   "cell_type": "code",
   "execution_count": 324,
   "metadata": {},
   "outputs": [
    {
     "data": {
      "text/plain": [
       "단지코드            0\n",
       "총세대수            0\n",
       "임대건물구분          0\n",
       "지역              0\n",
       "공급유형            0\n",
       "전용면적            0\n",
       "전용면적별세대수        0\n",
       "공가수             0\n",
       "자격유형            2\n",
       "임대보증금         180\n",
       "임대료           180\n",
       "10분내지하철수       38\n",
       "10분내버스정류장수      0\n",
       "단지내주차면수         0\n",
       "dtype: int64"
      ]
     },
     "execution_count": 324,
     "metadata": {},
     "output_type": "execute_result"
    }
   ],
   "source": [
    "test.isnull().sum()"
   ]
  },
  {
   "cell_type": "code",
   "execution_count": 325,
   "metadata": {},
   "outputs": [
    {
     "data": {
      "text/html": [
       "<div>\n",
       "<style scoped>\n",
       "    .dataframe tbody tr th:only-of-type {\n",
       "        vertical-align: middle;\n",
       "    }\n",
       "\n",
       "    .dataframe tbody tr th {\n",
       "        vertical-align: top;\n",
       "    }\n",
       "\n",
       "    .dataframe thead th {\n",
       "        text-align: right;\n",
       "    }\n",
       "</style>\n",
       "<table border=\"1\" class=\"dataframe\">\n",
       "  <thead>\n",
       "    <tr style=\"text-align: right;\">\n",
       "      <th></th>\n",
       "      <th>단지코드</th>\n",
       "      <th>총세대수</th>\n",
       "      <th>임대건물구분</th>\n",
       "      <th>지역</th>\n",
       "      <th>공급유형</th>\n",
       "      <th>전용면적</th>\n",
       "      <th>전용면적별세대수</th>\n",
       "      <th>공가수</th>\n",
       "      <th>자격유형</th>\n",
       "      <th>임대보증금</th>\n",
       "      <th>임대료</th>\n",
       "      <th>10분내지하철수</th>\n",
       "      <th>10분내버스정류장수</th>\n",
       "      <th>단지내주차면수</th>\n",
       "      <th>등록차량수</th>\n",
       "    </tr>\n",
       "  </thead>\n",
       "  <tbody>\n",
       "    <tr>\n",
       "      <th>80</th>\n",
       "      <td>C1925</td>\n",
       "      <td>601</td>\n",
       "      <td>상가</td>\n",
       "      <td>강원도</td>\n",
       "      <td>임대상가</td>\n",
       "      <td>32.10</td>\n",
       "      <td>1</td>\n",
       "      <td>9.0</td>\n",
       "      <td>D</td>\n",
       "      <td>NaN</td>\n",
       "      <td>NaN</td>\n",
       "      <td>0.0</td>\n",
       "      <td>4.0</td>\n",
       "      <td>117.0</td>\n",
       "      <td>75.0</td>\n",
       "    </tr>\n",
       "    <tr>\n",
       "      <th>81</th>\n",
       "      <td>C1925</td>\n",
       "      <td>601</td>\n",
       "      <td>상가</td>\n",
       "      <td>강원도</td>\n",
       "      <td>임대상가</td>\n",
       "      <td>32.10</td>\n",
       "      <td>1</td>\n",
       "      <td>9.0</td>\n",
       "      <td>D</td>\n",
       "      <td>NaN</td>\n",
       "      <td>NaN</td>\n",
       "      <td>0.0</td>\n",
       "      <td>4.0</td>\n",
       "      <td>117.0</td>\n",
       "      <td>75.0</td>\n",
       "    </tr>\n",
       "    <tr>\n",
       "      <th>82</th>\n",
       "      <td>C1925</td>\n",
       "      <td>601</td>\n",
       "      <td>상가</td>\n",
       "      <td>강원도</td>\n",
       "      <td>임대상가</td>\n",
       "      <td>32.10</td>\n",
       "      <td>1</td>\n",
       "      <td>9.0</td>\n",
       "      <td>D</td>\n",
       "      <td>NaN</td>\n",
       "      <td>NaN</td>\n",
       "      <td>0.0</td>\n",
       "      <td>4.0</td>\n",
       "      <td>117.0</td>\n",
       "      <td>75.0</td>\n",
       "    </tr>\n",
       "    <tr>\n",
       "      <th>83</th>\n",
       "      <td>C1925</td>\n",
       "      <td>601</td>\n",
       "      <td>상가</td>\n",
       "      <td>강원도</td>\n",
       "      <td>임대상가</td>\n",
       "      <td>72.16</td>\n",
       "      <td>1</td>\n",
       "      <td>9.0</td>\n",
       "      <td>D</td>\n",
       "      <td>NaN</td>\n",
       "      <td>NaN</td>\n",
       "      <td>0.0</td>\n",
       "      <td>4.0</td>\n",
       "      <td>117.0</td>\n",
       "      <td>75.0</td>\n",
       "    </tr>\n",
       "    <tr>\n",
       "      <th>93</th>\n",
       "      <td>C1874</td>\n",
       "      <td>619</td>\n",
       "      <td>상가</td>\n",
       "      <td>충청남도</td>\n",
       "      <td>임대상가</td>\n",
       "      <td>12.62</td>\n",
       "      <td>1</td>\n",
       "      <td>2.0</td>\n",
       "      <td>D</td>\n",
       "      <td>NaN</td>\n",
       "      <td>NaN</td>\n",
       "      <td>NaN</td>\n",
       "      <td>2.0</td>\n",
       "      <td>97.0</td>\n",
       "      <td>62.0</td>\n",
       "    </tr>\n",
       "    <tr>\n",
       "      <th>...</th>\n",
       "      <td>...</td>\n",
       "      <td>...</td>\n",
       "      <td>...</td>\n",
       "      <td>...</td>\n",
       "      <td>...</td>\n",
       "      <td>...</td>\n",
       "      <td>...</td>\n",
       "      <td>...</td>\n",
       "      <td>...</td>\n",
       "      <td>...</td>\n",
       "      <td>...</td>\n",
       "      <td>...</td>\n",
       "      <td>...</td>\n",
       "      <td>...</td>\n",
       "      <td>...</td>\n",
       "    </tr>\n",
       "    <tr>\n",
       "      <th>2311</th>\n",
       "      <td>C1350</td>\n",
       "      <td>1401</td>\n",
       "      <td>아파트</td>\n",
       "      <td>대전광역시</td>\n",
       "      <td>공공분양</td>\n",
       "      <td>74.94</td>\n",
       "      <td>22</td>\n",
       "      <td>2.0</td>\n",
       "      <td>D</td>\n",
       "      <td>NaN</td>\n",
       "      <td>NaN</td>\n",
       "      <td>NaN</td>\n",
       "      <td>6.0</td>\n",
       "      <td>1636.0</td>\n",
       "      <td>2315.0</td>\n",
       "    </tr>\n",
       "    <tr>\n",
       "      <th>2312</th>\n",
       "      <td>C1350</td>\n",
       "      <td>1401</td>\n",
       "      <td>아파트</td>\n",
       "      <td>대전광역시</td>\n",
       "      <td>공공분양</td>\n",
       "      <td>84.94</td>\n",
       "      <td>164</td>\n",
       "      <td>2.0</td>\n",
       "      <td>D</td>\n",
       "      <td>NaN</td>\n",
       "      <td>NaN</td>\n",
       "      <td>NaN</td>\n",
       "      <td>6.0</td>\n",
       "      <td>1636.0</td>\n",
       "      <td>2315.0</td>\n",
       "    </tr>\n",
       "    <tr>\n",
       "      <th>2313</th>\n",
       "      <td>C1350</td>\n",
       "      <td>1401</td>\n",
       "      <td>아파트</td>\n",
       "      <td>대전광역시</td>\n",
       "      <td>공공분양</td>\n",
       "      <td>84.94</td>\n",
       "      <td>19</td>\n",
       "      <td>2.0</td>\n",
       "      <td>D</td>\n",
       "      <td>NaN</td>\n",
       "      <td>NaN</td>\n",
       "      <td>NaN</td>\n",
       "      <td>6.0</td>\n",
       "      <td>1636.0</td>\n",
       "      <td>2315.0</td>\n",
       "    </tr>\n",
       "    <tr>\n",
       "      <th>2314</th>\n",
       "      <td>C1350</td>\n",
       "      <td>1401</td>\n",
       "      <td>아파트</td>\n",
       "      <td>대전광역시</td>\n",
       "      <td>공공분양</td>\n",
       "      <td>84.96</td>\n",
       "      <td>26</td>\n",
       "      <td>2.0</td>\n",
       "      <td>D</td>\n",
       "      <td>NaN</td>\n",
       "      <td>NaN</td>\n",
       "      <td>NaN</td>\n",
       "      <td>6.0</td>\n",
       "      <td>1636.0</td>\n",
       "      <td>2315.0</td>\n",
       "    </tr>\n",
       "    <tr>\n",
       "      <th>2315</th>\n",
       "      <td>C1350</td>\n",
       "      <td>1401</td>\n",
       "      <td>아파트</td>\n",
       "      <td>대전광역시</td>\n",
       "      <td>공공분양</td>\n",
       "      <td>84.97</td>\n",
       "      <td>26</td>\n",
       "      <td>2.0</td>\n",
       "      <td>D</td>\n",
       "      <td>NaN</td>\n",
       "      <td>NaN</td>\n",
       "      <td>NaN</td>\n",
       "      <td>6.0</td>\n",
       "      <td>1636.0</td>\n",
       "      <td>2315.0</td>\n",
       "    </tr>\n",
       "  </tbody>\n",
       "</table>\n",
       "<p>569 rows × 15 columns</p>\n",
       "</div>"
      ],
      "text/plain": [
       "       단지코드  총세대수 임대건물구분     지역  공급유형   전용면적  전용면적별세대수  공가수 자격유형 임대보증금  임대료  \\\n",
       "80    C1925   601     상가    강원도  임대상가  32.10         1  9.0    D   NaN  NaN   \n",
       "81    C1925   601     상가    강원도  임대상가  32.10         1  9.0    D   NaN  NaN   \n",
       "82    C1925   601     상가    강원도  임대상가  32.10         1  9.0    D   NaN  NaN   \n",
       "83    C1925   601     상가    강원도  임대상가  72.16         1  9.0    D   NaN  NaN   \n",
       "93    C1874   619     상가   충청남도  임대상가  12.62         1  2.0    D   NaN  NaN   \n",
       "...     ...   ...    ...    ...   ...    ...       ...  ...  ...   ...  ...   \n",
       "2311  C1350  1401    아파트  대전광역시  공공분양  74.94        22  2.0    D   NaN  NaN   \n",
       "2312  C1350  1401    아파트  대전광역시  공공분양  84.94       164  2.0    D   NaN  NaN   \n",
       "2313  C1350  1401    아파트  대전광역시  공공분양  84.94        19  2.0    D   NaN  NaN   \n",
       "2314  C1350  1401    아파트  대전광역시  공공분양  84.96        26  2.0    D   NaN  NaN   \n",
       "2315  C1350  1401    아파트  대전광역시  공공분양  84.97        26  2.0    D   NaN  NaN   \n",
       "\n",
       "      10분내지하철수  10분내버스정류장수  단지내주차면수   등록차량수  \n",
       "80         0.0         4.0    117.0    75.0  \n",
       "81         0.0         4.0    117.0    75.0  \n",
       "82         0.0         4.0    117.0    75.0  \n",
       "83         0.0         4.0    117.0    75.0  \n",
       "93         NaN         2.0     97.0    62.0  \n",
       "...        ...         ...      ...     ...  \n",
       "2311       NaN         6.0   1636.0  2315.0  \n",
       "2312       NaN         6.0   1636.0  2315.0  \n",
       "2313       NaN         6.0   1636.0  2315.0  \n",
       "2314       NaN         6.0   1636.0  2315.0  \n",
       "2315       NaN         6.0   1636.0  2315.0  \n",
       "\n",
       "[569 rows x 15 columns]"
      ]
     },
     "execution_count": 325,
     "metadata": {},
     "output_type": "execute_result"
    }
   ],
   "source": [
    "train.loc[train['임대보증금'].isnull()]"
   ]
  },
  {
   "cell_type": "code",
   "execution_count": 326,
   "metadata": {},
   "outputs": [
    {
     "data": {
      "text/plain": [
       "array(['아파트', '상가'], dtype=object)"
      ]
     },
     "execution_count": 326,
     "metadata": {},
     "output_type": "execute_result"
    }
   ],
   "source": [
    "train['임대건물구분'].unique()"
   ]
  },
  {
   "cell_type": "code",
   "execution_count": 327,
   "metadata": {},
   "outputs": [
    {
     "data": {
      "text/plain": [
       "array(['국민임대', '공공임대(50년)', '영구임대', '임대상가', '공공임대(10년)', '공공임대(분납)',\n",
       "       '장기전세', '공공분양', '행복주택', '공공임대(5년)'], dtype=object)"
      ]
     },
     "execution_count": 327,
     "metadata": {},
     "output_type": "execute_result"
    }
   ],
   "source": [
    "train['공급유형'].unique()"
   ]
  },
  {
   "cell_type": "markdown",
   "metadata": {},
   "source": [
    "### 1.자격유형"
   ]
  },
  {
   "cell_type": "code",
   "execution_count": 328,
   "metadata": {},
   "outputs": [
    {
     "data": {
      "text/html": [
       "<div>\n",
       "<style scoped>\n",
       "    .dataframe tbody tr th:only-of-type {\n",
       "        vertical-align: middle;\n",
       "    }\n",
       "\n",
       "    .dataframe tbody tr th {\n",
       "        vertical-align: top;\n",
       "    }\n",
       "\n",
       "    .dataframe thead th {\n",
       "        text-align: right;\n",
       "    }\n",
       "</style>\n",
       "<table border=\"1\" class=\"dataframe\">\n",
       "  <thead>\n",
       "    <tr style=\"text-align: right;\">\n",
       "      <th></th>\n",
       "      <th>단지코드</th>\n",
       "      <th>총세대수</th>\n",
       "      <th>임대건물구분</th>\n",
       "      <th>지역</th>\n",
       "      <th>공급유형</th>\n",
       "      <th>전용면적</th>\n",
       "      <th>전용면적별세대수</th>\n",
       "      <th>공가수</th>\n",
       "      <th>자격유형</th>\n",
       "      <th>임대보증금</th>\n",
       "      <th>임대료</th>\n",
       "      <th>10분내지하철수</th>\n",
       "      <th>10분내버스정류장수</th>\n",
       "      <th>단지내주차면수</th>\n",
       "    </tr>\n",
       "  </thead>\n",
       "  <tbody>\n",
       "    <tr>\n",
       "      <th>196</th>\n",
       "      <td>C2411</td>\n",
       "      <td>962</td>\n",
       "      <td>아파트</td>\n",
       "      <td>경상남도</td>\n",
       "      <td>국민임대</td>\n",
       "      <td>46.90</td>\n",
       "      <td>240</td>\n",
       "      <td>25.0</td>\n",
       "      <td>NaN</td>\n",
       "      <td>71950000</td>\n",
       "      <td>37470</td>\n",
       "      <td>0.0</td>\n",
       "      <td>2.0</td>\n",
       "      <td>840.0</td>\n",
       "    </tr>\n",
       "    <tr>\n",
       "      <th>258</th>\n",
       "      <td>C2253</td>\n",
       "      <td>1161</td>\n",
       "      <td>아파트</td>\n",
       "      <td>강원도</td>\n",
       "      <td>영구임대</td>\n",
       "      <td>26.37</td>\n",
       "      <td>745</td>\n",
       "      <td>0.0</td>\n",
       "      <td>NaN</td>\n",
       "      <td>2249000</td>\n",
       "      <td>44770</td>\n",
       "      <td>0.0</td>\n",
       "      <td>2.0</td>\n",
       "      <td>173.0</td>\n",
       "    </tr>\n",
       "  </tbody>\n",
       "</table>\n",
       "</div>"
      ],
      "text/plain": [
       "      단지코드  총세대수 임대건물구분    지역  공급유형   전용면적  전용면적별세대수   공가수 자격유형     임대보증금  \\\n",
       "196  C2411   962    아파트  경상남도  국민임대  46.90       240  25.0  NaN  71950000   \n",
       "258  C2253  1161    아파트   강원도  영구임대  26.37       745   0.0  NaN   2249000   \n",
       "\n",
       "       임대료  10분내지하철수  10분내버스정류장수  단지내주차면수  \n",
       "196  37470       0.0         2.0    840.0  \n",
       "258  44770       0.0         2.0    173.0  "
      ]
     },
     "execution_count": 328,
     "metadata": {},
     "output_type": "execute_result"
    }
   ],
   "source": [
    "test.loc[test['자격유형'].isnull()]"
   ]
  },
  {
   "cell_type": "code",
   "execution_count": 329,
   "metadata": {},
   "outputs": [
    {
     "name": "stdout",
     "output_type": "stream",
     "text": [
      "      단지코드  총세대수 임대건물구분    지역  공급유형   전용면적  전용면적별세대수   공가수 자격유형     임대보증금  \\\n",
      "193  C2411   962    아파트  경상남도  국민임대  39.43        56  25.0    A  11992000   \n",
      "194  C2411   962    아파트  경상남도  국민임대  39.72       336  25.0    A  11992000   \n",
      "195  C2411   962    아파트  경상남도  국민임대  39.82       179  25.0    A  11992000   \n",
      "196  C2411   962    아파트  경상남도  국민임대  46.90       240  25.0  NaN  71950000   \n",
      "197  C2411   962    아파트  경상남도  국민임대  51.93       150  25.0    A  21586000   \n",
      "\n",
      "        임대료  10분내지하철수  10분내버스정류장수  단지내주차면수  \n",
      "193  100720       0.0         2.0    840.0  \n",
      "194  100720       0.0         2.0    840.0  \n",
      "195  100720       0.0         2.0    840.0  \n",
      "196   37470       0.0         2.0    840.0  \n",
      "197  171480       0.0         2.0    840.0  \n",
      "      단지코드  총세대수 임대건물구분   지역  공급유형   전용면적  전용면적별세대수  공가수 자격유형    임대보증금    임대료  \\\n",
      "258  C2253  1161    아파트  강원도  영구임대  26.37       745  0.0  NaN  2249000  44770   \n",
      "259  C2253  1161    아파트  강원도  영구임대  31.32       239  0.0    C  3731000  83020   \n",
      "260  C2253  1161    아파트  강원도  영구임대  31.32       149  0.0    C  3731000  83020   \n",
      "\n",
      "     10분내지하철수  10분내버스정류장수  단지내주차면수  \n",
      "258       0.0         2.0    173.0  \n",
      "259       0.0         2.0    173.0  \n",
      "260       0.0         2.0    173.0  \n"
     ]
    }
   ],
   "source": [
    "grouped=test.groupby(['단지코드','임대건물구분','지역','공급유형'])\n",
    "group1=grouped.get_group(('C2411','아파트','경상남도','국민임대'))\n",
    "group2=grouped.get_group(('C2253','아파트','강원도','영구임대'))\n",
    "print(group1)\n",
    "print(group2)"
   ]
  },
  {
   "cell_type": "code",
   "execution_count": 330,
   "metadata": {},
   "outputs": [],
   "source": [
    "test.loc[196,'자격유형']='A'\n",
    "test.loc[258,'자격유형']='C'"
   ]
  },
  {
   "cell_type": "code",
   "execution_count": 331,
   "metadata": {},
   "outputs": [
    {
     "data": {
      "text/plain": [
       "0"
      ]
     },
     "execution_count": 331,
     "metadata": {},
     "output_type": "execute_result"
    }
   ],
   "source": [
    "test['자격유형'].isnull().sum()"
   ]
  },
  {
   "cell_type": "code",
   "execution_count": 332,
   "metadata": {},
   "outputs": [
    {
     "data": {
      "text/plain": [
       "array(['A', 'B', 'C', 'D', 'E', 'F', 'G', 'H', 'I', 'J', 'K', 'L', 'M',\n",
       "       'N', 'O'], dtype=object)"
      ]
     },
     "execution_count": 332,
     "metadata": {},
     "output_type": "execute_result"
    }
   ],
   "source": [
    "train['자격유형'].unique()"
   ]
  },
  {
   "cell_type": "code",
   "execution_count": 333,
   "metadata": {},
   "outputs": [],
   "source": [
    "mapping = { 'A':1, 'B':2, 'C':3, 'D':4, 'E':5,\n",
    "            'F':6, 'G':7, 'H':8, 'I':9, 'J':10,\n",
    "            'K':11, 'L':12, 'M':13, 'N':14, 'O':15  }\n",
    "train['자격유형']=train['자격유형'].map(mapping).astype(int)\n",
    "test['자격유형']=test['자격유형'].map(mapping).astype(int)"
   ]
  },
  {
   "cell_type": "markdown",
   "metadata": {},
   "source": [
    "### 2.도보 10분거리 내 버스정류장 수_qcut"
   ]
  },
  {
   "cell_type": "code",
   "execution_count": 334,
   "metadata": {},
   "outputs": [
    {
     "data": {
      "text/html": [
       "<div>\n",
       "<style scoped>\n",
       "    .dataframe tbody tr th:only-of-type {\n",
       "        vertical-align: middle;\n",
       "    }\n",
       "\n",
       "    .dataframe tbody tr th {\n",
       "        vertical-align: top;\n",
       "    }\n",
       "\n",
       "    .dataframe thead th {\n",
       "        text-align: right;\n",
       "    }\n",
       "</style>\n",
       "<table border=\"1\" class=\"dataframe\">\n",
       "  <thead>\n",
       "    <tr style=\"text-align: right;\">\n",
       "      <th></th>\n",
       "      <th>단지코드</th>\n",
       "      <th>총세대수</th>\n",
       "      <th>임대건물구분</th>\n",
       "      <th>지역</th>\n",
       "      <th>공급유형</th>\n",
       "      <th>전용면적</th>\n",
       "      <th>전용면적별세대수</th>\n",
       "      <th>공가수</th>\n",
       "      <th>자격유형</th>\n",
       "      <th>임대보증금</th>\n",
       "      <th>임대료</th>\n",
       "      <th>10분내지하철수</th>\n",
       "      <th>10분내버스정류장수</th>\n",
       "      <th>단지내주차면수</th>\n",
       "      <th>등록차량수</th>\n",
       "    </tr>\n",
       "  </thead>\n",
       "  <tbody>\n",
       "    <tr>\n",
       "      <th>2293</th>\n",
       "      <td>N2431</td>\n",
       "      <td>1047</td>\n",
       "      <td>아파트</td>\n",
       "      <td>경상남도</td>\n",
       "      <td>공공임대(10년)</td>\n",
       "      <td>74.97</td>\n",
       "      <td>80</td>\n",
       "      <td>15.0</td>\n",
       "      <td>1</td>\n",
       "      <td>46000000</td>\n",
       "      <td>456000</td>\n",
       "      <td>NaN</td>\n",
       "      <td>NaN</td>\n",
       "      <td>1066.0</td>\n",
       "      <td>1214.0</td>\n",
       "    </tr>\n",
       "    <tr>\n",
       "      <th>2294</th>\n",
       "      <td>N2431</td>\n",
       "      <td>1047</td>\n",
       "      <td>아파트</td>\n",
       "      <td>경상남도</td>\n",
       "      <td>공공임대(10년)</td>\n",
       "      <td>84.95</td>\n",
       "      <td>124</td>\n",
       "      <td>15.0</td>\n",
       "      <td>1</td>\n",
       "      <td>57000000</td>\n",
       "      <td>462000</td>\n",
       "      <td>NaN</td>\n",
       "      <td>NaN</td>\n",
       "      <td>1066.0</td>\n",
       "      <td>1214.0</td>\n",
       "    </tr>\n",
       "    <tr>\n",
       "      <th>2295</th>\n",
       "      <td>N2431</td>\n",
       "      <td>1047</td>\n",
       "      <td>아파트</td>\n",
       "      <td>경상남도</td>\n",
       "      <td>공공임대(10년)</td>\n",
       "      <td>84.96</td>\n",
       "      <td>289</td>\n",
       "      <td>15.0</td>\n",
       "      <td>1</td>\n",
       "      <td>57000000</td>\n",
       "      <td>462000</td>\n",
       "      <td>NaN</td>\n",
       "      <td>NaN</td>\n",
       "      <td>1066.0</td>\n",
       "      <td>1214.0</td>\n",
       "    </tr>\n",
       "    <tr>\n",
       "      <th>2296</th>\n",
       "      <td>N2431</td>\n",
       "      <td>1047</td>\n",
       "      <td>아파트</td>\n",
       "      <td>경상남도</td>\n",
       "      <td>공공임대(10년)</td>\n",
       "      <td>84.98</td>\n",
       "      <td>82</td>\n",
       "      <td>15.0</td>\n",
       "      <td>1</td>\n",
       "      <td>57000000</td>\n",
       "      <td>462000</td>\n",
       "      <td>NaN</td>\n",
       "      <td>NaN</td>\n",
       "      <td>1066.0</td>\n",
       "      <td>1214.0</td>\n",
       "    </tr>\n",
       "  </tbody>\n",
       "</table>\n",
       "</div>"
      ],
      "text/plain": [
       "       단지코드  총세대수 임대건물구분    지역       공급유형   전용면적  전용면적별세대수   공가수  자격유형  \\\n",
       "2293  N2431  1047    아파트  경상남도  공공임대(10년)  74.97        80  15.0     1   \n",
       "2294  N2431  1047    아파트  경상남도  공공임대(10년)  84.95       124  15.0     1   \n",
       "2295  N2431  1047    아파트  경상남도  공공임대(10년)  84.96       289  15.0     1   \n",
       "2296  N2431  1047    아파트  경상남도  공공임대(10년)  84.98        82  15.0     1   \n",
       "\n",
       "         임대보증금     임대료  10분내지하철수  10분내버스정류장수  단지내주차면수   등록차량수  \n",
       "2293  46000000  456000       NaN         NaN   1066.0  1214.0  \n",
       "2294  57000000  462000       NaN         NaN   1066.0  1214.0  \n",
       "2295  57000000  462000       NaN         NaN   1066.0  1214.0  \n",
       "2296  57000000  462000       NaN         NaN   1066.0  1214.0  "
      ]
     },
     "execution_count": 334,
     "metadata": {},
     "output_type": "execute_result"
    }
   ],
   "source": [
    "train.loc[train['10분내버스정류장수'].isnull()]"
   ]
  },
  {
   "cell_type": "code",
   "execution_count": 335,
   "metadata": {},
   "outputs": [
    {
     "data": {
      "text/html": [
       "<div>\n",
       "<style scoped>\n",
       "    .dataframe tbody tr th:only-of-type {\n",
       "        vertical-align: middle;\n",
       "    }\n",
       "\n",
       "    .dataframe tbody tr th {\n",
       "        vertical-align: top;\n",
       "    }\n",
       "\n",
       "    .dataframe thead th {\n",
       "        text-align: right;\n",
       "    }\n",
       "</style>\n",
       "<table border=\"1\" class=\"dataframe\">\n",
       "  <thead>\n",
       "    <tr style=\"text-align: right;\">\n",
       "      <th></th>\n",
       "      <th>단지코드</th>\n",
       "      <th>총세대수</th>\n",
       "      <th>임대건물구분</th>\n",
       "      <th>지역</th>\n",
       "      <th>공급유형</th>\n",
       "      <th>전용면적</th>\n",
       "      <th>전용면적별세대수</th>\n",
       "      <th>공가수</th>\n",
       "      <th>자격유형</th>\n",
       "      <th>임대보증금</th>\n",
       "      <th>임대료</th>\n",
       "      <th>10분내지하철수</th>\n",
       "      <th>10분내버스정류장수</th>\n",
       "      <th>단지내주차면수</th>\n",
       "    </tr>\n",
       "  </thead>\n",
       "  <tbody>\n",
       "    <tr>\n",
       "      <th>810</th>\n",
       "      <td>C2175</td>\n",
       "      <td>595</td>\n",
       "      <td>아파트</td>\n",
       "      <td>경상남도</td>\n",
       "      <td>공공임대(10년)</td>\n",
       "      <td>74.82</td>\n",
       "      <td>118</td>\n",
       "      <td>5.0</td>\n",
       "      <td>1</td>\n",
       "      <td>47000000</td>\n",
       "      <td>470000</td>\n",
       "      <td>0.0</td>\n",
       "      <td>3.0</td>\n",
       "      <td>685.0</td>\n",
       "    </tr>\n",
       "    <tr>\n",
       "      <th>811</th>\n",
       "      <td>C2175</td>\n",
       "      <td>595</td>\n",
       "      <td>아파트</td>\n",
       "      <td>경상남도</td>\n",
       "      <td>공공임대(10년)</td>\n",
       "      <td>84.69</td>\n",
       "      <td>297</td>\n",
       "      <td>5.0</td>\n",
       "      <td>1</td>\n",
       "      <td>58000000</td>\n",
       "      <td>520000</td>\n",
       "      <td>0.0</td>\n",
       "      <td>3.0</td>\n",
       "      <td>685.0</td>\n",
       "    </tr>\n",
       "    <tr>\n",
       "      <th>812</th>\n",
       "      <td>C2175</td>\n",
       "      <td>595</td>\n",
       "      <td>아파트</td>\n",
       "      <td>경상남도</td>\n",
       "      <td>공공임대(10년)</td>\n",
       "      <td>84.86</td>\n",
       "      <td>143</td>\n",
       "      <td>5.0</td>\n",
       "      <td>1</td>\n",
       "      <td>58000000</td>\n",
       "      <td>520000</td>\n",
       "      <td>0.0</td>\n",
       "      <td>3.0</td>\n",
       "      <td>685.0</td>\n",
       "    </tr>\n",
       "    <tr>\n",
       "      <th>813</th>\n",
       "      <td>C2175</td>\n",
       "      <td>595</td>\n",
       "      <td>아파트</td>\n",
       "      <td>경상남도</td>\n",
       "      <td>공공임대(10년)</td>\n",
       "      <td>84.89</td>\n",
       "      <td>13</td>\n",
       "      <td>5.0</td>\n",
       "      <td>1</td>\n",
       "      <td>58000000</td>\n",
       "      <td>520000</td>\n",
       "      <td>0.0</td>\n",
       "      <td>3.0</td>\n",
       "      <td>685.0</td>\n",
       "    </tr>\n",
       "    <tr>\n",
       "      <th>814</th>\n",
       "      <td>C2175</td>\n",
       "      <td>595</td>\n",
       "      <td>아파트</td>\n",
       "      <td>경상남도</td>\n",
       "      <td>공공임대(10년)</td>\n",
       "      <td>84.94</td>\n",
       "      <td>13</td>\n",
       "      <td>5.0</td>\n",
       "      <td>1</td>\n",
       "      <td>58000000</td>\n",
       "      <td>520000</td>\n",
       "      <td>0.0</td>\n",
       "      <td>3.0</td>\n",
       "      <td>685.0</td>\n",
       "    </tr>\n",
       "    <tr>\n",
       "      <th>815</th>\n",
       "      <td>C2175</td>\n",
       "      <td>595</td>\n",
       "      <td>아파트</td>\n",
       "      <td>경상남도</td>\n",
       "      <td>공공임대(10년)</td>\n",
       "      <td>84.94</td>\n",
       "      <td>11</td>\n",
       "      <td>5.0</td>\n",
       "      <td>1</td>\n",
       "      <td>58000000</td>\n",
       "      <td>520000</td>\n",
       "      <td>0.0</td>\n",
       "      <td>3.0</td>\n",
       "      <td>685.0</td>\n",
       "    </tr>\n",
       "  </tbody>\n",
       "</table>\n",
       "</div>"
      ],
      "text/plain": [
       "      단지코드  총세대수 임대건물구분    지역       공급유형   전용면적  전용면적별세대수  공가수  자격유형  \\\n",
       "810  C2175   595    아파트  경상남도  공공임대(10년)  74.82       118  5.0     1   \n",
       "811  C2175   595    아파트  경상남도  공공임대(10년)  84.69       297  5.0     1   \n",
       "812  C2175   595    아파트  경상남도  공공임대(10년)  84.86       143  5.0     1   \n",
       "813  C2175   595    아파트  경상남도  공공임대(10년)  84.89        13  5.0     1   \n",
       "814  C2175   595    아파트  경상남도  공공임대(10년)  84.94        13  5.0     1   \n",
       "815  C2175   595    아파트  경상남도  공공임대(10년)  84.94        11  5.0     1   \n",
       "\n",
       "        임대보증금     임대료  10분내지하철수  10분내버스정류장수  단지내주차면수  \n",
       "810  47000000  470000       0.0         3.0    685.0  \n",
       "811  58000000  520000       0.0         3.0    685.0  \n",
       "812  58000000  520000       0.0         3.0    685.0  \n",
       "813  58000000  520000       0.0         3.0    685.0  \n",
       "814  58000000  520000       0.0         3.0    685.0  \n",
       "815  58000000  520000       0.0         3.0    685.0  "
      ]
     },
     "execution_count": 335,
     "metadata": {},
     "output_type": "execute_result"
    }
   ],
   "source": [
    "grouped=test.groupby(['임대건물구분','지역','공급유형','자격유형'])\n",
    "group1=grouped.get_group(('아파트','경상남도','공공임대(10년)',1))\n",
    "group1"
   ]
  },
  {
   "cell_type": "code",
   "execution_count": 336,
   "metadata": {},
   "outputs": [
    {
     "data": {
      "text/html": [
       "<div>\n",
       "<style scoped>\n",
       "    .dataframe tbody tr th:only-of-type {\n",
       "        vertical-align: middle;\n",
       "    }\n",
       "\n",
       "    .dataframe tbody tr th {\n",
       "        vertical-align: top;\n",
       "    }\n",
       "\n",
       "    .dataframe thead th {\n",
       "        text-align: right;\n",
       "    }\n",
       "</style>\n",
       "<table border=\"1\" class=\"dataframe\">\n",
       "  <thead>\n",
       "    <tr style=\"text-align: right;\">\n",
       "      <th></th>\n",
       "      <th>단지코드</th>\n",
       "      <th>총세대수</th>\n",
       "      <th>임대건물구분</th>\n",
       "      <th>지역</th>\n",
       "      <th>공급유형</th>\n",
       "      <th>전용면적</th>\n",
       "      <th>전용면적별세대수</th>\n",
       "      <th>공가수</th>\n",
       "      <th>자격유형</th>\n",
       "      <th>임대보증금</th>\n",
       "      <th>임대료</th>\n",
       "      <th>10분내지하철수</th>\n",
       "      <th>10분내버스정류장수</th>\n",
       "      <th>단지내주차면수</th>\n",
       "      <th>등록차량수</th>\n",
       "    </tr>\n",
       "  </thead>\n",
       "  <tbody>\n",
       "  </tbody>\n",
       "</table>\n",
       "</div>"
      ],
      "text/plain": [
       "Empty DataFrame\n",
       "Columns: [단지코드, 총세대수, 임대건물구분, 지역, 공급유형, 전용면적, 전용면적별세대수, 공가수, 자격유형, 임대보증금, 임대료, 10분내지하철수, 10분내버스정류장수, 단지내주차면수, 등록차량수]\n",
       "Index: []"
      ]
     },
     "execution_count": 336,
     "metadata": {},
     "output_type": "execute_result"
    }
   ],
   "source": [
    "train.loc[train['10분내버스정류장수'].isnull(),\"10분내버스정류장수\"]=5\n",
    "train.loc[train['10분내버스정류장수'].isnull(),:]"
   ]
  },
  {
   "cell_type": "code",
   "execution_count": 337,
   "metadata": {},
   "outputs": [],
   "source": [
    "train['label_bus']=pd.qcut(train['10분내버스정류장수'],30,labels=False,duplicates='drop')"
   ]
  },
  {
   "cell_type": "code",
   "execution_count": 338,
   "metadata": {},
   "outputs": [],
   "source": [
    "test['label_bus']=pd.qcut(test['10분내버스정류장수'],30,labels=False,duplicates='drop')"
   ]
  },
  {
   "cell_type": "markdown",
   "metadata": {},
   "source": [
    "### 3.도보 10분거리 내 지하철역 수(환승노선 수 반영)_qcut"
   ]
  },
  {
   "cell_type": "code",
   "execution_count": 339,
   "metadata": {},
   "outputs": [
    {
     "data": {
      "text/plain": [
       "211"
      ]
     },
     "execution_count": 339,
     "metadata": {},
     "output_type": "execute_result"
    }
   ],
   "source": [
    "train['10분내지하철수'].isnull().sum()"
   ]
  },
  {
   "cell_type": "code",
   "execution_count": 340,
   "metadata": {},
   "outputs": [
    {
     "data": {
      "text/plain": [
       "38"
      ]
     },
     "execution_count": 340,
     "metadata": {},
     "output_type": "execute_result"
    }
   ],
   "source": [
    "test['10분내지하철수'].isnull().sum()"
   ]
  },
  {
   "cell_type": "code",
   "execution_count": 341,
   "metadata": {},
   "outputs": [],
   "source": [
    "import numpy as np"
   ]
  },
  {
   "cell_type": "code",
   "execution_count": 342,
   "metadata": {},
   "outputs": [
    {
     "data": {
      "text/html": [
       "<div>\n",
       "<style scoped>\n",
       "    .dataframe tbody tr th:only-of-type {\n",
       "        vertical-align: middle;\n",
       "    }\n",
       "\n",
       "    .dataframe tbody tr th {\n",
       "        vertical-align: top;\n",
       "    }\n",
       "\n",
       "    .dataframe thead th {\n",
       "        text-align: right;\n",
       "    }\n",
       "</style>\n",
       "<table border=\"1\" class=\"dataframe\">\n",
       "  <thead>\n",
       "    <tr style=\"text-align: right;\">\n",
       "      <th></th>\n",
       "      <th>단지코드</th>\n",
       "      <th>총세대수</th>\n",
       "      <th>임대건물구분</th>\n",
       "      <th>지역</th>\n",
       "      <th>공급유형</th>\n",
       "      <th>전용면적</th>\n",
       "      <th>전용면적별세대수</th>\n",
       "      <th>공가수</th>\n",
       "      <th>자격유형</th>\n",
       "      <th>임대보증금</th>\n",
       "      <th>임대료</th>\n",
       "      <th>10분내지하철수</th>\n",
       "      <th>10분내버스정류장수</th>\n",
       "      <th>단지내주차면수</th>\n",
       "      <th>등록차량수</th>\n",
       "      <th>label_bus</th>\n",
       "    </tr>\n",
       "  </thead>\n",
       "  <tbody>\n",
       "    <tr>\n",
       "      <th>86</th>\n",
       "      <td>C1312</td>\n",
       "      <td>518</td>\n",
       "      <td>아파트</td>\n",
       "      <td>충청남도</td>\n",
       "      <td>국민임대</td>\n",
       "      <td>39.72</td>\n",
       "      <td>60</td>\n",
       "      <td>12.0</td>\n",
       "      <td>1</td>\n",
       "      <td>17460000</td>\n",
       "      <td>122210</td>\n",
       "      <td>NaN</td>\n",
       "      <td>3.0</td>\n",
       "      <td>527.0</td>\n",
       "      <td>359.0</td>\n",
       "      <td>2</td>\n",
       "    </tr>\n",
       "    <tr>\n",
       "      <th>87</th>\n",
       "      <td>C1312</td>\n",
       "      <td>518</td>\n",
       "      <td>아파트</td>\n",
       "      <td>충청남도</td>\n",
       "      <td>국민임대</td>\n",
       "      <td>39.98</td>\n",
       "      <td>89</td>\n",
       "      <td>12.0</td>\n",
       "      <td>1</td>\n",
       "      <td>17460000</td>\n",
       "      <td>122210</td>\n",
       "      <td>NaN</td>\n",
       "      <td>3.0</td>\n",
       "      <td>527.0</td>\n",
       "      <td>359.0</td>\n",
       "      <td>2</td>\n",
       "    </tr>\n",
       "    <tr>\n",
       "      <th>88</th>\n",
       "      <td>C1312</td>\n",
       "      <td>518</td>\n",
       "      <td>아파트</td>\n",
       "      <td>충청남도</td>\n",
       "      <td>국민임대</td>\n",
       "      <td>41.55</td>\n",
       "      <td>225</td>\n",
       "      <td>12.0</td>\n",
       "      <td>1</td>\n",
       "      <td>19954000</td>\n",
       "      <td>130940</td>\n",
       "      <td>NaN</td>\n",
       "      <td>3.0</td>\n",
       "      <td>527.0</td>\n",
       "      <td>359.0</td>\n",
       "      <td>2</td>\n",
       "    </tr>\n",
       "    <tr>\n",
       "      <th>89</th>\n",
       "      <td>C1312</td>\n",
       "      <td>518</td>\n",
       "      <td>아파트</td>\n",
       "      <td>충청남도</td>\n",
       "      <td>국민임대</td>\n",
       "      <td>46.90</td>\n",
       "      <td>143</td>\n",
       "      <td>12.0</td>\n",
       "      <td>1</td>\n",
       "      <td>28687000</td>\n",
       "      <td>149660</td>\n",
       "      <td>NaN</td>\n",
       "      <td>3.0</td>\n",
       "      <td>527.0</td>\n",
       "      <td>359.0</td>\n",
       "      <td>2</td>\n",
       "    </tr>\n",
       "    <tr>\n",
       "      <th>90</th>\n",
       "      <td>C1874</td>\n",
       "      <td>619</td>\n",
       "      <td>아파트</td>\n",
       "      <td>충청남도</td>\n",
       "      <td>영구임대</td>\n",
       "      <td>26.37</td>\n",
       "      <td>294</td>\n",
       "      <td>2.0</td>\n",
       "      <td>3</td>\n",
       "      <td>3141000</td>\n",
       "      <td>69900</td>\n",
       "      <td>NaN</td>\n",
       "      <td>2.0</td>\n",
       "      <td>97.0</td>\n",
       "      <td>62.0</td>\n",
       "      <td>1</td>\n",
       "    </tr>\n",
       "    <tr>\n",
       "      <th>...</th>\n",
       "      <td>...</td>\n",
       "      <td>...</td>\n",
       "      <td>...</td>\n",
       "      <td>...</td>\n",
       "      <td>...</td>\n",
       "      <td>...</td>\n",
       "      <td>...</td>\n",
       "      <td>...</td>\n",
       "      <td>...</td>\n",
       "      <td>...</td>\n",
       "      <td>...</td>\n",
       "      <td>...</td>\n",
       "      <td>...</td>\n",
       "      <td>...</td>\n",
       "      <td>...</td>\n",
       "      <td>...</td>\n",
       "    </tr>\n",
       "    <tr>\n",
       "      <th>2317</th>\n",
       "      <td>C1350</td>\n",
       "      <td>1401</td>\n",
       "      <td>아파트</td>\n",
       "      <td>대전광역시</td>\n",
       "      <td>공공임대(10년)</td>\n",
       "      <td>59.91</td>\n",
       "      <td>13</td>\n",
       "      <td>2.0</td>\n",
       "      <td>1</td>\n",
       "      <td>37474000</td>\n",
       "      <td>519350</td>\n",
       "      <td>NaN</td>\n",
       "      <td>6.0</td>\n",
       "      <td>1636.0</td>\n",
       "      <td>2315.0</td>\n",
       "      <td>5</td>\n",
       "    </tr>\n",
       "    <tr>\n",
       "      <th>2318</th>\n",
       "      <td>C1350</td>\n",
       "      <td>1401</td>\n",
       "      <td>아파트</td>\n",
       "      <td>대전광역시</td>\n",
       "      <td>공공임대(10년)</td>\n",
       "      <td>59.92</td>\n",
       "      <td>223</td>\n",
       "      <td>2.0</td>\n",
       "      <td>1</td>\n",
       "      <td>37385000</td>\n",
       "      <td>516130</td>\n",
       "      <td>NaN</td>\n",
       "      <td>6.0</td>\n",
       "      <td>1636.0</td>\n",
       "      <td>2315.0</td>\n",
       "      <td>5</td>\n",
       "    </tr>\n",
       "    <tr>\n",
       "      <th>2319</th>\n",
       "      <td>C1350</td>\n",
       "      <td>1401</td>\n",
       "      <td>아파트</td>\n",
       "      <td>대전광역시</td>\n",
       "      <td>공공임대(분납)</td>\n",
       "      <td>51.99</td>\n",
       "      <td>146</td>\n",
       "      <td>2.0</td>\n",
       "      <td>1</td>\n",
       "      <td>54612000</td>\n",
       "      <td>131130</td>\n",
       "      <td>NaN</td>\n",
       "      <td>6.0</td>\n",
       "      <td>1636.0</td>\n",
       "      <td>2315.0</td>\n",
       "      <td>5</td>\n",
       "    </tr>\n",
       "    <tr>\n",
       "      <th>2320</th>\n",
       "      <td>C1350</td>\n",
       "      <td>1401</td>\n",
       "      <td>아파트</td>\n",
       "      <td>대전광역시</td>\n",
       "      <td>공공임대(분납)</td>\n",
       "      <td>59.91</td>\n",
       "      <td>32</td>\n",
       "      <td>2.0</td>\n",
       "      <td>1</td>\n",
       "      <td>63585000</td>\n",
       "      <td>152680</td>\n",
       "      <td>NaN</td>\n",
       "      <td>6.0</td>\n",
       "      <td>1636.0</td>\n",
       "      <td>2315.0</td>\n",
       "      <td>5</td>\n",
       "    </tr>\n",
       "    <tr>\n",
       "      <th>2321</th>\n",
       "      <td>C1350</td>\n",
       "      <td>1401</td>\n",
       "      <td>아파트</td>\n",
       "      <td>대전광역시</td>\n",
       "      <td>공공임대(분납)</td>\n",
       "      <td>59.92</td>\n",
       "      <td>170</td>\n",
       "      <td>2.0</td>\n",
       "      <td>1</td>\n",
       "      <td>63501000</td>\n",
       "      <td>152480</td>\n",
       "      <td>NaN</td>\n",
       "      <td>6.0</td>\n",
       "      <td>1636.0</td>\n",
       "      <td>2315.0</td>\n",
       "      <td>5</td>\n",
       "    </tr>\n",
       "  </tbody>\n",
       "</table>\n",
       "<p>211 rows × 16 columns</p>\n",
       "</div>"
      ],
      "text/plain": [
       "       단지코드  총세대수 임대건물구분     지역       공급유형   전용면적  전용면적별세대수   공가수  자격유형  \\\n",
       "86    C1312   518    아파트   충청남도       국민임대  39.72        60  12.0     1   \n",
       "87    C1312   518    아파트   충청남도       국민임대  39.98        89  12.0     1   \n",
       "88    C1312   518    아파트   충청남도       국민임대  41.55       225  12.0     1   \n",
       "89    C1312   518    아파트   충청남도       국민임대  46.90       143  12.0     1   \n",
       "90    C1874   619    아파트   충청남도       영구임대  26.37       294   2.0     3   \n",
       "...     ...   ...    ...    ...        ...    ...       ...   ...   ...   \n",
       "2317  C1350  1401    아파트  대전광역시  공공임대(10년)  59.91        13   2.0     1   \n",
       "2318  C1350  1401    아파트  대전광역시  공공임대(10년)  59.92       223   2.0     1   \n",
       "2319  C1350  1401    아파트  대전광역시   공공임대(분납)  51.99       146   2.0     1   \n",
       "2320  C1350  1401    아파트  대전광역시   공공임대(분납)  59.91        32   2.0     1   \n",
       "2321  C1350  1401    아파트  대전광역시   공공임대(분납)  59.92       170   2.0     1   \n",
       "\n",
       "         임대보증금     임대료  10분내지하철수  10분내버스정류장수  단지내주차면수   등록차량수  label_bus  \n",
       "86    17460000  122210       NaN         3.0    527.0   359.0          2  \n",
       "87    17460000  122210       NaN         3.0    527.0   359.0          2  \n",
       "88    19954000  130940       NaN         3.0    527.0   359.0          2  \n",
       "89    28687000  149660       NaN         3.0    527.0   359.0          2  \n",
       "90     3141000   69900       NaN         2.0     97.0    62.0          1  \n",
       "...        ...     ...       ...         ...      ...     ...        ...  \n",
       "2317  37474000  519350       NaN         6.0   1636.0  2315.0          5  \n",
       "2318  37385000  516130       NaN         6.0   1636.0  2315.0          5  \n",
       "2319  54612000  131130       NaN         6.0   1636.0  2315.0          5  \n",
       "2320  63585000  152680       NaN         6.0   1636.0  2315.0          5  \n",
       "2321  63501000  152480       NaN         6.0   1636.0  2315.0          5  \n",
       "\n",
       "[211 rows x 16 columns]"
      ]
     },
     "execution_count": 342,
     "metadata": {},
     "output_type": "execute_result"
    }
   ],
   "source": [
    "train.loc[train['10분내지하철수'].isnull(),:]"
   ]
  },
  {
   "cell_type": "code",
   "execution_count": 343,
   "metadata": {},
   "outputs": [],
   "source": [
    "train['10분내지하철수']=train['10분내지하철수'].fillna(train.groupby('10분내버스정류장수')['10분내지하철수'].transform(np.mean))"
   ]
  },
  {
   "cell_type": "code",
   "execution_count": 344,
   "metadata": {},
   "outputs": [],
   "source": [
    "test['10분내지하철수']=test['10분내지하철수'].fillna(test.groupby('10분내버스정류장수')['10분내지하철수'].transform(np.mean))"
   ]
  },
  {
   "cell_type": "code",
   "execution_count": 345,
   "metadata": {},
   "outputs": [
    {
     "data": {
      "text/html": [
       "<div>\n",
       "<style scoped>\n",
       "    .dataframe tbody tr th:only-of-type {\n",
       "        vertical-align: middle;\n",
       "    }\n",
       "\n",
       "    .dataframe tbody tr th {\n",
       "        vertical-align: top;\n",
       "    }\n",
       "\n",
       "    .dataframe thead th {\n",
       "        text-align: right;\n",
       "    }\n",
       "</style>\n",
       "<table border=\"1\" class=\"dataframe\">\n",
       "  <thead>\n",
       "    <tr style=\"text-align: right;\">\n",
       "      <th></th>\n",
       "      <th>단지코드</th>\n",
       "      <th>총세대수</th>\n",
       "      <th>임대건물구분</th>\n",
       "      <th>지역</th>\n",
       "      <th>공급유형</th>\n",
       "      <th>전용면적</th>\n",
       "      <th>전용면적별세대수</th>\n",
       "      <th>공가수</th>\n",
       "      <th>자격유형</th>\n",
       "      <th>임대보증금</th>\n",
       "      <th>임대료</th>\n",
       "      <th>10분내지하철수</th>\n",
       "      <th>10분내버스정류장수</th>\n",
       "      <th>단지내주차면수</th>\n",
       "      <th>label_bus</th>\n",
       "    </tr>\n",
       "  </thead>\n",
       "  <tbody>\n",
       "  </tbody>\n",
       "</table>\n",
       "</div>"
      ],
      "text/plain": [
       "Empty DataFrame\n",
       "Columns: [단지코드, 총세대수, 임대건물구분, 지역, 공급유형, 전용면적, 전용면적별세대수, 공가수, 자격유형, 임대보증금, 임대료, 10분내지하철수, 10분내버스정류장수, 단지내주차면수, label_bus]\n",
       "Index: []"
      ]
     },
     "execution_count": 345,
     "metadata": {},
     "output_type": "execute_result"
    }
   ],
   "source": [
    "test.loc[test['10분내지하철수'].isnull()]"
   ]
  },
  {
   "cell_type": "code",
   "execution_count": 346,
   "metadata": {},
   "outputs": [],
   "source": [
    "test['10분내지하철수']=test['10분내버스정류장수'].fillna(0)"
   ]
  },
  {
   "cell_type": "code",
   "execution_count": 347,
   "metadata": {},
   "outputs": [],
   "source": [
    "train['label_sub']=pd.qcut(train['10분내지하철수'],30,labels=False,duplicates='drop')\n",
    "test['label_sub']=pd.qcut(test['10분내지하철수'],30,labels=False,duplicates='drop')"
   ]
  },
  {
   "cell_type": "markdown",
   "metadata": {},
   "source": [
    "### 4.단지코드"
   ]
  },
  {
   "cell_type": "code",
   "execution_count": 348,
   "metadata": {},
   "outputs": [
    {
     "data": {
      "text/html": [
       "<div>\n",
       "<style scoped>\n",
       "    .dataframe tbody tr th:only-of-type {\n",
       "        vertical-align: middle;\n",
       "    }\n",
       "\n",
       "    .dataframe tbody tr th {\n",
       "        vertical-align: top;\n",
       "    }\n",
       "\n",
       "    .dataframe thead th {\n",
       "        text-align: right;\n",
       "    }\n",
       "</style>\n",
       "<table border=\"1\" class=\"dataframe\">\n",
       "  <thead>\n",
       "    <tr style=\"text-align: right;\">\n",
       "      <th></th>\n",
       "      <th>단지코드</th>\n",
       "      <th>총세대수</th>\n",
       "      <th>임대건물구분</th>\n",
       "      <th>지역</th>\n",
       "      <th>공급유형</th>\n",
       "      <th>전용면적</th>\n",
       "      <th>전용면적별세대수</th>\n",
       "      <th>공가수</th>\n",
       "      <th>자격유형</th>\n",
       "      <th>임대보증금</th>\n",
       "      <th>임대료</th>\n",
       "      <th>10분내지하철수</th>\n",
       "      <th>10분내버스정류장수</th>\n",
       "      <th>단지내주차면수</th>\n",
       "      <th>label_bus</th>\n",
       "      <th>label_sub</th>\n",
       "    </tr>\n",
       "  </thead>\n",
       "  <tbody>\n",
       "  </tbody>\n",
       "</table>\n",
       "</div>"
      ],
      "text/plain": [
       "Empty DataFrame\n",
       "Columns: [단지코드, 총세대수, 임대건물구분, 지역, 공급유형, 전용면적, 전용면적별세대수, 공가수, 자격유형, 임대보증금, 임대료, 10분내지하철수, 10분내버스정류장수, 단지내주차면수, label_bus, label_sub]\n",
       "Index: []"
      ]
     },
     "execution_count": 348,
     "metadata": {},
     "output_type": "execute_result"
    }
   ],
   "source": [
    "test.loc[test['단지코드'].isnull()]"
   ]
  },
  {
   "cell_type": "code",
   "execution_count": 349,
   "metadata": {},
   "outputs": [
    {
     "data": {
      "text/html": [
       "<div>\n",
       "<style scoped>\n",
       "    .dataframe tbody tr th:only-of-type {\n",
       "        vertical-align: middle;\n",
       "    }\n",
       "\n",
       "    .dataframe tbody tr th {\n",
       "        vertical-align: top;\n",
       "    }\n",
       "\n",
       "    .dataframe thead th {\n",
       "        text-align: right;\n",
       "    }\n",
       "</style>\n",
       "<table border=\"1\" class=\"dataframe\">\n",
       "  <thead>\n",
       "    <tr style=\"text-align: right;\">\n",
       "      <th></th>\n",
       "      <th>단지코드</th>\n",
       "      <th>총세대수</th>\n",
       "      <th>임대건물구분</th>\n",
       "      <th>지역</th>\n",
       "      <th>공급유형</th>\n",
       "      <th>전용면적</th>\n",
       "      <th>전용면적별세대수</th>\n",
       "      <th>공가수</th>\n",
       "      <th>자격유형</th>\n",
       "      <th>임대보증금</th>\n",
       "      <th>임대료</th>\n",
       "      <th>10분내지하철수</th>\n",
       "      <th>10분내버스정류장수</th>\n",
       "      <th>단지내주차면수</th>\n",
       "      <th>등록차량수</th>\n",
       "      <th>label_bus</th>\n",
       "      <th>label_sub</th>\n",
       "    </tr>\n",
       "  </thead>\n",
       "  <tbody>\n",
       "    <tr>\n",
       "      <th>2790</th>\n",
       "      <td>C2298</td>\n",
       "      <td>581</td>\n",
       "      <td>아파트</td>\n",
       "      <td>대전광역시</td>\n",
       "      <td>행복주택</td>\n",
       "      <td>16.85</td>\n",
       "      <td>96</td>\n",
       "      <td>21.0</td>\n",
       "      <td>10</td>\n",
       "      <td>16400000</td>\n",
       "      <td>79000</td>\n",
       "      <td>0.0</td>\n",
       "      <td>3.0</td>\n",
       "      <td>408.0</td>\n",
       "      <td>444.0</td>\n",
       "      <td>2</td>\n",
       "      <td>0</td>\n",
       "    </tr>\n",
       "    <tr>\n",
       "      <th>2791</th>\n",
       "      <td>C2298</td>\n",
       "      <td>581</td>\n",
       "      <td>아파트</td>\n",
       "      <td>대전광역시</td>\n",
       "      <td>행복주택</td>\n",
       "      <td>26.64</td>\n",
       "      <td>204</td>\n",
       "      <td>21.0</td>\n",
       "      <td>10</td>\n",
       "      <td>24520000</td>\n",
       "      <td>118000</td>\n",
       "      <td>0.0</td>\n",
       "      <td>3.0</td>\n",
       "      <td>408.0</td>\n",
       "      <td>444.0</td>\n",
       "      <td>2</td>\n",
       "      <td>0</td>\n",
       "    </tr>\n",
       "    <tr>\n",
       "      <th>2792</th>\n",
       "      <td>C2298</td>\n",
       "      <td>581</td>\n",
       "      <td>아파트</td>\n",
       "      <td>대전광역시</td>\n",
       "      <td>행복주택</td>\n",
       "      <td>26.64</td>\n",
       "      <td>30</td>\n",
       "      <td>21.0</td>\n",
       "      <td>10</td>\n",
       "      <td>24520000</td>\n",
       "      <td>118000</td>\n",
       "      <td>0.0</td>\n",
       "      <td>3.0</td>\n",
       "      <td>408.0</td>\n",
       "      <td>444.0</td>\n",
       "      <td>2</td>\n",
       "      <td>0</td>\n",
       "    </tr>\n",
       "    <tr>\n",
       "      <th>2793</th>\n",
       "      <td>C2298</td>\n",
       "      <td>581</td>\n",
       "      <td>아파트</td>\n",
       "      <td>대전광역시</td>\n",
       "      <td>행복주택</td>\n",
       "      <td>36.86</td>\n",
       "      <td>148</td>\n",
       "      <td>21.0</td>\n",
       "      <td>10</td>\n",
       "      <td>33640000</td>\n",
       "      <td>162000</td>\n",
       "      <td>0.0</td>\n",
       "      <td>3.0</td>\n",
       "      <td>408.0</td>\n",
       "      <td>444.0</td>\n",
       "      <td>2</td>\n",
       "      <td>0</td>\n",
       "    </tr>\n",
       "    <tr>\n",
       "      <th>2794</th>\n",
       "      <td>C2298</td>\n",
       "      <td>581</td>\n",
       "      <td>아파트</td>\n",
       "      <td>대전광역시</td>\n",
       "      <td>행복주택</td>\n",
       "      <td>36.86</td>\n",
       "      <td>100</td>\n",
       "      <td>21.0</td>\n",
       "      <td>10</td>\n",
       "      <td>33640000</td>\n",
       "      <td>162000</td>\n",
       "      <td>0.0</td>\n",
       "      <td>3.0</td>\n",
       "      <td>408.0</td>\n",
       "      <td>444.0</td>\n",
       "      <td>2</td>\n",
       "      <td>0</td>\n",
       "    </tr>\n",
       "  </tbody>\n",
       "</table>\n",
       "</div>"
      ],
      "text/plain": [
       "       단지코드  총세대수 임대건물구분     지역  공급유형   전용면적  전용면적별세대수   공가수  자격유형     임대보증금  \\\n",
       "2790  C2298   581    아파트  대전광역시  행복주택  16.85        96  21.0    10  16400000   \n",
       "2791  C2298   581    아파트  대전광역시  행복주택  26.64       204  21.0    10  24520000   \n",
       "2792  C2298   581    아파트  대전광역시  행복주택  26.64        30  21.0    10  24520000   \n",
       "2793  C2298   581    아파트  대전광역시  행복주택  36.86       148  21.0    10  33640000   \n",
       "2794  C2298   581    아파트  대전광역시  행복주택  36.86       100  21.0    10  33640000   \n",
       "\n",
       "         임대료  10분내지하철수  10분내버스정류장수  단지내주차면수  등록차량수  label_bus  label_sub  \n",
       "2790   79000       0.0         3.0    408.0  444.0          2          0  \n",
       "2791  118000       0.0         3.0    408.0  444.0          2          0  \n",
       "2792  118000       0.0         3.0    408.0  444.0          2          0  \n",
       "2793  162000       0.0         3.0    408.0  444.0          2          0  \n",
       "2794  162000       0.0         3.0    408.0  444.0          2          0  "
      ]
     },
     "execution_count": 349,
     "metadata": {},
     "output_type": "execute_result"
    }
   ],
   "source": [
    "grouped=train.groupby(['임대건물구분','지역','공급유형'])\n",
    "group2=grouped.get_group(('아파트','대전광역시','행복주택'))\n",
    "group2"
   ]
  },
  {
   "cell_type": "code",
   "execution_count": 350,
   "metadata": {},
   "outputs": [
    {
     "data": {
      "text/html": [
       "<div>\n",
       "<style scoped>\n",
       "    .dataframe tbody tr th:only-of-type {\n",
       "        vertical-align: middle;\n",
       "    }\n",
       "\n",
       "    .dataframe tbody tr th {\n",
       "        vertical-align: top;\n",
       "    }\n",
       "\n",
       "    .dataframe thead th {\n",
       "        text-align: right;\n",
       "    }\n",
       "</style>\n",
       "<table border=\"1\" class=\"dataframe\">\n",
       "  <thead>\n",
       "    <tr style=\"text-align: right;\">\n",
       "      <th></th>\n",
       "      <th>단지코드</th>\n",
       "      <th>총세대수</th>\n",
       "      <th>임대건물구분</th>\n",
       "      <th>지역</th>\n",
       "      <th>공급유형</th>\n",
       "      <th>전용면적</th>\n",
       "      <th>전용면적별세대수</th>\n",
       "      <th>공가수</th>\n",
       "      <th>자격유형</th>\n",
       "      <th>임대보증금</th>\n",
       "      <th>임대료</th>\n",
       "      <th>10분내지하철수</th>\n",
       "      <th>10분내버스정류장수</th>\n",
       "      <th>단지내주차면수</th>\n",
       "      <th>label_bus</th>\n",
       "      <th>label_sub</th>\n",
       "    </tr>\n",
       "  </thead>\n",
       "  <tbody>\n",
       "  </tbody>\n",
       "</table>\n",
       "</div>"
      ],
      "text/plain": [
       "Empty DataFrame\n",
       "Columns: [단지코드, 총세대수, 임대건물구분, 지역, 공급유형, 전용면적, 전용면적별세대수, 공가수, 자격유형, 임대보증금, 임대료, 10분내지하철수, 10분내버스정류장수, 단지내주차면수, label_bus, label_sub]\n",
       "Index: []"
      ]
     },
     "execution_count": 350,
     "metadata": {},
     "output_type": "execute_result"
    }
   ],
   "source": [
    "test[test['단지코드']=='C2298']"
   ]
  },
  {
   "cell_type": "code",
   "execution_count": 351,
   "metadata": {},
   "outputs": [],
   "source": [
    "test['단지코드']=test['단지코드'].fillna('C2298')"
   ]
  },
  {
   "cell_type": "code",
   "execution_count": 352,
   "metadata": {},
   "outputs": [
    {
     "data": {
      "text/plain": [
       "단지코드            0\n",
       "총세대수            0\n",
       "임대건물구분          0\n",
       "지역              0\n",
       "공급유형            0\n",
       "전용면적            0\n",
       "전용면적별세대수        0\n",
       "공가수             0\n",
       "자격유형            0\n",
       "임대보증금         180\n",
       "임대료           180\n",
       "10분내지하철수        0\n",
       "10분내버스정류장수      0\n",
       "단지내주차면수         0\n",
       "label_bus       0\n",
       "label_sub       0\n",
       "dtype: int64"
      ]
     },
     "execution_count": 352,
     "metadata": {},
     "output_type": "execute_result"
    }
   ],
   "source": [
    "test.isnull().sum()"
   ]
  },
  {
   "cell_type": "code",
   "execution_count": 353,
   "metadata": {},
   "outputs": [
    {
     "data": {
      "text/plain": [
       "단지코드            0\n",
       "총세대수            0\n",
       "임대건물구분          0\n",
       "지역              0\n",
       "공급유형            0\n",
       "전용면적            0\n",
       "전용면적별세대수        0\n",
       "공가수             0\n",
       "자격유형            0\n",
       "임대보증금         569\n",
       "임대료           569\n",
       "10분내지하철수        0\n",
       "10분내버스정류장수      0\n",
       "단지내주차면수         0\n",
       "등록차량수           0\n",
       "label_bus       0\n",
       "label_sub       0\n",
       "dtype: int64"
      ]
     },
     "execution_count": 353,
     "metadata": {},
     "output_type": "execute_result"
    }
   ],
   "source": [
    "train.isnull().sum()"
   ]
  },
  {
   "cell_type": "markdown",
   "metadata": {},
   "source": [
    "### 공급유형_mapping"
   ]
  },
  {
   "cell_type": "code",
   "execution_count": 354,
   "metadata": {},
   "outputs": [
    {
     "data": {
      "text/plain": [
       "국민임대         1736\n",
       "임대상가          562\n",
       "행복주택          202\n",
       "공공임대(10년)     182\n",
       "영구임대          152\n",
       "공공임대(50년)      31\n",
       "공공임대(분납)       12\n",
       "장기전세            9\n",
       "공공분양            7\n",
       "공공임대(5년)        3\n",
       "Name: 공급유형, dtype: int64"
      ]
     },
     "execution_count": 354,
     "metadata": {},
     "output_type": "execute_result"
    }
   ],
   "source": [
    "train['공급유형'].value_counts()"
   ]
  },
  {
   "cell_type": "code",
   "execution_count": 355,
   "metadata": {},
   "outputs": [],
   "source": [
    "mapping = { '국민임대':1, '임대상가':2, '행복주택':3, '공공임대(10년)':4, \n",
    "           '영구임대':5,'공공임대(50년)':6,\n",
    "           '공공임대(분납)':7, '장기전세':8, '공공분양':9, '공공임대(5년)':10 }\n",
    "train['공급유형'] =train['공급유형'].map(mapping).astype(int)\n",
    "test['공급유형'] =test['공급유형'].map(mapping).astype(int)"
   ]
  },
  {
   "cell_type": "markdown",
   "metadata": {},
   "source": [
    "### 전용면적별 세대수_qcut"
   ]
  },
  {
   "cell_type": "code",
   "execution_count": 356,
   "metadata": {},
   "outputs": [
    {
     "data": {
      "text/plain": [
       "1      562\n",
       "30      49\n",
       "60      48\n",
       "24      45\n",
       "90      42\n",
       "      ... \n",
       "231      1\n",
       "406      1\n",
       "960      1\n",
       "890      1\n",
       "404      1\n",
       "Name: 전용면적별세대수, Length: 400, dtype: int64"
      ]
     },
     "execution_count": 356,
     "metadata": {},
     "output_type": "execute_result"
    }
   ],
   "source": [
    "train['전용면적별세대수'].value_counts()"
   ]
  },
  {
   "cell_type": "code",
   "execution_count": 357,
   "metadata": {},
   "outputs": [],
   "source": [
    "train['label_generation_num']=pd.qcut(train['전용면적별세대수'],30,labels=False,duplicates='drop')"
   ]
  },
  {
   "cell_type": "code",
   "execution_count": 358,
   "metadata": {},
   "outputs": [],
   "source": [
    "test['label_generation_num']=pd.qcut(test['전용면적별세대수'],30,labels=False,duplicates='drop')"
   ]
  },
  {
   "cell_type": "markdown",
   "metadata": {},
   "source": [
    "### 지역_mapping"
   ]
  },
  {
   "cell_type": "code",
   "execution_count": 359,
   "metadata": {},
   "outputs": [
    {
     "data": {
      "text/plain": [
       "경기도        602\n",
       "경상남도       369\n",
       "부산광역시      328\n",
       "대전광역시      266\n",
       "강원도        187\n",
       "충청북도       163\n",
       "충청남도       158\n",
       "전라남도       147\n",
       "광주광역시      141\n",
       "경상북도       111\n",
       "전라북도       109\n",
       "대구광역시      102\n",
       "제주특별자치도     91\n",
       "서울특별시       64\n",
       "울산광역시       34\n",
       "세종특별자치시     24\n",
       "Name: 지역, dtype: int64"
      ]
     },
     "execution_count": 359,
     "metadata": {},
     "output_type": "execute_result"
    }
   ],
   "source": [
    "train['지역'].value_counts()"
   ]
  },
  {
   "cell_type": "code",
   "execution_count": 360,
   "metadata": {},
   "outputs": [],
   "source": [
    "mapping1 = { '경기도':1, '경상남도':2, '부산광역시':3, '대전광역시':4, \n",
    "           '강원도':5,'충청북도':6,'충청남도':7, '전라남도':8, '광주광역시':9, \n",
    "            '경상북도':10, '전라북도':11,'대구광역시':12,'제주특별자치도':13,'서울특별시':14,'세종특별자치시':15,'울산광역시':16 }\n",
    "train['지역'] =train['지역'].map(mapping1).astype(int)\n",
    "test['지역'] =test['지역'].map(mapping1).astype(int)"
   ]
  },
  {
   "cell_type": "markdown",
   "metadata": {},
   "source": [
    "### 8.임대건물구분 mapping"
   ]
  },
  {
   "cell_type": "code",
   "execution_count": 361,
   "metadata": {},
   "outputs": [
    {
     "data": {
      "text/plain": [
       "array(['아파트', '상가'], dtype=object)"
      ]
     },
     "execution_count": 361,
     "metadata": {},
     "output_type": "execute_result"
    }
   ],
   "source": [
    "train['임대건물구분'].unique()"
   ]
  },
  {
   "cell_type": "code",
   "execution_count": 362,
   "metadata": {},
   "outputs": [],
   "source": [
    "mapping1 = { '아파트':1, '상가':2}\n",
    "train['임대건물구분'] =train['임대건물구분'].map(mapping1).astype(int)\n",
    "test['임대건물구분'] =test['임대건물구분'].map(mapping1).astype(int)"
   ]
  },
  {
   "cell_type": "markdown",
   "metadata": {},
   "source": [
    "### 9.공가수 qcut"
   ]
  },
  {
   "cell_type": "code",
   "execution_count": 363,
   "metadata": {},
   "outputs": [
    {
     "data": {
      "text/plain": [
       "2.0     254\n",
       "1.0     245\n",
       "7.0     230\n",
       "13.0    229\n",
       "3.0     110\n",
       "4.0     107\n",
       "10.0    106\n",
       "9.0     104\n",
       "21.0    104\n",
       "0.0     101\n",
       "15.0    100\n",
       "16.0     96\n",
       "14.0     84\n",
       "29.0     81\n",
       "5.0      78\n",
       "17.0     70\n",
       "8.0      58\n",
       "25.0     56\n",
       "22.0     54\n",
       "28.0     49\n",
       "20.0     48\n",
       "26.0     47\n",
       "19.0     47\n",
       "6.0      44\n",
       "23.0     37\n",
       "12.0     36\n",
       "32.0     35\n",
       "11.0     34\n",
       "18.0     32\n",
       "24.0     31\n",
       "34.0     24\n",
       "27.0     20\n",
       "30.0     19\n",
       "36.0     18\n",
       "46.0     14\n",
       "31.0     13\n",
       "33.0     12\n",
       "40.0     11\n",
       "49.0      9\n",
       "39.0      8\n",
       "47.0      8\n",
       "55.0      8\n",
       "43.0      5\n",
       "38.0      5\n",
       "35.0      4\n",
       "42.0      4\n",
       "41.0      4\n",
       "37.0      3\n",
       "Name: 공가수, dtype: int64"
      ]
     },
     "execution_count": 363,
     "metadata": {},
     "output_type": "execute_result"
    }
   ],
   "source": [
    "train['공가수'].value_counts()"
   ]
  },
  {
   "cell_type": "code",
   "execution_count": 364,
   "metadata": {},
   "outputs": [],
   "source": [
    "train['공가수']=pd.qcut(train['공가수'],30,labels=False,duplicates='drop')\n",
    "test['공가수']=pd.qcut(test['공가수'],30,labels=False,duplicates='drop')"
   ]
  },
  {
   "cell_type": "markdown",
   "metadata": {},
   "source": [
    "### 머신러닝"
   ]
  },
  {
   "cell_type": "code",
   "execution_count": 402,
   "metadata": {},
   "outputs": [],
   "source": [
    "from sklearn.model_selection import train_test_split\n",
    "from sklearn.preprocessing import MinMaxScaler, PolynomialFeatures\n",
    "import pandas as pd\n",
    "from sklearn.linear_model import LinearRegression"
   ]
  },
  {
   "cell_type": "code",
   "execution_count": 403,
   "metadata": {},
   "outputs": [],
   "source": [
    "### 한글 폰트 설정\n",
    "import matplotlib\n",
    "from matplotlib import font_manager, rc\n",
    "import matplotlib.pyplot as plt\n",
    "import platform\n",
    "path = \"C:/Windows/Fonts/malgun.ttf\"\n",
    "if platform.system() == \"Windows\":\n",
    "    font_name = font_manager.FontProperties(fname=path).get_name()\n",
    "    rc('font', family=font_name)\n",
    "elif platform.system()==\"Darwin\":\n",
    "    rc('font', family='AppleGothic')\n",
    "else:\n",
    "    print(\"Unknown System\")\n",
    "matplotlib.rcParams['axes.unicode_minus'] = False"
   ]
  },
  {
   "cell_type": "code",
   "execution_count": 404,
   "metadata": {},
   "outputs": [
    {
     "data": {
      "text/plain": [
       "(2896, 18)"
      ]
     },
     "execution_count": 404,
     "metadata": {},
     "output_type": "execute_result"
    }
   ],
   "source": [
    "train.shape"
   ]
  },
  {
   "cell_type": "code",
   "execution_count": 405,
   "metadata": {},
   "outputs": [
    {
     "data": {
      "text/plain": [
       "Index(['단지코드', '총세대수', '임대건물구분', '지역', '공급유형', '전용면적', '전용면적별세대수', '공가수',\n",
       "       '자격유형', '임대보증금', '임대료', '10분내지하철수', '10분내버스정류장수', '단지내주차면수', '등록차량수',\n",
       "       'label_bus', 'label_sub', 'label_generation_num'],\n",
       "      dtype='object')"
      ]
     },
     "execution_count": 405,
     "metadata": {},
     "output_type": "execute_result"
    }
   ],
   "source": [
    "train.columns"
   ]
  },
  {
   "cell_type": "code",
   "execution_count": 406,
   "metadata": {},
   "outputs": [],
   "source": [
    "#sel=['label_generation_num','label_bus','단지내주차면수','공급유형','총세대수','전용면적','공가수','지역','임대건물구분','자격유형']\n",
    "sel=['label_generation_num','label_bus','단지내주차면수','공급유형','총세대수','전용면적','공가수','지역','임대건물구분','자격유형']\n",
    "X=train[sel]\n",
    "y=train['등록차량수']"
   ]
  },
  {
   "cell_type": "code",
   "execution_count": 408,
   "metadata": {},
   "outputs": [],
   "source": [
    "X_train,X_test,y_train,y_test=train_test_split(X,y,random_state=0)"
   ]
  },
  {
   "cell_type": "code",
   "execution_count": 409,
   "metadata": {},
   "outputs": [
    {
     "data": {
      "text/plain": [
       "((2172, 10), (724, 10), (2172,), (724,))"
      ]
     },
     "execution_count": 409,
     "metadata": {},
     "output_type": "execute_result"
    }
   ],
   "source": [
    "X_train.shape, X_test.shape, y_train.shape, y_test.shape"
   ]
  },
  {
   "cell_type": "markdown",
   "metadata": {},
   "source": [
    "### 모델만들기"
   ]
  },
  {
   "cell_type": "code",
   "execution_count": 410,
   "metadata": {},
   "outputs": [
    {
     "data": {
      "text/plain": [
       "array([ 1.83564013e+03,  3.74910315e+02,  7.19993032e+02,  5.33798941e+02,\n",
       "        1.25372895e+02,  6.94059770e+02,  3.97172534e+02,  2.84279891e+02,\n",
       "        6.22694785e+02,  4.63166378e+02,  2.34423433e+02,  4.89801462e+02,\n",
       "        1.12043103e+02,  3.96027610e+02,  1.12086067e+02,  3.77736046e+02,\n",
       "       -3.05356189e+01,  4.24564019e+02,  5.20038234e+01,  6.67283542e+02,\n",
       "        2.44200670e+02,  6.27232460e+02,  1.08291819e+03,  6.92281539e+02,\n",
       "        2.56116434e+02,  1.53407202e+02,  6.64396217e+02,  8.01282659e+02,\n",
       "        8.23275896e+01,  4.26938441e+02,  4.01181313e+02,  1.80834888e+02,\n",
       "        6.75260607e+02,  8.23275896e+01,  3.44201868e+02,  1.23608866e+03,\n",
       "        5.72789094e+02,  5.32557983e+02,  6.36113569e+01,  7.23657799e+02,\n",
       "        2.69840725e+02,  7.03665769e+02,  3.82815443e+02,  7.28262735e+02,\n",
       "        4.59281288e+02,  2.33381869e+02,  1.15810314e+02,  5.57194097e+02,\n",
       "        1.36338084e+02,  5.17952290e+02,  6.36113569e+01,  5.62293046e+02,\n",
       "        8.00351309e+01,  7.65034098e+02,  2.95135896e+02,  2.32505318e+01,\n",
       "        2.69540189e+02,  1.58369457e+03,  2.77979889e+02,  6.22282750e+02,\n",
       "        3.71585268e+02,  3.21599294e+02,  4.53135551e+02,  9.04611504e+02,\n",
       "       -9.74221644e-01,  2.00806430e+02,  1.01089674e+02,  4.67300592e+02,\n",
       "        6.12011184e+02,  5.81053896e+02,  8.39273912e+02,  1.00575716e+03,\n",
       "        7.05727293e+01,  4.20032310e+02,  2.61912365e+02,  8.03262125e+02,\n",
       "        1.44160108e+03,  6.65184654e+02,  5.17720793e+02,  5.10058185e+02,\n",
       "        1.34207462e+02,  5.47371460e+02,  9.80779527e+02,  9.45718374e+02,\n",
       "        2.04927588e+02,  9.61501131e+02,  7.38144756e+02,  5.83371597e+02,\n",
       "        5.13860789e+02,  4.67210564e+02,  1.09359935e+03,  7.96195350e+02,\n",
       "        4.27400185e+01,  1.59062553e+02,  6.26029369e+02,  7.29755390e+01,\n",
       "        6.36113569e+01,  3.63371715e+02,  1.05381081e+02,  8.17425506e+02,\n",
       "        3.68741027e+02,  1.43370949e+03,  1.59355763e+02,  2.35206106e+01,\n",
       "        9.06639146e+02,  4.61926829e+02,  3.68989876e+02,  8.59653026e+02,\n",
       "        3.99107230e+02,  6.07519805e+02,  8.74738962e+02,  3.44061643e+02,\n",
       "        6.06778746e+02, -3.05356189e+01,  2.74931062e+02,  3.44814009e+02,\n",
       "        2.57256011e+02,  8.22940626e+02,  4.07704236e+02,  1.34183672e+03,\n",
       "        1.10499175e+03,  2.83287759e+02,  2.27041541e+02,  9.30975308e+01,\n",
       "        9.90656829e+02,  5.61666348e+02,  5.41890333e+02,  2.77979889e+02,\n",
       "        7.37593070e+02,  8.55951457e+02,  1.26040707e+03,  4.31962996e+02,\n",
       "        5.29547239e+02,  1.64958828e+02,  1.46933544e+02,  5.17962083e+02,\n",
       "        1.15611898e+03,  3.71267382e+02,  1.30106291e+02,  4.29239139e+01,\n",
       "        3.22840385e+02,  7.08517123e+02,  3.22687954e+02,  6.62382456e+02,\n",
       "       -4.33372092e+01,  9.14901173e+02,  2.46550082e+01,  1.19844838e+03,\n",
       "        1.10142977e+03,  7.77752204e+02,  4.27238033e+02, -3.84707926e+01,\n",
       "        4.02100790e+02,  4.88508196e+02,  4.30997113e+02,  1.28738487e+03,\n",
       "        1.09652248e+03,  1.02665674e+03,  6.93004885e+02,  7.72518852e+02,\n",
       "        4.55148354e+02,  2.79484871e+02,  3.96988157e+02,  3.43426183e+02,\n",
       "        2.56116434e+02,  1.20051514e+03,  6.42232538e+00,  1.46933544e+02,\n",
       "        2.14511776e+02,  3.16442718e+02,  3.26892514e+02,  1.01059871e+03,\n",
       "        6.60539112e+02, -3.84707926e+01,  9.84534154e+02,  8.04786190e+02,\n",
       "        7.00703126e+02,  1.04392676e+03,  1.36338084e+02,  4.02115857e+02,\n",
       "        1.46933544e+02,  1.71914857e+02,  5.94050138e+02,  2.67152349e+02,\n",
       "        2.82696158e+02,  7.75066527e+02,  9.95538376e+02,  8.03721864e+02,\n",
       "        6.65537859e+02,  2.91742657e+02,  3.03528954e+02,  4.35545475e+02,\n",
       "        8.87538895e+02,  8.09694869e+02,  5.67374955e+02,  3.30288835e+02,\n",
       "        7.41304635e+02,  4.42512606e+02,  7.82614297e+02,  1.06875002e+02,\n",
       "        8.98981624e+01,  1.46933544e+02,  1.71246972e+02,  8.55139154e+02,\n",
       "        7.20912509e+02,  4.45001137e+02,  9.26514394e+02,  2.85235586e+02,\n",
       "        5.26950483e+02,  3.19793815e+02,  8.00351309e+01,  5.06579235e+02,\n",
       "        5.51761781e+01,  5.87110420e+02,  7.96964506e+02,  3.51280933e+02,\n",
       "        5.25051505e+02,  5.52070306e+02,  4.21799430e+02,  5.76574732e+02,\n",
       "        1.83747908e+03,  7.72146240e+02,  7.17077230e+02, -4.53349352e+01,\n",
       "        8.06690594e+02,  9.51375528e+02,  1.11791248e+03,  7.95043685e+02,\n",
       "        1.23057383e+02,  5.00958563e+02,  1.25735767e+02, -3.05356189e+01,\n",
       "        9.37222718e+02,  5.15963137e+02,  4.75391801e+01,  3.16228536e+02,\n",
       "        2.46550082e+01, -3.70217982e+01,  1.31700129e+03,  7.92722771e+02,\n",
       "        1.19512140e+03,  3.28191130e+02,  5.04138538e+02,  4.65376087e+02,\n",
       "        1.23987742e+03,  4.44475197e+02,  2.56428482e+02,  5.75410029e+02,\n",
       "        8.36441274e+02,  2.78933184e+02, -3.59414828e+01,  9.49787149e+02,\n",
       "        4.03355101e+02,  6.27034040e+02,  7.08149332e+02,  7.82220784e+02,\n",
       "        7.68991504e+02,  8.08547655e+02,  3.24721386e+02,  2.52813688e+02,\n",
       "        1.62047230e+03,  5.94921690e+02,  2.69793120e+02,  1.53407202e+02,\n",
       "        2.46550082e+01,  2.60061981e+02,  7.98204617e+02,  1.46395293e+02,\n",
       "        5.86876641e+02,  4.74298006e+02,  5.48842624e+02,  5.34837668e+02,\n",
       "        2.72518295e+02,  1.35853657e+02,  1.79305890e+02,  1.12126502e+03,\n",
       "        1.38123010e+03,  9.08515040e+02,  1.53936066e+02,  6.60478627e+02,\n",
       "        8.87679916e+02,  1.12622296e+03,  1.47458460e+02,  1.58351068e+03,\n",
       "        1.52234140e+02,  5.42004142e+02,  2.14244413e+02,  3.90991624e+02,\n",
       "        2.50254771e+02,  1.43934421e+03,  5.34940648e+02,  5.34205066e+02,\n",
       "        8.51215248e+02,  6.67531189e+02,  4.29212929e+02,  1.54793239e+02,\n",
       "        3.14434622e+02,  7.74821733e+01,  1.21561783e+02,  1.93424099e+02,\n",
       "        8.79933103e+02,  2.88262927e+02,  1.24997836e+03,  2.90614105e+02,\n",
       "        5.01439293e+02,  9.56983188e+02,  1.23287385e+03,  1.19318083e+03,\n",
       "        4.60660504e+02,  6.35869416e+02,  1.01381596e+03,  1.09120264e+03,\n",
       "        2.52314916e+02, -4.37744797e+01,  6.19901593e+02,  6.22013922e+02,\n",
       "        2.69494990e+02,  6.71076619e+02,  3.60027781e+02,  7.36126007e+02,\n",
       "        6.15493599e+02,  3.61722302e+02,  5.79234282e+02,  3.13237268e+02,\n",
       "        5.51761781e+01,  9.50116357e+02,  4.46243629e+02,  7.32996654e+02,\n",
       "        1.44303253e+02,  3.67545706e+02,  6.79297225e+02,  3.02251511e+02,\n",
       "        6.85921511e+01,  1.66875172e+03,  1.46933544e+02,  4.07021922e+02,\n",
       "        3.86484415e+02,  3.80907328e+02,  2.46550082e+01,  9.87651619e+02,\n",
       "        1.31053710e+02,  4.46660942e+02,  3.83905523e+02,  7.75370469e+02,\n",
       "        1.05072929e+03,  1.84038683e+03,  1.16738901e+02,  1.62884620e+03,\n",
       "        1.05983075e+03,  4.09717646e+02,  6.29196091e+02,  6.74839968e+02,\n",
       "        1.63101969e+03,  3.05812433e+01,  4.59525725e+02,  4.27238033e+02,\n",
       "        9.59996384e+01,  4.12034677e+02,  3.84272296e+02,  2.38845146e+02,\n",
       "        8.06141011e+02,  4.99613909e+02,  9.38469636e+02,  2.76913771e+02,\n",
       "        2.53226270e+02,  1.06875002e+02,  4.31213923e+02,  5.05052156e+02,\n",
       "        1.59504847e+02,  1.09815851e+03,  1.58231107e+03, -4.22535298e-01,\n",
       "        3.77003250e+02,  5.75789393e+02,  3.23667914e+02,  2.52695568e+02,\n",
       "        8.22983496e+02,  4.44608958e+02,  6.88511819e+02,  8.02697209e+02,\n",
       "        1.50698499e+02,  7.24209485e+02,  2.96813678e+02,  3.31508435e+02,\n",
       "        2.98233484e+02,  1.06875002e+02,  2.99612700e+02,  4.89216883e+02,\n",
       "       -2.99361540e+01,  1.04335566e+03,  1.61694750e+02,  7.56731390e+02,\n",
       "        3.60358422e+02,  7.69018610e+02,  8.53909824e+02,  2.08817694e+02,\n",
       "       -4.12065871e+01,  7.69801886e+02,  6.78977160e+02,  8.38476260e+02,\n",
       "        5.35205459e+02,  5.29694782e+01,  1.11710642e+02,  4.00629627e+02,\n",
       "        1.21561783e+02,  1.05822712e+03, -3.70217982e+01,  8.57473586e+02,\n",
       "        3.07923094e+02, -4.16910143e+01,  1.28577711e+03,  9.03004812e+02,\n",
       "        4.25795027e+02,  7.35950402e+01,  1.23454606e+03,  2.40736292e+01,\n",
       "        2.86075017e+02,  4.25582974e+02,  5.10643013e+02,  1.04939600e+02,\n",
       "        8.75189063e+02,  9.36784414e+02,  1.76393313e+03,  5.34255621e+02,\n",
       "        1.31220152e+03, -3.54320442e+01,  2.77979889e+02,  6.23476717e+02,\n",
       "        9.35797078e+02,  1.34408949e+02,  1.20051514e+03,  3.90250964e+02,\n",
       "        6.78750569e+02,  2.23721807e+02,  8.19114768e+02,  3.64842879e+02,\n",
       "        6.15493547e+02, -4.12065871e+01,  6.12206492e+02,  8.08619626e+02,\n",
       "       -3.84707926e+01,  2.82019982e+02,  1.55620768e+02,  6.16842181e+02,\n",
       "        1.54118025e+03,  9.64424842e+02,  8.75935584e+02,  4.57962614e+02,\n",
       "        1.24625241e+03,  5.11088857e+02,  6.44117197e+02,  7.78673828e+02,\n",
       "        1.50763711e+02,  1.67099794e+03,  6.69512286e+02,  1.63893964e+02,\n",
       "        3.77187145e+02,  1.01533843e+02,  3.16902456e+02,  3.33461474e+02,\n",
       "        2.58149263e+02,  7.40141020e+02,  2.86284535e+02,  2.48902058e+02,\n",
       "        2.35034628e+01,  1.38624215e+03,  8.27349999e+02,  7.56016868e+02,\n",
       "        5.29488175e+02,  2.30514149e+02,  4.11489559e+02,  1.53004443e+02,\n",
       "        1.11710642e+02,  1.25640023e+03,  1.36566015e+03,  7.03115228e+02,\n",
       "        6.31731263e+02,  2.91090449e+02,  6.64853617e+02,  6.35979445e+02,\n",
       "        4.16810514e+02,  2.82464662e+02,  5.73850441e+02,  9.87071401e+02,\n",
       "        7.70701803e+02,  4.13934265e+02,  1.33857700e+03,  6.60817515e+02,\n",
       "        1.48290132e+02,  3.43418009e+02,  6.21956531e+02,  4.67715035e+02,\n",
       "        6.42774066e+01,  5.04464567e+02,  1.32695618e+02,  1.77206339e+02,\n",
       "        9.25962707e+02,  2.43382826e+02,  7.77465647e+02,  3.99342125e+02,\n",
       "        1.42112627e+02,  8.00087338e+02,  7.82597290e+02,  9.11713137e+02,\n",
       "        5.89678840e+02,  7.39778946e+02,  2.94680178e+02,  8.02714359e+02,\n",
       "        7.36670778e+02,  5.12936540e+02,  5.37100443e+02,  7.49491171e+02,\n",
       "        3.20031990e+02,  3.18429599e+02, -3.05870625e+01,  5.03701844e+02,\n",
       "        8.05725723e+02,  3.08700942e+02, -3.77977390e+01,  1.62430128e+03,\n",
       "        8.07995969e+02,  1.10829315e+03,  6.64986173e+02,  1.12557815e+03,\n",
       "        2.67152349e+02,  4.15372154e+02,  1.26424079e+02,  5.89017226e+02,\n",
       "        1.70419443e+02,  1.53462113e+03,  5.30220434e+02,  6.33763038e+02,\n",
       "        4.01504612e+02,  1.00709395e+03,  7.05727293e+01,  1.11710642e+02,\n",
       "        4.97909340e+02,  8.88231603e+02,  1.49592682e+02,  4.68863703e+02,\n",
       "        2.45861711e+02,  8.24690594e+01,  1.23428308e+03,  1.43531547e+03,\n",
       "        4.34301282e+02,  4.28294566e+02,  3.25768751e+02,  4.03404167e+02,\n",
       "        6.77642166e+02,  3.18084841e+02,  1.06089929e+03,  4.99228928e+02,\n",
       "        1.59162850e+02,  3.03745064e+02,  2.74250229e+02,  6.31980174e+02,\n",
       "        1.94574816e+02,  1.12447595e+03, -4.12065871e+01,  8.01937419e+02,\n",
       "        1.12521154e+03,  1.43629381e+03,  8.92531433e+02,  8.41384286e+02,\n",
       "        8.13978436e+02,  7.24974333e+02, -3.54956383e+01,  3.91593625e+02,\n",
       "        3.25751598e+02,  7.69164367e+02,  2.18485325e+02,  4.77556583e+02,\n",
       "        1.49592682e+02,  8.51717856e+02,  1.05392112e+02,  2.93204129e+02,\n",
       "        7.62195350e+02,  3.13202207e+02,  3.58039209e+02,  6.61734432e+02,\n",
       "        2.81744138e+02,  8.06023151e+02,  1.79815244e+03,  1.11482590e+03,\n",
       "        7.27171424e+02,  4.53798703e+02,  1.19336473e+03,  3.30641920e+02,\n",
       "        8.79766975e+02,  5.39415320e+01,  1.43912407e+03,  1.41256976e+03,\n",
       "        1.63893964e+02,  5.30446978e+02,  9.54758253e+02,  1.36258133e+02,\n",
       "        2.11460641e+02,  2.56116434e+02,  1.04703817e+02,  1.76678529e+03,\n",
       "        4.73470477e+02, -3.06213582e+01,  1.11452197e+03,  6.25690783e+02,\n",
       "        3.02975082e+02,  1.01786461e+02,  4.95473008e+02,  5.17952290e+02,\n",
       "        1.06556407e+03,  7.43309274e+02,  7.98930334e+02,  1.46933544e+02,\n",
       "        7.75342370e+02,  1.60201054e+02,  5.12067502e+02,  3.43969695e+02,\n",
       "        5.08113703e+02,  4.70159259e+01,  1.19216512e+03,  9.72482957e+02,\n",
       "        1.53407202e+02,  5.89506973e+02,  8.04722330e+02,  1.24415164e+03,\n",
       "        6.62136483e+02, -3.84707926e+01,  7.52321962e+02,  1.70477169e+03,\n",
       "        5.89293069e+02,  5.90058660e+02,  2.79896163e+02,  4.74022163e+02,\n",
       "        6.38511220e+02,  5.01338560e+02,  1.03912368e+03,  1.58360691e+03,\n",
       "        1.19808414e+02,  5.13773353e+02,  6.23438410e+02,  1.12399568e+03,\n",
       "        7.13172837e+02,  2.77979889e+02,  4.50445516e+02,  7.10080234e+02,\n",
       "        1.75191824e+03,  6.10514025e+02,  1.12000233e+02,  4.48367739e+02,\n",
       "        7.10386203e+02,  1.53535671e+03,  9.97649784e+02,  6.27181987e+02,\n",
       "       -2.97946841e+01,  6.80313680e+02,  1.04922452e+02,  5.91702772e+02,\n",
       "        7.44002528e+02,  2.88462225e+02,  1.00962799e+03,  2.75390800e+02,\n",
       "        9.07154563e+02,  4.47791387e+02,  8.47189710e+02,  6.23032148e+02,\n",
       "        8.00351309e+01,  7.41662288e+02,  3.68300148e+02,  4.08565259e+02,\n",
       "        6.56843199e+02,  1.89376567e+02, -6.06430746e-01,  4.34703345e+02,\n",
       "        2.55968743e+02,  3.32491801e+02,  6.17523647e+02,  5.65811844e+02,\n",
       "        3.17566697e+02,  8.14420984e+02, -3.59414828e+01,  9.22960536e+01,\n",
       "        2.66784740e+02,  2.73290019e+02,  2.75590041e+02,  4.25489736e+02,\n",
       "        1.24924278e+03,  5.10643013e+02,  1.74639890e+02,  7.60956187e+02,\n",
       "        4.31692191e+02,  5.26952591e+02,  1.53053565e+03,  2.46550082e+01,\n",
       "        1.41643675e+03,  1.65730390e+02,  5.67676964e+02,  8.05298950e+02,\n",
       "        1.49592682e+02,  1.01694513e+02,  1.35746483e+02,  5.80872498e+02,\n",
       "        6.13688891e+02,  7.70798954e+02,  6.38563544e+02,  3.44374387e+02,\n",
       "        7.00335335e+02,  1.24481660e+03,  4.25485630e+02,  5.37223894e+02,\n",
       "        2.74250229e+02,  5.03304635e+02,  2.48849271e+02,  1.32999408e+02,\n",
       "        1.06047438e+03,  1.53407202e+02,  8.34418424e+02,  8.00455129e+02,\n",
       "        3.99478594e+02,  3.02791187e+02,  7.77846299e+02,  1.23431223e+03,\n",
       "        9.69025500e+02,  5.61086151e+02,  4.08740581e+02,  6.20464637e+02])"
      ]
     },
     "execution_count": 410,
     "metadata": {},
     "output_type": "execute_result"
    }
   ],
   "source": [
    "model=LinearRegression()\n",
    "model.fit(X_train,y_train)\n",
    "pred=model.predict(X_test)\n",
    "pred"
   ]
  },
  {
   "cell_type": "code",
   "execution_count": 411,
   "metadata": {},
   "outputs": [
    {
     "data": {
      "text/plain": [
       "(array([ -0.09194772,   8.55786093,   1.03361515,  26.18621215,\n",
       "         -0.12293283,   0.42869658,  -7.58405515,   3.69655846,\n",
       "        -45.9064996 ,  -9.92238727]),\n",
       " 86.7915607347299)"
      ]
     },
     "execution_count": 411,
     "metadata": {},
     "output_type": "execute_result"
    }
   ],
   "source": [
    "#변수:w5개,b1개\n",
    "model.coef_, model.intercept_"
   ]
  },
  {
   "cell_type": "code",
   "execution_count": 412,
   "metadata": {},
   "outputs": [
    {
     "data": {
      "text/plain": [
       "143.08512135180928"
      ]
     },
     "execution_count": 412,
     "metadata": {},
     "output_type": "execute_result"
    }
   ],
   "source": [
    "#mae_val=sum(abs(y_test-pred))/len(pred)\n",
    "mae_val=np.mean(abs(y_test-pred))\n",
    "mae_val"
   ]
  },
  {
   "cell_type": "code",
   "execution_count": 413,
   "metadata": {},
   "outputs": [
    {
     "data": {
      "text/plain": [
       "39890.98488706267"
      ]
     },
     "execution_count": 413,
     "metadata": {},
     "output_type": "execute_result"
    }
   ],
   "source": [
    "#mse_val=sum((y_test-pred)**2)/len(pred)\n",
    "mse_val=np.sum((y_test-pred)**2)/len(pred)\n",
    "mse_val"
   ]
  },
  {
   "cell_type": "code",
   "execution_count": 414,
   "metadata": {},
   "outputs": [
    {
     "data": {
      "text/plain": [
       "199.72727627207723"
      ]
     },
     "execution_count": 414,
     "metadata": {},
     "output_type": "execute_result"
    }
   ],
   "source": [
    "#rmse_val=mse_val ** 0.5\n",
    "rmse_val=np.sqrt(mse_val)\n",
    "rmse_val"
   ]
  },
  {
   "cell_type": "code",
   "execution_count": 415,
   "metadata": {},
   "outputs": [],
   "source": [
    "from sklearn.linear_model import LinearRegression"
   ]
  },
  {
   "cell_type": "code",
   "execution_count": 416,
   "metadata": {},
   "outputs": [],
   "source": [
    "from sklearn.linear_model import Lasso, Ridge"
   ]
  },
  {
   "cell_type": "code",
   "execution_count": 417,
   "metadata": {},
   "outputs": [
    {
     "name": "stdout",
     "output_type": "stream",
     "text": [
      "(2896, 10)\n"
     ]
    }
   ],
   "source": [
    "print(X.shape)"
   ]
  },
  {
   "cell_type": "code",
   "execution_count": 418,
   "metadata": {},
   "outputs": [],
   "source": [
    "nor_X = MinMaxScaler().fit_transform(X)  # 입력 데이터 정규화\n",
    "ex_X = PolynomialFeatures(degree=2, include_bias=False).fit_transform(nor_X)  # 데이터 feature 추가 생성\n",
    "\n",
    "X_train, X_test, y_train, y_test = train_test_split(ex_X, y, random_state=99)"
   ]
  },
  {
   "cell_type": "code",
   "execution_count": 419,
   "metadata": {},
   "outputs": [
    {
     "data": {
      "text/plain": [
       "(2172, 65)"
      ]
     },
     "execution_count": 419,
     "metadata": {},
     "output_type": "execute_result"
    }
   ],
   "source": [
    "X_train.shape"
   ]
  },
  {
   "cell_type": "markdown",
   "metadata": {},
   "source": [
    "### RIDGE"
   ]
  },
  {
   "cell_type": "code",
   "execution_count": 420,
   "metadata": {},
   "outputs": [
    {
     "data": {
      "text/plain": [
       "array([ 232.28261475, 1221.30936226, 1666.4196987 , 1152.98533651,\n",
       "        390.81272843,  436.38940538, 1477.15011514,  550.80657815,\n",
       "        721.31956749,  884.07091051])"
      ]
     },
     "execution_count": 420,
     "metadata": {},
     "output_type": "execute_result"
    }
   ],
   "source": [
    "model=Ridge(alpha=0.1)\n",
    "model.fit(X_train,y_train)\n",
    "pred=model.predict(X_test)\n",
    "pred[0:10]"
   ]
  },
  {
   "cell_type": "code",
   "execution_count": 421,
   "metadata": {},
   "outputs": [
    {
     "name": "stdout",
     "output_type": "stream",
     "text": [
      "학습용 데이터 세트 점수 : 0.83\n",
      "테스트 데이터 세트 점수 : 0.81\n",
      "\n",
      "학습용 데이터 세트 점수 : 0.84\n",
      "테스트 데이터 세트 점수 : 0.82\n",
      "\n",
      "학습용 데이터 세트 점수 : 0.86\n",
      "테스트 데이터 세트 점수 : 0.84\n",
      "\n",
      "학습용 데이터 세트 점수 : 0.86\n",
      "테스트 데이터 세트 점수 : 0.84\n",
      "\n",
      "학습용 데이터 세트 점수 : 0.87\n",
      "테스트 데이터 세트 점수 : 0.85\n",
      "\n",
      "학습용 데이터 세트 점수 : 0.87\n",
      "테스트 데이터 세트 점수 : 0.85\n",
      "\n",
      "학습용 데이터 세트 점수 : 0.87\n",
      "테스트 데이터 세트 점수 : 0.85\n",
      "\n",
      "학습용 데이터 세트 점수 : 0.87\n",
      "테스트 데이터 세트 점수 : 0.85\n",
      "\n"
     ]
    }
   ],
   "source": [
    "sel = [10, 5, 1, 0.5, 0.1, 0.01, 0.001, 0.0001]\n",
    "for var in sel:\n",
    "    ridge = Ridge(alpha=var).fit(X_train, y_train)\n",
    "    print(\"학습용 데이터 세트 점수 : {:.2f}\".format(ridge.score(X_train, y_train)))\n",
    "    print(\"테스트 데이터 세트 점수 : {:.2f}\".format(ridge.score(X_test, y_test)))\n",
    "    print()"
   ]
  },
  {
   "cell_type": "code",
   "execution_count": 424,
   "metadata": {},
   "outputs": [
    {
     "data": {
      "text/plain": [
       "array([ 232.28261475, 1221.30936226, 1666.4196987 , 1152.98533651,\n",
       "        390.81272843,  436.38940538, 1477.15011514,  550.80657815,\n",
       "        721.31956749,  884.07091051])"
      ]
     },
     "execution_count": 424,
     "metadata": {},
     "output_type": "execute_result"
    }
   ],
   "source": [
    "model=Ridge(alpha=0.1)\n",
    "model.fit(X_train,y_train)\n",
    "pred=model.predict(X_test)\n",
    "pred[0:10]"
   ]
  },
  {
   "cell_type": "code",
   "execution_count": 425,
   "metadata": {},
   "outputs": [
    {
     "data": {
      "text/plain": [
       "113.0684582376322"
      ]
     },
     "execution_count": 425,
     "metadata": {},
     "output_type": "execute_result"
    }
   ],
   "source": [
    "mae_val=np.mean(abs(y_test-pred))\n",
    "mae_val"
   ]
  },
  {
   "cell_type": "code",
   "execution_count": 426,
   "metadata": {},
   "outputs": [
    {
     "data": {
      "text/plain": [
       "24771.754296312458"
      ]
     },
     "execution_count": 426,
     "metadata": {},
     "output_type": "execute_result"
    }
   ],
   "source": [
    "mse_val=np.sum((y_test-pred)**2)/len(pred)\n",
    "mse_val"
   ]
  },
  {
   "cell_type": "code",
   "execution_count": 427,
   "metadata": {},
   "outputs": [
    {
     "data": {
      "text/plain": [
       "157.3904517317123"
      ]
     },
     "execution_count": 427,
     "metadata": {},
     "output_type": "execute_result"
    }
   ],
   "source": [
    "rmse_val=np.sqrt(mse_val)\n",
    "rmse_val"
   ]
  },
  {
   "cell_type": "markdown",
   "metadata": {},
   "source": [
    "### 제출파일 만들기\n",
    " - PolynomialFeatures(degree=2)\n",
    " - Ridge(alpha=0.1)"
   ]
  },
  {
   "cell_type": "code",
   "execution_count": 428,
   "metadata": {},
   "outputs": [
    {
     "name": "stdout",
     "output_type": "stream",
     "text": [
      "(724, 65)\n",
      "(1008, 17)\n"
     ]
    }
   ],
   "source": [
    "print(X_test.shape)\n",
    "print(test.shape)"
   ]
  },
  {
   "cell_type": "code",
   "execution_count": 429,
   "metadata": {},
   "outputs": [
    {
     "name": "stdout",
     "output_type": "stream",
     "text": [
      "(1008, 65)\n"
     ]
    }
   ],
   "source": [
    "sel=['label_generation_num','label_bus','단지내주차면수','공급유형','총세대수','전용면적','공가수','지역','임대건물구분','자격유형']\n",
    "test_sel=test[sel]\n",
    "nor_test = MinMaxScaler().fit_transform(test_sel)  # 입력 데이터 정규화\n",
    "ex_test = PolynomialFeatures(degree=2, include_bias=False).fit_transform(nor_test)  # 데이터 feature 추가 생성\n",
    "print(ex_test.shape)"
   ]
  },
  {
   "cell_type": "code",
   "execution_count": 430,
   "metadata": {},
   "outputs": [],
   "source": [
    "pred = model.predict(ex_test)"
   ]
  },
  {
   "cell_type": "code",
   "execution_count": 431,
   "metadata": {},
   "outputs": [
    {
     "data": {
      "text/html": [
       "<div>\n",
       "<style scoped>\n",
       "    .dataframe tbody tr th:only-of-type {\n",
       "        vertical-align: middle;\n",
       "    }\n",
       "\n",
       "    .dataframe tbody tr th {\n",
       "        vertical-align: top;\n",
       "    }\n",
       "\n",
       "    .dataframe thead th {\n",
       "        text-align: right;\n",
       "    }\n",
       "</style>\n",
       "<table border=\"1\" class=\"dataframe\">\n",
       "  <thead>\n",
       "    <tr style=\"text-align: right;\">\n",
       "      <th></th>\n",
       "      <th>index</th>\n",
       "      <th>단지코드</th>\n",
       "      <th>총세대수</th>\n",
       "      <th>임대건물구분</th>\n",
       "      <th>지역</th>\n",
       "      <th>공급유형</th>\n",
       "      <th>전용면적</th>\n",
       "      <th>전용면적별세대수</th>\n",
       "      <th>공가수</th>\n",
       "      <th>자격유형</th>\n",
       "      <th>임대보증금</th>\n",
       "      <th>임대료</th>\n",
       "      <th>10분내지하철수</th>\n",
       "      <th>10분내버스정류장수</th>\n",
       "      <th>단지내주차면수</th>\n",
       "      <th>label_bus</th>\n",
       "      <th>label_sub</th>\n",
       "      <th>label_generation_num</th>\n",
       "      <th>등록차량수</th>\n",
       "      <th>단지별차량수평균</th>\n",
       "    </tr>\n",
       "  </thead>\n",
       "  <tbody>\n",
       "    <tr>\n",
       "      <th>0</th>\n",
       "      <td>0</td>\n",
       "      <td>C1072</td>\n",
       "      <td>754</td>\n",
       "      <td>1</td>\n",
       "      <td>1</td>\n",
       "      <td>1</td>\n",
       "      <td>39.79</td>\n",
       "      <td>116</td>\n",
       "      <td>8</td>\n",
       "      <td>8</td>\n",
       "      <td>22830000</td>\n",
       "      <td>189840</td>\n",
       "      <td>2.0</td>\n",
       "      <td>2.0</td>\n",
       "      <td>683.0</td>\n",
       "      <td>0</td>\n",
       "      <td>0</td>\n",
       "      <td>15</td>\n",
       "      <td>562.477235</td>\n",
       "      <td>602.521908</td>\n",
       "    </tr>\n",
       "    <tr>\n",
       "      <th>1</th>\n",
       "      <td>8</td>\n",
       "      <td>C1128</td>\n",
       "      <td>1354</td>\n",
       "      <td>1</td>\n",
       "      <td>1</td>\n",
       "      <td>1</td>\n",
       "      <td>39.79</td>\n",
       "      <td>368</td>\n",
       "      <td>5</td>\n",
       "      <td>8</td>\n",
       "      <td>22830000</td>\n",
       "      <td>189840</td>\n",
       "      <td>3.0</td>\n",
       "      <td>3.0</td>\n",
       "      <td>1216.0</td>\n",
       "      <td>1</td>\n",
       "      <td>1</td>\n",
       "      <td>23</td>\n",
       "      <td>1103.769302</td>\n",
       "      <td>1164.455773</td>\n",
       "    </tr>\n",
       "    <tr>\n",
       "      <th>2</th>\n",
       "      <td>17</td>\n",
       "      <td>C1456</td>\n",
       "      <td>619</td>\n",
       "      <td>1</td>\n",
       "      <td>3</td>\n",
       "      <td>1</td>\n",
       "      <td>33.40</td>\n",
       "      <td>82</td>\n",
       "      <td>12</td>\n",
       "      <td>1</td>\n",
       "      <td>19706000</td>\n",
       "      <td>156200</td>\n",
       "      <td>16.0</td>\n",
       "      <td>16.0</td>\n",
       "      <td>547.0</td>\n",
       "      <td>9</td>\n",
       "      <td>9</td>\n",
       "      <td>12</td>\n",
       "      <td>535.250578</td>\n",
       "      <td>559.903389</td>\n",
       "    </tr>\n",
       "    <tr>\n",
       "      <th>3</th>\n",
       "      <td>26</td>\n",
       "      <td>C1840</td>\n",
       "      <td>593</td>\n",
       "      <td>1</td>\n",
       "      <td>11</td>\n",
       "      <td>1</td>\n",
       "      <td>39.57</td>\n",
       "      <td>253</td>\n",
       "      <td>4</td>\n",
       "      <td>1</td>\n",
       "      <td>14418000</td>\n",
       "      <td>108130</td>\n",
       "      <td>3.0</td>\n",
       "      <td>3.0</td>\n",
       "      <td>543.0</td>\n",
       "      <td>1</td>\n",
       "      <td>1</td>\n",
       "      <td>22</td>\n",
       "      <td>524.187402</td>\n",
       "      <td>562.176555</td>\n",
       "    </tr>\n",
       "    <tr>\n",
       "      <th>4</th>\n",
       "      <td>30</td>\n",
       "      <td>C1332</td>\n",
       "      <td>1297</td>\n",
       "      <td>1</td>\n",
       "      <td>1</td>\n",
       "      <td>1</td>\n",
       "      <td>39.99</td>\n",
       "      <td>282</td>\n",
       "      <td>6</td>\n",
       "      <td>8</td>\n",
       "      <td>28598000</td>\n",
       "      <td>203050</td>\n",
       "      <td>2.0</td>\n",
       "      <td>2.0</td>\n",
       "      <td>1112.0</td>\n",
       "      <td>0</td>\n",
       "      <td>0</td>\n",
       "      <td>22</td>\n",
       "      <td>987.437882</td>\n",
       "      <td>1030.528443</td>\n",
       "    </tr>\n",
       "  </tbody>\n",
       "</table>\n",
       "</div>"
      ],
      "text/plain": [
       "   index   단지코드  총세대수  임대건물구분  지역  공급유형   전용면적  전용면적별세대수  공가수  자격유형     임대보증금  \\\n",
       "0      0  C1072   754       1   1     1  39.79       116    8     8  22830000   \n",
       "1      8  C1128  1354       1   1     1  39.79       368    5     8  22830000   \n",
       "2     17  C1456   619       1   3     1  33.40        82   12     1  19706000   \n",
       "3     26  C1840   593       1  11     1  39.57       253    4     1  14418000   \n",
       "4     30  C1332  1297       1   1     1  39.99       282    6     8  28598000   \n",
       "\n",
       "      임대료  10분내지하철수  10분내버스정류장수  단지내주차면수  label_bus  label_sub  \\\n",
       "0  189840       2.0         2.0    683.0          0          0   \n",
       "1  189840       3.0         3.0   1216.0          1          1   \n",
       "2  156200      16.0        16.0    547.0          9          9   \n",
       "3  108130       3.0         3.0    543.0          1          1   \n",
       "4  203050       2.0         2.0   1112.0          0          0   \n",
       "\n",
       "   label_generation_num        등록차량수     단지별차량수평균  \n",
       "0                    15   562.477235   602.521908  \n",
       "1                    23  1103.769302  1164.455773  \n",
       "2                    12   535.250578   559.903389  \n",
       "3                    22   524.187402   562.176555  \n",
       "4                    22   987.437882  1030.528443  "
      ]
     },
     "execution_count": 431,
     "metadata": {},
     "output_type": "execute_result"
    }
   ],
   "source": [
    "test['등록차량수'] = pred\n",
    "test['단지별차량수평균'] = test.groupby(\"단지코드\")['등록차량수'].transform(np.mean)\n",
    "test_new = test.drop_duplicates(['단지코드'], keep='first').reset_index()\n",
    "test_new.head()"
   ]
  },
  {
   "cell_type": "code",
   "execution_count": 432,
   "metadata": {},
   "outputs": [
    {
     "data": {
      "text/plain": [
       "{'C1327', 'C2335', 'C2675'}"
      ]
     },
     "execution_count": 432,
     "metadata": {},
     "output_type": "execute_result"
    }
   ],
   "source": [
    "set(sub['code']) - set(test_new[\"단지코드\"])"
   ]
  },
  {
   "cell_type": "code",
   "execution_count": 433,
   "metadata": {},
   "outputs": [
    {
     "data": {
      "text/html": [
       "<div>\n",
       "<style scoped>\n",
       "    .dataframe tbody tr th:only-of-type {\n",
       "        vertical-align: middle;\n",
       "    }\n",
       "\n",
       "    .dataframe tbody tr th {\n",
       "        vertical-align: top;\n",
       "    }\n",
       "\n",
       "    .dataframe thead th {\n",
       "        text-align: right;\n",
       "    }\n",
       "</style>\n",
       "<table border=\"1\" class=\"dataframe\">\n",
       "  <thead>\n",
       "    <tr style=\"text-align: right;\">\n",
       "      <th></th>\n",
       "      <th>code</th>\n",
       "      <th>num</th>\n",
       "    </tr>\n",
       "  </thead>\n",
       "  <tbody>\n",
       "    <tr>\n",
       "      <th>0</th>\n",
       "      <td>C1072</td>\n",
       "      <td>602.521908</td>\n",
       "    </tr>\n",
       "    <tr>\n",
       "      <th>1</th>\n",
       "      <td>C1128</td>\n",
       "      <td>1164.455773</td>\n",
       "    </tr>\n",
       "    <tr>\n",
       "      <th>2</th>\n",
       "      <td>C1456</td>\n",
       "      <td>559.903389</td>\n",
       "    </tr>\n",
       "    <tr>\n",
       "      <th>3</th>\n",
       "      <td>C1840</td>\n",
       "      <td>562.176555</td>\n",
       "    </tr>\n",
       "    <tr>\n",
       "      <th>4</th>\n",
       "      <td>C1332</td>\n",
       "      <td>1030.528443</td>\n",
       "    </tr>\n",
       "    <tr>\n",
       "      <th>...</th>\n",
       "      <td>...</td>\n",
       "      <td>...</td>\n",
       "    </tr>\n",
       "    <tr>\n",
       "      <th>142</th>\n",
       "      <td>C2456</td>\n",
       "      <td>293.598569</td>\n",
       "    </tr>\n",
       "    <tr>\n",
       "      <th>143</th>\n",
       "      <td>C1266</td>\n",
       "      <td>300.843016</td>\n",
       "    </tr>\n",
       "    <tr>\n",
       "      <th>144</th>\n",
       "      <td>C2152</td>\n",
       "      <td>62.961291</td>\n",
       "    </tr>\n",
       "    <tr>\n",
       "      <th>145</th>\n",
       "      <td>C1267</td>\n",
       "      <td>138.451785</td>\n",
       "    </tr>\n",
       "    <tr>\n",
       "      <th>146</th>\n",
       "      <td>C2189</td>\n",
       "      <td>231.576175</td>\n",
       "    </tr>\n",
       "  </tbody>\n",
       "</table>\n",
       "<p>147 rows × 2 columns</p>\n",
       "</div>"
      ],
      "text/plain": [
       "      code          num\n",
       "0    C1072   602.521908\n",
       "1    C1128  1164.455773\n",
       "2    C1456   559.903389\n",
       "3    C1840   562.176555\n",
       "4    C1332  1030.528443\n",
       "..     ...          ...\n",
       "142  C2456   293.598569\n",
       "143  C1266   300.843016\n",
       "144  C2152    62.961291\n",
       "145  C1267   138.451785\n",
       "146  C2189   231.576175\n",
       "\n",
       "[147 rows x 2 columns]"
      ]
     },
     "execution_count": 433,
     "metadata": {},
     "output_type": "execute_result"
    }
   ],
   "source": [
    "sub_df = pd.merge(sub, test_new, left_on='code', right_on='단지코드',how='left')\n",
    "sub_df = test_new[ ['단지코드', '단지별차량수평균']]\n",
    "sub_df.columns = ['code', 'num']\n",
    "sub_df.to_csv('0717_ridge.csv', index=False)\n",
    "sub_df"
   ]
  },
  {
   "cell_type": "code",
   "execution_count": 434,
   "metadata": {},
   "outputs": [
    {
     "data": {
      "text/plain": [
       "['.ipynb_checkpoints',\n",
       " '0714_hw.csv',\n",
       " '0716_api.ipynb',\n",
       " '0716_dacon_form.ipynb',\n",
       " '0716_random_forest.ipynb',\n",
       " '0716_random_tree.csv',\n",
       " '0716_study.csv',\n",
       " '0716_임대보증금_결측치.ipynb',\n",
       " '0716_전처리_randomforest.ipynb',\n",
       " '0717_ridge.csv',\n",
       " '0717_전처리_ridge.ipynb',\n",
       " 'age_gender_info.csv',\n",
       " 'cache',\n",
       " 'covid19_status_crawler.ipynb',\n",
       " 'sample_submission.csv',\n",
       " 'test_df.csv',\n",
       " 'train_df_errno.csv',\n",
       " 'Untitled.ipynb']"
      ]
     },
     "execution_count": 434,
     "metadata": {},
     "output_type": "execute_result"
    }
   ],
   "source": [
    "import os\n",
    "os.listdir(os.getcwd())"
   ]
  },
  {
   "cell_type": "markdown",
   "metadata": {},
   "source": [
    "### 제출용 오류 코드를 0으로 만들고 150행만들기"
   ]
  },
  {
   "cell_type": "code",
   "execution_count": 435,
   "metadata": {},
   "outputs": [
    {
     "data": {
      "text/html": [
       "<div>\n",
       "<style scoped>\n",
       "    .dataframe tbody tr th:only-of-type {\n",
       "        vertical-align: middle;\n",
       "    }\n",
       "\n",
       "    .dataframe tbody tr th {\n",
       "        vertical-align: top;\n",
       "    }\n",
       "\n",
       "    .dataframe thead th {\n",
       "        text-align: right;\n",
       "    }\n",
       "</style>\n",
       "<table border=\"1\" class=\"dataframe\">\n",
       "  <thead>\n",
       "    <tr style=\"text-align: right;\">\n",
       "      <th></th>\n",
       "      <th>code</th>\n",
       "      <th>num</th>\n",
       "    </tr>\n",
       "  </thead>\n",
       "  <tbody>\n",
       "    <tr>\n",
       "      <th>0</th>\n",
       "      <td>C2675</td>\n",
       "      <td>0</td>\n",
       "    </tr>\n",
       "    <tr>\n",
       "      <th>1</th>\n",
       "      <td>C2335</td>\n",
       "      <td>0</td>\n",
       "    </tr>\n",
       "    <tr>\n",
       "      <th>2</th>\n",
       "      <td>C1327</td>\n",
       "      <td>0</td>\n",
       "    </tr>\n",
       "  </tbody>\n",
       "</table>\n",
       "</div>"
      ],
      "text/plain": [
       "    code num\n",
       "0  C2675   0\n",
       "1  C2335   0\n",
       "2  C1327   0"
      ]
     },
     "execution_count": 435,
     "metadata": {},
     "output_type": "execute_result"
    }
   ],
   "source": [
    "add_dat={'code':['C2675','C2335','C1327'],'num':['0','0','0']}\n",
    "add_df=pd.DataFrame(add_dat)\n",
    "add_df"
   ]
  },
  {
   "cell_type": "code",
   "execution_count": 436,
   "metadata": {},
   "outputs": [
    {
     "data": {
      "text/html": [
       "<div>\n",
       "<style scoped>\n",
       "    .dataframe tbody tr th:only-of-type {\n",
       "        vertical-align: middle;\n",
       "    }\n",
       "\n",
       "    .dataframe tbody tr th {\n",
       "        vertical-align: top;\n",
       "    }\n",
       "\n",
       "    .dataframe thead th {\n",
       "        text-align: right;\n",
       "    }\n",
       "</style>\n",
       "<table border=\"1\" class=\"dataframe\">\n",
       "  <thead>\n",
       "    <tr style=\"text-align: right;\">\n",
       "      <th></th>\n",
       "      <th>index</th>\n",
       "      <th>code</th>\n",
       "      <th>num</th>\n",
       "    </tr>\n",
       "  </thead>\n",
       "  <tbody>\n",
       "    <tr>\n",
       "      <th>0</th>\n",
       "      <td>0</td>\n",
       "      <td>C1072</td>\n",
       "      <td>602.521908</td>\n",
       "    </tr>\n",
       "    <tr>\n",
       "      <th>1</th>\n",
       "      <td>1</td>\n",
       "      <td>C1128</td>\n",
       "      <td>1164.455773</td>\n",
       "    </tr>\n",
       "    <tr>\n",
       "      <th>2</th>\n",
       "      <td>2</td>\n",
       "      <td>C1456</td>\n",
       "      <td>559.903389</td>\n",
       "    </tr>\n",
       "    <tr>\n",
       "      <th>3</th>\n",
       "      <td>3</td>\n",
       "      <td>C1840</td>\n",
       "      <td>562.176555</td>\n",
       "    </tr>\n",
       "    <tr>\n",
       "      <th>4</th>\n",
       "      <td>4</td>\n",
       "      <td>C1332</td>\n",
       "      <td>1030.528443</td>\n",
       "    </tr>\n",
       "    <tr>\n",
       "      <th>...</th>\n",
       "      <td>...</td>\n",
       "      <td>...</td>\n",
       "      <td>...</td>\n",
       "    </tr>\n",
       "    <tr>\n",
       "      <th>145</th>\n",
       "      <td>145</td>\n",
       "      <td>C1267</td>\n",
       "      <td>138.451785</td>\n",
       "    </tr>\n",
       "    <tr>\n",
       "      <th>146</th>\n",
       "      <td>146</td>\n",
       "      <td>C2189</td>\n",
       "      <td>231.576175</td>\n",
       "    </tr>\n",
       "    <tr>\n",
       "      <th>147</th>\n",
       "      <td>0</td>\n",
       "      <td>C2675</td>\n",
       "      <td>0</td>\n",
       "    </tr>\n",
       "    <tr>\n",
       "      <th>148</th>\n",
       "      <td>1</td>\n",
       "      <td>C2335</td>\n",
       "      <td>0</td>\n",
       "    </tr>\n",
       "    <tr>\n",
       "      <th>149</th>\n",
       "      <td>2</td>\n",
       "      <td>C1327</td>\n",
       "      <td>0</td>\n",
       "    </tr>\n",
       "  </tbody>\n",
       "</table>\n",
       "<p>150 rows × 3 columns</p>\n",
       "</div>"
      ],
      "text/plain": [
       "     index   code          num\n",
       "0        0  C1072   602.521908\n",
       "1        1  C1128  1164.455773\n",
       "2        2  C1456   559.903389\n",
       "3        3  C1840   562.176555\n",
       "4        4  C1332  1030.528443\n",
       "..     ...    ...          ...\n",
       "145    145  C1267   138.451785\n",
       "146    146  C2189   231.576175\n",
       "147      0  C2675            0\n",
       "148      1  C2335            0\n",
       "149      2  C1327            0\n",
       "\n",
       "[150 rows x 3 columns]"
      ]
     },
     "execution_count": 436,
     "metadata": {},
     "output_type": "execute_result"
    }
   ],
   "source": [
    "sub_df=pd.concat([sub_df,add_df]).reset_index()\n",
    "sub_df"
   ]
  },
  {
   "cell_type": "code",
   "execution_count": 437,
   "metadata": {},
   "outputs": [],
   "source": [
    "sub_df=sub_df.drop(['index'],axis=1)"
   ]
  },
  {
   "cell_type": "code",
   "execution_count": 294,
   "metadata": {},
   "outputs": [
    {
     "data": {
      "text/html": [
       "<div>\n",
       "<style scoped>\n",
       "    .dataframe tbody tr th:only-of-type {\n",
       "        vertical-align: middle;\n",
       "    }\n",
       "\n",
       "    .dataframe tbody tr th {\n",
       "        vertical-align: top;\n",
       "    }\n",
       "\n",
       "    .dataframe thead th {\n",
       "        text-align: right;\n",
       "    }\n",
       "</style>\n",
       "<table border=\"1\" class=\"dataframe\">\n",
       "  <thead>\n",
       "    <tr style=\"text-align: right;\">\n",
       "      <th></th>\n",
       "      <th>code</th>\n",
       "      <th>num</th>\n",
       "    </tr>\n",
       "  </thead>\n",
       "  <tbody>\n",
       "    <tr>\n",
       "      <th>0</th>\n",
       "      <td>C1072</td>\n",
       "      <td>617.923624</td>\n",
       "    </tr>\n",
       "    <tr>\n",
       "      <th>1</th>\n",
       "      <td>C1128</td>\n",
       "      <td>1155.030331</td>\n",
       "    </tr>\n",
       "    <tr>\n",
       "      <th>2</th>\n",
       "      <td>C1456</td>\n",
       "      <td>568.10221</td>\n",
       "    </tr>\n",
       "    <tr>\n",
       "      <th>3</th>\n",
       "      <td>C1840</td>\n",
       "      <td>561.609343</td>\n",
       "    </tr>\n",
       "    <tr>\n",
       "      <th>4</th>\n",
       "      <td>C1332</td>\n",
       "      <td>1024.226337</td>\n",
       "    </tr>\n",
       "  </tbody>\n",
       "</table>\n",
       "</div>"
      ],
      "text/plain": [
       "    code          num\n",
       "0  C1072   617.923624\n",
       "1  C1128  1155.030331\n",
       "2  C1456    568.10221\n",
       "3  C1840   561.609343\n",
       "4  C1332  1024.226337"
      ]
     },
     "execution_count": 294,
     "metadata": {},
     "output_type": "execute_result"
    }
   ],
   "source": [
    "sub_df.to_csv('0717_ridge.csv', index=False)\n",
    "sub_df.head()"
   ]
  },
  {
   "cell_type": "code",
   "execution_count": null,
   "metadata": {},
   "outputs": [],
   "source": []
  },
  {
   "cell_type": "code",
   "execution_count": null,
   "metadata": {},
   "outputs": [],
   "source": []
  }
 ],
 "metadata": {
  "kernelspec": {
   "display_name": "Python 3",
   "language": "python",
   "name": "python3"
  },
  "language_info": {
   "codemirror_mode": {
    "name": "ipython",
    "version": 3
   },
   "file_extension": ".py",
   "mimetype": "text/x-python",
   "name": "python",
   "nbconvert_exporter": "python",
   "pygments_lexer": "ipython3",
   "version": "3.8.5"
  }
 },
 "nbformat": 4,
 "nbformat_minor": 4
}
