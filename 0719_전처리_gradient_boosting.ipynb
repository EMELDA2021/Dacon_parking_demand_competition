{
 "cells": [
  {
   "cell_type": "code",
   "execution_count": 229,
   "metadata": {},
   "outputs": [],
   "source": [
    "import pandas as pd"
   ]
  },
  {
   "cell_type": "code",
   "execution_count": 230,
   "metadata": {},
   "outputs": [
    {
     "data": {
      "text/plain": [
       "((2896, 15), (1008, 14), (150, 2), (16, 23))"
      ]
     },
     "execution_count": 230,
     "metadata": {},
     "output_type": "execute_result"
    }
   ],
   "source": [
    "train=pd.read_csv('./train_df_errno.csv')\n",
    "test=pd.read_csv('./test_df.csv')\n",
    "sub=pd.read_csv('./sample_submission.csv')\n",
    "age=pd.read_csv('./age_gender_info.csv')\n",
    "train.shape, test.shape, sub.shape, age.shape"
   ]
  },
  {
   "cell_type": "code",
   "execution_count": 231,
   "metadata": {},
   "outputs": [
    {
     "name": "stdout",
     "output_type": "stream",
     "text": [
      "<class 'pandas.core.frame.DataFrame'>\n",
      "RangeIndex: 2896 entries, 0 to 2895\n",
      "Data columns (total 15 columns):\n",
      " #   Column      Non-Null Count  Dtype  \n",
      "---  ------      --------------  -----  \n",
      " 0   단지코드        2896 non-null   object \n",
      " 1   총세대수        2896 non-null   int64  \n",
      " 2   임대건물구분      2896 non-null   object \n",
      " 3   지역          2896 non-null   object \n",
      " 4   공급유형        2896 non-null   object \n",
      " 5   전용면적        2896 non-null   float64\n",
      " 6   전용면적별세대수    2896 non-null   int64  \n",
      " 7   공가수         2896 non-null   float64\n",
      " 8   자격유형        2896 non-null   object \n",
      " 9   임대보증금       2327 non-null   object \n",
      " 10  임대료         2327 non-null   object \n",
      " 11  10분내지하철수    2685 non-null   float64\n",
      " 12  10분내버스정류장수  2892 non-null   float64\n",
      " 13  단지내주차면수     2896 non-null   float64\n",
      " 14  등록차량수       2896 non-null   float64\n",
      "dtypes: float64(6), int64(2), object(7)\n",
      "memory usage: 339.5+ KB\n"
     ]
    }
   ],
   "source": [
    "train.info()"
   ]
  },
  {
   "cell_type": "markdown",
   "metadata": {},
   "source": [
    "### 결측치"
   ]
  },
  {
   "cell_type": "code",
   "execution_count": 232,
   "metadata": {},
   "outputs": [
    {
     "data": {
      "text/plain": [
       "단지코드            0\n",
       "총세대수            0\n",
       "임대건물구분          0\n",
       "지역              0\n",
       "공급유형            0\n",
       "전용면적            0\n",
       "전용면적별세대수        0\n",
       "공가수             0\n",
       "자격유형            0\n",
       "임대보증금         569\n",
       "임대료           569\n",
       "10분내지하철수      211\n",
       "10분내버스정류장수      4\n",
       "단지내주차면수         0\n",
       "등록차량수           0\n",
       "dtype: int64"
      ]
     },
     "execution_count": 232,
     "metadata": {},
     "output_type": "execute_result"
    }
   ],
   "source": [
    "train.isnull().sum()"
   ]
  },
  {
   "cell_type": "code",
   "execution_count": 233,
   "metadata": {},
   "outputs": [
    {
     "data": {
      "text/plain": [
       "단지코드            0\n",
       "총세대수            0\n",
       "임대건물구분          0\n",
       "지역              0\n",
       "공급유형            0\n",
       "전용면적            0\n",
       "전용면적별세대수        0\n",
       "공가수             0\n",
       "자격유형            2\n",
       "임대보증금         180\n",
       "임대료           180\n",
       "10분내지하철수       38\n",
       "10분내버스정류장수      0\n",
       "단지내주차면수         0\n",
       "dtype: int64"
      ]
     },
     "execution_count": 233,
     "metadata": {},
     "output_type": "execute_result"
    }
   ],
   "source": [
    "test.isnull().sum()"
   ]
  },
  {
   "cell_type": "markdown",
   "metadata": {},
   "source": [
    "### 1.자격유형"
   ]
  },
  {
   "cell_type": "code",
   "execution_count": 234,
   "metadata": {},
   "outputs": [
    {
     "data": {
      "text/html": [
       "<div>\n",
       "<style scoped>\n",
       "    .dataframe tbody tr th:only-of-type {\n",
       "        vertical-align: middle;\n",
       "    }\n",
       "\n",
       "    .dataframe tbody tr th {\n",
       "        vertical-align: top;\n",
       "    }\n",
       "\n",
       "    .dataframe thead th {\n",
       "        text-align: right;\n",
       "    }\n",
       "</style>\n",
       "<table border=\"1\" class=\"dataframe\">\n",
       "  <thead>\n",
       "    <tr style=\"text-align: right;\">\n",
       "      <th></th>\n",
       "      <th>단지코드</th>\n",
       "      <th>총세대수</th>\n",
       "      <th>임대건물구분</th>\n",
       "      <th>지역</th>\n",
       "      <th>공급유형</th>\n",
       "      <th>전용면적</th>\n",
       "      <th>전용면적별세대수</th>\n",
       "      <th>공가수</th>\n",
       "      <th>자격유형</th>\n",
       "      <th>임대보증금</th>\n",
       "      <th>임대료</th>\n",
       "      <th>10분내지하철수</th>\n",
       "      <th>10분내버스정류장수</th>\n",
       "      <th>단지내주차면수</th>\n",
       "    </tr>\n",
       "  </thead>\n",
       "  <tbody>\n",
       "    <tr>\n",
       "      <th>196</th>\n",
       "      <td>C2411</td>\n",
       "      <td>962</td>\n",
       "      <td>아파트</td>\n",
       "      <td>경상남도</td>\n",
       "      <td>국민임대</td>\n",
       "      <td>46.90</td>\n",
       "      <td>240</td>\n",
       "      <td>25.0</td>\n",
       "      <td>NaN</td>\n",
       "      <td>71950000</td>\n",
       "      <td>37470</td>\n",
       "      <td>0.0</td>\n",
       "      <td>2.0</td>\n",
       "      <td>840.0</td>\n",
       "    </tr>\n",
       "    <tr>\n",
       "      <th>258</th>\n",
       "      <td>C2253</td>\n",
       "      <td>1161</td>\n",
       "      <td>아파트</td>\n",
       "      <td>강원도</td>\n",
       "      <td>영구임대</td>\n",
       "      <td>26.37</td>\n",
       "      <td>745</td>\n",
       "      <td>0.0</td>\n",
       "      <td>NaN</td>\n",
       "      <td>2249000</td>\n",
       "      <td>44770</td>\n",
       "      <td>0.0</td>\n",
       "      <td>2.0</td>\n",
       "      <td>173.0</td>\n",
       "    </tr>\n",
       "  </tbody>\n",
       "</table>\n",
       "</div>"
      ],
      "text/plain": [
       "      단지코드  총세대수 임대건물구분    지역  공급유형   전용면적  전용면적별세대수   공가수 자격유형     임대보증금  \\\n",
       "196  C2411   962    아파트  경상남도  국민임대  46.90       240  25.0  NaN  71950000   \n",
       "258  C2253  1161    아파트   강원도  영구임대  26.37       745   0.0  NaN   2249000   \n",
       "\n",
       "       임대료  10분내지하철수  10분내버스정류장수  단지내주차면수  \n",
       "196  37470       0.0         2.0    840.0  \n",
       "258  44770       0.0         2.0    173.0  "
      ]
     },
     "execution_count": 234,
     "metadata": {},
     "output_type": "execute_result"
    }
   ],
   "source": [
    "test.loc[test['자격유형'].isnull()]"
   ]
  },
  {
   "cell_type": "code",
   "execution_count": 235,
   "metadata": {},
   "outputs": [
    {
     "name": "stdout",
     "output_type": "stream",
     "text": [
      "      단지코드  총세대수 임대건물구분    지역  공급유형   전용면적  전용면적별세대수   공가수 자격유형     임대보증금  \\\n",
      "193  C2411   962    아파트  경상남도  국민임대  39.43        56  25.0    A  11992000   \n",
      "194  C2411   962    아파트  경상남도  국민임대  39.72       336  25.0    A  11992000   \n",
      "195  C2411   962    아파트  경상남도  국민임대  39.82       179  25.0    A  11992000   \n",
      "196  C2411   962    아파트  경상남도  국민임대  46.90       240  25.0  NaN  71950000   \n",
      "197  C2411   962    아파트  경상남도  국민임대  51.93       150  25.0    A  21586000   \n",
      "\n",
      "        임대료  10분내지하철수  10분내버스정류장수  단지내주차면수  \n",
      "193  100720       0.0         2.0    840.0  \n",
      "194  100720       0.0         2.0    840.0  \n",
      "195  100720       0.0         2.0    840.0  \n",
      "196   37470       0.0         2.0    840.0  \n",
      "197  171480       0.0         2.0    840.0  \n",
      "      단지코드  총세대수 임대건물구분   지역  공급유형   전용면적  전용면적별세대수  공가수 자격유형    임대보증금    임대료  \\\n",
      "258  C2253  1161    아파트  강원도  영구임대  26.37       745  0.0  NaN  2249000  44770   \n",
      "259  C2253  1161    아파트  강원도  영구임대  31.32       239  0.0    C  3731000  83020   \n",
      "260  C2253  1161    아파트  강원도  영구임대  31.32       149  0.0    C  3731000  83020   \n",
      "\n",
      "     10분내지하철수  10분내버스정류장수  단지내주차면수  \n",
      "258       0.0         2.0    173.0  \n",
      "259       0.0         2.0    173.0  \n",
      "260       0.0         2.0    173.0  \n"
     ]
    }
   ],
   "source": [
    "grouped=test.groupby(['단지코드','임대건물구분','지역','공급유형'])\n",
    "group1=grouped.get_group(('C2411','아파트','경상남도','국민임대'))\n",
    "group2=grouped.get_group(('C2253','아파트','강원도','영구임대'))\n",
    "print(group1)\n",
    "print(group2)"
   ]
  },
  {
   "cell_type": "code",
   "execution_count": 236,
   "metadata": {},
   "outputs": [],
   "source": [
    "test.loc[196,'자격유형']='A'\n",
    "test.loc[258,'자격유형']='C'"
   ]
  },
  {
   "cell_type": "code",
   "execution_count": 237,
   "metadata": {},
   "outputs": [
    {
     "data": {
      "text/plain": [
       "0"
      ]
     },
     "execution_count": 237,
     "metadata": {},
     "output_type": "execute_result"
    }
   ],
   "source": [
    "test['자격유형'].isnull().sum()"
   ]
  },
  {
   "cell_type": "code",
   "execution_count": 238,
   "metadata": {},
   "outputs": [
    {
     "data": {
      "text/plain": [
       "array(['A', 'B', 'C', 'D', 'E', 'F', 'G', 'H', 'I', 'J', 'K', 'L', 'M',\n",
       "       'N', 'O'], dtype=object)"
      ]
     },
     "execution_count": 238,
     "metadata": {},
     "output_type": "execute_result"
    }
   ],
   "source": [
    "train['자격유형'].unique()"
   ]
  },
  {
   "cell_type": "code",
   "execution_count": 239,
   "metadata": {},
   "outputs": [],
   "source": [
    "mapping = { 'A':1, 'B':2, 'C':3, 'D':4, 'E':5,\n",
    "            'F':6, 'G':7, 'H':8, 'I':9, 'J':10,\n",
    "            'K':11, 'L':12, 'M':13, 'N':14, 'O':15  }\n",
    "train['자격유형']=train['자격유형'].map(mapping).astype(int)\n",
    "test['자격유형']=test['자격유형'].map(mapping).astype(int)"
   ]
  },
  {
   "cell_type": "markdown",
   "metadata": {},
   "source": [
    "### 2.도보 10분거리 내 버스정류장 수_결측치"
   ]
  },
  {
   "cell_type": "code",
   "execution_count": 240,
   "metadata": {},
   "outputs": [
    {
     "data": {
      "text/html": [
       "<div>\n",
       "<style scoped>\n",
       "    .dataframe tbody tr th:only-of-type {\n",
       "        vertical-align: middle;\n",
       "    }\n",
       "\n",
       "    .dataframe tbody tr th {\n",
       "        vertical-align: top;\n",
       "    }\n",
       "\n",
       "    .dataframe thead th {\n",
       "        text-align: right;\n",
       "    }\n",
       "</style>\n",
       "<table border=\"1\" class=\"dataframe\">\n",
       "  <thead>\n",
       "    <tr style=\"text-align: right;\">\n",
       "      <th></th>\n",
       "      <th>단지코드</th>\n",
       "      <th>총세대수</th>\n",
       "      <th>임대건물구분</th>\n",
       "      <th>지역</th>\n",
       "      <th>공급유형</th>\n",
       "      <th>전용면적</th>\n",
       "      <th>전용면적별세대수</th>\n",
       "      <th>공가수</th>\n",
       "      <th>자격유형</th>\n",
       "      <th>임대보증금</th>\n",
       "      <th>임대료</th>\n",
       "      <th>10분내지하철수</th>\n",
       "      <th>10분내버스정류장수</th>\n",
       "      <th>단지내주차면수</th>\n",
       "      <th>등록차량수</th>\n",
       "    </tr>\n",
       "  </thead>\n",
       "  <tbody>\n",
       "    <tr>\n",
       "      <th>2293</th>\n",
       "      <td>N2431</td>\n",
       "      <td>1047</td>\n",
       "      <td>아파트</td>\n",
       "      <td>경상남도</td>\n",
       "      <td>공공임대(10년)</td>\n",
       "      <td>74.97</td>\n",
       "      <td>80</td>\n",
       "      <td>15.0</td>\n",
       "      <td>1</td>\n",
       "      <td>46000000</td>\n",
       "      <td>456000</td>\n",
       "      <td>NaN</td>\n",
       "      <td>NaN</td>\n",
       "      <td>1066.0</td>\n",
       "      <td>1214.0</td>\n",
       "    </tr>\n",
       "    <tr>\n",
       "      <th>2294</th>\n",
       "      <td>N2431</td>\n",
       "      <td>1047</td>\n",
       "      <td>아파트</td>\n",
       "      <td>경상남도</td>\n",
       "      <td>공공임대(10년)</td>\n",
       "      <td>84.95</td>\n",
       "      <td>124</td>\n",
       "      <td>15.0</td>\n",
       "      <td>1</td>\n",
       "      <td>57000000</td>\n",
       "      <td>462000</td>\n",
       "      <td>NaN</td>\n",
       "      <td>NaN</td>\n",
       "      <td>1066.0</td>\n",
       "      <td>1214.0</td>\n",
       "    </tr>\n",
       "    <tr>\n",
       "      <th>2295</th>\n",
       "      <td>N2431</td>\n",
       "      <td>1047</td>\n",
       "      <td>아파트</td>\n",
       "      <td>경상남도</td>\n",
       "      <td>공공임대(10년)</td>\n",
       "      <td>84.96</td>\n",
       "      <td>289</td>\n",
       "      <td>15.0</td>\n",
       "      <td>1</td>\n",
       "      <td>57000000</td>\n",
       "      <td>462000</td>\n",
       "      <td>NaN</td>\n",
       "      <td>NaN</td>\n",
       "      <td>1066.0</td>\n",
       "      <td>1214.0</td>\n",
       "    </tr>\n",
       "    <tr>\n",
       "      <th>2296</th>\n",
       "      <td>N2431</td>\n",
       "      <td>1047</td>\n",
       "      <td>아파트</td>\n",
       "      <td>경상남도</td>\n",
       "      <td>공공임대(10년)</td>\n",
       "      <td>84.98</td>\n",
       "      <td>82</td>\n",
       "      <td>15.0</td>\n",
       "      <td>1</td>\n",
       "      <td>57000000</td>\n",
       "      <td>462000</td>\n",
       "      <td>NaN</td>\n",
       "      <td>NaN</td>\n",
       "      <td>1066.0</td>\n",
       "      <td>1214.0</td>\n",
       "    </tr>\n",
       "  </tbody>\n",
       "</table>\n",
       "</div>"
      ],
      "text/plain": [
       "       단지코드  총세대수 임대건물구분    지역       공급유형   전용면적  전용면적별세대수   공가수  자격유형  \\\n",
       "2293  N2431  1047    아파트  경상남도  공공임대(10년)  74.97        80  15.0     1   \n",
       "2294  N2431  1047    아파트  경상남도  공공임대(10년)  84.95       124  15.0     1   \n",
       "2295  N2431  1047    아파트  경상남도  공공임대(10년)  84.96       289  15.0     1   \n",
       "2296  N2431  1047    아파트  경상남도  공공임대(10년)  84.98        82  15.0     1   \n",
       "\n",
       "         임대보증금     임대료  10분내지하철수  10분내버스정류장수  단지내주차면수   등록차량수  \n",
       "2293  46000000  456000       NaN         NaN   1066.0  1214.0  \n",
       "2294  57000000  462000       NaN         NaN   1066.0  1214.0  \n",
       "2295  57000000  462000       NaN         NaN   1066.0  1214.0  \n",
       "2296  57000000  462000       NaN         NaN   1066.0  1214.0  "
      ]
     },
     "execution_count": 240,
     "metadata": {},
     "output_type": "execute_result"
    }
   ],
   "source": [
    "train.loc[train['10분내버스정류장수'].isnull()]"
   ]
  },
  {
   "cell_type": "code",
   "execution_count": 241,
   "metadata": {},
   "outputs": [
    {
     "data": {
      "text/html": [
       "<div>\n",
       "<style scoped>\n",
       "    .dataframe tbody tr th:only-of-type {\n",
       "        vertical-align: middle;\n",
       "    }\n",
       "\n",
       "    .dataframe tbody tr th {\n",
       "        vertical-align: top;\n",
       "    }\n",
       "\n",
       "    .dataframe thead th {\n",
       "        text-align: right;\n",
       "    }\n",
       "</style>\n",
       "<table border=\"1\" class=\"dataframe\">\n",
       "  <thead>\n",
       "    <tr style=\"text-align: right;\">\n",
       "      <th></th>\n",
       "      <th>단지코드</th>\n",
       "      <th>총세대수</th>\n",
       "      <th>임대건물구분</th>\n",
       "      <th>지역</th>\n",
       "      <th>공급유형</th>\n",
       "      <th>전용면적</th>\n",
       "      <th>전용면적별세대수</th>\n",
       "      <th>공가수</th>\n",
       "      <th>자격유형</th>\n",
       "      <th>임대보증금</th>\n",
       "      <th>임대료</th>\n",
       "      <th>10분내지하철수</th>\n",
       "      <th>10분내버스정류장수</th>\n",
       "      <th>단지내주차면수</th>\n",
       "    </tr>\n",
       "  </thead>\n",
       "  <tbody>\n",
       "    <tr>\n",
       "      <th>810</th>\n",
       "      <td>C2175</td>\n",
       "      <td>595</td>\n",
       "      <td>아파트</td>\n",
       "      <td>경상남도</td>\n",
       "      <td>공공임대(10년)</td>\n",
       "      <td>74.82</td>\n",
       "      <td>118</td>\n",
       "      <td>5.0</td>\n",
       "      <td>1</td>\n",
       "      <td>47000000</td>\n",
       "      <td>470000</td>\n",
       "      <td>0.0</td>\n",
       "      <td>3.0</td>\n",
       "      <td>685.0</td>\n",
       "    </tr>\n",
       "    <tr>\n",
       "      <th>811</th>\n",
       "      <td>C2175</td>\n",
       "      <td>595</td>\n",
       "      <td>아파트</td>\n",
       "      <td>경상남도</td>\n",
       "      <td>공공임대(10년)</td>\n",
       "      <td>84.69</td>\n",
       "      <td>297</td>\n",
       "      <td>5.0</td>\n",
       "      <td>1</td>\n",
       "      <td>58000000</td>\n",
       "      <td>520000</td>\n",
       "      <td>0.0</td>\n",
       "      <td>3.0</td>\n",
       "      <td>685.0</td>\n",
       "    </tr>\n",
       "    <tr>\n",
       "      <th>812</th>\n",
       "      <td>C2175</td>\n",
       "      <td>595</td>\n",
       "      <td>아파트</td>\n",
       "      <td>경상남도</td>\n",
       "      <td>공공임대(10년)</td>\n",
       "      <td>84.86</td>\n",
       "      <td>143</td>\n",
       "      <td>5.0</td>\n",
       "      <td>1</td>\n",
       "      <td>58000000</td>\n",
       "      <td>520000</td>\n",
       "      <td>0.0</td>\n",
       "      <td>3.0</td>\n",
       "      <td>685.0</td>\n",
       "    </tr>\n",
       "    <tr>\n",
       "      <th>813</th>\n",
       "      <td>C2175</td>\n",
       "      <td>595</td>\n",
       "      <td>아파트</td>\n",
       "      <td>경상남도</td>\n",
       "      <td>공공임대(10년)</td>\n",
       "      <td>84.89</td>\n",
       "      <td>13</td>\n",
       "      <td>5.0</td>\n",
       "      <td>1</td>\n",
       "      <td>58000000</td>\n",
       "      <td>520000</td>\n",
       "      <td>0.0</td>\n",
       "      <td>3.0</td>\n",
       "      <td>685.0</td>\n",
       "    </tr>\n",
       "    <tr>\n",
       "      <th>814</th>\n",
       "      <td>C2175</td>\n",
       "      <td>595</td>\n",
       "      <td>아파트</td>\n",
       "      <td>경상남도</td>\n",
       "      <td>공공임대(10년)</td>\n",
       "      <td>84.94</td>\n",
       "      <td>13</td>\n",
       "      <td>5.0</td>\n",
       "      <td>1</td>\n",
       "      <td>58000000</td>\n",
       "      <td>520000</td>\n",
       "      <td>0.0</td>\n",
       "      <td>3.0</td>\n",
       "      <td>685.0</td>\n",
       "    </tr>\n",
       "    <tr>\n",
       "      <th>815</th>\n",
       "      <td>C2175</td>\n",
       "      <td>595</td>\n",
       "      <td>아파트</td>\n",
       "      <td>경상남도</td>\n",
       "      <td>공공임대(10년)</td>\n",
       "      <td>84.94</td>\n",
       "      <td>11</td>\n",
       "      <td>5.0</td>\n",
       "      <td>1</td>\n",
       "      <td>58000000</td>\n",
       "      <td>520000</td>\n",
       "      <td>0.0</td>\n",
       "      <td>3.0</td>\n",
       "      <td>685.0</td>\n",
       "    </tr>\n",
       "  </tbody>\n",
       "</table>\n",
       "</div>"
      ],
      "text/plain": [
       "      단지코드  총세대수 임대건물구분    지역       공급유형   전용면적  전용면적별세대수  공가수  자격유형  \\\n",
       "810  C2175   595    아파트  경상남도  공공임대(10년)  74.82       118  5.0     1   \n",
       "811  C2175   595    아파트  경상남도  공공임대(10년)  84.69       297  5.0     1   \n",
       "812  C2175   595    아파트  경상남도  공공임대(10년)  84.86       143  5.0     1   \n",
       "813  C2175   595    아파트  경상남도  공공임대(10년)  84.89        13  5.0     1   \n",
       "814  C2175   595    아파트  경상남도  공공임대(10년)  84.94        13  5.0     1   \n",
       "815  C2175   595    아파트  경상남도  공공임대(10년)  84.94        11  5.0     1   \n",
       "\n",
       "        임대보증금     임대료  10분내지하철수  10분내버스정류장수  단지내주차면수  \n",
       "810  47000000  470000       0.0         3.0    685.0  \n",
       "811  58000000  520000       0.0         3.0    685.0  \n",
       "812  58000000  520000       0.0         3.0    685.0  \n",
       "813  58000000  520000       0.0         3.0    685.0  \n",
       "814  58000000  520000       0.0         3.0    685.0  \n",
       "815  58000000  520000       0.0         3.0    685.0  "
      ]
     },
     "execution_count": 241,
     "metadata": {},
     "output_type": "execute_result"
    }
   ],
   "source": [
    "grouped=test.groupby(['임대건물구분','지역','공급유형','자격유형'])\n",
    "group1=grouped.get_group(('아파트','경상남도','공공임대(10년)',1))\n",
    "group1"
   ]
  },
  {
   "cell_type": "code",
   "execution_count": 242,
   "metadata": {},
   "outputs": [
    {
     "data": {
      "text/html": [
       "<div>\n",
       "<style scoped>\n",
       "    .dataframe tbody tr th:only-of-type {\n",
       "        vertical-align: middle;\n",
       "    }\n",
       "\n",
       "    .dataframe tbody tr th {\n",
       "        vertical-align: top;\n",
       "    }\n",
       "\n",
       "    .dataframe thead th {\n",
       "        text-align: right;\n",
       "    }\n",
       "</style>\n",
       "<table border=\"1\" class=\"dataframe\">\n",
       "  <thead>\n",
       "    <tr style=\"text-align: right;\">\n",
       "      <th></th>\n",
       "      <th>단지코드</th>\n",
       "      <th>총세대수</th>\n",
       "      <th>임대건물구분</th>\n",
       "      <th>지역</th>\n",
       "      <th>공급유형</th>\n",
       "      <th>전용면적</th>\n",
       "      <th>전용면적별세대수</th>\n",
       "      <th>공가수</th>\n",
       "      <th>자격유형</th>\n",
       "      <th>임대보증금</th>\n",
       "      <th>임대료</th>\n",
       "      <th>10분내지하철수</th>\n",
       "      <th>10분내버스정류장수</th>\n",
       "      <th>단지내주차면수</th>\n",
       "      <th>등록차량수</th>\n",
       "    </tr>\n",
       "  </thead>\n",
       "  <tbody>\n",
       "  </tbody>\n",
       "</table>\n",
       "</div>"
      ],
      "text/plain": [
       "Empty DataFrame\n",
       "Columns: [단지코드, 총세대수, 임대건물구분, 지역, 공급유형, 전용면적, 전용면적별세대수, 공가수, 자격유형, 임대보증금, 임대료, 10분내지하철수, 10분내버스정류장수, 단지내주차면수, 등록차량수]\n",
       "Index: []"
      ]
     },
     "execution_count": 242,
     "metadata": {},
     "output_type": "execute_result"
    }
   ],
   "source": [
    "train.loc[train['10분내버스정류장수'].isnull(),\"10분내버스정류장수\"]=5\n",
    "train.loc[train['10분내버스정류장수'].isnull(),:]"
   ]
  },
  {
   "cell_type": "markdown",
   "metadata": {},
   "source": [
    "### 3.도보 10분거리 내 지하철역 수(환승노선 수 반영)_결측치"
   ]
  },
  {
   "cell_type": "code",
   "execution_count": 243,
   "metadata": {},
   "outputs": [
    {
     "data": {
      "text/plain": [
       "211"
      ]
     },
     "execution_count": 243,
     "metadata": {},
     "output_type": "execute_result"
    }
   ],
   "source": [
    "train['10분내지하철수'].isnull().sum()"
   ]
  },
  {
   "cell_type": "code",
   "execution_count": 244,
   "metadata": {},
   "outputs": [
    {
     "data": {
      "text/plain": [
       "38"
      ]
     },
     "execution_count": 244,
     "metadata": {},
     "output_type": "execute_result"
    }
   ],
   "source": [
    "test['10분내지하철수'].isnull().sum()"
   ]
  },
  {
   "cell_type": "code",
   "execution_count": 245,
   "metadata": {},
   "outputs": [],
   "source": [
    "import numpy as np"
   ]
  },
  {
   "cell_type": "code",
   "execution_count": 246,
   "metadata": {},
   "outputs": [
    {
     "data": {
      "text/html": [
       "<div>\n",
       "<style scoped>\n",
       "    .dataframe tbody tr th:only-of-type {\n",
       "        vertical-align: middle;\n",
       "    }\n",
       "\n",
       "    .dataframe tbody tr th {\n",
       "        vertical-align: top;\n",
       "    }\n",
       "\n",
       "    .dataframe thead th {\n",
       "        text-align: right;\n",
       "    }\n",
       "</style>\n",
       "<table border=\"1\" class=\"dataframe\">\n",
       "  <thead>\n",
       "    <tr style=\"text-align: right;\">\n",
       "      <th></th>\n",
       "      <th>단지코드</th>\n",
       "      <th>총세대수</th>\n",
       "      <th>임대건물구분</th>\n",
       "      <th>지역</th>\n",
       "      <th>공급유형</th>\n",
       "      <th>전용면적</th>\n",
       "      <th>전용면적별세대수</th>\n",
       "      <th>공가수</th>\n",
       "      <th>자격유형</th>\n",
       "      <th>임대보증금</th>\n",
       "      <th>임대료</th>\n",
       "      <th>10분내지하철수</th>\n",
       "      <th>10분내버스정류장수</th>\n",
       "      <th>단지내주차면수</th>\n",
       "      <th>등록차량수</th>\n",
       "    </tr>\n",
       "  </thead>\n",
       "  <tbody>\n",
       "    <tr>\n",
       "      <th>86</th>\n",
       "      <td>C1312</td>\n",
       "      <td>518</td>\n",
       "      <td>아파트</td>\n",
       "      <td>충청남도</td>\n",
       "      <td>국민임대</td>\n",
       "      <td>39.72</td>\n",
       "      <td>60</td>\n",
       "      <td>12.0</td>\n",
       "      <td>1</td>\n",
       "      <td>17460000</td>\n",
       "      <td>122210</td>\n",
       "      <td>NaN</td>\n",
       "      <td>3.0</td>\n",
       "      <td>527.0</td>\n",
       "      <td>359.0</td>\n",
       "    </tr>\n",
       "    <tr>\n",
       "      <th>87</th>\n",
       "      <td>C1312</td>\n",
       "      <td>518</td>\n",
       "      <td>아파트</td>\n",
       "      <td>충청남도</td>\n",
       "      <td>국민임대</td>\n",
       "      <td>39.98</td>\n",
       "      <td>89</td>\n",
       "      <td>12.0</td>\n",
       "      <td>1</td>\n",
       "      <td>17460000</td>\n",
       "      <td>122210</td>\n",
       "      <td>NaN</td>\n",
       "      <td>3.0</td>\n",
       "      <td>527.0</td>\n",
       "      <td>359.0</td>\n",
       "    </tr>\n",
       "    <tr>\n",
       "      <th>88</th>\n",
       "      <td>C1312</td>\n",
       "      <td>518</td>\n",
       "      <td>아파트</td>\n",
       "      <td>충청남도</td>\n",
       "      <td>국민임대</td>\n",
       "      <td>41.55</td>\n",
       "      <td>225</td>\n",
       "      <td>12.0</td>\n",
       "      <td>1</td>\n",
       "      <td>19954000</td>\n",
       "      <td>130940</td>\n",
       "      <td>NaN</td>\n",
       "      <td>3.0</td>\n",
       "      <td>527.0</td>\n",
       "      <td>359.0</td>\n",
       "    </tr>\n",
       "    <tr>\n",
       "      <th>89</th>\n",
       "      <td>C1312</td>\n",
       "      <td>518</td>\n",
       "      <td>아파트</td>\n",
       "      <td>충청남도</td>\n",
       "      <td>국민임대</td>\n",
       "      <td>46.90</td>\n",
       "      <td>143</td>\n",
       "      <td>12.0</td>\n",
       "      <td>1</td>\n",
       "      <td>28687000</td>\n",
       "      <td>149660</td>\n",
       "      <td>NaN</td>\n",
       "      <td>3.0</td>\n",
       "      <td>527.0</td>\n",
       "      <td>359.0</td>\n",
       "    </tr>\n",
       "    <tr>\n",
       "      <th>90</th>\n",
       "      <td>C1874</td>\n",
       "      <td>619</td>\n",
       "      <td>아파트</td>\n",
       "      <td>충청남도</td>\n",
       "      <td>영구임대</td>\n",
       "      <td>26.37</td>\n",
       "      <td>294</td>\n",
       "      <td>2.0</td>\n",
       "      <td>3</td>\n",
       "      <td>3141000</td>\n",
       "      <td>69900</td>\n",
       "      <td>NaN</td>\n",
       "      <td>2.0</td>\n",
       "      <td>97.0</td>\n",
       "      <td>62.0</td>\n",
       "    </tr>\n",
       "    <tr>\n",
       "      <th>...</th>\n",
       "      <td>...</td>\n",
       "      <td>...</td>\n",
       "      <td>...</td>\n",
       "      <td>...</td>\n",
       "      <td>...</td>\n",
       "      <td>...</td>\n",
       "      <td>...</td>\n",
       "      <td>...</td>\n",
       "      <td>...</td>\n",
       "      <td>...</td>\n",
       "      <td>...</td>\n",
       "      <td>...</td>\n",
       "      <td>...</td>\n",
       "      <td>...</td>\n",
       "      <td>...</td>\n",
       "    </tr>\n",
       "    <tr>\n",
       "      <th>2317</th>\n",
       "      <td>C1350</td>\n",
       "      <td>1401</td>\n",
       "      <td>아파트</td>\n",
       "      <td>대전광역시</td>\n",
       "      <td>공공임대(10년)</td>\n",
       "      <td>59.91</td>\n",
       "      <td>13</td>\n",
       "      <td>2.0</td>\n",
       "      <td>1</td>\n",
       "      <td>37474000</td>\n",
       "      <td>519350</td>\n",
       "      <td>NaN</td>\n",
       "      <td>6.0</td>\n",
       "      <td>1636.0</td>\n",
       "      <td>2315.0</td>\n",
       "    </tr>\n",
       "    <tr>\n",
       "      <th>2318</th>\n",
       "      <td>C1350</td>\n",
       "      <td>1401</td>\n",
       "      <td>아파트</td>\n",
       "      <td>대전광역시</td>\n",
       "      <td>공공임대(10년)</td>\n",
       "      <td>59.92</td>\n",
       "      <td>223</td>\n",
       "      <td>2.0</td>\n",
       "      <td>1</td>\n",
       "      <td>37385000</td>\n",
       "      <td>516130</td>\n",
       "      <td>NaN</td>\n",
       "      <td>6.0</td>\n",
       "      <td>1636.0</td>\n",
       "      <td>2315.0</td>\n",
       "    </tr>\n",
       "    <tr>\n",
       "      <th>2319</th>\n",
       "      <td>C1350</td>\n",
       "      <td>1401</td>\n",
       "      <td>아파트</td>\n",
       "      <td>대전광역시</td>\n",
       "      <td>공공임대(분납)</td>\n",
       "      <td>51.99</td>\n",
       "      <td>146</td>\n",
       "      <td>2.0</td>\n",
       "      <td>1</td>\n",
       "      <td>54612000</td>\n",
       "      <td>131130</td>\n",
       "      <td>NaN</td>\n",
       "      <td>6.0</td>\n",
       "      <td>1636.0</td>\n",
       "      <td>2315.0</td>\n",
       "    </tr>\n",
       "    <tr>\n",
       "      <th>2320</th>\n",
       "      <td>C1350</td>\n",
       "      <td>1401</td>\n",
       "      <td>아파트</td>\n",
       "      <td>대전광역시</td>\n",
       "      <td>공공임대(분납)</td>\n",
       "      <td>59.91</td>\n",
       "      <td>32</td>\n",
       "      <td>2.0</td>\n",
       "      <td>1</td>\n",
       "      <td>63585000</td>\n",
       "      <td>152680</td>\n",
       "      <td>NaN</td>\n",
       "      <td>6.0</td>\n",
       "      <td>1636.0</td>\n",
       "      <td>2315.0</td>\n",
       "    </tr>\n",
       "    <tr>\n",
       "      <th>2321</th>\n",
       "      <td>C1350</td>\n",
       "      <td>1401</td>\n",
       "      <td>아파트</td>\n",
       "      <td>대전광역시</td>\n",
       "      <td>공공임대(분납)</td>\n",
       "      <td>59.92</td>\n",
       "      <td>170</td>\n",
       "      <td>2.0</td>\n",
       "      <td>1</td>\n",
       "      <td>63501000</td>\n",
       "      <td>152480</td>\n",
       "      <td>NaN</td>\n",
       "      <td>6.0</td>\n",
       "      <td>1636.0</td>\n",
       "      <td>2315.0</td>\n",
       "    </tr>\n",
       "  </tbody>\n",
       "</table>\n",
       "<p>211 rows × 15 columns</p>\n",
       "</div>"
      ],
      "text/plain": [
       "       단지코드  총세대수 임대건물구분     지역       공급유형   전용면적  전용면적별세대수   공가수  자격유형  \\\n",
       "86    C1312   518    아파트   충청남도       국민임대  39.72        60  12.0     1   \n",
       "87    C1312   518    아파트   충청남도       국민임대  39.98        89  12.0     1   \n",
       "88    C1312   518    아파트   충청남도       국민임대  41.55       225  12.0     1   \n",
       "89    C1312   518    아파트   충청남도       국민임대  46.90       143  12.0     1   \n",
       "90    C1874   619    아파트   충청남도       영구임대  26.37       294   2.0     3   \n",
       "...     ...   ...    ...    ...        ...    ...       ...   ...   ...   \n",
       "2317  C1350  1401    아파트  대전광역시  공공임대(10년)  59.91        13   2.0     1   \n",
       "2318  C1350  1401    아파트  대전광역시  공공임대(10년)  59.92       223   2.0     1   \n",
       "2319  C1350  1401    아파트  대전광역시   공공임대(분납)  51.99       146   2.0     1   \n",
       "2320  C1350  1401    아파트  대전광역시   공공임대(분납)  59.91        32   2.0     1   \n",
       "2321  C1350  1401    아파트  대전광역시   공공임대(분납)  59.92       170   2.0     1   \n",
       "\n",
       "         임대보증금     임대료  10분내지하철수  10분내버스정류장수  단지내주차면수   등록차량수  \n",
       "86    17460000  122210       NaN         3.0    527.0   359.0  \n",
       "87    17460000  122210       NaN         3.0    527.0   359.0  \n",
       "88    19954000  130940       NaN         3.0    527.0   359.0  \n",
       "89    28687000  149660       NaN         3.0    527.0   359.0  \n",
       "90     3141000   69900       NaN         2.0     97.0    62.0  \n",
       "...        ...     ...       ...         ...      ...     ...  \n",
       "2317  37474000  519350       NaN         6.0   1636.0  2315.0  \n",
       "2318  37385000  516130       NaN         6.0   1636.0  2315.0  \n",
       "2319  54612000  131130       NaN         6.0   1636.0  2315.0  \n",
       "2320  63585000  152680       NaN         6.0   1636.0  2315.0  \n",
       "2321  63501000  152480       NaN         6.0   1636.0  2315.0  \n",
       "\n",
       "[211 rows x 15 columns]"
      ]
     },
     "execution_count": 246,
     "metadata": {},
     "output_type": "execute_result"
    }
   ],
   "source": [
    "train.loc[train['10분내지하철수'].isnull(),:]"
   ]
  },
  {
   "cell_type": "code",
   "execution_count": 247,
   "metadata": {},
   "outputs": [],
   "source": [
    "train['10분내지하철수']=train['10분내지하철수'].fillna(train.groupby('10분내버스정류장수')['10분내지하철수'].transform(np.mean))\n",
    "test['10분내지하철수']=test['10분내지하철수'].fillna(test.groupby('10분내버스정류장수')['10분내지하철수'].transform(np.mean))"
   ]
  },
  {
   "cell_type": "code",
   "execution_count": 248,
   "metadata": {},
   "outputs": [
    {
     "name": "stdout",
     "output_type": "stream",
     "text": [
      "0\n",
      "0\n"
     ]
    }
   ],
   "source": [
    "print(train['10분내지하철수'].isnull().sum())\n",
    "print(test['10분내지하철수'].isnull().sum())"
   ]
  },
  {
   "cell_type": "markdown",
   "metadata": {},
   "source": [
    "### 공급유형_mapping"
   ]
  },
  {
   "cell_type": "code",
   "execution_count": 249,
   "metadata": {},
   "outputs": [
    {
     "data": {
      "text/plain": [
       "국민임대         1736\n",
       "임대상가          562\n",
       "행복주택          202\n",
       "공공임대(10년)     182\n",
       "영구임대          152\n",
       "공공임대(50년)      31\n",
       "공공임대(분납)       12\n",
       "장기전세            9\n",
       "공공분양            7\n",
       "공공임대(5년)        3\n",
       "Name: 공급유형, dtype: int64"
      ]
     },
     "execution_count": 249,
     "metadata": {},
     "output_type": "execute_result"
    }
   ],
   "source": [
    "train['공급유형'].value_counts()"
   ]
  },
  {
   "cell_type": "code",
   "execution_count": 250,
   "metadata": {},
   "outputs": [],
   "source": [
    "mapping = { '국민임대':1, '임대상가':2, '행복주택':3, '공공임대(10년)':4, \n",
    "           '영구임대':5,'공공임대(50년)':6,\n",
    "           '공공임대(분납)':7, '장기전세':8, '공공분양':9, '공공임대(5년)':10 }\n",
    "train['공급유형'] =train['공급유형'].map(mapping).astype(int)\n",
    "test['공급유형'] =test['공급유형'].map(mapping).astype(int)"
   ]
  },
  {
   "cell_type": "markdown",
   "metadata": {},
   "source": [
    "### 지역_mapping"
   ]
  },
  {
   "cell_type": "code",
   "execution_count": 251,
   "metadata": {},
   "outputs": [
    {
     "data": {
      "text/plain": [
       "경기도        602\n",
       "경상남도       369\n",
       "부산광역시      328\n",
       "대전광역시      266\n",
       "강원도        187\n",
       "충청북도       163\n",
       "충청남도       158\n",
       "전라남도       147\n",
       "광주광역시      141\n",
       "경상북도       111\n",
       "전라북도       109\n",
       "대구광역시      102\n",
       "제주특별자치도     91\n",
       "서울특별시       64\n",
       "울산광역시       34\n",
       "세종특별자치시     24\n",
       "Name: 지역, dtype: int64"
      ]
     },
     "execution_count": 251,
     "metadata": {},
     "output_type": "execute_result"
    }
   ],
   "source": [
    "train['지역'].value_counts()"
   ]
  },
  {
   "cell_type": "code",
   "execution_count": 252,
   "metadata": {},
   "outputs": [],
   "source": [
    "mapping1 = { '경기도':1, '경상남도':2, '부산광역시':3, '대전광역시':4, \n",
    "           '강원도':5,'충청북도':6,'충청남도':7, '전라남도':8, '광주광역시':9, \n",
    "            '경상북도':10, '전라북도':11,'대구광역시':12,'제주특별자치도':13,'서울특별시':14,'세종특별자치시':15,'울산광역시':16 }\n",
    "train['지역'] =train['지역'].map(mapping1).astype(int)\n",
    "test['지역'] =test['지역'].map(mapping1).astype(int)"
   ]
  },
  {
   "cell_type": "markdown",
   "metadata": {},
   "source": [
    "### 임대건물구분 mapping"
   ]
  },
  {
   "cell_type": "code",
   "execution_count": 253,
   "metadata": {},
   "outputs": [
    {
     "data": {
      "text/plain": [
       "array(['아파트', '상가'], dtype=object)"
      ]
     },
     "execution_count": 253,
     "metadata": {},
     "output_type": "execute_result"
    }
   ],
   "source": [
    "train['임대건물구분'].unique()"
   ]
  },
  {
   "cell_type": "code",
   "execution_count": 254,
   "metadata": {},
   "outputs": [],
   "source": [
    "mapping2 = { '아파트':1, '상가':2}\n",
    "train['임대건물구분'] =train['임대건물구분'].map(mapping2).astype(int)\n",
    "test['임대건물구분'] =test['임대건물구분'].map(mapping2).astype(int)"
   ]
  },
  {
   "cell_type": "markdown",
   "metadata": {},
   "source": [
    "### 전용면적을 5의 배수로 변경>전용면적 상/하한 적용"
   ]
  },
  {
   "cell_type": "code",
   "execution_count": 255,
   "metadata": {},
   "outputs": [],
   "source": [
    "train['전용면적'] = train['전용면적']//5*5\n",
    "test['전용면적'] = test['전용면적']//5*5"
   ]
  },
  {
   "cell_type": "code",
   "execution_count": 256,
   "metadata": {},
   "outputs": [],
   "source": [
    "idx = train[train['전용면적']>100].index\n",
    "train.loc[idx, '전용면적'] = 100\n",
    "idx = test[test['전용면적']>100].index\n",
    "test.loc[idx, '전용면적'] = 100\n",
    "\n",
    "idx = train[train['전용면적']<15].index\n",
    "train.loc[idx, '전용면적'] = 15\n",
    "idx = test[test['전용면적']<15].index\n",
    "test.loc[idx, '전용면적'] = 15"
   ]
  },
  {
   "cell_type": "code",
   "execution_count": 257,
   "metadata": {},
   "outputs": [
    {
     "data": {
      "text/plain": [
       "array([ 35.,  45.,  50.,  30.,  55.,  25.,  75., 100.,  15.,  20.,  40.,\n",
       "        60.,  80.,  70.])"
      ]
     },
     "execution_count": 257,
     "metadata": {},
     "output_type": "execute_result"
    }
   ],
   "source": [
    "test['전용면적'].unique()"
   ]
  },
  {
   "cell_type": "markdown",
   "metadata": {},
   "source": [
    "### 머신러닝"
   ]
  },
  {
   "cell_type": "code",
   "execution_count": 258,
   "metadata": {},
   "outputs": [],
   "source": [
    "from sklearn.model_selection import train_test_split\n",
    "import pandas as pd\n",
    "from sklearn.preprocessing import MinMaxScaler\n",
    "from sklearn.ensemble import GradientBoostingRegressor"
   ]
  },
  {
   "cell_type": "code",
   "execution_count": 259,
   "metadata": {},
   "outputs": [],
   "source": [
    "### 한글 폰트 설정\n",
    "import matplotlib\n",
    "from matplotlib import font_manager, rc\n",
    "import matplotlib.pyplot as plt\n",
    "import platform\n",
    "path = \"C:/Windows/Fonts/malgun.ttf\"\n",
    "if platform.system() == \"Windows\":\n",
    "    font_name = font_manager.FontProperties(fname=path).get_name()\n",
    "    rc('font', family=font_name)\n",
    "elif platform.system()==\"Darwin\":\n",
    "    rc('font', family='AppleGothic')\n",
    "else:\n",
    "    print(\"Unknown System\")\n",
    "matplotlib.rcParams['axes.unicode_minus'] = False"
   ]
  },
  {
   "cell_type": "code",
   "execution_count": 260,
   "metadata": {},
   "outputs": [
    {
     "data": {
      "text/plain": [
       "(2896, 15)"
      ]
     },
     "execution_count": 260,
     "metadata": {},
     "output_type": "execute_result"
    }
   ],
   "source": [
    "train.shape"
   ]
  },
  {
   "cell_type": "code",
   "execution_count": 261,
   "metadata": {},
   "outputs": [
    {
     "data": {
      "text/html": [
       "<div>\n",
       "<style scoped>\n",
       "    .dataframe tbody tr th:only-of-type {\n",
       "        vertical-align: middle;\n",
       "    }\n",
       "\n",
       "    .dataframe tbody tr th {\n",
       "        vertical-align: top;\n",
       "    }\n",
       "\n",
       "    .dataframe thead th {\n",
       "        text-align: right;\n",
       "    }\n",
       "</style>\n",
       "<table border=\"1\" class=\"dataframe\">\n",
       "  <thead>\n",
       "    <tr style=\"text-align: right;\">\n",
       "      <th></th>\n",
       "      <th>단지코드</th>\n",
       "      <th>총세대수</th>\n",
       "      <th>임대건물구분</th>\n",
       "      <th>지역</th>\n",
       "      <th>공급유형</th>\n",
       "      <th>전용면적</th>\n",
       "      <th>전용면적별세대수</th>\n",
       "      <th>공가수</th>\n",
       "      <th>자격유형</th>\n",
       "      <th>임대보증금</th>\n",
       "      <th>임대료</th>\n",
       "      <th>10분내지하철수</th>\n",
       "      <th>10분내버스정류장수</th>\n",
       "      <th>단지내주차면수</th>\n",
       "      <th>등록차량수</th>\n",
       "    </tr>\n",
       "  </thead>\n",
       "  <tbody>\n",
       "    <tr>\n",
       "      <th>0</th>\n",
       "      <td>C2515</td>\n",
       "      <td>545</td>\n",
       "      <td>1</td>\n",
       "      <td>2</td>\n",
       "      <td>1</td>\n",
       "      <td>30.0</td>\n",
       "      <td>276</td>\n",
       "      <td>17.0</td>\n",
       "      <td>1</td>\n",
       "      <td>9216000</td>\n",
       "      <td>82940</td>\n",
       "      <td>0.0</td>\n",
       "      <td>3.0</td>\n",
       "      <td>624.0</td>\n",
       "      <td>205.0</td>\n",
       "    </tr>\n",
       "    <tr>\n",
       "      <th>1</th>\n",
       "      <td>C2515</td>\n",
       "      <td>545</td>\n",
       "      <td>1</td>\n",
       "      <td>2</td>\n",
       "      <td>1</td>\n",
       "      <td>35.0</td>\n",
       "      <td>60</td>\n",
       "      <td>17.0</td>\n",
       "      <td>1</td>\n",
       "      <td>12672000</td>\n",
       "      <td>107130</td>\n",
       "      <td>0.0</td>\n",
       "      <td>3.0</td>\n",
       "      <td>624.0</td>\n",
       "      <td>205.0</td>\n",
       "    </tr>\n",
       "    <tr>\n",
       "      <th>2</th>\n",
       "      <td>C2515</td>\n",
       "      <td>545</td>\n",
       "      <td>1</td>\n",
       "      <td>2</td>\n",
       "      <td>1</td>\n",
       "      <td>35.0</td>\n",
       "      <td>20</td>\n",
       "      <td>17.0</td>\n",
       "      <td>1</td>\n",
       "      <td>12672000</td>\n",
       "      <td>107130</td>\n",
       "      <td>0.0</td>\n",
       "      <td>3.0</td>\n",
       "      <td>624.0</td>\n",
       "      <td>205.0</td>\n",
       "    </tr>\n",
       "    <tr>\n",
       "      <th>3</th>\n",
       "      <td>C2515</td>\n",
       "      <td>545</td>\n",
       "      <td>1</td>\n",
       "      <td>2</td>\n",
       "      <td>1</td>\n",
       "      <td>45.0</td>\n",
       "      <td>38</td>\n",
       "      <td>17.0</td>\n",
       "      <td>1</td>\n",
       "      <td>18433000</td>\n",
       "      <td>149760</td>\n",
       "      <td>0.0</td>\n",
       "      <td>3.0</td>\n",
       "      <td>624.0</td>\n",
       "      <td>205.0</td>\n",
       "    </tr>\n",
       "    <tr>\n",
       "      <th>4</th>\n",
       "      <td>C2515</td>\n",
       "      <td>545</td>\n",
       "      <td>1</td>\n",
       "      <td>2</td>\n",
       "      <td>1</td>\n",
       "      <td>45.0</td>\n",
       "      <td>19</td>\n",
       "      <td>17.0</td>\n",
       "      <td>1</td>\n",
       "      <td>18433000</td>\n",
       "      <td>149760</td>\n",
       "      <td>0.0</td>\n",
       "      <td>3.0</td>\n",
       "      <td>624.0</td>\n",
       "      <td>205.0</td>\n",
       "    </tr>\n",
       "  </tbody>\n",
       "</table>\n",
       "</div>"
      ],
      "text/plain": [
       "    단지코드  총세대수  임대건물구분  지역  공급유형  전용면적  전용면적별세대수   공가수  자격유형     임대보증금  \\\n",
       "0  C2515   545       1   2     1  30.0       276  17.0     1   9216000   \n",
       "1  C2515   545       1   2     1  35.0        60  17.0     1  12672000   \n",
       "2  C2515   545       1   2     1  35.0        20  17.0     1  12672000   \n",
       "3  C2515   545       1   2     1  45.0        38  17.0     1  18433000   \n",
       "4  C2515   545       1   2     1  45.0        19  17.0     1  18433000   \n",
       "\n",
       "      임대료  10분내지하철수  10분내버스정류장수  단지내주차면수  등록차량수  \n",
       "0   82940       0.0         3.0    624.0  205.0  \n",
       "1  107130       0.0         3.0    624.0  205.0  \n",
       "2  107130       0.0         3.0    624.0  205.0  \n",
       "3  149760       0.0         3.0    624.0  205.0  \n",
       "4  149760       0.0         3.0    624.0  205.0  "
      ]
     },
     "execution_count": 261,
     "metadata": {},
     "output_type": "execute_result"
    }
   ],
   "source": [
    "train.head()"
   ]
  },
  {
   "cell_type": "code",
   "execution_count": 262,
   "metadata": {},
   "outputs": [
    {
     "data": {
      "text/plain": [
       "Index(['단지코드', '총세대수', '임대건물구분', '지역', '공급유형', '전용면적', '전용면적별세대수', '공가수',\n",
       "       '자격유형', '임대보증금', '임대료', '10분내지하철수', '10분내버스정류장수', '단지내주차면수', '등록차량수'],\n",
       "      dtype='object')"
      ]
     },
     "execution_count": 262,
     "metadata": {},
     "output_type": "execute_result"
    }
   ],
   "source": [
    "train.columns"
   ]
  },
  {
   "cell_type": "code",
   "execution_count": 263,
   "metadata": {},
   "outputs": [
    {
     "name": "stdout",
     "output_type": "stream",
     "text": [
      "<class 'pandas.core.frame.DataFrame'>\n",
      "RangeIndex: 2896 entries, 0 to 2895\n",
      "Data columns (total 15 columns):\n",
      " #   Column      Non-Null Count  Dtype  \n",
      "---  ------      --------------  -----  \n",
      " 0   단지코드        2896 non-null   object \n",
      " 1   총세대수        2896 non-null   int64  \n",
      " 2   임대건물구분      2896 non-null   int32  \n",
      " 3   지역          2896 non-null   int32  \n",
      " 4   공급유형        2896 non-null   int32  \n",
      " 5   전용면적        2896 non-null   float64\n",
      " 6   전용면적별세대수    2896 non-null   int64  \n",
      " 7   공가수         2896 non-null   float64\n",
      " 8   자격유형        2896 non-null   int32  \n",
      " 9   임대보증금       2327 non-null   object \n",
      " 10  임대료         2327 non-null   object \n",
      " 11  10분내지하철수    2896 non-null   float64\n",
      " 12  10분내버스정류장수  2896 non-null   float64\n",
      " 13  단지내주차면수     2896 non-null   float64\n",
      " 14  등록차량수       2896 non-null   float64\n",
      "dtypes: float64(6), int32(4), int64(2), object(3)\n",
      "memory usage: 294.2+ KB\n"
     ]
    }
   ],
   "source": [
    "train.info()"
   ]
  },
  {
   "cell_type": "code",
   "execution_count": 264,
   "metadata": {},
   "outputs": [],
   "source": [
    "#sel=['label_generation_num','label_bus','단지내주차면수','공급유형','총세대수','전용면적','공가수','지역','임대건물구분','자격유형']\n",
    "sel=['총세대수', '임대건물구분', '지역', '공급유형', '전용면적', '전용면적별세대수', '공가수',\n",
    "       '자격유형', '10분내지하철수', '10분내버스정류장수', '단지내주차면수']\n",
    "X=train[sel]\n",
    "y=train['등록차량수']\n",
    "X_train, X_test, y_train, y_test = train_test_split(X, y,\n",
    "                                                   random_state=0)"
   ]
  },
  {
   "cell_type": "markdown",
   "metadata": {},
   "source": [
    "### 정규화"
   ]
  },
  {
   "cell_type": "code",
   "execution_count": 265,
   "metadata": {},
   "outputs": [],
   "source": [
    "# nor_X = MinMaxScaler().fit_transform(X)  # 입력 데이터 정규화\n",
    "# print(\"정규화 : \", nor_X.shape, y.shape)"
   ]
  },
  {
   "cell_type": "code",
   "execution_count": 266,
   "metadata": {},
   "outputs": [],
   "source": [
    "# # X_train, X_test, y_train, y_test = train_test_split(nor_X, y, test_size=0.3,\n",
    "#                                                    random_state=0)"
   ]
  },
  {
   "cell_type": "markdown",
   "metadata": {},
   "source": [
    "### 모델만들기"
   ]
  },
  {
   "cell_type": "code",
   "execution_count": 267,
   "metadata": {},
   "outputs": [
    {
     "data": {
      "text/plain": [
       "array([2275.30628111,  376.21819805,  713.81161547,  488.23819235,\n",
       "         88.93564829,  707.67661259,  513.15884048,  261.51844987,\n",
       "        552.77540859,  492.42106498])"
      ]
     },
     "execution_count": 267,
     "metadata": {},
     "output_type": "execute_result"
    }
   ],
   "source": [
    "model = GradientBoostingRegressor(max_depth=3,random_state=0)\n",
    "model.fit(X_train, y_train)\n",
    "pred = model.predict(X_test)\n",
    "pred[0:10]"
   ]
  },
  {
   "cell_type": "code",
   "execution_count": 268,
   "metadata": {},
   "outputs": [
    {
     "name": "stdout",
     "output_type": "stream",
     "text": [
      "학습(score) : 0.9549763891793135\n",
      "테스트(score) : 0.9491070691390533\n"
     ]
    }
   ],
   "source": [
    "print(\"학습(score) :\", model.score(X_train, y_train) ) # 결정계수\n",
    "print(\"테스트(score) :\", model.score(X_test, y_test) ) # 결정계수"
   ]
  },
  {
   "cell_type": "code",
   "execution_count": 269,
   "metadata": {},
   "outputs": [
    {
     "data": {
      "text/plain": [
       "72.4392897012935"
      ]
     },
     "execution_count": 269,
     "metadata": {},
     "output_type": "execute_result"
    }
   ],
   "source": [
    "#mae_val=sum(abs(y_test-pred))/len(pred)\n",
    "mae_val=np.mean(abs(y_test-pred))\n",
    "mae_val"
   ]
  },
  {
   "cell_type": "code",
   "execution_count": 270,
   "metadata": {},
   "outputs": [
    {
     "data": {
      "text/plain": [
       "10178.303355612352"
      ]
     },
     "execution_count": 270,
     "metadata": {},
     "output_type": "execute_result"
    }
   ],
   "source": [
    "#mse_val=sum((y_test-pred)**2)/len(pred)\n",
    "mse_val=np.sum((y_test-pred)**2)/len(pred)\n",
    "mse_val"
   ]
  },
  {
   "cell_type": "code",
   "execution_count": 271,
   "metadata": {},
   "outputs": [
    {
     "data": {
      "text/plain": [
       "100.88757780625102"
      ]
     },
     "execution_count": 271,
     "metadata": {},
     "output_type": "execute_result"
    }
   ],
   "source": [
    "#rmse_val=mse_val ** 0.5\n",
    "rmse_val=np.sqrt(mse_val)\n",
    "rmse_val"
   ]
  },
  {
   "cell_type": "code",
   "execution_count": 272,
   "metadata": {},
   "outputs": [
    {
     "data": {
      "text/html": [
       "<div>\n",
       "<style scoped>\n",
       "    .dataframe tbody tr th:only-of-type {\n",
       "        vertical-align: middle;\n",
       "    }\n",
       "\n",
       "    .dataframe tbody tr th {\n",
       "        vertical-align: top;\n",
       "    }\n",
       "\n",
       "    .dataframe thead th {\n",
       "        text-align: right;\n",
       "    }\n",
       "</style>\n",
       "<table border=\"1\" class=\"dataframe\">\n",
       "  <thead>\n",
       "    <tr style=\"text-align: right;\">\n",
       "      <th></th>\n",
       "      <th>0</th>\n",
       "    </tr>\n",
       "  </thead>\n",
       "  <tbody>\n",
       "    <tr>\n",
       "      <th>단지내주차면수</th>\n",
       "      <td>0.781094</td>\n",
       "    </tr>\n",
       "    <tr>\n",
       "      <th>공가수</th>\n",
       "      <td>0.092965</td>\n",
       "    </tr>\n",
       "    <tr>\n",
       "      <th>총세대수</th>\n",
       "      <td>0.050615</td>\n",
       "    </tr>\n",
       "    <tr>\n",
       "      <th>공급유형</th>\n",
       "      <td>0.021269</td>\n",
       "    </tr>\n",
       "    <tr>\n",
       "      <th>지역</th>\n",
       "      <td>0.015341</td>\n",
       "    </tr>\n",
       "    <tr>\n",
       "      <th>자격유형</th>\n",
       "      <td>0.012088</td>\n",
       "    </tr>\n",
       "    <tr>\n",
       "      <th>전용면적</th>\n",
       "      <td>0.009940</td>\n",
       "    </tr>\n",
       "    <tr>\n",
       "      <th>10분내버스정류장수</th>\n",
       "      <td>0.008981</td>\n",
       "    </tr>\n",
       "    <tr>\n",
       "      <th>10분내지하철수</th>\n",
       "      <td>0.005803</td>\n",
       "    </tr>\n",
       "    <tr>\n",
       "      <th>전용면적별세대수</th>\n",
       "      <td>0.001905</td>\n",
       "    </tr>\n",
       "    <tr>\n",
       "      <th>임대건물구분</th>\n",
       "      <td>0.000000</td>\n",
       "    </tr>\n",
       "  </tbody>\n",
       "</table>\n",
       "</div>"
      ],
      "text/plain": [
       "                   0\n",
       "단지내주차면수     0.781094\n",
       "공가수         0.092965\n",
       "총세대수        0.050615\n",
       "공급유형        0.021269\n",
       "지역          0.015341\n",
       "자격유형        0.012088\n",
       "전용면적        0.009940\n",
       "10분내버스정류장수  0.008981\n",
       "10분내지하철수    0.005803\n",
       "전용면적별세대수    0.001905\n",
       "임대건물구분      0.000000"
      ]
     },
     "execution_count": 272,
     "metadata": {},
     "output_type": "execute_result"
    }
   ],
   "source": [
    "importance_df=pd.DataFrame(model.feature_importances_,index=X[sel].columns)\n",
    "importance_df.sort_values(by=0,ascending=False)"
   ]
  },
  {
   "cell_type": "markdown",
   "metadata": {},
   "source": [
    "### 제출파일 만들기"
   ]
  },
  {
   "cell_type": "code",
   "execution_count": 273,
   "metadata": {},
   "outputs": [
    {
     "name": "stdout",
     "output_type": "stream",
     "text": [
      "(724, 11)\n",
      "(1008, 14)\n"
     ]
    }
   ],
   "source": [
    "print(X_test.shape)\n",
    "print(test.shape)"
   ]
  },
  {
   "cell_type": "code",
   "execution_count": 274,
   "metadata": {},
   "outputs": [],
   "source": [
    "sel=['총세대수', '임대건물구분', '지역', '공급유형', '전용면적', '전용면적별세대수', '공가수',\n",
    "       '자격유형', '10분내지하철수', '10분내버스정류장수', '단지내주차면수']\n",
    "X_test=test[sel]\n",
    "pred = model.predict(X_test)"
   ]
  },
  {
   "cell_type": "code",
   "execution_count": 275,
   "metadata": {},
   "outputs": [
    {
     "data": {
      "text/html": [
       "<div>\n",
       "<style scoped>\n",
       "    .dataframe tbody tr th:only-of-type {\n",
       "        vertical-align: middle;\n",
       "    }\n",
       "\n",
       "    .dataframe tbody tr th {\n",
       "        vertical-align: top;\n",
       "    }\n",
       "\n",
       "    .dataframe thead th {\n",
       "        text-align: right;\n",
       "    }\n",
       "</style>\n",
       "<table border=\"1\" class=\"dataframe\">\n",
       "  <thead>\n",
       "    <tr style=\"text-align: right;\">\n",
       "      <th></th>\n",
       "      <th>index</th>\n",
       "      <th>단지코드</th>\n",
       "      <th>총세대수</th>\n",
       "      <th>임대건물구분</th>\n",
       "      <th>지역</th>\n",
       "      <th>공급유형</th>\n",
       "      <th>전용면적</th>\n",
       "      <th>전용면적별세대수</th>\n",
       "      <th>공가수</th>\n",
       "      <th>자격유형</th>\n",
       "      <th>임대보증금</th>\n",
       "      <th>임대료</th>\n",
       "      <th>10분내지하철수</th>\n",
       "      <th>10분내버스정류장수</th>\n",
       "      <th>단지내주차면수</th>\n",
       "      <th>등록차량수</th>\n",
       "      <th>단지별차량수평균</th>\n",
       "    </tr>\n",
       "  </thead>\n",
       "  <tbody>\n",
       "    <tr>\n",
       "      <th>0</th>\n",
       "      <td>0</td>\n",
       "      <td>C1072</td>\n",
       "      <td>754</td>\n",
       "      <td>1</td>\n",
       "      <td>1</td>\n",
       "      <td>1</td>\n",
       "      <td>35.0</td>\n",
       "      <td>116</td>\n",
       "      <td>14.0</td>\n",
       "      <td>8</td>\n",
       "      <td>22830000</td>\n",
       "      <td>189840</td>\n",
       "      <td>0.0</td>\n",
       "      <td>2.0</td>\n",
       "      <td>683.0</td>\n",
       "      <td>662.975451</td>\n",
       "      <td>691.449941</td>\n",
       "    </tr>\n",
       "    <tr>\n",
       "      <th>1</th>\n",
       "      <td>8</td>\n",
       "      <td>C1128</td>\n",
       "      <td>1354</td>\n",
       "      <td>1</td>\n",
       "      <td>1</td>\n",
       "      <td>1</td>\n",
       "      <td>35.0</td>\n",
       "      <td>368</td>\n",
       "      <td>9.0</td>\n",
       "      <td>8</td>\n",
       "      <td>22830000</td>\n",
       "      <td>189840</td>\n",
       "      <td>0.0</td>\n",
       "      <td>3.0</td>\n",
       "      <td>1216.0</td>\n",
       "      <td>1262.566837</td>\n",
       "      <td>1268.383299</td>\n",
       "    </tr>\n",
       "    <tr>\n",
       "      <th>2</th>\n",
       "      <td>17</td>\n",
       "      <td>C1456</td>\n",
       "      <td>619</td>\n",
       "      <td>1</td>\n",
       "      <td>3</td>\n",
       "      <td>1</td>\n",
       "      <td>30.0</td>\n",
       "      <td>82</td>\n",
       "      <td>18.0</td>\n",
       "      <td>1</td>\n",
       "      <td>19706000</td>\n",
       "      <td>156200</td>\n",
       "      <td>0.0</td>\n",
       "      <td>16.0</td>\n",
       "      <td>547.0</td>\n",
       "      <td>568.331450</td>\n",
       "      <td>587.339864</td>\n",
       "    </tr>\n",
       "    <tr>\n",
       "      <th>3</th>\n",
       "      <td>26</td>\n",
       "      <td>C1840</td>\n",
       "      <td>593</td>\n",
       "      <td>1</td>\n",
       "      <td>11</td>\n",
       "      <td>1</td>\n",
       "      <td>35.0</td>\n",
       "      <td>253</td>\n",
       "      <td>7.0</td>\n",
       "      <td>1</td>\n",
       "      <td>14418000</td>\n",
       "      <td>108130</td>\n",
       "      <td>0.0</td>\n",
       "      <td>3.0</td>\n",
       "      <td>543.0</td>\n",
       "      <td>561.142455</td>\n",
       "      <td>574.368937</td>\n",
       "    </tr>\n",
       "    <tr>\n",
       "      <th>4</th>\n",
       "      <td>30</td>\n",
       "      <td>C1332</td>\n",
       "      <td>1297</td>\n",
       "      <td>1</td>\n",
       "      <td>1</td>\n",
       "      <td>1</td>\n",
       "      <td>35.0</td>\n",
       "      <td>282</td>\n",
       "      <td>11.0</td>\n",
       "      <td>8</td>\n",
       "      <td>28598000</td>\n",
       "      <td>203050</td>\n",
       "      <td>0.0</td>\n",
       "      <td>2.0</td>\n",
       "      <td>1112.0</td>\n",
       "      <td>1024.791880</td>\n",
       "      <td>1033.243718</td>\n",
       "    </tr>\n",
       "  </tbody>\n",
       "</table>\n",
       "</div>"
      ],
      "text/plain": [
       "   index   단지코드  총세대수  임대건물구분  지역  공급유형  전용면적  전용면적별세대수   공가수  자격유형     임대보증금  \\\n",
       "0      0  C1072   754       1   1     1  35.0       116  14.0     8  22830000   \n",
       "1      8  C1128  1354       1   1     1  35.0       368   9.0     8  22830000   \n",
       "2     17  C1456   619       1   3     1  30.0        82  18.0     1  19706000   \n",
       "3     26  C1840   593       1  11     1  35.0       253   7.0     1  14418000   \n",
       "4     30  C1332  1297       1   1     1  35.0       282  11.0     8  28598000   \n",
       "\n",
       "      임대료  10분내지하철수  10분내버스정류장수  단지내주차면수        등록차량수     단지별차량수평균  \n",
       "0  189840       0.0         2.0    683.0   662.975451   691.449941  \n",
       "1  189840       0.0         3.0   1216.0  1262.566837  1268.383299  \n",
       "2  156200       0.0        16.0    547.0   568.331450   587.339864  \n",
       "3  108130       0.0         3.0    543.0   561.142455   574.368937  \n",
       "4  203050       0.0         2.0   1112.0  1024.791880  1033.243718  "
      ]
     },
     "execution_count": 275,
     "metadata": {},
     "output_type": "execute_result"
    }
   ],
   "source": [
    "test['등록차량수'] = pred\n",
    "test['단지별차량수평균'] = test.groupby(\"단지코드\")['등록차량수'].transform(np.mean)\n",
    "test_new = test.drop_duplicates(['단지코드'], keep='first').reset_index()\n",
    "test_new.head()"
   ]
  },
  {
   "cell_type": "markdown",
   "metadata": {},
   "source": [
    "### 제출용 오류 코드를 0으로 만들고 150행만들기"
   ]
  },
  {
   "cell_type": "code",
   "execution_count": 276,
   "metadata": {},
   "outputs": [
    {
     "data": {
      "text/html": [
       "<div>\n",
       "<style scoped>\n",
       "    .dataframe tbody tr th:only-of-type {\n",
       "        vertical-align: middle;\n",
       "    }\n",
       "\n",
       "    .dataframe tbody tr th {\n",
       "        vertical-align: top;\n",
       "    }\n",
       "\n",
       "    .dataframe thead th {\n",
       "        text-align: right;\n",
       "    }\n",
       "</style>\n",
       "<table border=\"1\" class=\"dataframe\">\n",
       "  <thead>\n",
       "    <tr style=\"text-align: right;\">\n",
       "      <th></th>\n",
       "      <th>code</th>\n",
       "      <th>num</th>\n",
       "    </tr>\n",
       "  </thead>\n",
       "  <tbody>\n",
       "    <tr>\n",
       "      <th>0</th>\n",
       "      <td>C2675</td>\n",
       "      <td>0</td>\n",
       "    </tr>\n",
       "    <tr>\n",
       "      <th>1</th>\n",
       "      <td>C2335</td>\n",
       "      <td>0</td>\n",
       "    </tr>\n",
       "    <tr>\n",
       "      <th>2</th>\n",
       "      <td>C1327</td>\n",
       "      <td>0</td>\n",
       "    </tr>\n",
       "  </tbody>\n",
       "</table>\n",
       "</div>"
      ],
      "text/plain": [
       "    code num\n",
       "0  C2675   0\n",
       "1  C2335   0\n",
       "2  C1327   0"
      ]
     },
     "execution_count": 276,
     "metadata": {},
     "output_type": "execute_result"
    }
   ],
   "source": [
    "add_dat={'code':['C2675','C2335','C1327'],'num':['0','0','0']}\n",
    "add_df=pd.DataFrame(add_dat)\n",
    "add_df"
   ]
  },
  {
   "cell_type": "code",
   "execution_count": 277,
   "metadata": {},
   "outputs": [
    {
     "data": {
      "text/html": [
       "<div>\n",
       "<style scoped>\n",
       "    .dataframe tbody tr th:only-of-type {\n",
       "        vertical-align: middle;\n",
       "    }\n",
       "\n",
       "    .dataframe tbody tr th {\n",
       "        vertical-align: top;\n",
       "    }\n",
       "\n",
       "    .dataframe thead th {\n",
       "        text-align: right;\n",
       "    }\n",
       "</style>\n",
       "<table border=\"1\" class=\"dataframe\">\n",
       "  <thead>\n",
       "    <tr style=\"text-align: right;\">\n",
       "      <th></th>\n",
       "      <th>code</th>\n",
       "      <th>num</th>\n",
       "    </tr>\n",
       "  </thead>\n",
       "  <tbody>\n",
       "    <tr>\n",
       "      <th>0</th>\n",
       "      <td>C1072</td>\n",
       "      <td>691.449941</td>\n",
       "    </tr>\n",
       "    <tr>\n",
       "      <th>1</th>\n",
       "      <td>C1128</td>\n",
       "      <td>1268.383299</td>\n",
       "    </tr>\n",
       "    <tr>\n",
       "      <th>2</th>\n",
       "      <td>C1456</td>\n",
       "      <td>587.339864</td>\n",
       "    </tr>\n",
       "    <tr>\n",
       "      <th>3</th>\n",
       "      <td>C1840</td>\n",
       "      <td>574.368937</td>\n",
       "    </tr>\n",
       "    <tr>\n",
       "      <th>4</th>\n",
       "      <td>C1332</td>\n",
       "      <td>1033.243718</td>\n",
       "    </tr>\n",
       "    <tr>\n",
       "      <th>...</th>\n",
       "      <td>...</td>\n",
       "      <td>...</td>\n",
       "    </tr>\n",
       "    <tr>\n",
       "      <th>145</th>\n",
       "      <td>C1267</td>\n",
       "      <td>395.725366</td>\n",
       "    </tr>\n",
       "    <tr>\n",
       "      <th>146</th>\n",
       "      <td>C2189</td>\n",
       "      <td>166.403895</td>\n",
       "    </tr>\n",
       "    <tr>\n",
       "      <th>147</th>\n",
       "      <td>C2675</td>\n",
       "      <td>0</td>\n",
       "    </tr>\n",
       "    <tr>\n",
       "      <th>148</th>\n",
       "      <td>C2335</td>\n",
       "      <td>0</td>\n",
       "    </tr>\n",
       "    <tr>\n",
       "      <th>149</th>\n",
       "      <td>C1327</td>\n",
       "      <td>0</td>\n",
       "    </tr>\n",
       "  </tbody>\n",
       "</table>\n",
       "<p>150 rows × 2 columns</p>\n",
       "</div>"
      ],
      "text/plain": [
       "      code          num\n",
       "0    C1072   691.449941\n",
       "1    C1128  1268.383299\n",
       "2    C1456   587.339864\n",
       "3    C1840   574.368937\n",
       "4    C1332  1033.243718\n",
       "..     ...          ...\n",
       "145  C1267   395.725366\n",
       "146  C2189   166.403895\n",
       "147  C2675            0\n",
       "148  C2335            0\n",
       "149  C1327            0\n",
       "\n",
       "[150 rows x 2 columns]"
      ]
     },
     "execution_count": 277,
     "metadata": {},
     "output_type": "execute_result"
    }
   ],
   "source": [
    "sub_df = test_new[ ['단지코드', '단지별차량수평균']]\n",
    "sub_df.columns = ['code', 'num']\n",
    "sub_df = pd.concat([sub_df, add_df]).reset_index()\n",
    "sub_df = sub_df.drop(['index'], axis=1)\n",
    "sub_df"
   ]
  },
  {
   "cell_type": "code",
   "execution_count": 278,
   "metadata": {},
   "outputs": [
    {
     "data": {
      "text/html": [
       "<div>\n",
       "<style scoped>\n",
       "    .dataframe tbody tr th:only-of-type {\n",
       "        vertical-align: middle;\n",
       "    }\n",
       "\n",
       "    .dataframe tbody tr th {\n",
       "        vertical-align: top;\n",
       "    }\n",
       "\n",
       "    .dataframe thead th {\n",
       "        text-align: right;\n",
       "    }\n",
       "</style>\n",
       "<table border=\"1\" class=\"dataframe\">\n",
       "  <thead>\n",
       "    <tr style=\"text-align: right;\">\n",
       "      <th></th>\n",
       "      <th>code</th>\n",
       "      <th>num</th>\n",
       "    </tr>\n",
       "  </thead>\n",
       "  <tbody>\n",
       "    <tr>\n",
       "      <th>0</th>\n",
       "      <td>C1072</td>\n",
       "      <td>691.449941</td>\n",
       "    </tr>\n",
       "    <tr>\n",
       "      <th>1</th>\n",
       "      <td>C1128</td>\n",
       "      <td>1268.383299</td>\n",
       "    </tr>\n",
       "    <tr>\n",
       "      <th>2</th>\n",
       "      <td>C1456</td>\n",
       "      <td>587.339864</td>\n",
       "    </tr>\n",
       "    <tr>\n",
       "      <th>3</th>\n",
       "      <td>C1840</td>\n",
       "      <td>574.368937</td>\n",
       "    </tr>\n",
       "    <tr>\n",
       "      <th>4</th>\n",
       "      <td>C1332</td>\n",
       "      <td>1033.243718</td>\n",
       "    </tr>\n",
       "  </tbody>\n",
       "</table>\n",
       "</div>"
      ],
      "text/plain": [
       "    code          num\n",
       "0  C1072   691.449941\n",
       "1  C1128  1268.383299\n",
       "2  C1456   587.339864\n",
       "3  C1840   574.368937\n",
       "4  C1332  1033.243718"
      ]
     },
     "execution_count": 278,
     "metadata": {},
     "output_type": "execute_result"
    }
   ],
   "source": [
    "sub_df.to_csv('0719_gradient_boosting.csv', index=False)\n",
    "sub_df.head()"
   ]
  },
  {
   "cell_type": "code",
   "execution_count": null,
   "metadata": {},
   "outputs": [],
   "source": []
  },
  {
   "cell_type": "code",
   "execution_count": null,
   "metadata": {},
   "outputs": [],
   "source": []
  }
 ],
 "metadata": {
  "kernelspec": {
   "display_name": "Python 3",
   "language": "python",
   "name": "python3"
  },
  "language_info": {
   "codemirror_mode": {
    "name": "ipython",
    "version": 3
   },
   "file_extension": ".py",
   "mimetype": "text/x-python",
   "name": "python",
   "nbconvert_exporter": "python",
   "pygments_lexer": "ipython3",
   "version": "3.8.5"
  }
 },
 "nbformat": 4,
 "nbformat_minor": 4
}
